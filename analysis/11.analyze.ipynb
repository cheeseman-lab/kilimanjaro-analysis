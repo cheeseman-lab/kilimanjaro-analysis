{
 "cells": [
  {
   "cell_type": "markdown",
   "id": "349e4927",
   "metadata": {},
   "source": [
    "# Downstream Analysis\n",
    "\n",
    "This notebook should be used for downstream analysis of your OPS screen.\n",
    "Cells marked with <font color='red'>SET PARAMETERS</font> contain crucial variables that need to be set according to your specific experimental setup and data organization.\n",
    "Please review and modify these variables as needed before proceeding with the analysis."
   ]
  },
  {
   "cell_type": "markdown",
   "id": "42a52bb7",
   "metadata": {},
   "source": [
    "## <font color='red'>SET PARAMETERS</font>\n",
    "\n",
    "### Fixed parameters for cluster module\n",
    "\n",
    "- `CONFIG_FILE_PATH`: Path to a Brieflow config file used during processing. Absolute or relative to where workflows are run from."
   ]
  },
  {
   "cell_type": "code",
   "execution_count": 1,
   "id": "9c90638f",
   "metadata": {},
   "outputs": [],
   "source": [
    "CONFIG_FILE_PATH = \"config/config.yml\""
   ]
  },
  {
   "cell_type": "code",
   "execution_count": 2,
   "id": "fe24b1c3",
   "metadata": {},
   "outputs": [],
   "source": [
    "from pathlib import Path\n",
    "import warnings\n",
    "warnings.filterwarnings('ignore', category=UserWarning)\n",
    "import yaml\n",
    "import pandas as pd\n",
    "import matplotlib as plt\n",
    "\n",
    "from lib.cluster.cluster_analysis import (\n",
    "    differential_analysis, \n",
    "    waterfall_plot, \n",
    "    two_feature_plot, \n",
    "    cluster_heatmap\n",
    ")\n",
    "from lib.cluster.phate_leiden_clustering import plot_phate_leiden_clusters\n",
    "from lib.shared.metrics import get_all_stats"
   ]
  },
  {
   "cell_type": "code",
   "execution_count": 3,
   "id": "733e511a",
   "metadata": {},
   "outputs": [],
   "source": [
    "# load config file and determine root path\n",
    "with open(CONFIG_FILE_PATH, \"r\") as config_file:\n",
    "    config = yaml.safe_load(config_file)\n",
    "    ROOT_FP = Path(config[\"all\"][\"root_fp\"])"
   ]
  },
  {
   "cell_type": "markdown",
   "id": "170bcd3c",
   "metadata": {},
   "source": [
    "## Pipeline Statistics Report\n",
    "\n",
    "This function analyzes the entire data processing pipeline from raw microscopy images to clustered perturbation profiles. It will:\n",
    "\n",
    "1. **Preprocessing**: Count input files and generated image tiles\n",
    "2. **SBS**: Analyze cell segmentation and barcode mapping success rates\n",
    "3. **Phenotype**: Count cells and morphological features extracted\n",
    "4. **Merge**: Calculate how many cells were successfully matched between SBS and phenotype data\n",
    "5. **Aggregation**: Measure perturbation coverage and batch effect correction (per cell class/channel)\n",
    "6. **Clustering**: Evaluate pathway enrichment and optimal clustering parameters\n",
    "\n",
    "**Expected runtime: 5-15 minutes** depending on dataset size, as this function loads and analyzes large parquet files to calculate batch statistics and enrichment metrics.\n",
    "\n",
    "The report will display progress updates as each stage is analyzed."
   ]
  },
  {
   "cell_type": "code",
   "execution_count": 4,
   "id": "83b37783",
   "metadata": {},
   "outputs": [
    {
     "name": "stdout",
     "output_type": "stream",
     "text": [
      "================================================================================\n",
      "PIPELINE STATISTICS REPORT\n",
      "================================================================================\n",
      "\n",
      "[1/6] Gathering preprocessing statistics...\n",
      "\n",
      " PREPROCESSING STATISTICS:\n",
      "   • ND2 input files: 38,670\n",
      "   • SBS tiles generated: 22,620\n",
      "   • Phenotype tiles generated: 8,025\n",
      "\n",
      "[2/6] Gathering SBS statistics...\n",
      "\n",
      " SBS STATISTICS:\n",
      "   • Total cells segmented: 5,193,329\n",
      "   • Cells with barcode: 59.4% (3,086,044 cells)\n",
      "   • Cells with unique gene mapping: 47.1% (2,444,937 cells)\n",
      "\n",
      "[3/6] Gathering phenotype statistics...\n",
      "\n",
      " PHENOTYPE STATISTICS:\n",
      "   • Total cells segmented: 5,369,034\n",
      "   • Number of morphological features: 3,571\n",
      "\n",
      "[4/6] Gathering merge statistics...\n",
      "\n",
      " MERGE STATISTICS:\n",
      "   • Total cells processed: 2,674,264\n",
      "   • Successfully mapped cells: 2,444,976\n",
      "   • Average mapping rate: 91.4%\n",
      "\n",
      "[5/6] Gathering aggregation statistics...\n",
      "   (This may take a moment as it processes multiple cell class/channel combinations...)\n",
      "Reading first 1,000 rows from brieflow_output/aggregate/parquets/P-1_W-A3_CeCl-Interphase_ChCo-DAPI_ACA_MITOTRACKER_VIMENTIN_CENPT_ITGB1_PHALLOIDIN_WGA__filtered.parquet\n",
      "Reading first 1,000 rows from brieflow_output/aggregate/parquets/P-1_W-B3_CeCl-Interphase_ChCo-DAPI_ACA_MITOTRACKER_VIMENTIN_CENPT_ITGB1_PHALLOIDIN_WGA__filtered.parquet\n",
      "Reading first 1,000 rows from brieflow_output/aggregate/parquets/P-1_W-B1_CeCl-Interphase_ChCo-DAPI_ACA_MITOTRACKER_VIMENTIN_CENPT_ITGB1_PHALLOIDIN_WGA__filtered.parquet\n",
      "Reading first 1,000 rows from brieflow_output/aggregate/parquets/P-1_W-A2_CeCl-Interphase_ChCo-DAPI_ACA_MITOTRACKER_VIMENTIN_CENPT_ITGB1_PHALLOIDIN_WGA__filtered.parquet\n",
      "Reading first 1,000 rows from brieflow_output/aggregate/parquets/P-1_W-B2_CeCl-Interphase_ChCo-DAPI_ACA_MITOTRACKER_VIMENTIN_CENPT_ITGB1_PHALLOIDIN_WGA__filtered.parquet\n"
     ]
    },
    {
     "name": "stderr",
     "output_type": "stream",
     "text": [
      "/lab/ops_analysis/cheeseman/kilimanjaro-analysis/brieflow/workflow/lib/shared/metrics.py:355: SettingWithCopyWarning: \n",
      "A value is trying to be set on a copy of a slice from a DataFrame.\n",
      "Try using .loc[row_indexer,col_indexer] = value instead\n",
      "\n",
      "See the caveats in the documentation: https://pandas.pydata.org/pandas-docs/stable/user_guide/indexing.html#returning-a-view-versus-a-copy\n",
      "  old_control_data[\"batch\"] = (\n",
      "/lab/barcheese01/mdiberna/miniconda3/envs/brieflow_kilimanjaro/lib/python3.11/site-packages/sklearn/feature_selection/_univariate_selection.py:111: RuntimeWarning: divide by zero encountered in divide\n",
      "  f = msb / msw\n"
     ]
    },
    {
     "name": "stdout",
     "output_type": "stream",
     "text": [
      "Reading first 1,000 rows from brieflow_output/aggregate/parquets/CeCl-Interphase_ChCo-DAPI_ACA_MITOTRACKER_VIMENTIN_CENPT_ITGB1_PHALLOIDIN_WGA__aligned.parquet\n"
     ]
    },
    {
     "name": "stderr",
     "output_type": "stream",
     "text": [
      "/lab/ops_analysis/cheeseman/kilimanjaro-analysis/brieflow/workflow/lib/shared/metrics.py:391: SettingWithCopyWarning: \n",
      "A value is trying to be set on a copy of a slice from a DataFrame.\n",
      "Try using .loc[row_indexer,col_indexer] = value instead\n",
      "\n",
      "See the caveats in the documentation: https://pandas.pydata.org/pandas-docs/stable/user_guide/indexing.html#returning-a-view-versus-a-copy\n",
      "  new_control_data[\"batch\"] = (\n"
     ]
    },
    {
     "name": "stdout",
     "output_type": "stream",
     "text": [
      "Reading first 1,000 rows from brieflow_output/aggregate/parquets/P-1_W-B3_CeCl-Interphase_ChCo-DAPI_ACA_MITOTRACKER_VIMENTIN_CENPT_ITGB1_WGA__filtered.parquet\n",
      "Reading first 1,000 rows from brieflow_output/aggregate/parquets/P-1_W-A3_CeCl-Interphase_ChCo-DAPI_ACA_MITOTRACKER_VIMENTIN_CENPT_ITGB1_WGA__filtered.parquet\n",
      "Reading first 1,000 rows from brieflow_output/aggregate/parquets/P-1_W-B1_CeCl-Interphase_ChCo-DAPI_ACA_MITOTRACKER_VIMENTIN_CENPT_ITGB1_WGA__filtered.parquet\n",
      "Reading first 1,000 rows from brieflow_output/aggregate/parquets/P-1_W-A2_CeCl-Interphase_ChCo-DAPI_ACA_MITOTRACKER_VIMENTIN_CENPT_ITGB1_WGA__filtered.parquet\n",
      "Reading first 1,000 rows from brieflow_output/aggregate/parquets/P-1_W-B2_CeCl-Interphase_ChCo-DAPI_ACA_MITOTRACKER_VIMENTIN_CENPT_ITGB1_WGA__filtered.parquet\n"
     ]
    },
    {
     "name": "stderr",
     "output_type": "stream",
     "text": [
      "/lab/ops_analysis/cheeseman/kilimanjaro-analysis/brieflow/workflow/lib/shared/metrics.py:355: SettingWithCopyWarning: \n",
      "A value is trying to be set on a copy of a slice from a DataFrame.\n",
      "Try using .loc[row_indexer,col_indexer] = value instead\n",
      "\n",
      "See the caveats in the documentation: https://pandas.pydata.org/pandas-docs/stable/user_guide/indexing.html#returning-a-view-versus-a-copy\n",
      "  old_control_data[\"batch\"] = (\n",
      "/lab/barcheese01/mdiberna/miniconda3/envs/brieflow_kilimanjaro/lib/python3.11/site-packages/sklearn/feature_selection/_univariate_selection.py:111: RuntimeWarning: divide by zero encountered in divide\n",
      "  f = msb / msw\n"
     ]
    },
    {
     "name": "stdout",
     "output_type": "stream",
     "text": [
      "Reading first 1,000 rows from brieflow_output/aggregate/parquets/CeCl-Interphase_ChCo-DAPI_ACA_MITOTRACKER_VIMENTIN_CENPT_ITGB1_WGA__aligned.parquet\n"
     ]
    },
    {
     "name": "stderr",
     "output_type": "stream",
     "text": [
      "/lab/ops_analysis/cheeseman/kilimanjaro-analysis/brieflow/workflow/lib/shared/metrics.py:391: SettingWithCopyWarning: \n",
      "A value is trying to be set on a copy of a slice from a DataFrame.\n",
      "Try using .loc[row_indexer,col_indexer] = value instead\n",
      "\n",
      "See the caveats in the documentation: https://pandas.pydata.org/pandas-docs/stable/user_guide/indexing.html#returning-a-view-versus-a-copy\n",
      "  new_control_data[\"batch\"] = (\n"
     ]
    },
    {
     "name": "stdout",
     "output_type": "stream",
     "text": [
      "Reading first 1,000 rows from brieflow_output/aggregate/parquets/P-1_W-A3_CeCl-Interphase_ChCo-DAPI_ACA_CENPT__filtered.parquet\n",
      "Reading first 1,000 rows from brieflow_output/aggregate/parquets/P-1_W-B3_CeCl-Interphase_ChCo-DAPI_ACA_CENPT__filtered.parquet\n",
      "Reading first 1,000 rows from brieflow_output/aggregate/parquets/P-1_W-B1_CeCl-Interphase_ChCo-DAPI_ACA_CENPT__filtered.parquet\n",
      "Reading first 1,000 rows from brieflow_output/aggregate/parquets/P-1_W-A2_CeCl-Interphase_ChCo-DAPI_ACA_CENPT__filtered.parquet\n",
      "Reading first 1,000 rows from brieflow_output/aggregate/parquets/P-1_W-B2_CeCl-Interphase_ChCo-DAPI_ACA_CENPT__filtered.parquet\n"
     ]
    },
    {
     "name": "stderr",
     "output_type": "stream",
     "text": [
      "/lab/ops_analysis/cheeseman/kilimanjaro-analysis/brieflow/workflow/lib/shared/metrics.py:355: SettingWithCopyWarning: \n",
      "A value is trying to be set on a copy of a slice from a DataFrame.\n",
      "Try using .loc[row_indexer,col_indexer] = value instead\n",
      "\n",
      "See the caveats in the documentation: https://pandas.pydata.org/pandas-docs/stable/user_guide/indexing.html#returning-a-view-versus-a-copy\n",
      "  old_control_data[\"batch\"] = (\n",
      "/lab/barcheese01/mdiberna/miniconda3/envs/brieflow_kilimanjaro/lib/python3.11/site-packages/sklearn/feature_selection/_univariate_selection.py:111: RuntimeWarning: divide by zero encountered in divide\n",
      "  f = msb / msw\n"
     ]
    },
    {
     "name": "stdout",
     "output_type": "stream",
     "text": [
      "Reading first 1,000 rows from brieflow_output/aggregate/parquets/CeCl-Interphase_ChCo-DAPI_ACA_CENPT__aligned.parquet\n"
     ]
    },
    {
     "name": "stderr",
     "output_type": "stream",
     "text": [
      "/lab/ops_analysis/cheeseman/kilimanjaro-analysis/brieflow/workflow/lib/shared/metrics.py:391: SettingWithCopyWarning: \n",
      "A value is trying to be set on a copy of a slice from a DataFrame.\n",
      "Try using .loc[row_indexer,col_indexer] = value instead\n",
      "\n",
      "See the caveats in the documentation: https://pandas.pydata.org/pandas-docs/stable/user_guide/indexing.html#returning-a-view-versus-a-copy\n",
      "  new_control_data[\"batch\"] = (\n"
     ]
    },
    {
     "name": "stdout",
     "output_type": "stream",
     "text": [
      "Reading first 1,000 rows from brieflow_output/aggregate/parquets/P-1_W-A3_CeCl-Interphase_ChCo-DAPI_CENPT__filtered.parquet\n",
      "Reading first 1,000 rows from brieflow_output/aggregate/parquets/P-1_W-B3_CeCl-Interphase_ChCo-DAPI_CENPT__filtered.parquet\n",
      "Reading first 1,000 rows from brieflow_output/aggregate/parquets/P-1_W-B1_CeCl-Interphase_ChCo-DAPI_CENPT__filtered.parquet\n",
      "Reading first 1,000 rows from brieflow_output/aggregate/parquets/P-1_W-A2_CeCl-Interphase_ChCo-DAPI_CENPT__filtered.parquet\n",
      "Reading first 1,000 rows from brieflow_output/aggregate/parquets/P-1_W-B2_CeCl-Interphase_ChCo-DAPI_CENPT__filtered.parquet\n"
     ]
    },
    {
     "name": "stderr",
     "output_type": "stream",
     "text": [
      "/lab/ops_analysis/cheeseman/kilimanjaro-analysis/brieflow/workflow/lib/shared/metrics.py:355: SettingWithCopyWarning: \n",
      "A value is trying to be set on a copy of a slice from a DataFrame.\n",
      "Try using .loc[row_indexer,col_indexer] = value instead\n",
      "\n",
      "See the caveats in the documentation: https://pandas.pydata.org/pandas-docs/stable/user_guide/indexing.html#returning-a-view-versus-a-copy\n",
      "  old_control_data[\"batch\"] = (\n",
      "/lab/barcheese01/mdiberna/miniconda3/envs/brieflow_kilimanjaro/lib/python3.11/site-packages/sklearn/feature_selection/_univariate_selection.py:111: RuntimeWarning: divide by zero encountered in divide\n",
      "  f = msb / msw\n"
     ]
    },
    {
     "name": "stdout",
     "output_type": "stream",
     "text": [
      "Reading first 1,000 rows from brieflow_output/aggregate/parquets/CeCl-Interphase_ChCo-DAPI_CENPT__aligned.parquet\n"
     ]
    },
    {
     "name": "stderr",
     "output_type": "stream",
     "text": [
      "/lab/ops_analysis/cheeseman/kilimanjaro-analysis/brieflow/workflow/lib/shared/metrics.py:391: SettingWithCopyWarning: \n",
      "A value is trying to be set on a copy of a slice from a DataFrame.\n",
      "Try using .loc[row_indexer,col_indexer] = value instead\n",
      "\n",
      "See the caveats in the documentation: https://pandas.pydata.org/pandas-docs/stable/user_guide/indexing.html#returning-a-view-versus-a-copy\n",
      "  new_control_data[\"batch\"] = (\n"
     ]
    },
    {
     "name": "stdout",
     "output_type": "stream",
     "text": [
      "Reading first 1,000 rows from brieflow_output/aggregate/parquets/P-1_W-A3_CeCl-Interphase_ChCo-ACA_CENPT__filtered.parquet\n",
      "Reading first 1,000 rows from brieflow_output/aggregate/parquets/P-1_W-B3_CeCl-Interphase_ChCo-ACA_CENPT__filtered.parquet\n",
      "Reading first 1,000 rows from brieflow_output/aggregate/parquets/P-1_W-B1_CeCl-Interphase_ChCo-ACA_CENPT__filtered.parquet\n",
      "Reading first 1,000 rows from brieflow_output/aggregate/parquets/P-1_W-A2_CeCl-Interphase_ChCo-ACA_CENPT__filtered.parquet\n",
      "Reading first 1,000 rows from brieflow_output/aggregate/parquets/P-1_W-B2_CeCl-Interphase_ChCo-ACA_CENPT__filtered.parquet\n"
     ]
    },
    {
     "name": "stderr",
     "output_type": "stream",
     "text": [
      "/lab/ops_analysis/cheeseman/kilimanjaro-analysis/brieflow/workflow/lib/shared/metrics.py:355: SettingWithCopyWarning: \n",
      "A value is trying to be set on a copy of a slice from a DataFrame.\n",
      "Try using .loc[row_indexer,col_indexer] = value instead\n",
      "\n",
      "See the caveats in the documentation: https://pandas.pydata.org/pandas-docs/stable/user_guide/indexing.html#returning-a-view-versus-a-copy\n",
      "  old_control_data[\"batch\"] = (\n",
      "/lab/barcheese01/mdiberna/miniconda3/envs/brieflow_kilimanjaro/lib/python3.11/site-packages/sklearn/feature_selection/_univariate_selection.py:111: RuntimeWarning: divide by zero encountered in divide\n",
      "  f = msb / msw\n"
     ]
    },
    {
     "name": "stdout",
     "output_type": "stream",
     "text": [
      "Reading first 1,000 rows from brieflow_output/aggregate/parquets/CeCl-Interphase_ChCo-ACA_CENPT__aligned.parquet\n"
     ]
    },
    {
     "name": "stderr",
     "output_type": "stream",
     "text": [
      "/lab/ops_analysis/cheeseman/kilimanjaro-analysis/brieflow/workflow/lib/shared/metrics.py:391: SettingWithCopyWarning: \n",
      "A value is trying to be set on a copy of a slice from a DataFrame.\n",
      "Try using .loc[row_indexer,col_indexer] = value instead\n",
      "\n",
      "See the caveats in the documentation: https://pandas.pydata.org/pandas-docs/stable/user_guide/indexing.html#returning-a-view-versus-a-copy\n",
      "  new_control_data[\"batch\"] = (\n"
     ]
    },
    {
     "name": "stdout",
     "output_type": "stream",
     "text": [
      "Reading first 1,000 rows from brieflow_output/aggregate/parquets/P-1_W-A3_CeCl-Interphase_ChCo-DAPI__filtered.parquet\n",
      "Reading first 1,000 rows from brieflow_output/aggregate/parquets/P-1_W-B3_CeCl-Interphase_ChCo-DAPI__filtered.parquet\n",
      "Reading first 1,000 rows from brieflow_output/aggregate/parquets/P-1_W-B1_CeCl-Interphase_ChCo-DAPI__filtered.parquet\n",
      "Reading first 1,000 rows from brieflow_output/aggregate/parquets/P-1_W-A2_CeCl-Interphase_ChCo-DAPI__filtered.parquet\n",
      "Reading first 1,000 rows from brieflow_output/aggregate/parquets/P-1_W-B2_CeCl-Interphase_ChCo-DAPI__filtered.parquet\n"
     ]
    },
    {
     "name": "stderr",
     "output_type": "stream",
     "text": [
      "/lab/ops_analysis/cheeseman/kilimanjaro-analysis/brieflow/workflow/lib/shared/metrics.py:355: SettingWithCopyWarning: \n",
      "A value is trying to be set on a copy of a slice from a DataFrame.\n",
      "Try using .loc[row_indexer,col_indexer] = value instead\n",
      "\n",
      "See the caveats in the documentation: https://pandas.pydata.org/pandas-docs/stable/user_guide/indexing.html#returning-a-view-versus-a-copy\n",
      "  old_control_data[\"batch\"] = (\n",
      "/lab/barcheese01/mdiberna/miniconda3/envs/brieflow_kilimanjaro/lib/python3.11/site-packages/sklearn/feature_selection/_univariate_selection.py:111: RuntimeWarning: divide by zero encountered in divide\n",
      "  f = msb / msw\n"
     ]
    },
    {
     "name": "stdout",
     "output_type": "stream",
     "text": [
      "Reading first 1,000 rows from brieflow_output/aggregate/parquets/CeCl-Interphase_ChCo-DAPI__aligned.parquet\n"
     ]
    },
    {
     "name": "stderr",
     "output_type": "stream",
     "text": [
      "/lab/ops_analysis/cheeseman/kilimanjaro-analysis/brieflow/workflow/lib/shared/metrics.py:391: SettingWithCopyWarning: \n",
      "A value is trying to be set on a copy of a slice from a DataFrame.\n",
      "Try using .loc[row_indexer,col_indexer] = value instead\n",
      "\n",
      "See the caveats in the documentation: https://pandas.pydata.org/pandas-docs/stable/user_guide/indexing.html#returning-a-view-versus-a-copy\n",
      "  new_control_data[\"batch\"] = (\n"
     ]
    },
    {
     "name": "stdout",
     "output_type": "stream",
     "text": [
      "Reading first 1,000 rows from brieflow_output/aggregate/parquets/P-1_W-A3_CeCl-Interphase_ChCo-DAPI_MITOTRACKER_WGA__filtered.parquet\n",
      "Reading first 1,000 rows from brieflow_output/aggregate/parquets/P-1_W-B3_CeCl-Interphase_ChCo-DAPI_MITOTRACKER_WGA__filtered.parquet\n",
      "Reading first 1,000 rows from brieflow_output/aggregate/parquets/P-1_W-B1_CeCl-Interphase_ChCo-DAPI_MITOTRACKER_WGA__filtered.parquet\n",
      "Reading first 1,000 rows from brieflow_output/aggregate/parquets/P-1_W-A2_CeCl-Interphase_ChCo-DAPI_MITOTRACKER_WGA__filtered.parquet\n",
      "Reading first 1,000 rows from brieflow_output/aggregate/parquets/P-1_W-B2_CeCl-Interphase_ChCo-DAPI_MITOTRACKER_WGA__filtered.parquet\n"
     ]
    },
    {
     "name": "stderr",
     "output_type": "stream",
     "text": [
      "/lab/ops_analysis/cheeseman/kilimanjaro-analysis/brieflow/workflow/lib/shared/metrics.py:355: SettingWithCopyWarning: \n",
      "A value is trying to be set on a copy of a slice from a DataFrame.\n",
      "Try using .loc[row_indexer,col_indexer] = value instead\n",
      "\n",
      "See the caveats in the documentation: https://pandas.pydata.org/pandas-docs/stable/user_guide/indexing.html#returning-a-view-versus-a-copy\n",
      "  old_control_data[\"batch\"] = (\n",
      "/lab/barcheese01/mdiberna/miniconda3/envs/brieflow_kilimanjaro/lib/python3.11/site-packages/sklearn/feature_selection/_univariate_selection.py:111: RuntimeWarning: divide by zero encountered in divide\n",
      "  f = msb / msw\n"
     ]
    },
    {
     "name": "stdout",
     "output_type": "stream",
     "text": [
      "Reading first 1,000 rows from brieflow_output/aggregate/parquets/CeCl-Interphase_ChCo-DAPI_MITOTRACKER_WGA__aligned.parquet\n"
     ]
    },
    {
     "name": "stderr",
     "output_type": "stream",
     "text": [
      "/lab/ops_analysis/cheeseman/kilimanjaro-analysis/brieflow/workflow/lib/shared/metrics.py:391: SettingWithCopyWarning: \n",
      "A value is trying to be set on a copy of a slice from a DataFrame.\n",
      "Try using .loc[row_indexer,col_indexer] = value instead\n",
      "\n",
      "See the caveats in the documentation: https://pandas.pydata.org/pandas-docs/stable/user_guide/indexing.html#returning-a-view-versus-a-copy\n",
      "  new_control_data[\"batch\"] = (\n"
     ]
    },
    {
     "name": "stdout",
     "output_type": "stream",
     "text": [
      "Reading first 1,000 rows from brieflow_output/aggregate/parquets/P-1_W-A3_CeCl-Interphase_ChCo-DAPI_VIMENTIN_PHALLOIDIN_ITGB1__filtered.parquet\n",
      "Reading first 1,000 rows from brieflow_output/aggregate/parquets/P-1_W-B3_CeCl-Interphase_ChCo-DAPI_VIMENTIN_PHALLOIDIN_ITGB1__filtered.parquet\n",
      "Reading first 1,000 rows from brieflow_output/aggregate/parquets/P-1_W-B1_CeCl-Interphase_ChCo-DAPI_VIMENTIN_PHALLOIDIN_ITGB1__filtered.parquet\n",
      "Reading first 1,000 rows from brieflow_output/aggregate/parquets/P-1_W-A2_CeCl-Interphase_ChCo-DAPI_VIMENTIN_PHALLOIDIN_ITGB1__filtered.parquet\n",
      "Reading first 1,000 rows from brieflow_output/aggregate/parquets/P-1_W-B2_CeCl-Interphase_ChCo-DAPI_VIMENTIN_PHALLOIDIN_ITGB1__filtered.parquet\n"
     ]
    },
    {
     "name": "stderr",
     "output_type": "stream",
     "text": [
      "/lab/ops_analysis/cheeseman/kilimanjaro-analysis/brieflow/workflow/lib/shared/metrics.py:355: SettingWithCopyWarning: \n",
      "A value is trying to be set on a copy of a slice from a DataFrame.\n",
      "Try using .loc[row_indexer,col_indexer] = value instead\n",
      "\n",
      "See the caveats in the documentation: https://pandas.pydata.org/pandas-docs/stable/user_guide/indexing.html#returning-a-view-versus-a-copy\n",
      "  old_control_data[\"batch\"] = (\n",
      "/lab/barcheese01/mdiberna/miniconda3/envs/brieflow_kilimanjaro/lib/python3.11/site-packages/sklearn/feature_selection/_univariate_selection.py:111: RuntimeWarning: divide by zero encountered in divide\n",
      "  f = msb / msw\n"
     ]
    },
    {
     "name": "stdout",
     "output_type": "stream",
     "text": [
      "Reading first 1,000 rows from brieflow_output/aggregate/parquets/CeCl-Interphase_ChCo-DAPI_VIMENTIN_PHALLOIDIN_ITGB1__aligned.parquet\n"
     ]
    },
    {
     "name": "stderr",
     "output_type": "stream",
     "text": [
      "/lab/ops_analysis/cheeseman/kilimanjaro-analysis/brieflow/workflow/lib/shared/metrics.py:391: SettingWithCopyWarning: \n",
      "A value is trying to be set on a copy of a slice from a DataFrame.\n",
      "Try using .loc[row_indexer,col_indexer] = value instead\n",
      "\n",
      "See the caveats in the documentation: https://pandas.pydata.org/pandas-docs/stable/user_guide/indexing.html#returning-a-view-versus-a-copy\n",
      "  new_control_data[\"batch\"] = (\n"
     ]
    },
    {
     "name": "stdout",
     "output_type": "stream",
     "text": [
      "Reading first 1,000 rows from brieflow_output/aggregate/parquets/P-1_W-A3_CeCl-Interphase_ChCo-DAPI_VIMENTIN_ITGB1__filtered.parquet\n",
      "Reading first 1,000 rows from brieflow_output/aggregate/parquets/P-1_W-B3_CeCl-Interphase_ChCo-DAPI_VIMENTIN_ITGB1__filtered.parquet\n",
      "Reading first 1,000 rows from brieflow_output/aggregate/parquets/P-1_W-B1_CeCl-Interphase_ChCo-DAPI_VIMENTIN_ITGB1__filtered.parquet\n",
      "Reading first 1,000 rows from brieflow_output/aggregate/parquets/P-1_W-A2_CeCl-Interphase_ChCo-DAPI_VIMENTIN_ITGB1__filtered.parquet\n",
      "Reading first 1,000 rows from brieflow_output/aggregate/parquets/P-1_W-B2_CeCl-Interphase_ChCo-DAPI_VIMENTIN_ITGB1__filtered.parquet\n"
     ]
    },
    {
     "name": "stderr",
     "output_type": "stream",
     "text": [
      "/lab/ops_analysis/cheeseman/kilimanjaro-analysis/brieflow/workflow/lib/shared/metrics.py:355: SettingWithCopyWarning: \n",
      "A value is trying to be set on a copy of a slice from a DataFrame.\n",
      "Try using .loc[row_indexer,col_indexer] = value instead\n",
      "\n",
      "See the caveats in the documentation: https://pandas.pydata.org/pandas-docs/stable/user_guide/indexing.html#returning-a-view-versus-a-copy\n",
      "  old_control_data[\"batch\"] = (\n",
      "/lab/barcheese01/mdiberna/miniconda3/envs/brieflow_kilimanjaro/lib/python3.11/site-packages/sklearn/feature_selection/_univariate_selection.py:111: RuntimeWarning: divide by zero encountered in divide\n",
      "  f = msb / msw\n"
     ]
    },
    {
     "name": "stdout",
     "output_type": "stream",
     "text": [
      "Reading first 1,000 rows from brieflow_output/aggregate/parquets/CeCl-Interphase_ChCo-DAPI_VIMENTIN_ITGB1__aligned.parquet\n"
     ]
    },
    {
     "name": "stderr",
     "output_type": "stream",
     "text": [
      "/lab/ops_analysis/cheeseman/kilimanjaro-analysis/brieflow/workflow/lib/shared/metrics.py:391: SettingWithCopyWarning: \n",
      "A value is trying to be set on a copy of a slice from a DataFrame.\n",
      "Try using .loc[row_indexer,col_indexer] = value instead\n",
      "\n",
      "See the caveats in the documentation: https://pandas.pydata.org/pandas-docs/stable/user_guide/indexing.html#returning-a-view-versus-a-copy\n",
      "  new_control_data[\"batch\"] = (\n"
     ]
    },
    {
     "name": "stdout",
     "output_type": "stream",
     "text": [
      "Reading first 1,000 rows from brieflow_output/aggregate/parquets/P-1_W-B3_CeCl-Mitotic_ChCo-DAPI_ACA_MITOTRACKER_VIMENTIN_CENPT_ITGB1_PHALLOIDIN_WGA__filtered.parquet\n",
      "Reading first 1,000 rows from brieflow_output/aggregate/parquets/P-1_W-A3_CeCl-Mitotic_ChCo-DAPI_ACA_MITOTRACKER_VIMENTIN_CENPT_ITGB1_PHALLOIDIN_WGA__filtered.parquet\n",
      "Reading first 1,000 rows from brieflow_output/aggregate/parquets/P-1_W-B1_CeCl-Mitotic_ChCo-DAPI_ACA_MITOTRACKER_VIMENTIN_CENPT_ITGB1_PHALLOIDIN_WGA__filtered.parquet\n",
      "Reading first 1,000 rows from brieflow_output/aggregate/parquets/P-1_W-A2_CeCl-Mitotic_ChCo-DAPI_ACA_MITOTRACKER_VIMENTIN_CENPT_ITGB1_PHALLOIDIN_WGA__filtered.parquet\n",
      "Reading first 1,000 rows from brieflow_output/aggregate/parquets/P-1_W-B2_CeCl-Mitotic_ChCo-DAPI_ACA_MITOTRACKER_VIMENTIN_CENPT_ITGB1_PHALLOIDIN_WGA__filtered.parquet\n"
     ]
    },
    {
     "name": "stderr",
     "output_type": "stream",
     "text": [
      "/lab/ops_analysis/cheeseman/kilimanjaro-analysis/brieflow/workflow/lib/shared/metrics.py:355: SettingWithCopyWarning: \n",
      "A value is trying to be set on a copy of a slice from a DataFrame.\n",
      "Try using .loc[row_indexer,col_indexer] = value instead\n",
      "\n",
      "See the caveats in the documentation: https://pandas.pydata.org/pandas-docs/stable/user_guide/indexing.html#returning-a-view-versus-a-copy\n",
      "  old_control_data[\"batch\"] = (\n",
      "/lab/barcheese01/mdiberna/miniconda3/envs/brieflow_kilimanjaro/lib/python3.11/site-packages/sklearn/feature_selection/_univariate_selection.py:111: RuntimeWarning: divide by zero encountered in divide\n",
      "  f = msb / msw\n"
     ]
    },
    {
     "name": "stdout",
     "output_type": "stream",
     "text": [
      "Reading first 1,000 rows from brieflow_output/aggregate/parquets/CeCl-Mitotic_ChCo-DAPI_ACA_MITOTRACKER_VIMENTIN_CENPT_ITGB1_PHALLOIDIN_WGA__aligned.parquet\n"
     ]
    },
    {
     "name": "stderr",
     "output_type": "stream",
     "text": [
      "/lab/ops_analysis/cheeseman/kilimanjaro-analysis/brieflow/workflow/lib/shared/metrics.py:391: SettingWithCopyWarning: \n",
      "A value is trying to be set on a copy of a slice from a DataFrame.\n",
      "Try using .loc[row_indexer,col_indexer] = value instead\n",
      "\n",
      "See the caveats in the documentation: https://pandas.pydata.org/pandas-docs/stable/user_guide/indexing.html#returning-a-view-versus-a-copy\n",
      "  new_control_data[\"batch\"] = (\n"
     ]
    },
    {
     "name": "stdout",
     "output_type": "stream",
     "text": [
      "Reading first 1,000 rows from brieflow_output/aggregate/parquets/P-1_W-A3_CeCl-Mitotic_ChCo-DAPI_ACA_MITOTRACKER_VIMENTIN_CENPT_ITGB1_WGA__filtered.parquet\n",
      "Reading first 1,000 rows from brieflow_output/aggregate/parquets/P-1_W-B3_CeCl-Mitotic_ChCo-DAPI_ACA_MITOTRACKER_VIMENTIN_CENPT_ITGB1_WGA__filtered.parquet\n",
      "Reading first 1,000 rows from brieflow_output/aggregate/parquets/P-1_W-B1_CeCl-Mitotic_ChCo-DAPI_ACA_MITOTRACKER_VIMENTIN_CENPT_ITGB1_WGA__filtered.parquet\n",
      "Reading first 1,000 rows from brieflow_output/aggregate/parquets/P-1_W-A2_CeCl-Mitotic_ChCo-DAPI_ACA_MITOTRACKER_VIMENTIN_CENPT_ITGB1_WGA__filtered.parquet\n",
      "Reading first 1,000 rows from brieflow_output/aggregate/parquets/P-1_W-B2_CeCl-Mitotic_ChCo-DAPI_ACA_MITOTRACKER_VIMENTIN_CENPT_ITGB1_WGA__filtered.parquet\n"
     ]
    },
    {
     "name": "stderr",
     "output_type": "stream",
     "text": [
      "/lab/ops_analysis/cheeseman/kilimanjaro-analysis/brieflow/workflow/lib/shared/metrics.py:355: SettingWithCopyWarning: \n",
      "A value is trying to be set on a copy of a slice from a DataFrame.\n",
      "Try using .loc[row_indexer,col_indexer] = value instead\n",
      "\n",
      "See the caveats in the documentation: https://pandas.pydata.org/pandas-docs/stable/user_guide/indexing.html#returning-a-view-versus-a-copy\n",
      "  old_control_data[\"batch\"] = (\n",
      "/lab/barcheese01/mdiberna/miniconda3/envs/brieflow_kilimanjaro/lib/python3.11/site-packages/sklearn/feature_selection/_univariate_selection.py:111: RuntimeWarning: divide by zero encountered in divide\n",
      "  f = msb / msw\n"
     ]
    },
    {
     "name": "stdout",
     "output_type": "stream",
     "text": [
      "Reading first 1,000 rows from brieflow_output/aggregate/parquets/CeCl-Mitotic_ChCo-DAPI_ACA_MITOTRACKER_VIMENTIN_CENPT_ITGB1_WGA__aligned.parquet\n"
     ]
    },
    {
     "name": "stderr",
     "output_type": "stream",
     "text": [
      "/lab/ops_analysis/cheeseman/kilimanjaro-analysis/brieflow/workflow/lib/shared/metrics.py:391: SettingWithCopyWarning: \n",
      "A value is trying to be set on a copy of a slice from a DataFrame.\n",
      "Try using .loc[row_indexer,col_indexer] = value instead\n",
      "\n",
      "See the caveats in the documentation: https://pandas.pydata.org/pandas-docs/stable/user_guide/indexing.html#returning-a-view-versus-a-copy\n",
      "  new_control_data[\"batch\"] = (\n"
     ]
    },
    {
     "name": "stdout",
     "output_type": "stream",
     "text": [
      "Reading first 1,000 rows from brieflow_output/aggregate/parquets/P-1_W-A3_CeCl-Mitotic_ChCo-DAPI_ACA_CENPT__filtered.parquet\n",
      "Reading first 1,000 rows from brieflow_output/aggregate/parquets/P-1_W-B3_CeCl-Mitotic_ChCo-DAPI_ACA_CENPT__filtered.parquet\n",
      "Reading first 1,000 rows from brieflow_output/aggregate/parquets/P-1_W-B1_CeCl-Mitotic_ChCo-DAPI_ACA_CENPT__filtered.parquet\n",
      "Reading first 1,000 rows from brieflow_output/aggregate/parquets/P-1_W-A2_CeCl-Mitotic_ChCo-DAPI_ACA_CENPT__filtered.parquet\n",
      "Reading first 1,000 rows from brieflow_output/aggregate/parquets/P-1_W-B2_CeCl-Mitotic_ChCo-DAPI_ACA_CENPT__filtered.parquet\n"
     ]
    },
    {
     "name": "stderr",
     "output_type": "stream",
     "text": [
      "/lab/ops_analysis/cheeseman/kilimanjaro-analysis/brieflow/workflow/lib/shared/metrics.py:355: SettingWithCopyWarning: \n",
      "A value is trying to be set on a copy of a slice from a DataFrame.\n",
      "Try using .loc[row_indexer,col_indexer] = value instead\n",
      "\n",
      "See the caveats in the documentation: https://pandas.pydata.org/pandas-docs/stable/user_guide/indexing.html#returning-a-view-versus-a-copy\n",
      "  old_control_data[\"batch\"] = (\n",
      "/lab/barcheese01/mdiberna/miniconda3/envs/brieflow_kilimanjaro/lib/python3.11/site-packages/sklearn/feature_selection/_univariate_selection.py:111: RuntimeWarning: divide by zero encountered in divide\n",
      "  f = msb / msw\n"
     ]
    },
    {
     "name": "stdout",
     "output_type": "stream",
     "text": [
      "Reading first 1,000 rows from brieflow_output/aggregate/parquets/CeCl-Mitotic_ChCo-DAPI_ACA_CENPT__aligned.parquet\n"
     ]
    },
    {
     "name": "stderr",
     "output_type": "stream",
     "text": [
      "/lab/ops_analysis/cheeseman/kilimanjaro-analysis/brieflow/workflow/lib/shared/metrics.py:391: SettingWithCopyWarning: \n",
      "A value is trying to be set on a copy of a slice from a DataFrame.\n",
      "Try using .loc[row_indexer,col_indexer] = value instead\n",
      "\n",
      "See the caveats in the documentation: https://pandas.pydata.org/pandas-docs/stable/user_guide/indexing.html#returning-a-view-versus-a-copy\n",
      "  new_control_data[\"batch\"] = (\n"
     ]
    },
    {
     "name": "stdout",
     "output_type": "stream",
     "text": [
      "Reading first 1,000 rows from brieflow_output/aggregate/parquets/P-1_W-A3_CeCl-Mitotic_ChCo-DAPI_CENPT__filtered.parquet\n",
      "Reading first 1,000 rows from brieflow_output/aggregate/parquets/P-1_W-B3_CeCl-Mitotic_ChCo-DAPI_CENPT__filtered.parquet\n",
      "Reading first 1,000 rows from brieflow_output/aggregate/parquets/P-1_W-B1_CeCl-Mitotic_ChCo-DAPI_CENPT__filtered.parquet\n",
      "Reading first 1,000 rows from brieflow_output/aggregate/parquets/P-1_W-A2_CeCl-Mitotic_ChCo-DAPI_CENPT__filtered.parquet\n",
      "Reading first 1,000 rows from brieflow_output/aggregate/parquets/P-1_W-B2_CeCl-Mitotic_ChCo-DAPI_CENPT__filtered.parquet\n"
     ]
    },
    {
     "name": "stderr",
     "output_type": "stream",
     "text": [
      "/lab/ops_analysis/cheeseman/kilimanjaro-analysis/brieflow/workflow/lib/shared/metrics.py:355: SettingWithCopyWarning: \n",
      "A value is trying to be set on a copy of a slice from a DataFrame.\n",
      "Try using .loc[row_indexer,col_indexer] = value instead\n",
      "\n",
      "See the caveats in the documentation: https://pandas.pydata.org/pandas-docs/stable/user_guide/indexing.html#returning-a-view-versus-a-copy\n",
      "  old_control_data[\"batch\"] = (\n",
      "/lab/barcheese01/mdiberna/miniconda3/envs/brieflow_kilimanjaro/lib/python3.11/site-packages/sklearn/feature_selection/_univariate_selection.py:111: RuntimeWarning: divide by zero encountered in divide\n",
      "  f = msb / msw\n"
     ]
    },
    {
     "name": "stdout",
     "output_type": "stream",
     "text": [
      "Reading first 1,000 rows from brieflow_output/aggregate/parquets/CeCl-Mitotic_ChCo-DAPI_CENPT__aligned.parquet\n"
     ]
    },
    {
     "name": "stderr",
     "output_type": "stream",
     "text": [
      "/lab/ops_analysis/cheeseman/kilimanjaro-analysis/brieflow/workflow/lib/shared/metrics.py:391: SettingWithCopyWarning: \n",
      "A value is trying to be set on a copy of a slice from a DataFrame.\n",
      "Try using .loc[row_indexer,col_indexer] = value instead\n",
      "\n",
      "See the caveats in the documentation: https://pandas.pydata.org/pandas-docs/stable/user_guide/indexing.html#returning-a-view-versus-a-copy\n",
      "  new_control_data[\"batch\"] = (\n"
     ]
    },
    {
     "name": "stdout",
     "output_type": "stream",
     "text": [
      "Reading first 1,000 rows from brieflow_output/aggregate/parquets/P-1_W-A3_CeCl-Mitotic_ChCo-ACA_CENPT__filtered.parquet\n",
      "Reading first 1,000 rows from brieflow_output/aggregate/parquets/P-1_W-B3_CeCl-Mitotic_ChCo-ACA_CENPT__filtered.parquet\n",
      "Reading first 1,000 rows from brieflow_output/aggregate/parquets/P-1_W-B1_CeCl-Mitotic_ChCo-ACA_CENPT__filtered.parquet\n",
      "Reading first 1,000 rows from brieflow_output/aggregate/parquets/P-1_W-A2_CeCl-Mitotic_ChCo-ACA_CENPT__filtered.parquet\n",
      "Reading first 1,000 rows from brieflow_output/aggregate/parquets/P-1_W-B2_CeCl-Mitotic_ChCo-ACA_CENPT__filtered.parquet\n"
     ]
    },
    {
     "name": "stderr",
     "output_type": "stream",
     "text": [
      "/lab/ops_analysis/cheeseman/kilimanjaro-analysis/brieflow/workflow/lib/shared/metrics.py:355: SettingWithCopyWarning: \n",
      "A value is trying to be set on a copy of a slice from a DataFrame.\n",
      "Try using .loc[row_indexer,col_indexer] = value instead\n",
      "\n",
      "See the caveats in the documentation: https://pandas.pydata.org/pandas-docs/stable/user_guide/indexing.html#returning-a-view-versus-a-copy\n",
      "  old_control_data[\"batch\"] = (\n"
     ]
    },
    {
     "name": "stdout",
     "output_type": "stream",
     "text": [
      "Reading first 1,000 rows from brieflow_output/aggregate/parquets/CeCl-Mitotic_ChCo-ACA_CENPT__aligned.parquet\n"
     ]
    },
    {
     "name": "stderr",
     "output_type": "stream",
     "text": [
      "/lab/ops_analysis/cheeseman/kilimanjaro-analysis/brieflow/workflow/lib/shared/metrics.py:391: SettingWithCopyWarning: \n",
      "A value is trying to be set on a copy of a slice from a DataFrame.\n",
      "Try using .loc[row_indexer,col_indexer] = value instead\n",
      "\n",
      "See the caveats in the documentation: https://pandas.pydata.org/pandas-docs/stable/user_guide/indexing.html#returning-a-view-versus-a-copy\n",
      "  new_control_data[\"batch\"] = (\n"
     ]
    },
    {
     "name": "stdout",
     "output_type": "stream",
     "text": [
      "Reading first 1,000 rows from brieflow_output/aggregate/parquets/P-1_W-A3_CeCl-Mitotic_ChCo-DAPI__filtered.parquet\n",
      "Reading first 1,000 rows from brieflow_output/aggregate/parquets/P-1_W-B3_CeCl-Mitotic_ChCo-DAPI__filtered.parquet\n",
      "Reading first 1,000 rows from brieflow_output/aggregate/parquets/P-1_W-B1_CeCl-Mitotic_ChCo-DAPI__filtered.parquet\n",
      "Reading first 1,000 rows from brieflow_output/aggregate/parquets/P-1_W-A2_CeCl-Mitotic_ChCo-DAPI__filtered.parquet\n",
      "Reading first 1,000 rows from brieflow_output/aggregate/parquets/P-1_W-B2_CeCl-Mitotic_ChCo-DAPI__filtered.parquet\n"
     ]
    },
    {
     "name": "stderr",
     "output_type": "stream",
     "text": [
      "/lab/ops_analysis/cheeseman/kilimanjaro-analysis/brieflow/workflow/lib/shared/metrics.py:355: SettingWithCopyWarning: \n",
      "A value is trying to be set on a copy of a slice from a DataFrame.\n",
      "Try using .loc[row_indexer,col_indexer] = value instead\n",
      "\n",
      "See the caveats in the documentation: https://pandas.pydata.org/pandas-docs/stable/user_guide/indexing.html#returning-a-view-versus-a-copy\n",
      "  old_control_data[\"batch\"] = (\n",
      "/lab/barcheese01/mdiberna/miniconda3/envs/brieflow_kilimanjaro/lib/python3.11/site-packages/sklearn/feature_selection/_univariate_selection.py:111: RuntimeWarning: divide by zero encountered in divide\n",
      "  f = msb / msw\n"
     ]
    },
    {
     "name": "stdout",
     "output_type": "stream",
     "text": [
      "Reading first 1,000 rows from brieflow_output/aggregate/parquets/CeCl-Mitotic_ChCo-DAPI__aligned.parquet\n"
     ]
    },
    {
     "name": "stderr",
     "output_type": "stream",
     "text": [
      "/lab/ops_analysis/cheeseman/kilimanjaro-analysis/brieflow/workflow/lib/shared/metrics.py:391: SettingWithCopyWarning: \n",
      "A value is trying to be set on a copy of a slice from a DataFrame.\n",
      "Try using .loc[row_indexer,col_indexer] = value instead\n",
      "\n",
      "See the caveats in the documentation: https://pandas.pydata.org/pandas-docs/stable/user_guide/indexing.html#returning-a-view-versus-a-copy\n",
      "  new_control_data[\"batch\"] = (\n"
     ]
    },
    {
     "name": "stdout",
     "output_type": "stream",
     "text": [
      "Reading first 1,000 rows from brieflow_output/aggregate/parquets/P-1_W-A3_CeCl-Mitotic_ChCo-DAPI_MITOTRACKER_WGA__filtered.parquet\n",
      "Reading first 1,000 rows from brieflow_output/aggregate/parquets/P-1_W-B3_CeCl-Mitotic_ChCo-DAPI_MITOTRACKER_WGA__filtered.parquet\n",
      "Reading first 1,000 rows from brieflow_output/aggregate/parquets/P-1_W-B1_CeCl-Mitotic_ChCo-DAPI_MITOTRACKER_WGA__filtered.parquet\n",
      "Reading first 1,000 rows from brieflow_output/aggregate/parquets/P-1_W-A2_CeCl-Mitotic_ChCo-DAPI_MITOTRACKER_WGA__filtered.parquet\n",
      "Reading first 1,000 rows from brieflow_output/aggregate/parquets/P-1_W-B2_CeCl-Mitotic_ChCo-DAPI_MITOTRACKER_WGA__filtered.parquet\n"
     ]
    },
    {
     "name": "stderr",
     "output_type": "stream",
     "text": [
      "/lab/ops_analysis/cheeseman/kilimanjaro-analysis/brieflow/workflow/lib/shared/metrics.py:355: SettingWithCopyWarning: \n",
      "A value is trying to be set on a copy of a slice from a DataFrame.\n",
      "Try using .loc[row_indexer,col_indexer] = value instead\n",
      "\n",
      "See the caveats in the documentation: https://pandas.pydata.org/pandas-docs/stable/user_guide/indexing.html#returning-a-view-versus-a-copy\n",
      "  old_control_data[\"batch\"] = (\n",
      "/lab/barcheese01/mdiberna/miniconda3/envs/brieflow_kilimanjaro/lib/python3.11/site-packages/sklearn/feature_selection/_univariate_selection.py:111: RuntimeWarning: divide by zero encountered in divide\n",
      "  f = msb / msw\n"
     ]
    },
    {
     "name": "stdout",
     "output_type": "stream",
     "text": [
      "Reading first 1,000 rows from brieflow_output/aggregate/parquets/CeCl-Mitotic_ChCo-DAPI_MITOTRACKER_WGA__aligned.parquet\n"
     ]
    },
    {
     "name": "stderr",
     "output_type": "stream",
     "text": [
      "/lab/ops_analysis/cheeseman/kilimanjaro-analysis/brieflow/workflow/lib/shared/metrics.py:391: SettingWithCopyWarning: \n",
      "A value is trying to be set on a copy of a slice from a DataFrame.\n",
      "Try using .loc[row_indexer,col_indexer] = value instead\n",
      "\n",
      "See the caveats in the documentation: https://pandas.pydata.org/pandas-docs/stable/user_guide/indexing.html#returning-a-view-versus-a-copy\n",
      "  new_control_data[\"batch\"] = (\n"
     ]
    },
    {
     "name": "stdout",
     "output_type": "stream",
     "text": [
      "Reading first 1,000 rows from brieflow_output/aggregate/parquets/P-1_W-A3_CeCl-Mitotic_ChCo-DAPI_VIMENTIN_PHALLOIDIN_ITGB1__filtered.parquet\n",
      "Reading first 1,000 rows from brieflow_output/aggregate/parquets/P-1_W-B3_CeCl-Mitotic_ChCo-DAPI_VIMENTIN_PHALLOIDIN_ITGB1__filtered.parquet\n",
      "Reading first 1,000 rows from brieflow_output/aggregate/parquets/P-1_W-B1_CeCl-Mitotic_ChCo-DAPI_VIMENTIN_PHALLOIDIN_ITGB1__filtered.parquet\n",
      "Reading first 1,000 rows from brieflow_output/aggregate/parquets/P-1_W-A2_CeCl-Mitotic_ChCo-DAPI_VIMENTIN_PHALLOIDIN_ITGB1__filtered.parquet\n",
      "Reading first 1,000 rows from brieflow_output/aggregate/parquets/P-1_W-B2_CeCl-Mitotic_ChCo-DAPI_VIMENTIN_PHALLOIDIN_ITGB1__filtered.parquet\n"
     ]
    },
    {
     "name": "stderr",
     "output_type": "stream",
     "text": [
      "/lab/ops_analysis/cheeseman/kilimanjaro-analysis/brieflow/workflow/lib/shared/metrics.py:355: SettingWithCopyWarning: \n",
      "A value is trying to be set on a copy of a slice from a DataFrame.\n",
      "Try using .loc[row_indexer,col_indexer] = value instead\n",
      "\n",
      "See the caveats in the documentation: https://pandas.pydata.org/pandas-docs/stable/user_guide/indexing.html#returning-a-view-versus-a-copy\n",
      "  old_control_data[\"batch\"] = (\n",
      "/lab/barcheese01/mdiberna/miniconda3/envs/brieflow_kilimanjaro/lib/python3.11/site-packages/sklearn/feature_selection/_univariate_selection.py:111: RuntimeWarning: invalid value encountered in divide\n",
      "  f = msb / msw\n"
     ]
    },
    {
     "name": "stdout",
     "output_type": "stream",
     "text": [
      "Reading first 1,000 rows from brieflow_output/aggregate/parquets/CeCl-Mitotic_ChCo-DAPI_VIMENTIN_PHALLOIDIN_ITGB1__aligned.parquet\n"
     ]
    },
    {
     "name": "stderr",
     "output_type": "stream",
     "text": [
      "/lab/ops_analysis/cheeseman/kilimanjaro-analysis/brieflow/workflow/lib/shared/metrics.py:391: SettingWithCopyWarning: \n",
      "A value is trying to be set on a copy of a slice from a DataFrame.\n",
      "Try using .loc[row_indexer,col_indexer] = value instead\n",
      "\n",
      "See the caveats in the documentation: https://pandas.pydata.org/pandas-docs/stable/user_guide/indexing.html#returning-a-view-versus-a-copy\n",
      "  new_control_data[\"batch\"] = (\n"
     ]
    },
    {
     "name": "stdout",
     "output_type": "stream",
     "text": [
      "Reading first 1,000 rows from brieflow_output/aggregate/parquets/P-1_W-A3_CeCl-Mitotic_ChCo-DAPI_VIMENTIN_ITGB1__filtered.parquet\n",
      "Reading first 1,000 rows from brieflow_output/aggregate/parquets/P-1_W-B3_CeCl-Mitotic_ChCo-DAPI_VIMENTIN_ITGB1__filtered.parquet\n",
      "Reading first 1,000 rows from brieflow_output/aggregate/parquets/P-1_W-B1_CeCl-Mitotic_ChCo-DAPI_VIMENTIN_ITGB1__filtered.parquet\n",
      "Reading first 1,000 rows from brieflow_output/aggregate/parquets/P-1_W-A2_CeCl-Mitotic_ChCo-DAPI_VIMENTIN_ITGB1__filtered.parquet\n",
      "Reading first 1,000 rows from brieflow_output/aggregate/parquets/P-1_W-B2_CeCl-Mitotic_ChCo-DAPI_VIMENTIN_ITGB1__filtered.parquet\n"
     ]
    },
    {
     "name": "stderr",
     "output_type": "stream",
     "text": [
      "/lab/ops_analysis/cheeseman/kilimanjaro-analysis/brieflow/workflow/lib/shared/metrics.py:355: SettingWithCopyWarning: \n",
      "A value is trying to be set on a copy of a slice from a DataFrame.\n",
      "Try using .loc[row_indexer,col_indexer] = value instead\n",
      "\n",
      "See the caveats in the documentation: https://pandas.pydata.org/pandas-docs/stable/user_guide/indexing.html#returning-a-view-versus-a-copy\n",
      "  old_control_data[\"batch\"] = (\n",
      "/lab/barcheese01/mdiberna/miniconda3/envs/brieflow_kilimanjaro/lib/python3.11/site-packages/sklearn/feature_selection/_univariate_selection.py:111: RuntimeWarning: invalid value encountered in divide\n",
      "  f = msb / msw\n"
     ]
    },
    {
     "name": "stdout",
     "output_type": "stream",
     "text": [
      "Reading first 1,000 rows from brieflow_output/aggregate/parquets/CeCl-Mitotic_ChCo-DAPI_VIMENTIN_ITGB1__aligned.parquet\n"
     ]
    },
    {
     "name": "stderr",
     "output_type": "stream",
     "text": [
      "/lab/ops_analysis/cheeseman/kilimanjaro-analysis/brieflow/workflow/lib/shared/metrics.py:391: SettingWithCopyWarning: \n",
      "A value is trying to be set on a copy of a slice from a DataFrame.\n",
      "Try using .loc[row_indexer,col_indexer] = value instead\n",
      "\n",
      "See the caveats in the documentation: https://pandas.pydata.org/pandas-docs/stable/user_guide/indexing.html#returning-a-view-versus-a-copy\n",
      "  new_control_data[\"batch\"] = (\n"
     ]
    },
    {
     "name": "stdout",
     "output_type": "stream",
     "text": [
      "Reading first 1,000 rows from brieflow_output/aggregate/parquets/P-1_W-A3_CeCl-all_ChCo-DAPI_ACA_MITOTRACKER_VIMENTIN_CENPT_ITGB1_PHALLOIDIN_WGA__filtered.parquet\n",
      "Reading first 1,000 rows from brieflow_output/aggregate/parquets/P-1_W-B3_CeCl-all_ChCo-DAPI_ACA_MITOTRACKER_VIMENTIN_CENPT_ITGB1_PHALLOIDIN_WGA__filtered.parquet\n",
      "Reading first 1,000 rows from brieflow_output/aggregate/parquets/P-1_W-A2_CeCl-all_ChCo-DAPI_ACA_MITOTRACKER_VIMENTIN_CENPT_ITGB1_PHALLOIDIN_WGA__filtered.parquet\n",
      "Reading first 1,000 rows from brieflow_output/aggregate/parquets/P-1_W-B1_CeCl-all_ChCo-DAPI_ACA_MITOTRACKER_VIMENTIN_CENPT_ITGB1_PHALLOIDIN_WGA__filtered.parquet\n",
      "Reading first 1,000 rows from brieflow_output/aggregate/parquets/P-1_W-B2_CeCl-all_ChCo-DAPI_ACA_MITOTRACKER_VIMENTIN_CENPT_ITGB1_PHALLOIDIN_WGA__filtered.parquet\n"
     ]
    },
    {
     "name": "stderr",
     "output_type": "stream",
     "text": [
      "/lab/ops_analysis/cheeseman/kilimanjaro-analysis/brieflow/workflow/lib/shared/metrics.py:355: SettingWithCopyWarning: \n",
      "A value is trying to be set on a copy of a slice from a DataFrame.\n",
      "Try using .loc[row_indexer,col_indexer] = value instead\n",
      "\n",
      "See the caveats in the documentation: https://pandas.pydata.org/pandas-docs/stable/user_guide/indexing.html#returning-a-view-versus-a-copy\n",
      "  old_control_data[\"batch\"] = (\n",
      "/lab/barcheese01/mdiberna/miniconda3/envs/brieflow_kilimanjaro/lib/python3.11/site-packages/sklearn/feature_selection/_univariate_selection.py:111: RuntimeWarning: divide by zero encountered in divide\n",
      "  f = msb / msw\n",
      "/lab/barcheese01/mdiberna/miniconda3/envs/brieflow_kilimanjaro/lib/python3.11/site-packages/sklearn/feature_selection/_univariate_selection.py:111: RuntimeWarning: invalid value encountered in divide\n",
      "  f = msb / msw\n"
     ]
    },
    {
     "name": "stdout",
     "output_type": "stream",
     "text": [
      "Reading first 1,000 rows from brieflow_output/aggregate/parquets/CeCl-all_ChCo-DAPI_ACA_MITOTRACKER_VIMENTIN_CENPT_ITGB1_PHALLOIDIN_WGA__aligned.parquet\n"
     ]
    },
    {
     "name": "stderr",
     "output_type": "stream",
     "text": [
      "/lab/ops_analysis/cheeseman/kilimanjaro-analysis/brieflow/workflow/lib/shared/metrics.py:391: SettingWithCopyWarning: \n",
      "A value is trying to be set on a copy of a slice from a DataFrame.\n",
      "Try using .loc[row_indexer,col_indexer] = value instead\n",
      "\n",
      "See the caveats in the documentation: https://pandas.pydata.org/pandas-docs/stable/user_guide/indexing.html#returning-a-view-versus-a-copy\n",
      "  new_control_data[\"batch\"] = (\n"
     ]
    },
    {
     "name": "stdout",
     "output_type": "stream",
     "text": [
      "Reading first 1,000 rows from brieflow_output/aggregate/parquets/P-1_W-A3_CeCl-all_ChCo-DAPI_ACA_MITOTRACKER_VIMENTIN_CENPT_ITGB1_WGA__filtered.parquet\n",
      "Reading first 1,000 rows from brieflow_output/aggregate/parquets/P-1_W-B3_CeCl-all_ChCo-DAPI_ACA_MITOTRACKER_VIMENTIN_CENPT_ITGB1_WGA__filtered.parquet\n",
      "Reading first 1,000 rows from brieflow_output/aggregate/parquets/P-1_W-B1_CeCl-all_ChCo-DAPI_ACA_MITOTRACKER_VIMENTIN_CENPT_ITGB1_WGA__filtered.parquet\n",
      "Reading first 1,000 rows from brieflow_output/aggregate/parquets/P-1_W-A2_CeCl-all_ChCo-DAPI_ACA_MITOTRACKER_VIMENTIN_CENPT_ITGB1_WGA__filtered.parquet\n",
      "Reading first 1,000 rows from brieflow_output/aggregate/parquets/P-1_W-B2_CeCl-all_ChCo-DAPI_ACA_MITOTRACKER_VIMENTIN_CENPT_ITGB1_WGA__filtered.parquet\n"
     ]
    },
    {
     "name": "stderr",
     "output_type": "stream",
     "text": [
      "/lab/ops_analysis/cheeseman/kilimanjaro-analysis/brieflow/workflow/lib/shared/metrics.py:355: SettingWithCopyWarning: \n",
      "A value is trying to be set on a copy of a slice from a DataFrame.\n",
      "Try using .loc[row_indexer,col_indexer] = value instead\n",
      "\n",
      "See the caveats in the documentation: https://pandas.pydata.org/pandas-docs/stable/user_guide/indexing.html#returning-a-view-versus-a-copy\n",
      "  old_control_data[\"batch\"] = (\n",
      "/lab/barcheese01/mdiberna/miniconda3/envs/brieflow_kilimanjaro/lib/python3.11/site-packages/sklearn/feature_selection/_univariate_selection.py:111: RuntimeWarning: divide by zero encountered in divide\n",
      "  f = msb / msw\n",
      "/lab/barcheese01/mdiberna/miniconda3/envs/brieflow_kilimanjaro/lib/python3.11/site-packages/sklearn/feature_selection/_univariate_selection.py:111: RuntimeWarning: invalid value encountered in divide\n",
      "  f = msb / msw\n"
     ]
    },
    {
     "name": "stdout",
     "output_type": "stream",
     "text": [
      "Reading first 1,000 rows from brieflow_output/aggregate/parquets/CeCl-all_ChCo-DAPI_ACA_MITOTRACKER_VIMENTIN_CENPT_ITGB1_WGA__aligned.parquet\n"
     ]
    },
    {
     "name": "stderr",
     "output_type": "stream",
     "text": [
      "/lab/ops_analysis/cheeseman/kilimanjaro-analysis/brieflow/workflow/lib/shared/metrics.py:391: SettingWithCopyWarning: \n",
      "A value is trying to be set on a copy of a slice from a DataFrame.\n",
      "Try using .loc[row_indexer,col_indexer] = value instead\n",
      "\n",
      "See the caveats in the documentation: https://pandas.pydata.org/pandas-docs/stable/user_guide/indexing.html#returning-a-view-versus-a-copy\n",
      "  new_control_data[\"batch\"] = (\n"
     ]
    },
    {
     "name": "stdout",
     "output_type": "stream",
     "text": [
      "Reading first 1,000 rows from brieflow_output/aggregate/parquets/P-1_W-A3_CeCl-all_ChCo-DAPI_ACA_CENPT__filtered.parquet\n",
      "Reading first 1,000 rows from brieflow_output/aggregate/parquets/P-1_W-B3_CeCl-all_ChCo-DAPI_ACA_CENPT__filtered.parquet\n",
      "Reading first 1,000 rows from brieflow_output/aggregate/parquets/P-1_W-B1_CeCl-all_ChCo-DAPI_ACA_CENPT__filtered.parquet\n",
      "Reading first 1,000 rows from brieflow_output/aggregate/parquets/P-1_W-A2_CeCl-all_ChCo-DAPI_ACA_CENPT__filtered.parquet\n",
      "Reading first 1,000 rows from brieflow_output/aggregate/parquets/P-1_W-B2_CeCl-all_ChCo-DAPI_ACA_CENPT__filtered.parquet\n"
     ]
    },
    {
     "name": "stderr",
     "output_type": "stream",
     "text": [
      "/lab/ops_analysis/cheeseman/kilimanjaro-analysis/brieflow/workflow/lib/shared/metrics.py:355: SettingWithCopyWarning: \n",
      "A value is trying to be set on a copy of a slice from a DataFrame.\n",
      "Try using .loc[row_indexer,col_indexer] = value instead\n",
      "\n",
      "See the caveats in the documentation: https://pandas.pydata.org/pandas-docs/stable/user_guide/indexing.html#returning-a-view-versus-a-copy\n",
      "  old_control_data[\"batch\"] = (\n",
      "/lab/barcheese01/mdiberna/miniconda3/envs/brieflow_kilimanjaro/lib/python3.11/site-packages/sklearn/feature_selection/_univariate_selection.py:111: RuntimeWarning: divide by zero encountered in divide\n",
      "  f = msb / msw\n"
     ]
    },
    {
     "name": "stdout",
     "output_type": "stream",
     "text": [
      "Reading first 1,000 rows from brieflow_output/aggregate/parquets/CeCl-all_ChCo-DAPI_ACA_CENPT__aligned.parquet\n"
     ]
    },
    {
     "name": "stderr",
     "output_type": "stream",
     "text": [
      "/lab/ops_analysis/cheeseman/kilimanjaro-analysis/brieflow/workflow/lib/shared/metrics.py:391: SettingWithCopyWarning: \n",
      "A value is trying to be set on a copy of a slice from a DataFrame.\n",
      "Try using .loc[row_indexer,col_indexer] = value instead\n",
      "\n",
      "See the caveats in the documentation: https://pandas.pydata.org/pandas-docs/stable/user_guide/indexing.html#returning-a-view-versus-a-copy\n",
      "  new_control_data[\"batch\"] = (\n"
     ]
    },
    {
     "name": "stdout",
     "output_type": "stream",
     "text": [
      "Reading first 1,000 rows from brieflow_output/aggregate/parquets/P-1_W-A3_CeCl-all_ChCo-DAPI_CENPT__filtered.parquet\n",
      "Reading first 1,000 rows from brieflow_output/aggregate/parquets/P-1_W-B3_CeCl-all_ChCo-DAPI_CENPT__filtered.parquet\n",
      "Reading first 1,000 rows from brieflow_output/aggregate/parquets/P-1_W-B1_CeCl-all_ChCo-DAPI_CENPT__filtered.parquet\n",
      "Reading first 1,000 rows from brieflow_output/aggregate/parquets/P-1_W-A2_CeCl-all_ChCo-DAPI_CENPT__filtered.parquet\n",
      "Reading first 1,000 rows from brieflow_output/aggregate/parquets/P-1_W-B2_CeCl-all_ChCo-DAPI_CENPT__filtered.parquet\n"
     ]
    },
    {
     "name": "stderr",
     "output_type": "stream",
     "text": [
      "/lab/ops_analysis/cheeseman/kilimanjaro-analysis/brieflow/workflow/lib/shared/metrics.py:355: SettingWithCopyWarning: \n",
      "A value is trying to be set on a copy of a slice from a DataFrame.\n",
      "Try using .loc[row_indexer,col_indexer] = value instead\n",
      "\n",
      "See the caveats in the documentation: https://pandas.pydata.org/pandas-docs/stable/user_guide/indexing.html#returning-a-view-versus-a-copy\n",
      "  old_control_data[\"batch\"] = (\n",
      "/lab/barcheese01/mdiberna/miniconda3/envs/brieflow_kilimanjaro/lib/python3.11/site-packages/sklearn/feature_selection/_univariate_selection.py:111: RuntimeWarning: divide by zero encountered in divide\n",
      "  f = msb / msw\n"
     ]
    },
    {
     "name": "stdout",
     "output_type": "stream",
     "text": [
      "Reading first 1,000 rows from brieflow_output/aggregate/parquets/CeCl-all_ChCo-DAPI_CENPT__aligned.parquet\n"
     ]
    },
    {
     "name": "stderr",
     "output_type": "stream",
     "text": [
      "/lab/ops_analysis/cheeseman/kilimanjaro-analysis/brieflow/workflow/lib/shared/metrics.py:391: SettingWithCopyWarning: \n",
      "A value is trying to be set on a copy of a slice from a DataFrame.\n",
      "Try using .loc[row_indexer,col_indexer] = value instead\n",
      "\n",
      "See the caveats in the documentation: https://pandas.pydata.org/pandas-docs/stable/user_guide/indexing.html#returning-a-view-versus-a-copy\n",
      "  new_control_data[\"batch\"] = (\n"
     ]
    },
    {
     "name": "stdout",
     "output_type": "stream",
     "text": [
      "Reading first 1,000 rows from brieflow_output/aggregate/parquets/P-1_W-A3_CeCl-all_ChCo-ACA_CENPT__filtered.parquet\n",
      "Reading first 1,000 rows from brieflow_output/aggregate/parquets/P-1_W-B3_CeCl-all_ChCo-ACA_CENPT__filtered.parquet\n",
      "Reading first 1,000 rows from brieflow_output/aggregate/parquets/P-1_W-B1_CeCl-all_ChCo-ACA_CENPT__filtered.parquet\n",
      "Reading first 1,000 rows from brieflow_output/aggregate/parquets/P-1_W-A2_CeCl-all_ChCo-ACA_CENPT__filtered.parquet\n",
      "Reading first 1,000 rows from brieflow_output/aggregate/parquets/P-1_W-B2_CeCl-all_ChCo-ACA_CENPT__filtered.parquet\n"
     ]
    },
    {
     "name": "stderr",
     "output_type": "stream",
     "text": [
      "/lab/ops_analysis/cheeseman/kilimanjaro-analysis/brieflow/workflow/lib/shared/metrics.py:355: SettingWithCopyWarning: \n",
      "A value is trying to be set on a copy of a slice from a DataFrame.\n",
      "Try using .loc[row_indexer,col_indexer] = value instead\n",
      "\n",
      "See the caveats in the documentation: https://pandas.pydata.org/pandas-docs/stable/user_guide/indexing.html#returning-a-view-versus-a-copy\n",
      "  old_control_data[\"batch\"] = (\n",
      "/lab/barcheese01/mdiberna/miniconda3/envs/brieflow_kilimanjaro/lib/python3.11/site-packages/sklearn/feature_selection/_univariate_selection.py:111: RuntimeWarning: divide by zero encountered in divide\n",
      "  f = msb / msw\n",
      "/lab/barcheese01/mdiberna/miniconda3/envs/brieflow_kilimanjaro/lib/python3.11/site-packages/sklearn/feature_selection/_univariate_selection.py:111: RuntimeWarning: invalid value encountered in divide\n",
      "  f = msb / msw\n"
     ]
    },
    {
     "name": "stdout",
     "output_type": "stream",
     "text": [
      "Reading first 1,000 rows from brieflow_output/aggregate/parquets/CeCl-all_ChCo-ACA_CENPT__aligned.parquet\n"
     ]
    },
    {
     "name": "stderr",
     "output_type": "stream",
     "text": [
      "/lab/ops_analysis/cheeseman/kilimanjaro-analysis/brieflow/workflow/lib/shared/metrics.py:391: SettingWithCopyWarning: \n",
      "A value is trying to be set on a copy of a slice from a DataFrame.\n",
      "Try using .loc[row_indexer,col_indexer] = value instead\n",
      "\n",
      "See the caveats in the documentation: https://pandas.pydata.org/pandas-docs/stable/user_guide/indexing.html#returning-a-view-versus-a-copy\n",
      "  new_control_data[\"batch\"] = (\n"
     ]
    },
    {
     "name": "stdout",
     "output_type": "stream",
     "text": [
      "Reading first 1,000 rows from brieflow_output/aggregate/parquets/P-1_W-A3_CeCl-all_ChCo-DAPI__filtered.parquet\n",
      "Reading first 1,000 rows from brieflow_output/aggregate/parquets/P-1_W-B3_CeCl-all_ChCo-DAPI__filtered.parquet\n",
      "Reading first 1,000 rows from brieflow_output/aggregate/parquets/P-1_W-B1_CeCl-all_ChCo-DAPI__filtered.parquet\n",
      "Reading first 1,000 rows from brieflow_output/aggregate/parquets/P-1_W-A2_CeCl-all_ChCo-DAPI__filtered.parquet\n",
      "Reading first 1,000 rows from brieflow_output/aggregate/parquets/P-1_W-B2_CeCl-all_ChCo-DAPI__filtered.parquet\n"
     ]
    },
    {
     "name": "stderr",
     "output_type": "stream",
     "text": [
      "/lab/ops_analysis/cheeseman/kilimanjaro-analysis/brieflow/workflow/lib/shared/metrics.py:355: SettingWithCopyWarning: \n",
      "A value is trying to be set on a copy of a slice from a DataFrame.\n",
      "Try using .loc[row_indexer,col_indexer] = value instead\n",
      "\n",
      "See the caveats in the documentation: https://pandas.pydata.org/pandas-docs/stable/user_guide/indexing.html#returning-a-view-versus-a-copy\n",
      "  old_control_data[\"batch\"] = (\n",
      "/lab/barcheese01/mdiberna/miniconda3/envs/brieflow_kilimanjaro/lib/python3.11/site-packages/sklearn/feature_selection/_univariate_selection.py:111: RuntimeWarning: divide by zero encountered in divide\n",
      "  f = msb / msw\n",
      "/lab/barcheese01/mdiberna/miniconda3/envs/brieflow_kilimanjaro/lib/python3.11/site-packages/sklearn/feature_selection/_univariate_selection.py:111: RuntimeWarning: invalid value encountered in divide\n",
      "  f = msb / msw\n"
     ]
    },
    {
     "name": "stdout",
     "output_type": "stream",
     "text": [
      "Reading first 1,000 rows from brieflow_output/aggregate/parquets/CeCl-all_ChCo-DAPI__aligned.parquet\n"
     ]
    },
    {
     "name": "stderr",
     "output_type": "stream",
     "text": [
      "/lab/ops_analysis/cheeseman/kilimanjaro-analysis/brieflow/workflow/lib/shared/metrics.py:391: SettingWithCopyWarning: \n",
      "A value is trying to be set on a copy of a slice from a DataFrame.\n",
      "Try using .loc[row_indexer,col_indexer] = value instead\n",
      "\n",
      "See the caveats in the documentation: https://pandas.pydata.org/pandas-docs/stable/user_guide/indexing.html#returning-a-view-versus-a-copy\n",
      "  new_control_data[\"batch\"] = (\n"
     ]
    },
    {
     "name": "stdout",
     "output_type": "stream",
     "text": [
      "Reading first 1,000 rows from brieflow_output/aggregate/parquets/P-1_W-A3_CeCl-all_ChCo-DAPI_MITOTRACKER_WGA__filtered.parquet\n",
      "Reading first 1,000 rows from brieflow_output/aggregate/parquets/P-1_W-B3_CeCl-all_ChCo-DAPI_MITOTRACKER_WGA__filtered.parquet\n",
      "Reading first 1,000 rows from brieflow_output/aggregate/parquets/P-1_W-B1_CeCl-all_ChCo-DAPI_MITOTRACKER_WGA__filtered.parquet\n",
      "Reading first 1,000 rows from brieflow_output/aggregate/parquets/P-1_W-A2_CeCl-all_ChCo-DAPI_MITOTRACKER_WGA__filtered.parquet\n",
      "Reading first 1,000 rows from brieflow_output/aggregate/parquets/P-1_W-B2_CeCl-all_ChCo-DAPI_MITOTRACKER_WGA__filtered.parquet\n"
     ]
    },
    {
     "name": "stderr",
     "output_type": "stream",
     "text": [
      "/lab/ops_analysis/cheeseman/kilimanjaro-analysis/brieflow/workflow/lib/shared/metrics.py:355: SettingWithCopyWarning: \n",
      "A value is trying to be set on a copy of a slice from a DataFrame.\n",
      "Try using .loc[row_indexer,col_indexer] = value instead\n",
      "\n",
      "See the caveats in the documentation: https://pandas.pydata.org/pandas-docs/stable/user_guide/indexing.html#returning-a-view-versus-a-copy\n",
      "  old_control_data[\"batch\"] = (\n",
      "/lab/barcheese01/mdiberna/miniconda3/envs/brieflow_kilimanjaro/lib/python3.11/site-packages/sklearn/feature_selection/_univariate_selection.py:111: RuntimeWarning: divide by zero encountered in divide\n",
      "  f = msb / msw\n",
      "/lab/barcheese01/mdiberna/miniconda3/envs/brieflow_kilimanjaro/lib/python3.11/site-packages/sklearn/feature_selection/_univariate_selection.py:111: RuntimeWarning: invalid value encountered in divide\n",
      "  f = msb / msw\n"
     ]
    },
    {
     "name": "stdout",
     "output_type": "stream",
     "text": [
      "Reading first 1,000 rows from brieflow_output/aggregate/parquets/CeCl-all_ChCo-DAPI_MITOTRACKER_WGA__aligned.parquet\n"
     ]
    },
    {
     "name": "stderr",
     "output_type": "stream",
     "text": [
      "/lab/ops_analysis/cheeseman/kilimanjaro-analysis/brieflow/workflow/lib/shared/metrics.py:391: SettingWithCopyWarning: \n",
      "A value is trying to be set on a copy of a slice from a DataFrame.\n",
      "Try using .loc[row_indexer,col_indexer] = value instead\n",
      "\n",
      "See the caveats in the documentation: https://pandas.pydata.org/pandas-docs/stable/user_guide/indexing.html#returning-a-view-versus-a-copy\n",
      "  new_control_data[\"batch\"] = (\n"
     ]
    },
    {
     "name": "stdout",
     "output_type": "stream",
     "text": [
      "Reading first 1,000 rows from brieflow_output/aggregate/parquets/P-1_W-A3_CeCl-all_ChCo-DAPI_VIMENTIN_PHALLOIDIN_ITGB1__filtered.parquet\n",
      "Reading first 1,000 rows from brieflow_output/aggregate/parquets/P-1_W-B3_CeCl-all_ChCo-DAPI_VIMENTIN_PHALLOIDIN_ITGB1__filtered.parquet\n",
      "Reading first 1,000 rows from brieflow_output/aggregate/parquets/P-1_W-B1_CeCl-all_ChCo-DAPI_VIMENTIN_PHALLOIDIN_ITGB1__filtered.parquet\n",
      "Reading first 1,000 rows from brieflow_output/aggregate/parquets/P-1_W-A2_CeCl-all_ChCo-DAPI_VIMENTIN_PHALLOIDIN_ITGB1__filtered.parquet\n",
      "Reading first 1,000 rows from brieflow_output/aggregate/parquets/P-1_W-B2_CeCl-all_ChCo-DAPI_VIMENTIN_PHALLOIDIN_ITGB1__filtered.parquet\n"
     ]
    },
    {
     "name": "stderr",
     "output_type": "stream",
     "text": [
      "/lab/ops_analysis/cheeseman/kilimanjaro-analysis/brieflow/workflow/lib/shared/metrics.py:355: SettingWithCopyWarning: \n",
      "A value is trying to be set on a copy of a slice from a DataFrame.\n",
      "Try using .loc[row_indexer,col_indexer] = value instead\n",
      "\n",
      "See the caveats in the documentation: https://pandas.pydata.org/pandas-docs/stable/user_guide/indexing.html#returning-a-view-versus-a-copy\n",
      "  old_control_data[\"batch\"] = (\n",
      "/lab/barcheese01/mdiberna/miniconda3/envs/brieflow_kilimanjaro/lib/python3.11/site-packages/sklearn/feature_selection/_univariate_selection.py:111: RuntimeWarning: invalid value encountered in divide\n",
      "  f = msb / msw\n"
     ]
    },
    {
     "name": "stdout",
     "output_type": "stream",
     "text": [
      "Reading first 1,000 rows from brieflow_output/aggregate/parquets/CeCl-all_ChCo-DAPI_VIMENTIN_PHALLOIDIN_ITGB1__aligned.parquet\n"
     ]
    },
    {
     "name": "stderr",
     "output_type": "stream",
     "text": [
      "/lab/ops_analysis/cheeseman/kilimanjaro-analysis/brieflow/workflow/lib/shared/metrics.py:391: SettingWithCopyWarning: \n",
      "A value is trying to be set on a copy of a slice from a DataFrame.\n",
      "Try using .loc[row_indexer,col_indexer] = value instead\n",
      "\n",
      "See the caveats in the documentation: https://pandas.pydata.org/pandas-docs/stable/user_guide/indexing.html#returning-a-view-versus-a-copy\n",
      "  new_control_data[\"batch\"] = (\n"
     ]
    },
    {
     "name": "stdout",
     "output_type": "stream",
     "text": [
      "Reading first 1,000 rows from brieflow_output/aggregate/parquets/P-1_W-A3_CeCl-all_ChCo-DAPI_VIMENTIN_ITGB1__filtered.parquet\n",
      "Reading first 1,000 rows from brieflow_output/aggregate/parquets/P-1_W-B3_CeCl-all_ChCo-DAPI_VIMENTIN_ITGB1__filtered.parquet\n",
      "Reading first 1,000 rows from brieflow_output/aggregate/parquets/P-1_W-B1_CeCl-all_ChCo-DAPI_VIMENTIN_ITGB1__filtered.parquet\n",
      "Reading first 1,000 rows from brieflow_output/aggregate/parquets/P-1_W-A2_CeCl-all_ChCo-DAPI_VIMENTIN_ITGB1__filtered.parquet\n",
      "Reading first 1,000 rows from brieflow_output/aggregate/parquets/P-1_W-B2_CeCl-all_ChCo-DAPI_VIMENTIN_ITGB1__filtered.parquet\n"
     ]
    },
    {
     "name": "stderr",
     "output_type": "stream",
     "text": [
      "/lab/ops_analysis/cheeseman/kilimanjaro-analysis/brieflow/workflow/lib/shared/metrics.py:355: SettingWithCopyWarning: \n",
      "A value is trying to be set on a copy of a slice from a DataFrame.\n",
      "Try using .loc[row_indexer,col_indexer] = value instead\n",
      "\n",
      "See the caveats in the documentation: https://pandas.pydata.org/pandas-docs/stable/user_guide/indexing.html#returning-a-view-versus-a-copy\n",
      "  old_control_data[\"batch\"] = (\n",
      "/lab/barcheese01/mdiberna/miniconda3/envs/brieflow_kilimanjaro/lib/python3.11/site-packages/sklearn/feature_selection/_univariate_selection.py:111: RuntimeWarning: divide by zero encountered in divide\n",
      "  f = msb / msw\n"
     ]
    },
    {
     "name": "stdout",
     "output_type": "stream",
     "text": [
      "Reading first 1,000 rows from brieflow_output/aggregate/parquets/CeCl-all_ChCo-DAPI_VIMENTIN_ITGB1__aligned.parquet\n"
     ]
    },
    {
     "name": "stderr",
     "output_type": "stream",
     "text": [
      "/lab/ops_analysis/cheeseman/kilimanjaro-analysis/brieflow/workflow/lib/shared/metrics.py:391: SettingWithCopyWarning: \n",
      "A value is trying to be set on a copy of a slice from a DataFrame.\n",
      "Try using .loc[row_indexer,col_indexer] = value instead\n",
      "\n",
      "See the caveats in the documentation: https://pandas.pydata.org/pandas-docs/stable/user_guide/indexing.html#returning-a-view-versus-a-copy\n",
      "  new_control_data[\"batch\"] = (\n"
     ]
    },
    {
     "name": "stdout",
     "output_type": "stream",
     "text": [
      "\n",
      " AGGREGATION STATISTICS:\n",
      "\n",
      "   Interphase cells - DAPI_ACA_MITOTRACKER_VIMENTIN_CENPT_ITGB1_PHALLOIDIN_WGA:\n",
      "      • Distinct perturbations: 5,298\n",
      "      • Median cells per perturbation: 258\n",
      "      • Total cells (pre-filter): 2,945,339\n",
      "      • Total cells (post-filter): 5,000\n",
      "      • Total cells (aggregated): 1,412,773\n",
      "      • PC features: 1371\n",
      "      • Batch effect reduction: 0.3709 → 0.5242\n",
      "\n",
      "   Interphase cells - DAPI_ACA_MITOTRACKER_VIMENTIN_CENPT_ITGB1_WGA:\n",
      "      • Distinct perturbations: 5,298\n",
      "      • Median cells per perturbation: 258\n",
      "      • Total cells (pre-filter): 2,945,339\n",
      "      • Total cells (post-filter): 5,000\n",
      "      • Total cells (aggregated): 1,412,773\n",
      "      • PC features: 1232\n",
      "      • Batch effect reduction: 0.4230 → 0.4816\n",
      "\n",
      "   Interphase cells - DAPI_ACA_CENPT:\n",
      "      • Distinct perturbations: 5,298\n",
      "      • Median cells per perturbation: 258\n",
      "      • Total cells (pre-filter): 2,945,339\n",
      "      • Total cells (post-filter): 5,000\n",
      "      • Total cells (aggregated): 1,412,773\n",
      "      • PC features: 584\n",
      "      • Batch effect reduction: 0.4583 → 0.4536\n",
      "\n",
      "   Interphase cells - DAPI_CENPT:\n",
      "      • Distinct perturbations: 5,298\n",
      "      • Median cells per perturbation: 258\n",
      "      • Total cells (pre-filter): 2,945,339\n",
      "      • Total cells (post-filter): 5,000\n",
      "      • Total cells (aggregated): 1,412,773\n",
      "      • PC features: 429\n",
      "      • Batch effect reduction: 0.4722 → 0.5237\n",
      "\n",
      "   Interphase cells - ACA_CENPT:\n",
      "      • Distinct perturbations: 5,298\n",
      "      • Median cells per perturbation: 258\n",
      "      • Total cells (pre-filter): 2,945,339\n",
      "      • Total cells (post-filter): 5,000\n",
      "      • Total cells (aggregated): 1,412,773\n",
      "      • PC features: 418\n",
      "      • Batch effect reduction: 0.4501 → 0.4738\n",
      "\n",
      "   Interphase cells - DAPI:\n",
      "      • Distinct perturbations: 5,298\n",
      "      • Median cells per perturbation: 258\n",
      "      • Total cells (pre-filter): 2,945,339\n",
      "      • Total cells (post-filter): 5,000\n",
      "      • Total cells (aggregated): 1,412,773\n",
      "      • PC features: 259\n",
      "      • Batch effect reduction: 0.4489 → 0.6453\n",
      "\n",
      "   Interphase cells - DAPI_MITOTRACKER_WGA:\n",
      "      • Distinct perturbations: 5,298\n",
      "      • Median cells per perturbation: 259\n",
      "      • Total cells (pre-filter): 2,945,339\n",
      "      • Total cells (post-filter): 5,000\n",
      "      • Total cells (aggregated): 1,412,773\n",
      "      • PC features: 585\n",
      "      • Batch effect reduction: 0.4098 → 0.5034\n",
      "\n",
      "   Interphase cells - DAPI_VIMENTIN_PHALLOIDIN_ITGB1:\n",
      "      • Distinct perturbations: 5,298\n",
      "      • Median cells per perturbation: 258\n",
      "      • Total cells (pre-filter): 2,945,339\n",
      "      • Total cells (post-filter): 5,000\n",
      "      • Total cells (aggregated): 1,412,773\n",
      "      • PC features: 727\n",
      "      • Batch effect reduction: 0.3755 → 0.4956\n",
      "\n",
      "   Interphase cells - DAPI_VIMENTIN_ITGB1:\n",
      "      • Distinct perturbations: 5,298\n",
      "      • Median cells per perturbation: 258\n",
      "      • Total cells (pre-filter): 2,945,339\n",
      "      • Total cells (post-filter): 5,000\n",
      "      • Total cells (aggregated): 1,412,773\n",
      "      • PC features: 581\n",
      "      • Batch effect reduction: 0.4831 → 0.4980\n",
      "\n",
      "   Mitotic cells - DAPI_ACA_MITOTRACKER_VIMENTIN_CENPT_ITGB1_PHALLOIDIN_WGA:\n",
      "      • Distinct perturbations: 5,298\n",
      "      • Median cells per perturbation: 143\n",
      "      • Total cells (pre-filter): 1,673,268\n",
      "      • Total cells (post-filter): 5,000\n",
      "      • Total cells (aggregated): 784,611\n",
      "      • PC features: 1400\n",
      "      • Batch effect reduction: 0.2637 → 0.4605\n",
      "\n",
      "   Mitotic cells - DAPI_ACA_MITOTRACKER_VIMENTIN_CENPT_ITGB1_WGA:\n",
      "      • Distinct perturbations: 5,298\n",
      "      • Median cells per perturbation: 143\n",
      "      • Total cells (pre-filter): 1,673,268\n",
      "      • Total cells (post-filter): 5,000\n",
      "      • Total cells (aggregated): 784,611\n",
      "      • PC features: 1264\n",
      "      • Batch effect reduction: 0.2741 → 0.4910\n",
      "\n",
      "   Mitotic cells - DAPI_ACA_CENPT:\n",
      "      • Distinct perturbations: 5,298\n",
      "      • Median cells per perturbation: 143\n",
      "      • Total cells (pre-filter): 1,673,268\n",
      "      • Total cells (post-filter): 5,000\n",
      "      • Total cells (aggregated): 784,611\n",
      "      • PC features: 590\n",
      "      • Batch effect reduction: 0.3536 → 0.5460\n",
      "\n",
      "   Mitotic cells - DAPI_CENPT:\n",
      "      • Distinct perturbations: 5,298\n",
      "      • Median cells per perturbation: 143\n",
      "      • Total cells (pre-filter): 1,673,268\n",
      "      • Total cells (post-filter): 5,000\n",
      "      • Total cells (aggregated): 784,611\n",
      "      • PC features: 432\n",
      "      • Batch effect reduction: 0.4034 → 0.5468\n",
      "\n",
      "   Mitotic cells - ACA_CENPT:\n",
      "      • Distinct perturbations: 5,298\n",
      "      • Median cells per perturbation: 144\n",
      "      • Total cells (pre-filter): 1,673,268\n",
      "      • Total cells (post-filter): 5,000\n",
      "      • Total cells (aggregated): 784,611\n",
      "      • PC features: 425\n",
      "      • Batch effect reduction: 0.3875 → 0.4861\n",
      "\n",
      "   Mitotic cells - DAPI:\n",
      "      • Distinct perturbations: 5,298\n",
      "      • Median cells per perturbation: 144\n",
      "      • Total cells (pre-filter): 1,673,268\n",
      "      • Total cells (post-filter): 5,000\n",
      "      • Total cells (aggregated): 784,611\n",
      "      • PC features: 262\n",
      "      • Batch effect reduction: 0.3919 → 0.5342\n",
      "\n",
      "   Mitotic cells - DAPI_MITOTRACKER_WGA:\n",
      "      • Distinct perturbations: 5,298\n",
      "      • Median cells per perturbation: 143\n",
      "      • Total cells (pre-filter): 1,673,268\n",
      "      • Total cells (post-filter): 5,000\n",
      "      • Total cells (aggregated): 784,611\n",
      "      • PC features: 599\n",
      "      • Batch effect reduction: 0.3197 → 0.4013\n",
      "\n",
      "   Mitotic cells - DAPI_VIMENTIN_PHALLOIDIN_ITGB1:\n",
      "      • Distinct perturbations: 5,298\n",
      "      • Median cells per perturbation: 144\n",
      "      • Total cells (pre-filter): 1,673,268\n",
      "      • Total cells (post-filter): 5,000\n",
      "      • Total cells (aggregated): 784,611\n",
      "      • PC features: 743\n",
      "      • Batch effect reduction: 0.2707 → 0.4875\n",
      "\n",
      "   Mitotic cells - DAPI_VIMENTIN_ITGB1:\n",
      "      • Distinct perturbations: 5,298\n",
      "      • Median cells per perturbation: 144\n",
      "      • Total cells (pre-filter): 1,673,268\n",
      "      • Total cells (post-filter): 5,000\n",
      "      • Total cells (aggregated): 784,611\n",
      "      • PC features: 595\n",
      "      • Batch effect reduction: 0.2861 → 0.4799\n",
      "\n",
      "   all cells - DAPI_ACA_MITOTRACKER_VIMENTIN_CENPT_ITGB1_PHALLOIDIN_WGA:\n",
      "      • Distinct perturbations: 5,298\n",
      "      • Median cells per perturbation: 403\n",
      "      • Total cells (pre-filter): 4,618,607\n",
      "      • Total cells (post-filter): 5,000\n",
      "      • Total cells (aggregated): 2,197,385\n",
      "      • PC features: 1382\n",
      "      • Batch effect reduction: 0.3145 → 0.5232\n",
      "\n",
      "   all cells - DAPI_ACA_MITOTRACKER_VIMENTIN_CENPT_ITGB1_WGA:\n",
      "      • Distinct perturbations: 5,298\n",
      "      • Median cells per perturbation: 403\n",
      "      • Total cells (pre-filter): 4,618,607\n",
      "      • Total cells (post-filter): 5,000\n",
      "      • Total cells (aggregated): 2,197,385\n",
      "      • PC features: 1249\n",
      "      • Batch effect reduction: 0.3477 → 0.4604\n",
      "\n",
      "   all cells - DAPI_ACA_CENPT:\n",
      "      • Distinct perturbations: 5,298\n",
      "      • Median cells per perturbation: 402\n",
      "      • Total cells (pre-filter): 4,618,607\n",
      "      • Total cells (post-filter): 5,000\n",
      "      • Total cells (aggregated): 2,197,385\n",
      "      • PC features: 586\n",
      "      • Batch effect reduction: 0.3765 → 0.5414\n",
      "\n",
      "   all cells - DAPI_CENPT:\n",
      "      • Distinct perturbations: 5,298\n",
      "      • Median cells per perturbation: 403\n",
      "      • Total cells (pre-filter): 4,618,607\n",
      "      • Total cells (post-filter): 5,000\n",
      "      • Total cells (aggregated): 2,197,385\n",
      "      • PC features: 429\n",
      "      • Batch effect reduction: 0.4367 → 0.6021\n",
      "\n",
      "   all cells - ACA_CENPT:\n",
      "      • Distinct perturbations: 5,298\n",
      "      • Median cells per perturbation: 402\n",
      "      • Total cells (pre-filter): 4,618,607\n",
      "      • Total cells (post-filter): 5,000\n",
      "      • Total cells (aggregated): 2,197,385\n",
      "      • PC features: 421\n",
      "      • Batch effect reduction: 0.3530 → 0.5068\n",
      "\n",
      "   all cells - DAPI:\n",
      "      • Distinct perturbations: 5,298\n",
      "      • Median cells per perturbation: 403\n",
      "      • Total cells (pre-filter): 4,618,607\n",
      "      • Total cells (post-filter): 5,000\n",
      "      • Total cells (aggregated): 2,197,385\n",
      "      • PC features: 260\n",
      "      • Batch effect reduction: 0.3677 → 0.4430\n",
      "\n",
      "   all cells - DAPI_MITOTRACKER_WGA:\n",
      "      • Distinct perturbations: 5,298\n",
      "      • Median cells per perturbation: 403\n",
      "      • Total cells (pre-filter): 4,618,607\n",
      "      • Total cells (post-filter): 5,000\n",
      "      • Total cells (aggregated): 2,197,385\n",
      "      • PC features: 593\n",
      "      • Batch effect reduction: 0.3687 → 0.5322\n",
      "\n",
      "   all cells - DAPI_VIMENTIN_PHALLOIDIN_ITGB1:\n",
      "      • Distinct perturbations: 5,298\n",
      "      • Median cells per perturbation: 403\n",
      "      • Total cells (pre-filter): 4,618,607\n",
      "      • Total cells (post-filter): 5,000\n",
      "      • Total cells (aggregated): 2,197,385\n",
      "      • PC features: 734\n",
      "      • Batch effect reduction: 0.3422 → 0.5733\n",
      "\n",
      "   all cells - DAPI_VIMENTIN_ITGB1:\n",
      "      • Distinct perturbations: 5,298\n",
      "      • Median cells per perturbation: 403\n",
      "      • Total cells (pre-filter): 4,618,607\n",
      "      • Total cells (post-filter): 5,000\n",
      "      • Total cells (aggregated): 2,197,385\n",
      "      • PC features: 590\n",
      "      • Batch effect reduction: 0.3824 → 0.4832\n",
      "\n",
      "[6/6] Gathering clustering statistics...\n",
      "   (Analyzing enrichment results across multiple resolutions...)\n",
      "\n",
      "🌐 CLUSTERING STATISTICS:\n",
      "\n",
      "   Best resolution for each cell class/channel combination:\n",
      "\n",
      "   Interphase cells - ACA_CENPT:\n",
      "      • Best resolution: 5\n",
      "      • Number of clusters: 220\n",
      "      • Enriched clusters (real): 5.6%\n",
      "      • Enriched clusters (shuffled): 0.7%\n",
      "      • Fold enrichment: 8.41x\n",
      "      • Statistical significance: *** (p_adj = 3.458e-05)\n",
      "\n",
      "   Interphase cells - DAPI:\n",
      "      • Best resolution: 6\n",
      "      • Number of clusters: 273\n",
      "      • Enriched clusters (real): 3.9%\n",
      "      • Enriched clusters (shuffled): 0.0%\n",
      "      • Fold enrichment: 385487528.34x\n",
      "      • Statistical significance: *** (p_adj = 9.219e-07)\n",
      "\n",
      "   Interphase cells - DAPI_ACA_CENPT:\n",
      "      • Best resolution: 6\n",
      "      • Number of clusters: 251\n",
      "      • Enriched clusters (real): 5.8%\n",
      "      • Enriched clusters (shuffled): 0.0%\n",
      "      • Fold enrichment: 583871410.91x\n",
      "      • Statistical significance: *** (p_adj = 3.375e-09)\n",
      "\n",
      "   Interphase cells - DAPI_ACA_MITOTRACKER_VIMENTIN_CENPT_ITGB1_PHALLOIDIN_WGA:\n",
      "      • Best resolution: 5\n",
      "      • Number of clusters: 206\n",
      "      • Enriched clusters (real): 10.1%\n",
      "      • Enriched clusters (shuffled): 0.4%\n",
      "      • Fold enrichment: 24.74x\n",
      "      • Statistical significance: *** (p_adj = 2.046e-11)\n",
      "\n",
      "   Interphase cells - DAPI_ACA_MITOTRACKER_VIMENTIN_CENPT_ITGB1_WGA:\n",
      "      • Best resolution: 5\n",
      "      • Number of clusters: 205\n",
      "      • Enriched clusters (real): 10.9%\n",
      "      • Enriched clusters (shuffled): 0.0%\n",
      "      • Fold enrichment: 1094724900.74x\n",
      "      • Statistical significance: *** (p_adj = 1.383e-13)\n",
      "\n",
      "   Interphase cells - DAPI_CENPT:\n",
      "      • Best resolution: 5\n",
      "      • Number of clusters: 220\n",
      "      • Enriched clusters (real): 5.9%\n",
      "      • Enriched clusters (shuffled): 0.4%\n",
      "      • Fold enrichment: 14.86x\n",
      "      • Statistical significance: *** (p_adj = 3.117e-07)\n",
      "\n",
      "   Interphase cells - DAPI_MITOTRACKER_WGA:\n",
      "      • Best resolution: 5\n",
      "      • Number of clusters: 220\n",
      "      • Enriched clusters (real): 8.9%\n",
      "      • Enriched clusters (shuffled): 0.7%\n",
      "      • Fold enrichment: 13.33x\n",
      "      • Statistical significance: *** (p_adj = 4.737e-09)\n",
      "\n",
      "   Interphase cells - DAPI_VIMENTIN_ITGB1:\n",
      "      • Best resolution: 5\n",
      "      • Number of clusters: 225\n",
      "      • Enriched clusters (real): 6.8%\n",
      "      • Enriched clusters (shuffled): 0.0%\n",
      "      • Fold enrichment: 681992337.16x\n",
      "      • Statistical significance: *** (p_adj = 3.121e-09)\n",
      "\n",
      "   Interphase cells - DAPI_VIMENTIN_PHALLOIDIN_ITGB1:\n",
      "      • Best resolution: 5\n",
      "      • Number of clusters: 223\n",
      "      • Enriched clusters (real): 8.0%\n",
      "      • Enriched clusters (shuffled): 0.0%\n",
      "      • Fold enrichment: 800768737.99x\n",
      "      • Statistical significance: *** (p_adj = 4.727e-11)\n",
      "\n",
      "   Mitotic cells - ACA_CENPT:\n",
      "      • Best resolution: 5\n",
      "      • Number of clusters: 249\n",
      "      • Enriched clusters (real): 3.9%\n",
      "      • Enriched clusters (shuffled): 0.4%\n",
      "      • Fold enrichment: 9.97x\n",
      "      • Statistical significance: *** (p_adj = 3.437e-05)\n",
      "\n",
      "   Mitotic cells - DAPI:\n",
      "      • Best resolution: 5\n",
      "      • Number of clusters: 242\n",
      "      • Enriched clusters (real): 2.5%\n",
      "      • Enriched clusters (shuffled): 0.0%\n",
      "      • Fold enrichment: 254820936.64x\n",
      "      • Statistical significance: *** (p_adj = 4.553e-04)\n",
      "\n",
      "   Mitotic cells - DAPI_ACA_CENPT:\n",
      "      • Best resolution: 5\n",
      "      • Number of clusters: 231\n",
      "      • Enriched clusters (real): 3.9%\n",
      "      • Enriched clusters (shuffled): 0.4%\n",
      "      • Fold enrichment: 9.94x\n",
      "      • Statistical significance: *** (p_adj = 6.452e-05)\n",
      "\n",
      "   Mitotic cells - DAPI_ACA_MITOTRACKER_VIMENTIN_CENPT_ITGB1_PHALLOIDIN_WGA:\n",
      "      • Best resolution: 5\n",
      "      • Number of clusters: 230\n",
      "      • Enriched clusters (real): 5.4%\n",
      "      • Enriched clusters (shuffled): 0.4%\n",
      "      • Fold enrichment: 13.50x\n",
      "      • Statistical significance: *** (p_adj = 6.349e-07)\n",
      "\n",
      "   Mitotic cells - DAPI_ACA_MITOTRACKER_VIMENTIN_CENPT_ITGB1_WGA:\n",
      "      • Best resolution: 6\n",
      "      • Number of clusters: 266\n",
      "      • Enriched clusters (real): 5.7%\n",
      "      • Enriched clusters (shuffled): 0.0%\n",
      "      • Fold enrichment: 566416040.10x\n",
      "      • Statistical significance: *** (p_adj = 1.832e-09)\n",
      "\n",
      "   Mitotic cells - DAPI_CENPT:\n",
      "      • Best resolution: 5\n",
      "      • Number of clusters: 236\n",
      "      • Enriched clusters (real): 3.9%\n",
      "      • Enriched clusters (shuffled): 0.0%\n",
      "      • Fold enrichment: 386064030.13x\n",
      "      • Statistical significance: *** (p_adj = 7.005e-06)\n",
      "\n",
      "   Mitotic cells - DAPI_MITOTRACKER_WGA:\n",
      "      • Best resolution: 5\n",
      "      • Number of clusters: 235\n",
      "      • Enriched clusters (real): 4.3%\n",
      "      • Enriched clusters (shuffled): 0.4%\n",
      "      • Fold enrichment: 10.77x\n",
      "      • Statistical significance: *** (p_adj = 9.802e-05)\n",
      "\n",
      "   Mitotic cells - DAPI_VIMENTIN_ITGB1:\n",
      "      • Best resolution: 6\n",
      "      • Number of clusters: 267\n",
      "      • Enriched clusters (real): 3.0%\n",
      "      • Enriched clusters (shuffled): 0.3%\n",
      "      • Fold enrichment: 8.73x\n",
      "      • Statistical significance: *** (p_adj = 1.155e-03)\n",
      "\n",
      "   Mitotic cells - DAPI_VIMENTIN_PHALLOIDIN_ITGB1:\n",
      "      • Best resolution: 5\n",
      "      • Number of clusters: 236\n",
      "      • Enriched clusters (real): 3.9%\n",
      "      • Enriched clusters (shuffled): 0.0%\n",
      "      • Fold enrichment: 386064030.13x\n",
      "      • Statistical significance: *** (p_adj = 7.005e-06)\n",
      "\n",
      "   all cells - ACA_CENPT:\n",
      "      • Best resolution: 7\n",
      "      • Number of clusters: 289\n",
      "      • Enriched clusters (real): 7.0%\n",
      "      • Enriched clusters (shuffled): 0.3%\n",
      "      • Fold enrichment: 22.43x\n",
      "      • Statistical significance: *** (p_adj = 6.653e-11)\n",
      "\n",
      "   all cells - DAPI:\n",
      "      • Best resolution: 8\n",
      "      • Number of clusters: 328\n",
      "      • Enriched clusters (real): 4.6%\n",
      "      • Enriched clusters (shuffled): 0.6%\n",
      "      • Fold enrichment: 8.17x\n",
      "      • Statistical significance: *** (p_adj = 7.501e-07)\n",
      "\n",
      "   all cells - DAPI_ACA_CENPT:\n",
      "      • Best resolution: 5\n",
      "      • Number of clusters: 211\n",
      "      • Enriched clusters (real): 8.6%\n",
      "      • Enriched clusters (shuffled): 0.0%\n",
      "      • Fold enrichment: 862559241.71x\n",
      "      • Statistical significance: *** (p_adj = 4.371e-11)\n",
      "\n",
      "   all cells - DAPI_ACA_MITOTRACKER_VIMENTIN_CENPT_ITGB1_PHALLOIDIN_WGA:\n",
      "      • Best resolution: 5\n",
      "      • Number of clusters: 203\n",
      "      • Enriched clusters (real): 13.6%\n",
      "      • Enriched clusters (shuffled): 0.0%\n",
      "      • Fold enrichment: 1357635467.98x\n",
      "      • Statistical significance: *** (p_adj = 7.329e-16)\n",
      "\n",
      "   all cells - DAPI_ACA_MITOTRACKER_VIMENTIN_CENPT_ITGB1_WGA:\n",
      "      • Best resolution: 5\n",
      "      • Number of clusters: 206\n",
      "      • Enriched clusters (real): 12.8%\n",
      "      • Enriched clusters (shuffled): 0.0%\n",
      "      • Fold enrichment: 1283495145.63x\n",
      "      • Statistical significance: *** (p_adj = 7.411e-16)\n",
      "\n",
      "   all cells - DAPI_CENPT:\n",
      "      • Best resolution: 5\n",
      "      • Number of clusters: 215\n",
      "      • Enriched clusters (real): 6.9%\n",
      "      • Enriched clusters (shuffled): 0.0%\n",
      "      • Fold enrichment: 694466720.13x\n",
      "      • Statistical significance: *** (p_adj = 3.024e-09)\n",
      "\n",
      "   all cells - DAPI_MITOTRACKER_WGA:\n",
      "      • Best resolution: 5\n",
      "      • Number of clusters: 211\n",
      "      • Enriched clusters (real): 8.8%\n",
      "      • Enriched clusters (shuffled): 0.0%\n",
      "      • Fold enrichment: 876777251.18x\n",
      "      • Statistical significance: *** (p_adj = 2.223e-11)\n",
      "\n",
      "   all cells - DAPI_VIMENTIN_ITGB1:\n",
      "      • Best resolution: 5\n",
      "      • Number of clusters: 220\n",
      "      • Enriched clusters (real): 7.4%\n",
      "      • Enriched clusters (shuffled): 0.0%\n",
      "      • Fold enrichment: 740469208.21x\n",
      "      • Statistical significance: *** (p_adj = 7.276e-10)\n",
      "\n",
      "   all cells - DAPI_VIMENTIN_PHALLOIDIN_ITGB1:\n",
      "      • Best resolution: 5\n",
      "      • Number of clusters: 211\n",
      "      • Enriched clusters (real): 9.4%\n",
      "      • Enriched clusters (shuffled): 0.8%\n",
      "      • Fold enrichment: 11.52x\n",
      "      • Statistical significance: *** (p_adj = 7.014e-10)\n",
      "\n",
      "================================================================================\n",
      "REPORT COMPLETE\n",
      "================================================================================\n"
     ]
    }
   ],
   "source": [
    "statistics = get_all_stats(config)"
   ]
  },
  {
   "cell_type": "code",
   "execution_count": 5,
   "id": "8874ad09",
   "metadata": {},
   "outputs": [
    {
     "name": "stdout",
     "output_type": "stream",
     "text": [
      "Channel Combos: ['DAPI_ACA_MITOTRACKER_VIMENTIN_CENPT_ITGB1_PHALLOIDIN_WGA', 'DAPI_ACA_MITOTRACKER_VIMENTIN_CENPT_ITGB1_WGA', 'DAPI_ACA_CENPT', 'DAPI_CENPT', 'ACA_CENPT', 'DAPI', 'DAPI_MITOTRACKER_WGA', 'DAPI_VIMENTIN_PHALLOIDIN_ITGB1', 'DAPI_VIMENTIN_ITGB1']\n",
      "Cell classes: ['Interphase', 'Mitotic', 'all']\n",
      "Leiden resolution: [np.int64(5), np.int64(6), np.int64(7), np.int64(8), np.int64(9), np.int64(10), np.int64(11), np.int64(12), np.int64(13), np.int64(14), np.int64(15)]\n"
     ]
    }
   ],
   "source": [
    "# Load cell classes and channel combos\n",
    "cluster_combo_fp = config[\"cluster\"][\"cluster_combo_fp\"]\n",
    "cluster_combos = pd.read_csv(cluster_combo_fp, sep=\"\\t\")\n",
    "\n",
    "CHANNEL_COMBOS = list(cluster_combos[\"channel_combo\"].unique())\n",
    "print(f\"Channel Combos: {CHANNEL_COMBOS}\")\n",
    "\n",
    "CELL_CLASSES = list(cluster_combos[\"cell_class\"].unique())\n",
    "print(f\"Cell classes: {CELL_CLASSES}\")\n",
    "\n",
    "LEIDEN_RESOLUTION = list(cluster_combos[\"leiden_resolution\"].unique())\n",
    "print(f\"Leiden resolution: {LEIDEN_RESOLUTION}\")"
   ]
  },
  {
   "cell_type": "markdown",
   "id": "10960eb9",
   "metadata": {},
   "source": [
    "## <font color='red'>SET PARAMETERS</font>\n",
    "\n",
    "### Cluster Selection for Analysis\n",
    "\n",
    "Set these parameters to select the specific cluster data to analyze:\n",
    "- `CHANNEL_COMBO`: Select from available channel combinations,\n",
    "- `CELL_CLASS`: Select from available cell classes,\n",
    "- `LEIDEN_RESOLUTION`: Select from available Leiden resolutions,\n",
    "\n",
    "These parameters determine which folder of cluster data will be analyzed."
   ]
  },
  {
   "cell_type": "code",
   "execution_count": 6,
   "id": "b1b85917",
   "metadata": {},
   "outputs": [],
   "source": [
    "CHANNEL_COMBO = \"ACA_CENPT\"\n",
    "CELL_CLASS = \"all\"\n",
    "LEIDEN_RESOLUTION = 14"
   ]
  },
  {
   "cell_type": "code",
   "execution_count": 7,
   "id": "a30b7052",
   "metadata": {},
   "outputs": [
    {
     "name": "stdout",
     "output_type": "stream",
     "text": [
      "Aggregate file: brieflow_output/aggregate/tsvs/CeCl-all_ChCo-ACA_CENPT__feature_table.tsv\n",
      "Aggregate file found\n",
      "Cluster path: brieflow_output/cluster/ACA_CENPT/all/14\n",
      "Cluster directory found\n"
     ]
    }
   ],
   "source": [
    "aggregate_file = ROOT_FP / \"aggregate\" / \"tsvs\" / f\"CeCl-{CELL_CLASS}_ChCo-{CHANNEL_COMBO}__feature_table.tsv\"\n",
    "print(f\"Aggregate file: {aggregate_file}\")\n",
    "\n",
    "if not aggregate_file.exists():\n",
    "    print(f\"Aggregate file does not exist: {aggregate_file}\")\n",
    "else:\n",
    "    print(f\"Aggregate file found\")\n",
    "\n",
    "cluster_path = ROOT_FP / \"cluster\" / CHANNEL_COMBO / CELL_CLASS / str(LEIDEN_RESOLUTION)\n",
    "print(f\"Cluster path: {cluster_path}\")\n",
    "\n",
    "if not cluster_path.exists():\n",
    "    print(f\"Cluster directory does not exist: {cluster_path}\")\n",
    "else:\n",
    "    print(f\"Cluster directory found\")"
   ]
  },
  {
   "cell_type": "markdown",
   "id": "4de6202a",
   "metadata": {},
   "source": [
    "## Feature Plot Analysis\n",
    "\n",
    "This section generates visualizations to explore the phenotypic effects of gene perturbations in your screen. The plots will help you:\n",
    "\n",
    "1. **Differential Feature Analysis**: Identify genes with significant phenotypic changes vs. controls\n",
    "2. **Waterfall Plots**: Rank genes by their effect on specific features of interest\n",
    "3. **Two-Feature Plots**: Discover relationships between different phenotypic measurements\n",
    "4. **Heatmaps**: Visualize patterns across multiple features and gene sets simultaneously\n",
    "\n",
    "The interactive analysis allow you to customize each visualization for your specific biological questions."
   ]
  },
  {
   "cell_type": "code",
   "execution_count": null,
   "id": "e435563e",
   "metadata": {},
   "outputs": [],
   "source": [
    "cluster_file = cluster_path / \"phate_leiden_clustering.tsv\"\n",
    "cluster_df = pd.read_csv(cluster_file, sep=\"\\t\")\n",
    "display(cluster_df)"
   ]
  },
  {
   "cell_type": "code",
   "execution_count": null,
   "id": "c7913d05",
   "metadata": {},
   "outputs": [],
   "source": [
    "aggregate_df = pd.read_csv(aggregate_file, sep=\"\\t\")\n",
    "display(aggregate_df)"
   ]
  },
  {
   "cell_type": "markdown",
   "id": "860ce83d",
   "metadata": {},
   "source": [
    "## <font color='red'>SET PARAMETERS</font>\n",
    "\n",
    "### Cluster Selection for Visualization\n",
    "\n",
    "Set these parameters to select the specific cluster to analyze:\n",
    "- `CLUSTER_ID`: The cluster of interest to generate plots."
   ]
  },
  {
   "cell_type": "code",
   "execution_count": null,
   "id": "072e11d3",
   "metadata": {},
   "outputs": [],
   "source": [
    "CLUSTER_ID = None"
   ]
  },
  {
   "cell_type": "code",
   "execution_count": null,
   "id": "98d28ab8",
   "metadata": {},
   "outputs": [],
   "source": [
    "print(f\"\\n{'='*50}\")\n",
    "print(f\"Analyzing Cluster {CLUSTER_ID}\")\n",
    "cluster_genes = cluster_df[cluster_df['cluster'] == CLUSTER_ID][config[\"aggregate\"][\"perturbation_name_col\"]]\n",
    "print(f\"Genes in Cluster {CLUSTER_ID}:\" ,\", \".join(cluster_genes.unique()))\n",
    "print(f\"{'='*50}\")\n",
    "\n",
    "# Run differential analysis using robust z-score\n",
    "diff_results = differential_analysis(\n",
    "    feature_df=aggregate_df,  \n",
    "    cluster_df=cluster_df,    \n",
    "    cluster_id=CLUSTER_ID,\n",
    "    control_type=\"nontargeting\",  \n",
    "    control_label=config[\"aggregate\"][\"control_key\"],\n",
    "    use_nonparametric=True,  \n",
    "    normalize_method=\"robust_zscore\"\n",
    ")\n",
    "\n",
    "# Display results in a more user-friendly format\n",
    "print(\"\\nTop Upregulated Features:\")\n",
    "up_df = diff_results['top_up'][['feature', 'robust_zscore', 'p_value', 'median_test', 'median_control']]\n",
    "up_df = up_df.rename(columns={\n",
    "    'robust_zscore': 'Z-score',\n",
    "    'p_value': 'p-value',\n",
    "    'median_test': 'Median (test)',\n",
    "    'median_control': 'Median (control)'\n",
    "})\n",
    "display(up_df.style.format({\n",
    "    'Z-score': '{:.2f}',\n",
    "    'p-value': '{:.2e}',\n",
    "    'Median (test)': '{:.3f}',\n",
    "    'Median (control)': '{:.3f}'\n",
    "}))\n",
    "\n",
    "print(\"\\nTop Downregulated Features:\")\n",
    "down_df = diff_results['top_down'][['feature', 'robust_zscore', 'p_value', 'median_test', 'median_control']]\n",
    "down_df = down_df.rename(columns={\n",
    "    'robust_zscore': 'Z-score',\n",
    "    'p_value': 'p-value',\n",
    "    'median_test': 'Median (test)',\n",
    "    'median_control': 'Median (control)'\n",
    "})\n",
    "display(down_df.style.format({\n",
    "    'Z-score': '{:.2f}',\n",
    "    'p-value': '{:.2e}',\n",
    "    'Median (test)': '{:.3f}',\n",
    "    'Median (control)': '{:.3f}'\n",
    "}))"
   ]
  },
  {
   "cell_type": "markdown",
   "id": "d9feb141",
   "metadata": {},
   "source": [
    "## <font color='red'>SET PARAMETERS</font>\n",
    "\n",
    "### Feature Selection for Visualization\n",
    "\n",
    "Set these parameters to select the specific cluster to analyze:\n",
    "- `FEATURES_TO_ANALYZE`: The features found in the differential analysis to generate plots for.\n",
    "- `GENES_TO_LABEL`: The genes within the cluster to label on the plots."
   ]
  },
  {
   "cell_type": "code",
   "execution_count": null,
   "id": "e6d2cbf3",
   "metadata": {},
   "outputs": [],
   "source": [
    "FEATURES_TO_ANALYZE = None\n",
    "GENES_TO_LABEL = None"
   ]
  },
  {
   "cell_type": "code",
   "execution_count": null,
   "id": "f3e21d31",
   "metadata": {},
   "outputs": [],
   "source": [
    "# Create waterfall plots for selected features\n",
    "print(\"\\n--- Waterfall Plots for Selected Features ---\")\n",
    "for feature in FEATURES_TO_ANALYZE:\n",
    "    print(f\"\\nPlotting: {feature}\")\n",
    "    waterfall_plot(\n",
    "        feature_df=aggregate_df, \n",
    "        feature=feature,\n",
    "        cluster_df=cluster_df,\n",
    "        cluster_id=CLUSTER_ID,\n",
    "        nontargeting_pattern=config[\"aggregate\"][\"control_key\"],\n",
    "        title=f\"Cluster {CLUSTER_ID}: {feature}\",\n",
    "        label_genes=GENES_TO_LABEL\n",
    "    )\n",
    "\n",
    "# Create two-feature plots for combinations\n",
    "print(\"\\n--- Two-Feature Plots ---\")\n",
    "# Generate all unique pairs of features\n",
    "feature_pairs = [(FEATURES_TO_ANALYZE[i], FEATURES_TO_ANALYZE[j]) \n",
    "                 for i in range(len(FEATURES_TO_ANALYZE)) \n",
    "                 for j in range(i+1, len(FEATURES_TO_ANALYZE))]\n",
    "\n",
    "for feature1, feature2 in feature_pairs:\n",
    "    print(f\"\\nPlotting: {feature1} vs {feature2}\")\n",
    "    two_feature_plot(\n",
    "        feature_df=aggregate_df,\n",
    "        x=feature1,\n",
    "        y=feature2,\n",
    "        cluster_df=cluster_df,\n",
    "        cluster_id=CLUSTER_ID,\n",
    "        nontargeting_pattern=config[\"aggregate\"][\"control_key\"],\n",
    "        title=f\"Cluster {CLUSTER_ID}: {feature1} vs {feature2}\",\n",
    "        label_genes=GENES_TO_LABEL\n",
    "    )\n",
    "\n",
    "# Create heatmap with all differential features\n",
    "print(\"\\n--- Heatmap of Differential Features ---\")\n",
    "# Get top features from differential analysis\n",
    "top_up = diff_results['top_up']['feature'].tolist() if not diff_results['top_up'].empty else []\n",
    "top_down = diff_results['top_down']['feature'].tolist() if not diff_results['top_down'].empty else []\n",
    "diff_features = top_up + top_down\n",
    "\n",
    "fig, ax, heatmap_data = cluster_heatmap(\n",
    "    feature_df=aggregate_df,\n",
    "    cluster_df=cluster_df,\n",
    "    cluster_ids=[CLUSTER_ID],\n",
    "    features=diff_features,\n",
    "    perturbation_name_col=config[\"aggregate\"][\"perturbation_name_col\"],\n",
    "    z_score=\"global\",\n",
    "    title=f\"Cluster {CLUSTER_ID}: Top Differential Features\",\n",
    ")\n",
    "\n",
    "# PHATE plot for the cluster\n",
    "print(\"\\n--- PHATE Plot for Cluster ---\")\n",
    "phate_fig = plot_phate_leiden_clusters(\n",
    "    phate_leiden_clustering=cluster_df,\n",
    "    perturbation_name_col=config[\"aggregate\"][\"perturbation_name_col\"],\n",
    "    control_key=config[\"aggregate\"][\"control_key\"],\n",
    "    clusters_of_interest=[CLUSTER_ID],\n",
    ")"
   ]
  },
  {
   "cell_type": "markdown",
   "id": "d5cd7f43",
   "metadata": {},
   "source": [
    "## Mozzarellm: LLM-based Gene Cluster Analysis\n",
    "\n",
    "### Overview\n",
    "[Mozzarellm](https://github.com/cheeseman-lab/mozzarellm) is a Python package that leverages Large Language Models (LLMs) to analyze gene clusters for pathway identification and novel gene discovery. This notebook guides you through the process of:\n",
    "\n",
    "1. **Loading and reshaping gene cluster data** from your OPS screen\n",
    "2. **Analyzing gene clusters with LLMs** to identify biological pathways\n",
    "3. **Categorizing genes** as established pathway members, uncharacterized, or having novel potential roles\n",
    "4. **Prioritizing candidates** for experimental validation\n",
    "\n",
    "### Prerequisites\n",
    "\n",
    "You need to install the mozzarellm package in your Brieflow environment:\n",
    "\n",
    "```bash\n",
    "pip install git+https://github.com/cheeseman-lab/mozzarellm.git\n",
    "```\n",
    "\n",
    "Mozzarellm requires API keys to access LLM services. You need at least one of these keys:\n",
    "\n",
    "- **OpenAI API Key**: Required for GPT models (gpt-4o, gpt-4.5, etc.)\n",
    "- **Anthropic API Key**: Required for Claude models (claude-3-7-sonnet, etc.)\n",
    "- **Google API Key**: Required for Gemini models (gemini-2.0-pro, etc.)\n",
    "\n",
    "These keys provide access to paid API services, and usage will incur costs based on the number of tokens processed. The cost per analysis varies by model but typically ranges from $0.01-$0.10 per cluster, depending on cluster size and model choice. For this reason, we only run these analyses on a specific chosen Leiden resolution, rather than across all of the generated possible resolutions."
   ]
  },
  {
   "cell_type": "code",
   "execution_count": 10,
   "id": "141a94a9",
   "metadata": {},
   "outputs": [],
   "source": [
    "import os\n",
    "from mozzarellm import analyze_gene_clusters, reshape_to_clusters"
   ]
  },
  {
   "cell_type": "code",
   "execution_count": null,
   "id": "ae2f82a1",
   "metadata": {},
   "outputs": [],
   "source": [
    "# Set API keys\n",
    "os.environ[\"OPENAI_API_KEY\"] = \"your_openai_key_here\"\n",
    "os.environ[\"ANTHROPIC_API_KEY\"] = \"your_anthropic_key_here\"  \n",
    "os.environ[\"GOOGLE_API_KEY\"] = \"your_google_key_here\""
   ]
  },
  {
   "cell_type": "code",
   "execution_count": 12,
   "id": "92aaf0a6",
   "metadata": {},
   "outputs": [
    {
     "name": "stdout",
     "output_type": "stream",
     "text": [
      "Results will be saved to: brieflow_output/cluster/ACA_CENPT/all/14/mozzarellm_analysis\n"
     ]
    }
   ],
   "source": [
    "RESULTS_DIR = cluster_path / \"mozzarellm_analysis\"\n",
    "RESULTS_DIR.mkdir(parents=True, exist_ok=True)\n",
    "print(f\"Results will be saved to: {RESULTS_DIR}\")"
   ]
  },
  {
   "cell_type": "code",
   "execution_count": 13,
   "id": "2d530e15",
   "metadata": {},
   "outputs": [
    {
     "data": {
      "text/html": [
       "<div>\n",
       "<style scoped>\n",
       "    .dataframe tbody tr th:only-of-type {\n",
       "        vertical-align: middle;\n",
       "    }\n",
       "\n",
       "    .dataframe tbody tr th {\n",
       "        vertical-align: top;\n",
       "    }\n",
       "\n",
       "    .dataframe thead th {\n",
       "        text-align: right;\n",
       "    }\n",
       "</style>\n",
       "<table border=\"1\" class=\"dataframe\">\n",
       "  <thead>\n",
       "    <tr style=\"text-align: right;\">\n",
       "      <th></th>\n",
       "      <th>gene_symbol_0</th>\n",
       "      <th>cell_count</th>\n",
       "      <th>PHATE_0</th>\n",
       "      <th>PHATE_1</th>\n",
       "      <th>cluster</th>\n",
       "      <th>uniprot_entry</th>\n",
       "      <th>uniprot_function</th>\n",
       "      <th>uniprot_link</th>\n",
       "      <th>mean_potential_to_nontargeting</th>\n",
       "      <th>normalized_potential_to_nontargeting</th>\n",
       "    </tr>\n",
       "  </thead>\n",
       "  <tbody>\n",
       "    <tr>\n",
       "      <th>0</th>\n",
       "      <td>RPL34</td>\n",
       "      <td>162</td>\n",
       "      <td>-0.103713</td>\n",
       "      <td>-0.022562</td>\n",
       "      <td>0</td>\n",
       "      <td>P49207</td>\n",
       "      <td>Component of the large ribosomal subunit (PubM...</td>\n",
       "      <td>https://www.uniprot.org/uniprotkb/P49207/entry</td>\n",
       "      <td>6.318851</td>\n",
       "      <td>0.814492</td>\n",
       "    </tr>\n",
       "    <tr>\n",
       "      <th>1</th>\n",
       "      <td>RPL5</td>\n",
       "      <td>325</td>\n",
       "      <td>-0.121327</td>\n",
       "      <td>-0.029349</td>\n",
       "      <td>0</td>\n",
       "      <td>P46777</td>\n",
       "      <td>Component of the ribosome, a large ribonucleop...</td>\n",
       "      <td>https://www.uniprot.org/uniprotkb/P46777/entry</td>\n",
       "      <td>7.415016</td>\n",
       "      <td>0.963383</td>\n",
       "    </tr>\n",
       "    <tr>\n",
       "      <th>2</th>\n",
       "      <td>RPL8</td>\n",
       "      <td>166</td>\n",
       "      <td>-0.102111</td>\n",
       "      <td>-0.023354</td>\n",
       "      <td>0</td>\n",
       "      <td>P62917</td>\n",
       "      <td>Component of the large ribosomal subunit. The ...</td>\n",
       "      <td>https://www.uniprot.org/uniprotkb/P62917/entry</td>\n",
       "      <td>6.229079</td>\n",
       "      <td>0.802299</td>\n",
       "    </tr>\n",
       "    <tr>\n",
       "      <th>3</th>\n",
       "      <td>DDX27</td>\n",
       "      <td>319</td>\n",
       "      <td>-0.103186</td>\n",
       "      <td>-0.023049</td>\n",
       "      <td>0</td>\n",
       "      <td>Q96GQ7</td>\n",
       "      <td>Probable ATP-dependent RNA helicase. Component...</td>\n",
       "      <td>https://www.uniprot.org/uniprotkb/Q96GQ7/entry</td>\n",
       "      <td>6.303440</td>\n",
       "      <td>0.812399</td>\n",
       "    </tr>\n",
       "    <tr>\n",
       "      <th>4</th>\n",
       "      <td>MAK16</td>\n",
       "      <td>611</td>\n",
       "      <td>-0.091161</td>\n",
       "      <td>-0.017100</td>\n",
       "      <td>0</td>\n",
       "      <td>Q9BXY0</td>\n",
       "      <td>NaN</td>\n",
       "      <td>https://www.uniprot.org/uniprotkb/Q9BXY0/entry</td>\n",
       "      <td>5.516524</td>\n",
       "      <td>0.705513</td>\n",
       "    </tr>\n",
       "    <tr>\n",
       "      <th>...</th>\n",
       "      <td>...</td>\n",
       "      <td>...</td>\n",
       "      <td>...</td>\n",
       "      <td>...</td>\n",
       "      <td>...</td>\n",
       "      <td>...</td>\n",
       "      <td>...</td>\n",
       "      <td>...</td>\n",
       "      <td>...</td>\n",
       "      <td>...</td>\n",
       "    </tr>\n",
       "    <tr>\n",
       "      <th>5293</th>\n",
       "      <td>EMC1</td>\n",
       "      <td>783</td>\n",
       "      <td>0.000069</td>\n",
       "      <td>-0.001782</td>\n",
       "      <td>485</td>\n",
       "      <td>Q8N766</td>\n",
       "      <td>Part of the endoplasmic reticulum membrane pro...</td>\n",
       "      <td>https://www.uniprot.org/uniprotkb/Q8N766/entry</td>\n",
       "      <td>0.477448</td>\n",
       "      <td>0.021061</td>\n",
       "    </tr>\n",
       "    <tr>\n",
       "      <th>5294</th>\n",
       "      <td>MTPAP</td>\n",
       "      <td>330</td>\n",
       "      <td>0.008110</td>\n",
       "      <td>-0.000448</td>\n",
       "      <td>485</td>\n",
       "      <td>Q9NVV4</td>\n",
       "      <td>Polymerase that creates the 3' poly(A) tail of...</td>\n",
       "      <td>https://www.uniprot.org/uniprotkb/Q9NVV4/entry</td>\n",
       "      <td>0.520986</td>\n",
       "      <td>0.026975</td>\n",
       "    </tr>\n",
       "    <tr>\n",
       "      <th>5295</th>\n",
       "      <td>OR1E2</td>\n",
       "      <td>424</td>\n",
       "      <td>0.005374</td>\n",
       "      <td>0.000915</td>\n",
       "      <td>485</td>\n",
       "      <td>P47887</td>\n",
       "      <td>Odorant receptor. {ECO:0000305}.</td>\n",
       "      <td>https://www.uniprot.org/uniprotkb/P47887/entry</td>\n",
       "      <td>0.401281</td>\n",
       "      <td>0.010715</td>\n",
       "    </tr>\n",
       "    <tr>\n",
       "      <th>5296</th>\n",
       "      <td>TTC37</td>\n",
       "      <td>572</td>\n",
       "      <td>0.008340</td>\n",
       "      <td>-0.002477</td>\n",
       "      <td>485</td>\n",
       "      <td>Q6PGP7</td>\n",
       "      <td>Component of the SKI complex, a multiprotein c...</td>\n",
       "      <td>https://www.uniprot.org/uniprotkb/Q6PGP7/entry</td>\n",
       "      <td>0.577484</td>\n",
       "      <td>0.034649</td>\n",
       "    </tr>\n",
       "    <tr>\n",
       "      <th>5297</th>\n",
       "      <td>CBFA2T3</td>\n",
       "      <td>517</td>\n",
       "      <td>0.007540</td>\n",
       "      <td>-0.003149</td>\n",
       "      <td>485</td>\n",
       "      <td>O75081</td>\n",
       "      <td>Transcriptional corepressor which facilitates ...</td>\n",
       "      <td>https://www.uniprot.org/uniprotkb/O75081/entry</td>\n",
       "      <td>0.570069</td>\n",
       "      <td>0.033641</td>\n",
       "    </tr>\n",
       "  </tbody>\n",
       "</table>\n",
       "<p>5298 rows × 10 columns</p>\n",
       "</div>"
      ],
      "text/plain": [
       "     gene_symbol_0  cell_count   PHATE_0   PHATE_1  cluster uniprot_entry  \\\n",
       "0            RPL34         162 -0.103713 -0.022562        0        P49207   \n",
       "1             RPL5         325 -0.121327 -0.029349        0        P46777   \n",
       "2             RPL8         166 -0.102111 -0.023354        0        P62917   \n",
       "3            DDX27         319 -0.103186 -0.023049        0        Q96GQ7   \n",
       "4            MAK16         611 -0.091161 -0.017100        0        Q9BXY0   \n",
       "...            ...         ...       ...       ...      ...           ...   \n",
       "5293          EMC1         783  0.000069 -0.001782      485        Q8N766   \n",
       "5294         MTPAP         330  0.008110 -0.000448      485        Q9NVV4   \n",
       "5295         OR1E2         424  0.005374  0.000915      485        P47887   \n",
       "5296         TTC37         572  0.008340 -0.002477      485        Q6PGP7   \n",
       "5297       CBFA2T3         517  0.007540 -0.003149      485        O75081   \n",
       "\n",
       "                                       uniprot_function  \\\n",
       "0     Component of the large ribosomal subunit (PubM...   \n",
       "1     Component of the ribosome, a large ribonucleop...   \n",
       "2     Component of the large ribosomal subunit. The ...   \n",
       "3     Probable ATP-dependent RNA helicase. Component...   \n",
       "4                                                   NaN   \n",
       "...                                                 ...   \n",
       "5293  Part of the endoplasmic reticulum membrane pro...   \n",
       "5294  Polymerase that creates the 3' poly(A) tail of...   \n",
       "5295                   Odorant receptor. {ECO:0000305}.   \n",
       "5296  Component of the SKI complex, a multiprotein c...   \n",
       "5297  Transcriptional corepressor which facilitates ...   \n",
       "\n",
       "                                        uniprot_link  \\\n",
       "0     https://www.uniprot.org/uniprotkb/P49207/entry   \n",
       "1     https://www.uniprot.org/uniprotkb/P46777/entry   \n",
       "2     https://www.uniprot.org/uniprotkb/P62917/entry   \n",
       "3     https://www.uniprot.org/uniprotkb/Q96GQ7/entry   \n",
       "4     https://www.uniprot.org/uniprotkb/Q9BXY0/entry   \n",
       "...                                              ...   \n",
       "5293  https://www.uniprot.org/uniprotkb/Q8N766/entry   \n",
       "5294  https://www.uniprot.org/uniprotkb/Q9NVV4/entry   \n",
       "5295  https://www.uniprot.org/uniprotkb/P47887/entry   \n",
       "5296  https://www.uniprot.org/uniprotkb/Q6PGP7/entry   \n",
       "5297  https://www.uniprot.org/uniprotkb/O75081/entry   \n",
       "\n",
       "      mean_potential_to_nontargeting  normalized_potential_to_nontargeting  \n",
       "0                           6.318851                              0.814492  \n",
       "1                           7.415016                              0.963383  \n",
       "2                           6.229079                              0.802299  \n",
       "3                           6.303440                              0.812399  \n",
       "4                           5.516524                              0.705513  \n",
       "...                              ...                                   ...  \n",
       "5293                        0.477448                              0.021061  \n",
       "5294                        0.520986                              0.026975  \n",
       "5295                        0.401281                              0.010715  \n",
       "5296                        0.577484                              0.034649  \n",
       "5297                        0.570069                              0.033641  \n",
       "\n",
       "[5298 rows x 10 columns]"
      ]
     },
     "metadata": {},
     "output_type": "display_data"
    }
   ],
   "source": [
    "cluster_file = cluster_path / \"phate_leiden_clustering.tsv\"\n",
    "cluster_df = pd.read_csv(cluster_file, sep=\"\\t\")\n",
    "display(cluster_df)"
   ]
  },
  {
   "cell_type": "markdown",
   "id": "b6dd6cc8",
   "metadata": {},
   "source": [
    "## <font color='red'>SET PARAMETERS</font>: \n",
    "\n",
    "### Data Reshaping\n",
    "\n",
    "Configure gene clustering parameters:\n",
    "- `GENE_COL`: Column containing gene identifiers\n",
    "- `CLUSTER_COL`: Column containing cluster assignments\n",
    "- `UNIPROT_COL`: Column with UniProt annotations\n",
    "\n",
    "These parameters control how gene-level data is converted to cluster-level data. These are set to default values that will be established in upstream notebooks/snakemakes, and usually don't need to be manipulated."
   ]
  },
  {
   "cell_type": "code",
   "execution_count": 14,
   "id": "8e791d22",
   "metadata": {},
   "outputs": [],
   "source": [
    "GENE_COL = config[\"aggregate\"][\"perturbation_name_col\"]\n",
    "CLUSTER_COL = \"cluster\"\n",
    "UNIPROT_COL = \"uniprot_function\""
   ]
  },
  {
   "cell_type": "code",
   "execution_count": 15,
   "id": "0fb75890",
   "metadata": {},
   "outputs": [
    {
     "name": "stdout",
     "output_type": "stream",
     "text": [
      "Using provided DataFrame with 5298 rows\n",
      "Found 5298 genes across 486 clusters\n",
      "Extracting gene features from uniprot_function column\n"
     ]
    },
    {
     "data": {
      "text/html": [
       "<div>\n",
       "<style scoped>\n",
       "    .dataframe tbody tr th:only-of-type {\n",
       "        vertical-align: middle;\n",
       "    }\n",
       "\n",
       "    .dataframe tbody tr th {\n",
       "        vertical-align: top;\n",
       "    }\n",
       "\n",
       "    .dataframe thead th {\n",
       "        text-align: right;\n",
       "    }\n",
       "</style>\n",
       "<table border=\"1\" class=\"dataframe\">\n",
       "  <thead>\n",
       "    <tr style=\"text-align: right;\">\n",
       "      <th></th>\n",
       "      <th>cluster_id</th>\n",
       "      <th>genes</th>\n",
       "    </tr>\n",
       "  </thead>\n",
       "  <tbody>\n",
       "    <tr>\n",
       "      <th>0</th>\n",
       "      <td>0</td>\n",
       "      <td>RPL34;RPL5;RPL8;DDX27;MAK16;RPL35;AAMP;POLR3E;...</td>\n",
       "    </tr>\n",
       "    <tr>\n",
       "      <th>1</th>\n",
       "      <td>1</td>\n",
       "      <td>RPS17;RPS21;ZNHIT6;NOP56;RPS27A;UTP18;NOP58;NO...</td>\n",
       "    </tr>\n",
       "    <tr>\n",
       "      <th>2</th>\n",
       "      <td>2</td>\n",
       "      <td>LSM6;SNRPD1;SNRPB;SNIP1;PUF60;ARID3C;TUT1;U2AF...</td>\n",
       "    </tr>\n",
       "    <tr>\n",
       "      <th>3</th>\n",
       "      <td>3</td>\n",
       "      <td>H3C14;PAXBP1;RPA1;PCNA;MMS22L;TICRR;CDC45;ATAD...</td>\n",
       "    </tr>\n",
       "    <tr>\n",
       "      <th>4</th>\n",
       "      <td>4</td>\n",
       "      <td>CRNKL1;SF3B4;AQR;DDX41;SF3A2;SPATA31A7;SLU7;IL...</td>\n",
       "    </tr>\n",
       "    <tr>\n",
       "      <th>...</th>\n",
       "      <td>...</td>\n",
       "      <td>...</td>\n",
       "    </tr>\n",
       "    <tr>\n",
       "      <th>481</th>\n",
       "      <td>481</td>\n",
       "      <td>WDR7;WDR83OS;FAF2;DIS3;SLC22A25;RPL36AL</td>\n",
       "    </tr>\n",
       "    <tr>\n",
       "      <th>482</th>\n",
       "      <td>482</td>\n",
       "      <td>NYAP1;USP5;TRIM47;DPPA3;PIGH;NDUFA2</td>\n",
       "    </tr>\n",
       "    <tr>\n",
       "      <th>483</th>\n",
       "      <td>483</td>\n",
       "      <td>YRDC;TMEM209;KCND3;ERCC4;CPEB2;TSSK2</td>\n",
       "    </tr>\n",
       "    <tr>\n",
       "      <th>484</th>\n",
       "      <td>484</td>\n",
       "      <td>nontargeting_ACCCTATCCAA;FOXN4;ZBTB45;MRPL40;H...</td>\n",
       "    </tr>\n",
       "    <tr>\n",
       "      <th>485</th>\n",
       "      <td>485</td>\n",
       "      <td>EMC1;MTPAP;OR1E2;TTC37;CBFA2T3</td>\n",
       "    </tr>\n",
       "  </tbody>\n",
       "</table>\n",
       "<p>486 rows × 2 columns</p>\n",
       "</div>"
      ],
      "text/plain": [
       "     cluster_id                                              genes\n",
       "0             0  RPL34;RPL5;RPL8;DDX27;MAK16;RPL35;AAMP;POLR3E;...\n",
       "1             1  RPS17;RPS21;ZNHIT6;NOP56;RPS27A;UTP18;NOP58;NO...\n",
       "2             2  LSM6;SNRPD1;SNRPB;SNIP1;PUF60;ARID3C;TUT1;U2AF...\n",
       "3             3  H3C14;PAXBP1;RPA1;PCNA;MMS22L;TICRR;CDC45;ATAD...\n",
       "4             4  CRNKL1;SF3B4;AQR;DDX41;SF3A2;SPATA31A7;SLU7;IL...\n",
       "..          ...                                                ...\n",
       "481         481            WDR7;WDR83OS;FAF2;DIS3;SLC22A25;RPL36AL\n",
       "482         482                NYAP1;USP5;TRIM47;DPPA3;PIGH;NDUFA2\n",
       "483         483               YRDC;TMEM209;KCND3;ERCC4;CPEB2;TSSK2\n",
       "484         484  nontargeting_ACCCTATCCAA;FOXN4;ZBTB45;MRPL40;H...\n",
       "485         485                     EMC1;MTPAP;OR1E2;TTC37;CBFA2T3\n",
       "\n",
       "[486 rows x 2 columns]"
      ]
     },
     "metadata": {},
     "output_type": "display_data"
    },
    {
     "data": {
      "text/html": [
       "<div>\n",
       "<style scoped>\n",
       "    .dataframe tbody tr th:only-of-type {\n",
       "        vertical-align: middle;\n",
       "    }\n",
       "\n",
       "    .dataframe tbody tr th {\n",
       "        vertical-align: top;\n",
       "    }\n",
       "\n",
       "    .dataframe thead th {\n",
       "        text-align: right;\n",
       "    }\n",
       "</style>\n",
       "<table border=\"1\" class=\"dataframe\">\n",
       "  <thead>\n",
       "    <tr style=\"text-align: right;\">\n",
       "      <th></th>\n",
       "      <th>gene_symbol_0</th>\n",
       "      <th>uniprot_function</th>\n",
       "    </tr>\n",
       "  </thead>\n",
       "  <tbody>\n",
       "    <tr>\n",
       "      <th>0</th>\n",
       "      <td>RPL34</td>\n",
       "      <td>Component of the large ribosomal subunit (PubM...</td>\n",
       "    </tr>\n",
       "    <tr>\n",
       "      <th>1</th>\n",
       "      <td>RPL5</td>\n",
       "      <td>Component of the ribosome, a large ribonucleop...</td>\n",
       "    </tr>\n",
       "    <tr>\n",
       "      <th>2</th>\n",
       "      <td>RPL8</td>\n",
       "      <td>Component of the large ribosomal subunit. The ...</td>\n",
       "    </tr>\n",
       "    <tr>\n",
       "      <th>3</th>\n",
       "      <td>DDX27</td>\n",
       "      <td>Probable ATP-dependent RNA helicase. Component...</td>\n",
       "    </tr>\n",
       "    <tr>\n",
       "      <th>4</th>\n",
       "      <td>MAK16</td>\n",
       "      <td></td>\n",
       "    </tr>\n",
       "    <tr>\n",
       "      <th>...</th>\n",
       "      <td>...</td>\n",
       "      <td>...</td>\n",
       "    </tr>\n",
       "    <tr>\n",
       "      <th>5293</th>\n",
       "      <td>EMC1</td>\n",
       "      <td>Part of the endoplasmic reticulum membrane pro...</td>\n",
       "    </tr>\n",
       "    <tr>\n",
       "      <th>5294</th>\n",
       "      <td>MTPAP</td>\n",
       "      <td>Polymerase that creates the 3' poly(A) tail of...</td>\n",
       "    </tr>\n",
       "    <tr>\n",
       "      <th>5295</th>\n",
       "      <td>OR1E2</td>\n",
       "      <td>Odorant receptor. {ECO:0000305}.</td>\n",
       "    </tr>\n",
       "    <tr>\n",
       "      <th>5296</th>\n",
       "      <td>TTC37</td>\n",
       "      <td>Component of the SKI complex, a multiprotein c...</td>\n",
       "    </tr>\n",
       "    <tr>\n",
       "      <th>5297</th>\n",
       "      <td>CBFA2T3</td>\n",
       "      <td>Transcriptional corepressor which facilitates ...</td>\n",
       "    </tr>\n",
       "  </tbody>\n",
       "</table>\n",
       "<p>5298 rows × 2 columns</p>\n",
       "</div>"
      ],
      "text/plain": [
       "     gene_symbol_0                                   uniprot_function\n",
       "0            RPL34  Component of the large ribosomal subunit (PubM...\n",
       "1             RPL5  Component of the ribosome, a large ribonucleop...\n",
       "2             RPL8  Component of the large ribosomal subunit. The ...\n",
       "3            DDX27  Probable ATP-dependent RNA helicase. Component...\n",
       "4            MAK16                                                   \n",
       "...            ...                                                ...\n",
       "5293          EMC1  Part of the endoplasmic reticulum membrane pro...\n",
       "5294         MTPAP  Polymerase that creates the 3' poly(A) tail of...\n",
       "5295         OR1E2                   Odorant receptor. {ECO:0000305}.\n",
       "5296         TTC37  Component of the SKI complex, a multiprotein c...\n",
       "5297       CBFA2T3  Transcriptional corepressor which facilitates ...\n",
       "\n",
       "[5298 rows x 2 columns]"
      ]
     },
     "metadata": {},
     "output_type": "display_data"
    }
   ],
   "source": [
    "llm_cluster_df, llm_uniprot_df = reshape_to_clusters(\n",
    "    input_df=cluster_df, \n",
    "    gene_col=GENE_COL,\n",
    "    cluster_col=CLUSTER_COL,\n",
    "    uniprot_col=UNIPROT_COL, \n",
    "    verbose=True\n",
    ")\n",
    "display(llm_cluster_df)\n",
    "display(llm_uniprot_df)"
   ]
  },
  {
   "cell_type": "markdown",
   "id": "251d1dc1",
   "metadata": {},
   "source": [
    "## <font color='red'>SET PARAMETERS</font>: \n",
    "### LLM Analysis Configuration\n",
    "\n",
    "- `MODEL_NAME`: LLM to use for analysis. Usable models include:\n",
    "  - OpenAI: `o4-mini`, `o3-mini`, `gpt-4.1`, `gpt-4o`\n",
    "  - Anthropic: `claude-3-7-sonnet-20250219`, `claude-3-5-haiku-20241022`\n",
    "  - Google: `gemini-2.5-pro-preview-03-25`, `gemini-2.5-flash-preview-04-17`\n",
    "- `CONFIG_DICT`: Configuration file for the LLM model\n",
    "- `SCREEN_CONTEXT`: Context for the analysis and how to evaluate _clusters_\n",
    "- `CLUSTER_ANALYSIS_PROMPT`: Context for the analysis and how to evaluate _genes within clusters_\n",
    "\n",
    "Mozzarellm includes optimized [configurations](https://github.com/cheeseman-lab/mozzarellm/blob/main/mozzarellm/configs.py) and [prompts](https://github.com/cheeseman-lab/mozzarellm/blob/main/mozzarellm/prompts.py) you can import as shown below.\n",
    "\n",
    "Custom text files can also be used by setting `screen_context_path` and `cluster_analysis_prompt_path` parameters."
   ]
  },
  {
   "cell_type": "code",
   "execution_count": 16,
   "id": "41d5d042",
   "metadata": {},
   "outputs": [],
   "source": [
    "from mozzarellm.prompts import ROBUST_SCREEN_CONTEXT, ROBUST_CLUSTER_PROMPT\n",
    "from mozzarellm.configs import DEFAULT_ANTHROPIC_CONFIG"
   ]
  },
  {
   "cell_type": "code",
   "execution_count": null,
   "id": "04d6e55e",
   "metadata": {},
   "outputs": [],
   "source": [
    "# Set up model configs\n",
    "MODEL_NAME = \"claude-3-7-sonnet-20250219\"\n",
    "CONFIG_DICT = DEFAULT_ANTHROPIC_CONFIG\n",
    "SCREEN_CONTEXT = ROBUST_SCREEN_CONTEXT\n",
    "CLUSTER_ANALYSIS_PROMPT = ROBUST_CLUSTER_PROMPT"
   ]
  },
  {
   "cell_type": "code",
   "execution_count": 19,
   "id": "0593c652",
   "metadata": {},
   "outputs": [
    {
     "name": "stdout",
     "output_type": "stream",
     "text": [
      "Loaded data with 486 rows and columns: ['cluster_id', 'genes']\n",
      "Created annotations dictionary with 5298 entries from DataFrame\n"
     ]
    },
    {
     "name": "stderr",
     "output_type": "stream",
     "text": [
      "Processing clusters:   0%|          | 0/486 [00:00<?, ?it/s]"
     ]
    },
    {
     "name": "stdout",
     "output_type": "stream",
     "text": [
      "Using provided template string\n",
      "Appending output format instructions to template\n",
      "Added 79 gene feature descriptions to prompt\n"
     ]
    },
    {
     "name": "stderr",
     "output_type": "stream",
     "text": [
      "Processing clusters:   0%|          | 1/486 [00:30<4:10:01, 30.93s/it]"
     ]
    },
    {
     "name": "stdout",
     "output_type": "stream",
     "text": [
      "Using provided template string\n",
      "Appending output format instructions to template\n",
      "Added 71 gene feature descriptions to prompt\n"
     ]
    },
    {
     "name": "stderr",
     "output_type": "stream",
     "text": [
      "Processing clusters:   0%|          | 2/486 [00:59<3:56:41, 29.34s/it]"
     ]
    },
    {
     "name": "stdout",
     "output_type": "stream",
     "text": [
      "Using provided template string\n",
      "Appending output format instructions to template\n",
      "Added 58 gene feature descriptions to prompt\n"
     ]
    },
    {
     "name": "stderr",
     "output_type": "stream",
     "text": [
      "Processing clusters:   1%|          | 3/486 [01:42<4:47:44, 35.74s/it]"
     ]
    },
    {
     "name": "stdout",
     "output_type": "stream",
     "text": [
      "Using provided template string\n",
      "Appending output format instructions to template\n",
      "Added 51 gene feature descriptions to prompt\n"
     ]
    },
    {
     "name": "stderr",
     "output_type": "stream",
     "text": [
      "Processing clusters:   1%|          | 4/486 [02:27<5:16:52, 39.45s/it]"
     ]
    },
    {
     "name": "stdout",
     "output_type": "stream",
     "text": [
      "Using provided template string\n",
      "Appending output format instructions to template\n",
      "Added 44 gene feature descriptions to prompt\n"
     ]
    },
    {
     "name": "stderr",
     "output_type": "stream",
     "text": [
      "INFO:cluster_analysis_20250714_125812.log:Saved progress for 5 clusters\n",
      "Processing clusters:   1%|          | 5/486 [02:58<4:52:23, 36.47s/it]INFO:cluster_analysis_20250714_125812.log:Using Anthropic Claude API\n"
     ]
    },
    {
     "name": "stdout",
     "output_type": "stream",
     "text": [
      "Using provided template string\n",
      "Appending output format instructions to template\n",
      "Added 37 gene feature descriptions to prompt\n"
     ]
    },
    {
     "name": "stderr",
     "output_type": "stream",
     "text": [
      "INFO:cluster_analysis_20250714_125812.log:Anthropic API call successful: model=claude-3-7-sonnet-20250219\n",
      "INFO:cluster_analysis_20250714_125812.log:Success for cluster 5\n",
      "Processing clusters:   1%|          | 6/486 [03:17<4:03:01, 30.38s/it]INFO:cluster_analysis_20250714_125812.log:Using Anthropic Claude API\n"
     ]
    },
    {
     "name": "stdout",
     "output_type": "stream",
     "text": [
      "Using provided template string\n",
      "Appending output format instructions to template\n",
      "Added 29 gene feature descriptions to prompt\n"
     ]
    },
    {
     "name": "stderr",
     "output_type": "stream",
     "text": [
      "INFO:cluster_analysis_20250714_125812.log:Anthropic API call successful: model=claude-3-7-sonnet-20250219\n",
      "INFO:cluster_analysis_20250714_125812.log:Success for cluster 6\n",
      "Processing clusters:   1%|▏         | 7/486 [03:41<3:44:54, 28.17s/it]INFO:cluster_analysis_20250714_125812.log:Using Anthropic Claude API\n"
     ]
    },
    {
     "name": "stdout",
     "output_type": "stream",
     "text": [
      "Using provided template string\n",
      "Appending output format instructions to template\n",
      "Added 29 gene feature descriptions to prompt\n"
     ]
    },
    {
     "name": "stderr",
     "output_type": "stream",
     "text": [
      "INFO:cluster_analysis_20250714_125812.log:Anthropic API call successful: model=claude-3-7-sonnet-20250219\n",
      "INFO:cluster_analysis_20250714_125812.log:Success for cluster 7\n",
      "Processing clusters:   2%|▏         | 8/486 [04:05<3:35:53, 27.10s/it]INFO:cluster_analysis_20250714_125812.log:Using Anthropic Claude API\n"
     ]
    },
    {
     "name": "stdout",
     "output_type": "stream",
     "text": [
      "Using provided template string\n",
      "Appending output format instructions to template\n",
      "Added 29 gene feature descriptions to prompt\n"
     ]
    },
    {
     "name": "stderr",
     "output_type": "stream",
     "text": [
      "INFO:cluster_analysis_20250714_125812.log:Anthropic API call successful: model=claude-3-7-sonnet-20250219\n",
      "INFO:cluster_analysis_20250714_125812.log:Success for cluster 8\n",
      "Processing clusters:   2%|▏         | 9/486 [04:27<3:23:09, 25.55s/it]INFO:cluster_analysis_20250714_125812.log:Using Anthropic Claude API\n"
     ]
    },
    {
     "name": "stdout",
     "output_type": "stream",
     "text": [
      "Using provided template string\n",
      "Appending output format instructions to template\n",
      "Added 26 gene feature descriptions to prompt\n"
     ]
    },
    {
     "name": "stderr",
     "output_type": "stream",
     "text": [
      "INFO:cluster_analysis_20250714_125812.log:Anthropic API call successful: model=claude-3-7-sonnet-20250219\n",
      "INFO:cluster_analysis_20250714_125812.log:Success for cluster 9\n",
      "INFO:cluster_analysis_20250714_125812.log:Saved progress for 10 clusters\n",
      "Processing clusters:   2%|▏         | 10/486 [04:47<3:06:44, 23.54s/it]INFO:cluster_analysis_20250714_125812.log:Using Anthropic Claude API\n"
     ]
    },
    {
     "name": "stdout",
     "output_type": "stream",
     "text": [
      "Using provided template string\n",
      "Appending output format instructions to template\n",
      "Added 26 gene feature descriptions to prompt\n"
     ]
    },
    {
     "name": "stderr",
     "output_type": "stream",
     "text": [
      "INFO:cluster_analysis_20250714_125812.log:Anthropic API call successful: model=claude-3-7-sonnet-20250219\n",
      "INFO:cluster_analysis_20250714_125812.log:Success for cluster 10\n",
      "Processing clusters:   2%|▏         | 11/486 [05:16<3:20:42, 25.35s/it]INFO:cluster_analysis_20250714_125812.log:Using Anthropic Claude API\n"
     ]
    },
    {
     "name": "stdout",
     "output_type": "stream",
     "text": [
      "Using provided template string\n",
      "Appending output format instructions to template\n",
      "Added 25 gene feature descriptions to prompt\n"
     ]
    },
    {
     "name": "stderr",
     "output_type": "stream",
     "text": [
      "INFO:cluster_analysis_20250714_125812.log:Anthropic API call successful: model=claude-3-7-sonnet-20250219\n",
      "INFO:cluster_analysis_20250714_125812.log:Success for cluster 11\n",
      "Processing clusters:   2%|▏         | 12/486 [05:32<2:58:13, 22.56s/it]INFO:cluster_analysis_20250714_125812.log:Using Anthropic Claude API\n"
     ]
    },
    {
     "name": "stdout",
     "output_type": "stream",
     "text": [
      "Using provided template string\n",
      "Appending output format instructions to template\n",
      "Added 24 gene feature descriptions to prompt\n"
     ]
    },
    {
     "name": "stderr",
     "output_type": "stream",
     "text": [
      "INFO:cluster_analysis_20250714_125812.log:Anthropic API call successful: model=claude-3-7-sonnet-20250219\n",
      "INFO:cluster_analysis_20250714_125812.log:Success for cluster 12\n",
      "Processing clusters:   3%|▎         | 13/486 [06:01<3:13:15, 24.51s/it]INFO:cluster_analysis_20250714_125812.log:Using Anthropic Claude API\n"
     ]
    },
    {
     "name": "stdout",
     "output_type": "stream",
     "text": [
      "Using provided template string\n",
      "Appending output format instructions to template\n",
      "Added 23 gene feature descriptions to prompt\n"
     ]
    },
    {
     "name": "stderr",
     "output_type": "stream",
     "text": [
      "INFO:cluster_analysis_20250714_125812.log:Anthropic API call successful: model=claude-3-7-sonnet-20250219\n",
      "INFO:cluster_analysis_20250714_125812.log:Success for cluster 13\n",
      "Processing clusters:   3%|▎         | 14/486 [06:24<3:07:58, 23.90s/it]INFO:cluster_analysis_20250714_125812.log:Using Anthropic Claude API\n"
     ]
    },
    {
     "name": "stdout",
     "output_type": "stream",
     "text": [
      "Using provided template string\n",
      "Appending output format instructions to template\n",
      "Added 23 gene feature descriptions to prompt\n"
     ]
    },
    {
     "name": "stderr",
     "output_type": "stream",
     "text": [
      "INFO:cluster_analysis_20250714_125812.log:Anthropic API call successful: model=claude-3-7-sonnet-20250219\n",
      "INFO:cluster_analysis_20250714_125812.log:Success for cluster 14\n",
      "INFO:cluster_analysis_20250714_125812.log:Saved progress for 15 clusters\n",
      "Processing clusters:   3%|▎         | 15/486 [06:44<2:59:26, 22.86s/it]INFO:cluster_analysis_20250714_125812.log:Using Anthropic Claude API\n"
     ]
    },
    {
     "name": "stdout",
     "output_type": "stream",
     "text": [
      "Using provided template string\n",
      "Appending output format instructions to template\n",
      "Added 21 gene feature descriptions to prompt\n"
     ]
    },
    {
     "name": "stderr",
     "output_type": "stream",
     "text": [
      "INFO:cluster_analysis_20250714_125812.log:Anthropic API call successful: model=claude-3-7-sonnet-20250219\n",
      "INFO:cluster_analysis_20250714_125812.log:Success for cluster 15\n",
      "Processing clusters:   3%|▎         | 16/486 [07:06<2:55:40, 22.43s/it]INFO:cluster_analysis_20250714_125812.log:Using Anthropic Claude API\n"
     ]
    },
    {
     "name": "stdout",
     "output_type": "stream",
     "text": [
      "Using provided template string\n",
      "Appending output format instructions to template\n",
      "Added 21 gene feature descriptions to prompt\n"
     ]
    },
    {
     "name": "stderr",
     "output_type": "stream",
     "text": [
      "INFO:cluster_analysis_20250714_125812.log:Anthropic API call successful: model=claude-3-7-sonnet-20250219\n",
      "INFO:cluster_analysis_20250714_125812.log:Success for cluster 16\n",
      "Processing clusters:   3%|▎         | 17/486 [07:29<2:57:33, 22.71s/it]INFO:cluster_analysis_20250714_125812.log:Using Anthropic Claude API\n"
     ]
    },
    {
     "name": "stdout",
     "output_type": "stream",
     "text": [
      "Using provided template string\n",
      "Appending output format instructions to template\n",
      "Added 20 gene feature descriptions to prompt\n"
     ]
    },
    {
     "name": "stderr",
     "output_type": "stream",
     "text": [
      "INFO:cluster_analysis_20250714_125812.log:Anthropic API call successful: model=claude-3-7-sonnet-20250219\n",
      "INFO:cluster_analysis_20250714_125812.log:Success for cluster 17\n",
      "Processing clusters:   4%|▎         | 18/486 [07:50<2:52:34, 22.13s/it]INFO:cluster_analysis_20250714_125812.log:Using Anthropic Claude API\n"
     ]
    },
    {
     "name": "stdout",
     "output_type": "stream",
     "text": [
      "Using provided template string\n",
      "Appending output format instructions to template\n",
      "Added 19 gene feature descriptions to prompt\n"
     ]
    },
    {
     "name": "stderr",
     "output_type": "stream",
     "text": [
      "INFO:cluster_analysis_20250714_125812.log:Anthropic API call successful: model=claude-3-7-sonnet-20250219\n",
      "INFO:cluster_analysis_20250714_125812.log:Success for cluster 18\n",
      "Processing clusters:   4%|▍         | 19/486 [08:07<2:40:40, 20.64s/it]INFO:cluster_analysis_20250714_125812.log:Using Anthropic Claude API\n"
     ]
    },
    {
     "name": "stdout",
     "output_type": "stream",
     "text": [
      "Using provided template string\n",
      "Appending output format instructions to template\n",
      "Added 19 gene feature descriptions to prompt\n"
     ]
    },
    {
     "name": "stderr",
     "output_type": "stream",
     "text": [
      "INFO:cluster_analysis_20250714_125812.log:Anthropic API call successful: model=claude-3-7-sonnet-20250219\n",
      "INFO:cluster_analysis_20250714_125812.log:Success for cluster 19\n",
      "INFO:cluster_analysis_20250714_125812.log:Saved progress for 20 clusters\n",
      "Processing clusters:   4%|▍         | 20/486 [08:22<2:27:20, 18.97s/it]INFO:cluster_analysis_20250714_125812.log:Using Anthropic Claude API\n"
     ]
    },
    {
     "name": "stdout",
     "output_type": "stream",
     "text": [
      "Using provided template string\n",
      "Appending output format instructions to template\n",
      "Added 18 gene feature descriptions to prompt\n"
     ]
    },
    {
     "name": "stderr",
     "output_type": "stream",
     "text": [
      "INFO:cluster_analysis_20250714_125812.log:Anthropic API call successful: model=claude-3-7-sonnet-20250219\n",
      "INFO:cluster_analysis_20250714_125812.log:Success for cluster 20\n",
      "Processing clusters:   4%|▍         | 21/486 [08:41<2:27:11, 18.99s/it]INFO:cluster_analysis_20250714_125812.log:Using Anthropic Claude API\n"
     ]
    },
    {
     "name": "stdout",
     "output_type": "stream",
     "text": [
      "Using provided template string\n",
      "Appending output format instructions to template\n",
      "Added 17 gene feature descriptions to prompt\n"
     ]
    },
    {
     "name": "stderr",
     "output_type": "stream",
     "text": [
      "INFO:cluster_analysis_20250714_125812.log:Anthropic API call successful: model=claude-3-7-sonnet-20250219\n",
      "INFO:cluster_analysis_20250714_125812.log:Success for cluster 21\n",
      "Processing clusters:   5%|▍         | 22/486 [08:55<2:15:41, 17.55s/it]INFO:cluster_analysis_20250714_125812.log:Using Anthropic Claude API\n"
     ]
    },
    {
     "name": "stdout",
     "output_type": "stream",
     "text": [
      "Using provided template string\n",
      "Appending output format instructions to template\n",
      "Added 17 gene feature descriptions to prompt\n"
     ]
    },
    {
     "name": "stderr",
     "output_type": "stream",
     "text": [
      "INFO:cluster_analysis_20250714_125812.log:Anthropic API call successful: model=claude-3-7-sonnet-20250219\n",
      "INFO:cluster_analysis_20250714_125812.log:Success for cluster 22\n",
      "Processing clusters:   5%|▍         | 23/486 [09:10<2:08:54, 16.71s/it]INFO:cluster_analysis_20250714_125812.log:Using Anthropic Claude API\n"
     ]
    },
    {
     "name": "stdout",
     "output_type": "stream",
     "text": [
      "Using provided template string\n",
      "Appending output format instructions to template\n",
      "Added 17 gene feature descriptions to prompt\n"
     ]
    },
    {
     "name": "stderr",
     "output_type": "stream",
     "text": [
      "INFO:cluster_analysis_20250714_125812.log:Anthropic API call successful: model=claude-3-7-sonnet-20250219\n",
      "INFO:cluster_analysis_20250714_125812.log:Success for cluster 23\n",
      "Processing clusters:   5%|▍         | 24/486 [09:31<2:19:43, 18.15s/it]INFO:cluster_analysis_20250714_125812.log:Using Anthropic Claude API\n"
     ]
    },
    {
     "name": "stdout",
     "output_type": "stream",
     "text": [
      "Using provided template string\n",
      "Appending output format instructions to template\n",
      "Added 17 gene feature descriptions to prompt\n"
     ]
    },
    {
     "name": "stderr",
     "output_type": "stream",
     "text": [
      "INFO:cluster_analysis_20250714_125812.log:Anthropic API call successful: model=claude-3-7-sonnet-20250219\n",
      "INFO:cluster_analysis_20250714_125812.log:Success for cluster 24\n",
      "INFO:cluster_analysis_20250714_125812.log:Saved progress for 25 clusters\n",
      "Processing clusters:   5%|▌         | 25/486 [09:48<2:16:33, 17.77s/it]INFO:cluster_analysis_20250714_125812.log:Using Anthropic Claude API\n"
     ]
    },
    {
     "name": "stdout",
     "output_type": "stream",
     "text": [
      "Using provided template string\n",
      "Appending output format instructions to template\n",
      "Added 16 gene feature descriptions to prompt\n"
     ]
    },
    {
     "name": "stderr",
     "output_type": "stream",
     "text": [
      "INFO:cluster_analysis_20250714_125812.log:Anthropic API call successful: model=claude-3-7-sonnet-20250219\n",
      "INFO:cluster_analysis_20250714_125812.log:Success for cluster 25\n",
      "Processing clusters:   5%|▌         | 26/486 [10:01<2:05:47, 16.41s/it]INFO:cluster_analysis_20250714_125812.log:Using Anthropic Claude API\n"
     ]
    },
    {
     "name": "stdout",
     "output_type": "stream",
     "text": [
      "Using provided template string\n",
      "Appending output format instructions to template\n",
      "Added 16 gene feature descriptions to prompt\n"
     ]
    },
    {
     "name": "stderr",
     "output_type": "stream",
     "text": [
      "INFO:cluster_analysis_20250714_125812.log:Anthropic API call successful: model=claude-3-7-sonnet-20250219\n",
      "INFO:cluster_analysis_20250714_125812.log:Success for cluster 26\n",
      "Processing clusters:   6%|▌         | 27/486 [10:16<2:00:35, 15.76s/it]INFO:cluster_analysis_20250714_125812.log:Using Anthropic Claude API\n"
     ]
    },
    {
     "name": "stdout",
     "output_type": "stream",
     "text": [
      "Using provided template string\n",
      "Appending output format instructions to template\n",
      "Added 16 gene feature descriptions to prompt\n"
     ]
    },
    {
     "name": "stderr",
     "output_type": "stream",
     "text": [
      "INFO:cluster_analysis_20250714_125812.log:Anthropic API call successful: model=claude-3-7-sonnet-20250219\n",
      "INFO:cluster_analysis_20250714_125812.log:Success for cluster 27\n",
      "Processing clusters:   6%|▌         | 28/486 [10:32<2:01:53, 15.97s/it]INFO:cluster_analysis_20250714_125812.log:Using Anthropic Claude API\n"
     ]
    },
    {
     "name": "stdout",
     "output_type": "stream",
     "text": [
      "Using provided template string\n",
      "Appending output format instructions to template\n",
      "Added 16 gene feature descriptions to prompt\n"
     ]
    },
    {
     "name": "stderr",
     "output_type": "stream",
     "text": [
      "INFO:cluster_analysis_20250714_125812.log:Anthropic API call successful: model=claude-3-7-sonnet-20250219\n",
      "INFO:cluster_analysis_20250714_125812.log:Success for cluster 28\n",
      "Processing clusters:   6%|▌         | 29/486 [10:54<2:15:03, 17.73s/it]INFO:cluster_analysis_20250714_125812.log:Using Anthropic Claude API\n"
     ]
    },
    {
     "name": "stdout",
     "output_type": "stream",
     "text": [
      "Using provided template string\n",
      "Appending output format instructions to template\n",
      "Added 16 gene feature descriptions to prompt\n"
     ]
    },
    {
     "name": "stderr",
     "output_type": "stream",
     "text": [
      "INFO:cluster_analysis_20250714_125812.log:Anthropic API call successful: model=claude-3-7-sonnet-20250219\n",
      "INFO:cluster_analysis_20250714_125812.log:Success for cluster 29\n",
      "INFO:cluster_analysis_20250714_125812.log:Saved progress for 30 clusters\n",
      "Processing clusters:   6%|▌         | 30/486 [11:11<2:13:42, 17.59s/it]INFO:cluster_analysis_20250714_125812.log:Using Anthropic Claude API\n"
     ]
    },
    {
     "name": "stdout",
     "output_type": "stream",
     "text": [
      "Using provided template string\n",
      "Appending output format instructions to template\n",
      "Added 15 gene feature descriptions to prompt\n"
     ]
    },
    {
     "name": "stderr",
     "output_type": "stream",
     "text": [
      "INFO:cluster_analysis_20250714_125812.log:Anthropic API call successful: model=claude-3-7-sonnet-20250219\n",
      "INFO:cluster_analysis_20250714_125812.log:Success for cluster 30\n",
      "Processing clusters:   6%|▋         | 31/486 [11:24<2:01:20, 16.00s/it]INFO:cluster_analysis_20250714_125812.log:Using Anthropic Claude API\n"
     ]
    },
    {
     "name": "stdout",
     "output_type": "stream",
     "text": [
      "Using provided template string\n",
      "Appending output format instructions to template\n",
      "Added 15 gene feature descriptions to prompt\n"
     ]
    },
    {
     "name": "stderr",
     "output_type": "stream",
     "text": [
      "INFO:cluster_analysis_20250714_125812.log:Anthropic API call successful: model=claude-3-7-sonnet-20250219\n",
      "INFO:cluster_analysis_20250714_125812.log:Success for cluster 31\n",
      "Processing clusters:   7%|▋         | 32/486 [11:37<1:56:05, 15.34s/it]INFO:cluster_analysis_20250714_125812.log:Using Anthropic Claude API\n"
     ]
    },
    {
     "name": "stdout",
     "output_type": "stream",
     "text": [
      "Using provided template string\n",
      "Appending output format instructions to template\n",
      "Added 15 gene feature descriptions to prompt\n"
     ]
    },
    {
     "name": "stderr",
     "output_type": "stream",
     "text": [
      "INFO:cluster_analysis_20250714_125812.log:Anthropic API call successful: model=claude-3-7-sonnet-20250219\n",
      "INFO:cluster_analysis_20250714_125812.log:Success for cluster 32\n",
      "Processing clusters:   7%|▋         | 33/486 [11:53<1:55:25, 15.29s/it]INFO:cluster_analysis_20250714_125812.log:Using Anthropic Claude API\n"
     ]
    },
    {
     "name": "stdout",
     "output_type": "stream",
     "text": [
      "Using provided template string\n",
      "Appending output format instructions to template\n",
      "Added 15 gene feature descriptions to prompt\n"
     ]
    },
    {
     "name": "stderr",
     "output_type": "stream",
     "text": [
      "INFO:cluster_analysis_20250714_125812.log:Anthropic API call successful: model=claude-3-7-sonnet-20250219\n",
      "INFO:cluster_analysis_20250714_125812.log:Success for cluster 33\n",
      "Processing clusters:   7%|▋         | 34/486 [12:05<1:49:23, 14.52s/it]INFO:cluster_analysis_20250714_125812.log:Using Anthropic Claude API\n"
     ]
    },
    {
     "name": "stdout",
     "output_type": "stream",
     "text": [
      "Using provided template string\n",
      "Appending output format instructions to template\n",
      "Added 15 gene feature descriptions to prompt\n"
     ]
    },
    {
     "name": "stderr",
     "output_type": "stream",
     "text": [
      "INFO:cluster_analysis_20250714_125812.log:Anthropic API call successful: model=claude-3-7-sonnet-20250219\n",
      "INFO:cluster_analysis_20250714_125812.log:Success for cluster 34\n",
      "INFO:cluster_analysis_20250714_125812.log:Saved progress for 35 clusters\n",
      "Processing clusters:   7%|▋         | 35/486 [12:25<2:00:16, 16.00s/it]INFO:cluster_analysis_20250714_125812.log:Using Anthropic Claude API\n"
     ]
    },
    {
     "name": "stdout",
     "output_type": "stream",
     "text": [
      "Using provided template string\n",
      "Appending output format instructions to template\n",
      "Added 15 gene feature descriptions to prompt\n"
     ]
    },
    {
     "name": "stderr",
     "output_type": "stream",
     "text": [
      "INFO:cluster_analysis_20250714_125812.log:Anthropic API call successful: model=claude-3-7-sonnet-20250219\n",
      "INFO:cluster_analysis_20250714_125812.log:Success for cluster 35\n",
      "Processing clusters:   7%|▋         | 36/486 [12:43<2:05:17, 16.71s/it]INFO:cluster_analysis_20250714_125812.log:Using Anthropic Claude API\n"
     ]
    },
    {
     "name": "stdout",
     "output_type": "stream",
     "text": [
      "Using provided template string\n",
      "Appending output format instructions to template\n",
      "Added 15 gene feature descriptions to prompt\n"
     ]
    },
    {
     "name": "stderr",
     "output_type": "stream",
     "text": [
      "INFO:cluster_analysis_20250714_125812.log:Anthropic API call successful: model=claude-3-7-sonnet-20250219\n",
      "INFO:cluster_analysis_20250714_125812.log:Success for cluster 36\n",
      "Processing clusters:   8%|▊         | 37/486 [12:59<2:04:08, 16.59s/it]INFO:cluster_analysis_20250714_125812.log:Using Anthropic Claude API\n"
     ]
    },
    {
     "name": "stdout",
     "output_type": "stream",
     "text": [
      "Using provided template string\n",
      "Appending output format instructions to template\n",
      "Added 15 gene feature descriptions to prompt\n"
     ]
    },
    {
     "name": "stderr",
     "output_type": "stream",
     "text": [
      "INFO:cluster_analysis_20250714_125812.log:Anthropic API call successful: model=claude-3-7-sonnet-20250219\n",
      "INFO:cluster_analysis_20250714_125812.log:Success for cluster 37\n",
      "Processing clusters:   8%|▊         | 38/486 [13:14<1:58:33, 15.88s/it]INFO:cluster_analysis_20250714_125812.log:Using Anthropic Claude API\n"
     ]
    },
    {
     "name": "stdout",
     "output_type": "stream",
     "text": [
      "Using provided template string\n",
      "Appending output format instructions to template\n",
      "Added 15 gene feature descriptions to prompt\n"
     ]
    },
    {
     "name": "stderr",
     "output_type": "stream",
     "text": [
      "INFO:cluster_analysis_20250714_125812.log:Anthropic API call successful: model=claude-3-7-sonnet-20250219\n",
      "INFO:cluster_analysis_20250714_125812.log:Success for cluster 38\n",
      "Processing clusters:   8%|▊         | 39/486 [13:30<1:59:30, 16.04s/it]INFO:cluster_analysis_20250714_125812.log:Using Anthropic Claude API\n"
     ]
    },
    {
     "name": "stdout",
     "output_type": "stream",
     "text": [
      "Using provided template string\n",
      "Appending output format instructions to template\n",
      "Added 15 gene feature descriptions to prompt\n"
     ]
    },
    {
     "name": "stderr",
     "output_type": "stream",
     "text": [
      "INFO:cluster_analysis_20250714_125812.log:Anthropic API call successful: model=claude-3-7-sonnet-20250219\n",
      "INFO:cluster_analysis_20250714_125812.log:Success for cluster 39\n",
      "INFO:cluster_analysis_20250714_125812.log:Saved progress for 40 clusters\n",
      "Processing clusters:   8%|▊         | 40/486 [13:48<2:03:38, 16.63s/it]INFO:cluster_analysis_20250714_125812.log:Using Anthropic Claude API\n"
     ]
    },
    {
     "name": "stdout",
     "output_type": "stream",
     "text": [
      "Using provided template string\n",
      "Appending output format instructions to template\n",
      "Added 14 gene feature descriptions to prompt\n"
     ]
    },
    {
     "name": "stderr",
     "output_type": "stream",
     "text": [
      "INFO:cluster_analysis_20250714_125812.log:Anthropic API call successful: model=claude-3-7-sonnet-20250219\n",
      "INFO:cluster_analysis_20250714_125812.log:Success for cluster 40\n",
      "Processing clusters:   8%|▊         | 41/486 [14:03<2:00:31, 16.25s/it]INFO:cluster_analysis_20250714_125812.log:Using Anthropic Claude API\n"
     ]
    },
    {
     "name": "stdout",
     "output_type": "stream",
     "text": [
      "Using provided template string\n",
      "Appending output format instructions to template\n",
      "Added 14 gene feature descriptions to prompt\n"
     ]
    },
    {
     "name": "stderr",
     "output_type": "stream",
     "text": [
      "INFO:cluster_analysis_20250714_125812.log:Anthropic API call successful: model=claude-3-7-sonnet-20250219\n",
      "INFO:cluster_analysis_20250714_125812.log:Success for cluster 41\n",
      "Processing clusters:   9%|▊         | 42/486 [14:19<1:58:59, 16.08s/it]INFO:cluster_analysis_20250714_125812.log:Using Anthropic Claude API\n"
     ]
    },
    {
     "name": "stdout",
     "output_type": "stream",
     "text": [
      "Using provided template string\n",
      "Appending output format instructions to template\n",
      "Added 14 gene feature descriptions to prompt\n"
     ]
    },
    {
     "name": "stderr",
     "output_type": "stream",
     "text": [
      "INFO:cluster_analysis_20250714_125812.log:Anthropic API call successful: model=claude-3-7-sonnet-20250219\n",
      "INFO:cluster_analysis_20250714_125812.log:Success for cluster 42\n",
      "Processing clusters:   9%|▉         | 43/486 [14:34<1:55:46, 15.68s/it]INFO:cluster_analysis_20250714_125812.log:Using Anthropic Claude API\n"
     ]
    },
    {
     "name": "stdout",
     "output_type": "stream",
     "text": [
      "Using provided template string\n",
      "Appending output format instructions to template\n",
      "Added 14 gene feature descriptions to prompt\n"
     ]
    },
    {
     "name": "stderr",
     "output_type": "stream",
     "text": [
      "INFO:cluster_analysis_20250714_125812.log:Anthropic API call successful: model=claude-3-7-sonnet-20250219\n",
      "INFO:cluster_analysis_20250714_125812.log:Success for cluster 43\n",
      "Processing clusters:   9%|▉         | 44/486 [14:47<1:48:56, 14.79s/it]INFO:cluster_analysis_20250714_125812.log:Using Anthropic Claude API\n"
     ]
    },
    {
     "name": "stdout",
     "output_type": "stream",
     "text": [
      "Using provided template string\n",
      "Appending output format instructions to template\n",
      "Added 14 gene feature descriptions to prompt\n"
     ]
    },
    {
     "name": "stderr",
     "output_type": "stream",
     "text": [
      "INFO:cluster_analysis_20250714_125812.log:Anthropic API call successful: model=claude-3-7-sonnet-20250219\n",
      "INFO:cluster_analysis_20250714_125812.log:Success for cluster 44\n",
      "INFO:cluster_analysis_20250714_125812.log:Saved progress for 45 clusters\n",
      "Processing clusters:   9%|▉         | 45/486 [15:03<1:52:34, 15.32s/it]INFO:cluster_analysis_20250714_125812.log:Using Anthropic Claude API\n"
     ]
    },
    {
     "name": "stdout",
     "output_type": "stream",
     "text": [
      "Using provided template string\n",
      "Appending output format instructions to template\n",
      "Added 14 gene feature descriptions to prompt\n"
     ]
    },
    {
     "name": "stderr",
     "output_type": "stream",
     "text": [
      "INFO:cluster_analysis_20250714_125812.log:Anthropic API call successful: model=claude-3-7-sonnet-20250219\n",
      "INFO:cluster_analysis_20250714_125812.log:Success for cluster 45\n",
      "Processing clusters:   9%|▉         | 46/486 [15:23<2:02:31, 16.71s/it]INFO:cluster_analysis_20250714_125812.log:Using Anthropic Claude API\n"
     ]
    },
    {
     "name": "stdout",
     "output_type": "stream",
     "text": [
      "Using provided template string\n",
      "Appending output format instructions to template\n",
      "Added 14 gene feature descriptions to prompt\n"
     ]
    },
    {
     "name": "stderr",
     "output_type": "stream",
     "text": [
      "INFO:cluster_analysis_20250714_125812.log:Anthropic API call successful: model=claude-3-7-sonnet-20250219\n",
      "INFO:cluster_analysis_20250714_125812.log:Success for cluster 46\n",
      "Processing clusters:  10%|▉         | 47/486 [15:38<1:58:04, 16.14s/it]INFO:cluster_analysis_20250714_125812.log:Using Anthropic Claude API\n"
     ]
    },
    {
     "name": "stdout",
     "output_type": "stream",
     "text": [
      "Using provided template string\n",
      "Appending output format instructions to template\n",
      "Added 14 gene feature descriptions to prompt\n"
     ]
    },
    {
     "name": "stderr",
     "output_type": "stream",
     "text": [
      "INFO:cluster_analysis_20250714_125812.log:Anthropic API call successful: model=claude-3-7-sonnet-20250219\n",
      "INFO:cluster_analysis_20250714_125812.log:Success for cluster 47\n",
      "Processing clusters:  10%|▉         | 48/486 [15:52<1:54:08, 15.64s/it]INFO:cluster_analysis_20250714_125812.log:Using Anthropic Claude API\n"
     ]
    },
    {
     "name": "stdout",
     "output_type": "stream",
     "text": [
      "Using provided template string\n",
      "Appending output format instructions to template\n",
      "Added 14 gene feature descriptions to prompt\n"
     ]
    },
    {
     "name": "stderr",
     "output_type": "stream",
     "text": [
      "INFO:cluster_analysis_20250714_125812.log:Anthropic API call successful: model=claude-3-7-sonnet-20250219\n",
      "INFO:cluster_analysis_20250714_125812.log:Success for cluster 48\n",
      "Processing clusters:  10%|█         | 49/486 [16:09<1:57:01, 16.07s/it]INFO:cluster_analysis_20250714_125812.log:Using Anthropic Claude API\n"
     ]
    },
    {
     "name": "stdout",
     "output_type": "stream",
     "text": [
      "Using provided template string\n",
      "Appending output format instructions to template\n",
      "Added 14 gene feature descriptions to prompt\n"
     ]
    },
    {
     "name": "stderr",
     "output_type": "stream",
     "text": [
      "INFO:cluster_analysis_20250714_125812.log:Anthropic API call successful: model=claude-3-7-sonnet-20250219\n",
      "INFO:cluster_analysis_20250714_125812.log:Success for cluster 49\n",
      "INFO:cluster_analysis_20250714_125812.log:Saved progress for 50 clusters\n",
      "Processing clusters:  10%|█         | 50/486 [16:27<2:01:04, 16.66s/it]INFO:cluster_analysis_20250714_125812.log:Using Anthropic Claude API\n"
     ]
    },
    {
     "name": "stdout",
     "output_type": "stream",
     "text": [
      "Using provided template string\n",
      "Appending output format instructions to template\n",
      "Added 14 gene feature descriptions to prompt\n"
     ]
    },
    {
     "name": "stderr",
     "output_type": "stream",
     "text": [
      "INFO:cluster_analysis_20250714_125812.log:Anthropic API call successful: model=claude-3-7-sonnet-20250219\n",
      "INFO:cluster_analysis_20250714_125812.log:Success for cluster 50\n",
      "Processing clusters:  10%|█         | 51/486 [16:46<2:05:45, 17.35s/it]INFO:cluster_analysis_20250714_125812.log:Using Anthropic Claude API\n"
     ]
    },
    {
     "name": "stdout",
     "output_type": "stream",
     "text": [
      "Using provided template string\n",
      "Appending output format instructions to template\n",
      "Added 14 gene feature descriptions to prompt\n"
     ]
    },
    {
     "name": "stderr",
     "output_type": "stream",
     "text": [
      "INFO:cluster_analysis_20250714_125812.log:Anthropic API call successful: model=claude-3-7-sonnet-20250219\n",
      "INFO:cluster_analysis_20250714_125812.log:Success for cluster 51\n",
      "Processing clusters:  11%|█         | 52/486 [17:01<1:58:27, 16.38s/it]INFO:cluster_analysis_20250714_125812.log:Using Anthropic Claude API\n"
     ]
    },
    {
     "name": "stdout",
     "output_type": "stream",
     "text": [
      "Using provided template string\n",
      "Appending output format instructions to template\n",
      "Added 14 gene feature descriptions to prompt\n"
     ]
    },
    {
     "name": "stderr",
     "output_type": "stream",
     "text": [
      "INFO:cluster_analysis_20250714_125812.log:Anthropic API call successful: model=claude-3-7-sonnet-20250219\n",
      "INFO:cluster_analysis_20250714_125812.log:Success for cluster 52\n",
      "Processing clusters:  11%|█         | 53/486 [17:16<1:56:55, 16.20s/it]INFO:cluster_analysis_20250714_125812.log:Using Anthropic Claude API\n"
     ]
    },
    {
     "name": "stdout",
     "output_type": "stream",
     "text": [
      "Using provided template string\n",
      "Appending output format instructions to template\n",
      "Added 14 gene feature descriptions to prompt\n"
     ]
    },
    {
     "name": "stderr",
     "output_type": "stream",
     "text": [
      "INFO:cluster_analysis_20250714_125812.log:Anthropic API call successful: model=claude-3-7-sonnet-20250219\n",
      "INFO:cluster_analysis_20250714_125812.log:Success for cluster 53\n",
      "Processing clusters:  11%|█         | 54/486 [17:30<1:51:28, 15.48s/it]INFO:cluster_analysis_20250714_125812.log:Using Anthropic Claude API\n"
     ]
    },
    {
     "name": "stdout",
     "output_type": "stream",
     "text": [
      "Using provided template string\n",
      "Appending output format instructions to template\n",
      "Added 14 gene feature descriptions to prompt\n"
     ]
    },
    {
     "name": "stderr",
     "output_type": "stream",
     "text": [
      "INFO:cluster_analysis_20250714_125812.log:Anthropic API call successful: model=claude-3-7-sonnet-20250219\n",
      "INFO:cluster_analysis_20250714_125812.log:Success for cluster 54\n",
      "INFO:cluster_analysis_20250714_125812.log:Saved progress for 55 clusters\n",
      "Processing clusters:  11%|█▏        | 55/486 [17:46<1:52:41, 15.69s/it]INFO:cluster_analysis_20250714_125812.log:Using Anthropic Claude API\n"
     ]
    },
    {
     "name": "stdout",
     "output_type": "stream",
     "text": [
      "Using provided template string\n",
      "Appending output format instructions to template\n",
      "Added 14 gene feature descriptions to prompt\n"
     ]
    },
    {
     "name": "stderr",
     "output_type": "stream",
     "text": [
      "INFO:cluster_analysis_20250714_125812.log:Anthropic API call successful: model=claude-3-7-sonnet-20250219\n",
      "INFO:cluster_analysis_20250714_125812.log:Success for cluster 55\n",
      "Processing clusters:  12%|█▏        | 56/486 [18:00<1:47:43, 15.03s/it]INFO:cluster_analysis_20250714_125812.log:Using Anthropic Claude API\n"
     ]
    },
    {
     "name": "stdout",
     "output_type": "stream",
     "text": [
      "Using provided template string\n",
      "Appending output format instructions to template\n",
      "Added 14 gene feature descriptions to prompt\n"
     ]
    },
    {
     "name": "stderr",
     "output_type": "stream",
     "text": [
      "INFO:cluster_analysis_20250714_125812.log:Anthropic API call successful: model=claude-3-7-sonnet-20250219\n",
      "INFO:cluster_analysis_20250714_125812.log:Success for cluster 56\n",
      "Processing clusters:  12%|█▏        | 57/486 [18:16<1:49:38, 15.34s/it]INFO:cluster_analysis_20250714_125812.log:Using Anthropic Claude API\n"
     ]
    },
    {
     "name": "stdout",
     "output_type": "stream",
     "text": [
      "Using provided template string\n",
      "Appending output format instructions to template\n",
      "Added 14 gene feature descriptions to prompt\n"
     ]
    },
    {
     "name": "stderr",
     "output_type": "stream",
     "text": [
      "INFO:cluster_analysis_20250714_125812.log:Anthropic API call successful: model=claude-3-7-sonnet-20250219\n",
      "INFO:cluster_analysis_20250714_125812.log:Success for cluster 57\n",
      "Processing clusters:  12%|█▏        | 58/486 [18:28<1:42:05, 14.31s/it]INFO:cluster_analysis_20250714_125812.log:Using Anthropic Claude API\n"
     ]
    },
    {
     "name": "stdout",
     "output_type": "stream",
     "text": [
      "Using provided template string\n",
      "Appending output format instructions to template\n",
      "Added 14 gene feature descriptions to prompt\n"
     ]
    },
    {
     "name": "stderr",
     "output_type": "stream",
     "text": [
      "INFO:cluster_analysis_20250714_125812.log:Anthropic API call successful: model=claude-3-7-sonnet-20250219\n",
      "INFO:cluster_analysis_20250714_125812.log:Success for cluster 58\n",
      "Processing clusters:  12%|█▏        | 59/486 [18:41<1:39:46, 14.02s/it]INFO:cluster_analysis_20250714_125812.log:Using Anthropic Claude API\n"
     ]
    },
    {
     "name": "stdout",
     "output_type": "stream",
     "text": [
      "Using provided template string\n",
      "Appending output format instructions to template\n",
      "Added 14 gene feature descriptions to prompt\n"
     ]
    },
    {
     "name": "stderr",
     "output_type": "stream",
     "text": [
      "INFO:cluster_analysis_20250714_125812.log:Anthropic API call successful: model=claude-3-7-sonnet-20250219\n",
      "INFO:cluster_analysis_20250714_125812.log:Success for cluster 59\n",
      "INFO:cluster_analysis_20250714_125812.log:Saved progress for 60 clusters\n",
      "Processing clusters:  12%|█▏        | 60/486 [18:53<1:33:57, 13.23s/it]INFO:cluster_analysis_20250714_125812.log:Using Anthropic Claude API\n"
     ]
    },
    {
     "name": "stdout",
     "output_type": "stream",
     "text": [
      "Using provided template string\n",
      "Appending output format instructions to template\n",
      "Added 13 gene feature descriptions to prompt\n"
     ]
    },
    {
     "name": "stderr",
     "output_type": "stream",
     "text": [
      "INFO:cluster_analysis_20250714_125812.log:Anthropic API call successful: model=claude-3-7-sonnet-20250219\n",
      "INFO:cluster_analysis_20250714_125812.log:Success for cluster 60\n",
      "Processing clusters:  13%|█▎        | 61/486 [19:05<1:32:54, 13.12s/it]INFO:cluster_analysis_20250714_125812.log:Using Anthropic Claude API\n"
     ]
    },
    {
     "name": "stdout",
     "output_type": "stream",
     "text": [
      "Using provided template string\n",
      "Appending output format instructions to template\n",
      "Added 13 gene feature descriptions to prompt\n"
     ]
    },
    {
     "name": "stderr",
     "output_type": "stream",
     "text": [
      "INFO:cluster_analysis_20250714_125812.log:Anthropic API call successful: model=claude-3-7-sonnet-20250219\n",
      "INFO:cluster_analysis_20250714_125812.log:Success for cluster 61\n",
      "Processing clusters:  13%|█▎        | 62/486 [19:20<1:36:48, 13.70s/it]INFO:cluster_analysis_20250714_125812.log:Using Anthropic Claude API\n"
     ]
    },
    {
     "name": "stdout",
     "output_type": "stream",
     "text": [
      "Using provided template string\n",
      "Appending output format instructions to template\n",
      "Added 13 gene feature descriptions to prompt\n"
     ]
    },
    {
     "name": "stderr",
     "output_type": "stream",
     "text": [
      "INFO:cluster_analysis_20250714_125812.log:Anthropic API call successful: model=claude-3-7-sonnet-20250219\n",
      "INFO:cluster_analysis_20250714_125812.log:Success for cluster 62\n",
      "Processing clusters:  13%|█▎        | 63/486 [19:37<1:42:29, 14.54s/it]INFO:cluster_analysis_20250714_125812.log:Using Anthropic Claude API\n"
     ]
    },
    {
     "name": "stdout",
     "output_type": "stream",
     "text": [
      "Using provided template string\n",
      "Appending output format instructions to template\n",
      "Added 13 gene feature descriptions to prompt\n"
     ]
    },
    {
     "name": "stderr",
     "output_type": "stream",
     "text": [
      "INFO:cluster_analysis_20250714_125812.log:Anthropic API call successful: model=claude-3-7-sonnet-20250219\n",
      "INFO:cluster_analysis_20250714_125812.log:Success for cluster 63\n",
      "Processing clusters:  13%|█▎        | 64/486 [19:55<1:50:21, 15.69s/it]INFO:cluster_analysis_20250714_125812.log:Using Anthropic Claude API\n"
     ]
    },
    {
     "name": "stdout",
     "output_type": "stream",
     "text": [
      "Using provided template string\n",
      "Appending output format instructions to template\n",
      "Added 13 gene feature descriptions to prompt\n"
     ]
    },
    {
     "name": "stderr",
     "output_type": "stream",
     "text": [
      "INFO:cluster_analysis_20250714_125812.log:Anthropic API call successful: model=claude-3-7-sonnet-20250219\n",
      "INFO:cluster_analysis_20250714_125812.log:Success for cluster 64\n",
      "INFO:cluster_analysis_20250714_125812.log:Saved progress for 65 clusters\n",
      "Processing clusters:  13%|█▎        | 65/486 [20:11<1:50:35, 15.76s/it]INFO:cluster_analysis_20250714_125812.log:Using Anthropic Claude API\n"
     ]
    },
    {
     "name": "stdout",
     "output_type": "stream",
     "text": [
      "Using provided template string\n",
      "Appending output format instructions to template\n",
      "Added 13 gene feature descriptions to prompt\n"
     ]
    },
    {
     "name": "stderr",
     "output_type": "stream",
     "text": [
      "INFO:cluster_analysis_20250714_125812.log:Anthropic API call successful: model=claude-3-7-sonnet-20250219\n",
      "INFO:cluster_analysis_20250714_125812.log:Success for cluster 65\n",
      "Processing clusters:  14%|█▎        | 66/486 [20:31<1:58:48, 16.97s/it]INFO:cluster_analysis_20250714_125812.log:Using Anthropic Claude API\n"
     ]
    },
    {
     "name": "stdout",
     "output_type": "stream",
     "text": [
      "Using provided template string\n",
      "Appending output format instructions to template\n",
      "Added 13 gene feature descriptions to prompt\n"
     ]
    },
    {
     "name": "stderr",
     "output_type": "stream",
     "text": [
      "INFO:cluster_analysis_20250714_125812.log:Anthropic API call successful: model=claude-3-7-sonnet-20250219\n",
      "INFO:cluster_analysis_20250714_125812.log:Success for cluster 66\n",
      "Processing clusters:  14%|█▍        | 67/486 [20:46<1:54:23, 16.38s/it]INFO:cluster_analysis_20250714_125812.log:Using Anthropic Claude API\n"
     ]
    },
    {
     "name": "stdout",
     "output_type": "stream",
     "text": [
      "Using provided template string\n",
      "Appending output format instructions to template\n",
      "Added 13 gene feature descriptions to prompt\n"
     ]
    },
    {
     "name": "stderr",
     "output_type": "stream",
     "text": [
      "INFO:cluster_analysis_20250714_125812.log:Anthropic API call successful: model=claude-3-7-sonnet-20250219\n",
      "INFO:cluster_analysis_20250714_125812.log:Success for cluster 67\n",
      "Processing clusters:  14%|█▍        | 68/486 [20:55<1:39:20, 14.26s/it]INFO:cluster_analysis_20250714_125812.log:Using Anthropic Claude API\n"
     ]
    },
    {
     "name": "stdout",
     "output_type": "stream",
     "text": [
      "Using provided template string\n",
      "Appending output format instructions to template\n",
      "Added 13 gene feature descriptions to prompt\n"
     ]
    },
    {
     "name": "stderr",
     "output_type": "stream",
     "text": [
      "INFO:cluster_analysis_20250714_125812.log:Anthropic API call successful: model=claude-3-7-sonnet-20250219\n",
      "INFO:cluster_analysis_20250714_125812.log:Success for cluster 68\n",
      "Processing clusters:  14%|█▍        | 69/486 [21:10<1:39:04, 14.26s/it]INFO:cluster_analysis_20250714_125812.log:Using Anthropic Claude API\n"
     ]
    },
    {
     "name": "stdout",
     "output_type": "stream",
     "text": [
      "Using provided template string\n",
      "Appending output format instructions to template\n",
      "Added 13 gene feature descriptions to prompt\n"
     ]
    },
    {
     "name": "stderr",
     "output_type": "stream",
     "text": [
      "INFO:cluster_analysis_20250714_125812.log:Anthropic API call successful: model=claude-3-7-sonnet-20250219\n",
      "INFO:cluster_analysis_20250714_125812.log:Success for cluster 69\n",
      "INFO:cluster_analysis_20250714_125812.log:Saved progress for 70 clusters\n",
      "Processing clusters:  14%|█▍        | 70/486 [21:27<1:44:45, 15.11s/it]INFO:cluster_analysis_20250714_125812.log:Using Anthropic Claude API\n"
     ]
    },
    {
     "name": "stdout",
     "output_type": "stream",
     "text": [
      "Using provided template string\n",
      "Appending output format instructions to template\n",
      "Added 13 gene feature descriptions to prompt\n"
     ]
    },
    {
     "name": "stderr",
     "output_type": "stream",
     "text": [
      "INFO:cluster_analysis_20250714_125812.log:Anthropic API call successful: model=claude-3-7-sonnet-20250219\n",
      "INFO:cluster_analysis_20250714_125812.log:Success for cluster 70\n",
      "Processing clusters:  15%|█▍        | 71/486 [21:41<1:43:34, 14.98s/it]INFO:cluster_analysis_20250714_125812.log:Using Anthropic Claude API\n"
     ]
    },
    {
     "name": "stdout",
     "output_type": "stream",
     "text": [
      "Using provided template string\n",
      "Appending output format instructions to template\n",
      "Added 13 gene feature descriptions to prompt\n"
     ]
    },
    {
     "name": "stderr",
     "output_type": "stream",
     "text": [
      "INFO:cluster_analysis_20250714_125812.log:Anthropic API call successful: model=claude-3-7-sonnet-20250219\n",
      "INFO:cluster_analysis_20250714_125812.log:Success for cluster 71\n",
      "Processing clusters:  15%|█▍        | 72/486 [21:56<1:42:09, 14.81s/it]INFO:cluster_analysis_20250714_125812.log:Using Anthropic Claude API\n"
     ]
    },
    {
     "name": "stdout",
     "output_type": "stream",
     "text": [
      "Using provided template string\n",
      "Appending output format instructions to template\n",
      "Added 13 gene feature descriptions to prompt\n"
     ]
    },
    {
     "name": "stderr",
     "output_type": "stream",
     "text": [
      "INFO:cluster_analysis_20250714_125812.log:Anthropic API call successful: model=claude-3-7-sonnet-20250219\n",
      "INFO:cluster_analysis_20250714_125812.log:Success for cluster 72\n",
      "Processing clusters:  15%|█▌        | 73/486 [22:19<1:58:57, 17.28s/it]INFO:cluster_analysis_20250714_125812.log:Using Anthropic Claude API\n"
     ]
    },
    {
     "name": "stdout",
     "output_type": "stream",
     "text": [
      "Using provided template string\n",
      "Appending output format instructions to template\n",
      "Added 13 gene feature descriptions to prompt\n"
     ]
    },
    {
     "name": "stderr",
     "output_type": "stream",
     "text": [
      "INFO:cluster_analysis_20250714_125812.log:Anthropic API call successful: model=claude-3-7-sonnet-20250219\n",
      "INFO:cluster_analysis_20250714_125812.log:Success for cluster 73\n",
      "Processing clusters:  15%|█▌        | 74/486 [22:41<2:09:27, 18.85s/it]INFO:cluster_analysis_20250714_125812.log:Using Anthropic Claude API\n"
     ]
    },
    {
     "name": "stdout",
     "output_type": "stream",
     "text": [
      "Using provided template string\n",
      "Appending output format instructions to template\n",
      "Added 13 gene feature descriptions to prompt\n"
     ]
    },
    {
     "name": "stderr",
     "output_type": "stream",
     "text": [
      "INFO:cluster_analysis_20250714_125812.log:Anthropic API call successful: model=claude-3-7-sonnet-20250219\n",
      "INFO:cluster_analysis_20250714_125812.log:Success for cluster 74\n",
      "INFO:cluster_analysis_20250714_125812.log:Saved progress for 75 clusters\n",
      "Processing clusters:  15%|█▌        | 75/486 [22:57<2:02:28, 17.88s/it]INFO:cluster_analysis_20250714_125812.log:Using Anthropic Claude API\n"
     ]
    },
    {
     "name": "stdout",
     "output_type": "stream",
     "text": [
      "Using provided template string\n",
      "Appending output format instructions to template\n",
      "Added 13 gene feature descriptions to prompt\n"
     ]
    },
    {
     "name": "stderr",
     "output_type": "stream",
     "text": [
      "INFO:cluster_analysis_20250714_125812.log:Anthropic API call successful: model=claude-3-7-sonnet-20250219\n",
      "INFO:cluster_analysis_20250714_125812.log:Success for cluster 75\n",
      "Processing clusters:  16%|█▌        | 76/486 [23:11<1:54:42, 16.79s/it]INFO:cluster_analysis_20250714_125812.log:Using Anthropic Claude API\n"
     ]
    },
    {
     "name": "stdout",
     "output_type": "stream",
     "text": [
      "Using provided template string\n",
      "Appending output format instructions to template\n",
      "Added 13 gene feature descriptions to prompt\n"
     ]
    },
    {
     "name": "stderr",
     "output_type": "stream",
     "text": [
      "INFO:cluster_analysis_20250714_125812.log:Anthropic API call successful: model=claude-3-7-sonnet-20250219\n",
      "INFO:cluster_analysis_20250714_125812.log:Success for cluster 76\n",
      "Processing clusters:  16%|█▌        | 77/486 [23:25<1:49:14, 16.03s/it]INFO:cluster_analysis_20250714_125812.log:Using Anthropic Claude API\n"
     ]
    },
    {
     "name": "stdout",
     "output_type": "stream",
     "text": [
      "Using provided template string\n",
      "Appending output format instructions to template\n",
      "Added 13 gene feature descriptions to prompt\n"
     ]
    },
    {
     "name": "stderr",
     "output_type": "stream",
     "text": [
      "INFO:cluster_analysis_20250714_125812.log:Anthropic API call successful: model=claude-3-7-sonnet-20250219\n",
      "INFO:cluster_analysis_20250714_125812.log:Success for cluster 77\n",
      "Processing clusters:  16%|█▌        | 78/486 [23:40<1:46:21, 15.64s/it]INFO:cluster_analysis_20250714_125812.log:Using Anthropic Claude API\n"
     ]
    },
    {
     "name": "stdout",
     "output_type": "stream",
     "text": [
      "Using provided template string\n",
      "Appending output format instructions to template\n",
      "Added 13 gene feature descriptions to prompt\n"
     ]
    },
    {
     "name": "stderr",
     "output_type": "stream",
     "text": [
      "INFO:cluster_analysis_20250714_125812.log:Anthropic API call successful: model=claude-3-7-sonnet-20250219\n",
      "INFO:cluster_analysis_20250714_125812.log:Success for cluster 78\n",
      "Processing clusters:  16%|█▋        | 79/486 [23:58<1:49:55, 16.21s/it]INFO:cluster_analysis_20250714_125812.log:Using Anthropic Claude API\n"
     ]
    },
    {
     "name": "stdout",
     "output_type": "stream",
     "text": [
      "Using provided template string\n",
      "Appending output format instructions to template\n",
      "Added 13 gene feature descriptions to prompt\n"
     ]
    },
    {
     "name": "stderr",
     "output_type": "stream",
     "text": [
      "INFO:cluster_analysis_20250714_125812.log:Anthropic API call successful: model=claude-3-7-sonnet-20250219\n",
      "INFO:cluster_analysis_20250714_125812.log:Success for cluster 79\n",
      "INFO:cluster_analysis_20250714_125812.log:Saved progress for 80 clusters\n",
      "Processing clusters:  16%|█▋        | 80/486 [24:14<1:49:16, 16.15s/it]INFO:cluster_analysis_20250714_125812.log:Using Anthropic Claude API\n"
     ]
    },
    {
     "name": "stdout",
     "output_type": "stream",
     "text": [
      "Using provided template string\n",
      "Appending output format instructions to template\n",
      "Added 13 gene feature descriptions to prompt\n"
     ]
    },
    {
     "name": "stderr",
     "output_type": "stream",
     "text": [
      "INFO:cluster_analysis_20250714_125812.log:Anthropic API call successful: model=claude-3-7-sonnet-20250219\n",
      "INFO:cluster_analysis_20250714_125812.log:Success for cluster 80\n",
      "Processing clusters:  17%|█▋        | 81/486 [24:24<1:37:41, 14.47s/it]INFO:cluster_analysis_20250714_125812.log:Using Anthropic Claude API\n"
     ]
    },
    {
     "name": "stdout",
     "output_type": "stream",
     "text": [
      "Using provided template string\n",
      "Appending output format instructions to template\n",
      "Added 13 gene feature descriptions to prompt\n"
     ]
    },
    {
     "name": "stderr",
     "output_type": "stream",
     "text": [
      "INFO:cluster_analysis_20250714_125812.log:Anthropic API call successful: model=claude-3-7-sonnet-20250219\n",
      "INFO:cluster_analysis_20250714_125812.log:Success for cluster 81\n",
      "Processing clusters:  17%|█▋        | 82/486 [24:43<1:45:14, 15.63s/it]INFO:cluster_analysis_20250714_125812.log:Using Anthropic Claude API\n"
     ]
    },
    {
     "name": "stdout",
     "output_type": "stream",
     "text": [
      "Using provided template string\n",
      "Appending output format instructions to template\n",
      "Added 13 gene feature descriptions to prompt\n"
     ]
    },
    {
     "name": "stderr",
     "output_type": "stream",
     "text": [
      "INFO:cluster_analysis_20250714_125812.log:Anthropic API call successful: model=claude-3-7-sonnet-20250219\n",
      "INFO:cluster_analysis_20250714_125812.log:Success for cluster 82\n",
      "Processing clusters:  17%|█▋        | 83/486 [24:56<1:41:27, 15.11s/it]INFO:cluster_analysis_20250714_125812.log:Using Anthropic Claude API\n"
     ]
    },
    {
     "name": "stdout",
     "output_type": "stream",
     "text": [
      "Using provided template string\n",
      "Appending output format instructions to template\n",
      "Added 12 gene feature descriptions to prompt\n"
     ]
    },
    {
     "name": "stderr",
     "output_type": "stream",
     "text": [
      "INFO:cluster_analysis_20250714_125812.log:Anthropic API call successful: model=claude-3-7-sonnet-20250219\n",
      "INFO:cluster_analysis_20250714_125812.log:Success for cluster 83\n",
      "Processing clusters:  17%|█▋        | 84/486 [25:15<1:47:41, 16.07s/it]INFO:cluster_analysis_20250714_125812.log:Using Anthropic Claude API\n"
     ]
    },
    {
     "name": "stdout",
     "output_type": "stream",
     "text": [
      "Using provided template string\n",
      "Appending output format instructions to template\n",
      "Added 12 gene feature descriptions to prompt\n"
     ]
    },
    {
     "name": "stderr",
     "output_type": "stream",
     "text": [
      "INFO:cluster_analysis_20250714_125812.log:Anthropic API call successful: model=claude-3-7-sonnet-20250219\n",
      "INFO:cluster_analysis_20250714_125812.log:Success for cluster 84\n",
      "INFO:cluster_analysis_20250714_125812.log:Saved progress for 85 clusters\n",
      "Processing clusters:  17%|█▋        | 85/486 [25:30<1:46:27, 15.93s/it]INFO:cluster_analysis_20250714_125812.log:Using Anthropic Claude API\n"
     ]
    },
    {
     "name": "stdout",
     "output_type": "stream",
     "text": [
      "Using provided template string\n",
      "Appending output format instructions to template\n",
      "Added 12 gene feature descriptions to prompt\n"
     ]
    },
    {
     "name": "stderr",
     "output_type": "stream",
     "text": [
      "INFO:cluster_analysis_20250714_125812.log:Anthropic API call successful: model=claude-3-7-sonnet-20250219\n",
      "INFO:cluster_analysis_20250714_125812.log:Success for cluster 85\n",
      "Processing clusters:  18%|█▊        | 86/486 [25:49<1:51:03, 16.66s/it]INFO:cluster_analysis_20250714_125812.log:Using Anthropic Claude API\n"
     ]
    },
    {
     "name": "stdout",
     "output_type": "stream",
     "text": [
      "Using provided template string\n",
      "Appending output format instructions to template\n",
      "Added 12 gene feature descriptions to prompt\n"
     ]
    },
    {
     "name": "stderr",
     "output_type": "stream",
     "text": [
      "INFO:cluster_analysis_20250714_125812.log:Anthropic API call successful: model=claude-3-7-sonnet-20250219\n",
      "INFO:cluster_analysis_20250714_125812.log:Success for cluster 86\n",
      "Processing clusters:  18%|█▊        | 87/486 [26:02<1:44:10, 15.66s/it]INFO:cluster_analysis_20250714_125812.log:Using Anthropic Claude API\n"
     ]
    },
    {
     "name": "stdout",
     "output_type": "stream",
     "text": [
      "Using provided template string\n",
      "Appending output format instructions to template\n",
      "Added 12 gene feature descriptions to prompt\n"
     ]
    },
    {
     "name": "stderr",
     "output_type": "stream",
     "text": [
      "INFO:cluster_analysis_20250714_125812.log:Anthropic API call successful: model=claude-3-7-sonnet-20250219\n",
      "INFO:cluster_analysis_20250714_125812.log:Success for cluster 87\n",
      "Processing clusters:  18%|█▊        | 88/486 [26:18<1:43:42, 15.63s/it]INFO:cluster_analysis_20250714_125812.log:Using Anthropic Claude API\n"
     ]
    },
    {
     "name": "stdout",
     "output_type": "stream",
     "text": [
      "Using provided template string\n",
      "Appending output format instructions to template\n",
      "Added 12 gene feature descriptions to prompt\n"
     ]
    },
    {
     "name": "stderr",
     "output_type": "stream",
     "text": [
      "INFO:cluster_analysis_20250714_125812.log:Anthropic API call successful: model=claude-3-7-sonnet-20250219\n",
      "INFO:cluster_analysis_20250714_125812.log:Success for cluster 88\n",
      "Processing clusters:  18%|█▊        | 89/486 [26:36<1:47:59, 16.32s/it]INFO:cluster_analysis_20250714_125812.log:Using Anthropic Claude API\n"
     ]
    },
    {
     "name": "stdout",
     "output_type": "stream",
     "text": [
      "Using provided template string\n",
      "Appending output format instructions to template\n",
      "Added 12 gene feature descriptions to prompt\n"
     ]
    },
    {
     "name": "stderr",
     "output_type": "stream",
     "text": [
      "INFO:cluster_analysis_20250714_125812.log:Anthropic API call successful: model=claude-3-7-sonnet-20250219\n",
      "INFO:cluster_analysis_20250714_125812.log:Success for cluster 89\n",
      "INFO:cluster_analysis_20250714_125812.log:Saved progress for 90 clusters\n",
      "Processing clusters:  19%|█▊        | 90/486 [26:49<1:41:48, 15.42s/it]INFO:cluster_analysis_20250714_125812.log:Using Anthropic Claude API\n"
     ]
    },
    {
     "name": "stdout",
     "output_type": "stream",
     "text": [
      "Using provided template string\n",
      "Appending output format instructions to template\n",
      "Added 12 gene feature descriptions to prompt\n"
     ]
    },
    {
     "name": "stderr",
     "output_type": "stream",
     "text": [
      "INFO:cluster_analysis_20250714_125812.log:Anthropic API call successful: model=claude-3-7-sonnet-20250219\n",
      "INFO:cluster_analysis_20250714_125812.log:Success for cluster 90\n",
      "Processing clusters:  19%|█▊        | 91/486 [27:06<1:45:46, 16.07s/it]INFO:cluster_analysis_20250714_125812.log:Using Anthropic Claude API\n"
     ]
    },
    {
     "name": "stdout",
     "output_type": "stream",
     "text": [
      "Using provided template string\n",
      "Appending output format instructions to template\n",
      "Added 12 gene feature descriptions to prompt\n"
     ]
    },
    {
     "name": "stderr",
     "output_type": "stream",
     "text": [
      "INFO:cluster_analysis_20250714_125812.log:Anthropic API call successful: model=claude-3-7-sonnet-20250219\n",
      "INFO:cluster_analysis_20250714_125812.log:Success for cluster 91\n",
      "Processing clusters:  19%|█▉        | 92/486 [27:21<1:43:20, 15.74s/it]INFO:cluster_analysis_20250714_125812.log:Using Anthropic Claude API\n"
     ]
    },
    {
     "name": "stdout",
     "output_type": "stream",
     "text": [
      "Using provided template string\n",
      "Appending output format instructions to template\n",
      "Added 12 gene feature descriptions to prompt\n"
     ]
    },
    {
     "name": "stderr",
     "output_type": "stream",
     "text": [
      "INFO:cluster_analysis_20250714_125812.log:Anthropic API call successful: model=claude-3-7-sonnet-20250219\n",
      "INFO:cluster_analysis_20250714_125812.log:Success for cluster 92\n",
      "Processing clusters:  19%|█▉        | 93/486 [27:37<1:42:55, 15.71s/it]INFO:cluster_analysis_20250714_125812.log:Using Anthropic Claude API\n"
     ]
    },
    {
     "name": "stdout",
     "output_type": "stream",
     "text": [
      "Using provided template string\n",
      "Appending output format instructions to template\n",
      "Added 12 gene feature descriptions to prompt\n"
     ]
    },
    {
     "name": "stderr",
     "output_type": "stream",
     "text": [
      "INFO:cluster_analysis_20250714_125812.log:Anthropic API call successful: model=claude-3-7-sonnet-20250219\n",
      "INFO:cluster_analysis_20250714_125812.log:Success for cluster 93\n",
      "Processing clusters:  19%|█▉        | 94/486 [27:58<1:53:24, 17.36s/it]INFO:cluster_analysis_20250714_125812.log:Using Anthropic Claude API\n"
     ]
    },
    {
     "name": "stdout",
     "output_type": "stream",
     "text": [
      "Using provided template string\n",
      "Appending output format instructions to template\n",
      "Added 12 gene feature descriptions to prompt\n"
     ]
    },
    {
     "name": "stderr",
     "output_type": "stream",
     "text": [
      "INFO:cluster_analysis_20250714_125812.log:Anthropic API call successful: model=claude-3-7-sonnet-20250219\n",
      "INFO:cluster_analysis_20250714_125812.log:Success for cluster 94\n",
      "INFO:cluster_analysis_20250714_125812.log:Saved progress for 95 clusters\n",
      "Processing clusters:  20%|█▉        | 95/486 [28:12<1:45:27, 16.18s/it]INFO:cluster_analysis_20250714_125812.log:Using Anthropic Claude API\n"
     ]
    },
    {
     "name": "stdout",
     "output_type": "stream",
     "text": [
      "Using provided template string\n",
      "Appending output format instructions to template\n",
      "Added 12 gene feature descriptions to prompt\n"
     ]
    },
    {
     "name": "stderr",
     "output_type": "stream",
     "text": [
      "INFO:cluster_analysis_20250714_125812.log:Anthropic API call successful: model=claude-3-7-sonnet-20250219\n",
      "INFO:cluster_analysis_20250714_125812.log:Success for cluster 95\n",
      "Processing clusters:  20%|█▉        | 96/486 [28:31<1:51:54, 17.22s/it]INFO:cluster_analysis_20250714_125812.log:Using Anthropic Claude API\n"
     ]
    },
    {
     "name": "stdout",
     "output_type": "stream",
     "text": [
      "Using provided template string\n",
      "Appending output format instructions to template\n",
      "Added 12 gene feature descriptions to prompt\n"
     ]
    },
    {
     "name": "stderr",
     "output_type": "stream",
     "text": [
      "INFO:cluster_analysis_20250714_125812.log:Anthropic API call successful: model=claude-3-7-sonnet-20250219\n",
      "INFO:cluster_analysis_20250714_125812.log:Success for cluster 96\n",
      "Processing clusters:  20%|█▉        | 97/486 [28:51<1:56:31, 17.97s/it]INFO:cluster_analysis_20250714_125812.log:Using Anthropic Claude API\n"
     ]
    },
    {
     "name": "stdout",
     "output_type": "stream",
     "text": [
      "Using provided template string\n",
      "Appending output format instructions to template\n",
      "Added 12 gene feature descriptions to prompt\n"
     ]
    },
    {
     "name": "stderr",
     "output_type": "stream",
     "text": [
      "INFO:cluster_analysis_20250714_125812.log:Anthropic API call successful: model=claude-3-7-sonnet-20250219\n",
      "INFO:cluster_analysis_20250714_125812.log:Success for cluster 97\n",
      "Processing clusters:  20%|██        | 98/486 [29:05<1:48:33, 16.79s/it]INFO:cluster_analysis_20250714_125812.log:Using Anthropic Claude API\n"
     ]
    },
    {
     "name": "stdout",
     "output_type": "stream",
     "text": [
      "Using provided template string\n",
      "Appending output format instructions to template\n",
      "Added 12 gene feature descriptions to prompt\n"
     ]
    },
    {
     "name": "stderr",
     "output_type": "stream",
     "text": [
      "INFO:cluster_analysis_20250714_125812.log:Anthropic API call successful: model=claude-3-7-sonnet-20250219\n",
      "INFO:cluster_analysis_20250714_125812.log:Success for cluster 98\n",
      "Processing clusters:  20%|██        | 99/486 [29:19<1:42:07, 15.83s/it]INFO:cluster_analysis_20250714_125812.log:Using Anthropic Claude API\n"
     ]
    },
    {
     "name": "stdout",
     "output_type": "stream",
     "text": [
      "Using provided template string\n",
      "Appending output format instructions to template\n",
      "Added 12 gene feature descriptions to prompt\n"
     ]
    },
    {
     "name": "stderr",
     "output_type": "stream",
     "text": [
      "INFO:cluster_analysis_20250714_125812.log:Anthropic API call successful: model=claude-3-7-sonnet-20250219\n",
      "INFO:cluster_analysis_20250714_125812.log:Success for cluster 99\n",
      "INFO:cluster_analysis_20250714_125812.log:Saved progress for 100 clusters\n",
      "Processing clusters:  21%|██        | 100/486 [29:33<1:38:30, 15.31s/it]INFO:cluster_analysis_20250714_125812.log:Using Anthropic Claude API\n"
     ]
    },
    {
     "name": "stdout",
     "output_type": "stream",
     "text": [
      "Using provided template string\n",
      "Appending output format instructions to template\n",
      "Added 12 gene feature descriptions to prompt\n"
     ]
    },
    {
     "name": "stderr",
     "output_type": "stream",
     "text": [
      "INFO:cluster_analysis_20250714_125812.log:Anthropic API call successful: model=claude-3-7-sonnet-20250219\n",
      "INFO:cluster_analysis_20250714_125812.log:Success for cluster 100\n",
      "Processing clusters:  21%|██        | 101/486 [29:50<1:41:26, 15.81s/it]INFO:cluster_analysis_20250714_125812.log:Using Anthropic Claude API\n"
     ]
    },
    {
     "name": "stdout",
     "output_type": "stream",
     "text": [
      "Using provided template string\n",
      "Appending output format instructions to template\n",
      "Added 12 gene feature descriptions to prompt\n"
     ]
    },
    {
     "name": "stderr",
     "output_type": "stream",
     "text": [
      "INFO:cluster_analysis_20250714_125812.log:Anthropic API call successful: model=claude-3-7-sonnet-20250219\n",
      "INFO:cluster_analysis_20250714_125812.log:Success for cluster 101\n",
      "Processing clusters:  21%|██        | 102/486 [30:00<1:30:30, 14.14s/it]INFO:cluster_analysis_20250714_125812.log:Using Anthropic Claude API\n"
     ]
    },
    {
     "name": "stdout",
     "output_type": "stream",
     "text": [
      "Using provided template string\n",
      "Appending output format instructions to template\n",
      "Added 12 gene feature descriptions to prompt\n"
     ]
    },
    {
     "name": "stderr",
     "output_type": "stream",
     "text": [
      "INFO:cluster_analysis_20250714_125812.log:Anthropic API call successful: model=claude-3-7-sonnet-20250219\n",
      "INFO:cluster_analysis_20250714_125812.log:Success for cluster 102\n",
      "Processing clusters:  21%|██        | 103/486 [30:15<1:32:35, 14.51s/it]INFO:cluster_analysis_20250714_125812.log:Using Anthropic Claude API\n"
     ]
    },
    {
     "name": "stdout",
     "output_type": "stream",
     "text": [
      "Using provided template string\n",
      "Appending output format instructions to template\n",
      "Added 12 gene feature descriptions to prompt\n"
     ]
    },
    {
     "name": "stderr",
     "output_type": "stream",
     "text": [
      "INFO:cluster_analysis_20250714_125812.log:Anthropic API call successful: model=claude-3-7-sonnet-20250219\n",
      "INFO:cluster_analysis_20250714_125812.log:Success for cluster 103\n",
      "Processing clusters:  21%|██▏       | 104/486 [30:32<1:37:10, 15.26s/it]INFO:cluster_analysis_20250714_125812.log:Using Anthropic Claude API\n"
     ]
    },
    {
     "name": "stdout",
     "output_type": "stream",
     "text": [
      "Using provided template string\n",
      "Appending output format instructions to template\n",
      "Added 12 gene feature descriptions to prompt\n"
     ]
    },
    {
     "name": "stderr",
     "output_type": "stream",
     "text": [
      "INFO:cluster_analysis_20250714_125812.log:Anthropic API call successful: model=claude-3-7-sonnet-20250219\n",
      "INFO:cluster_analysis_20250714_125812.log:Success for cluster 104\n",
      "INFO:cluster_analysis_20250714_125812.log:Saved progress for 105 clusters\n",
      "Processing clusters:  22%|██▏       | 105/486 [30:52<1:44:20, 16.43s/it]INFO:cluster_analysis_20250714_125812.log:Using Anthropic Claude API\n"
     ]
    },
    {
     "name": "stdout",
     "output_type": "stream",
     "text": [
      "Using provided template string\n",
      "Appending output format instructions to template\n",
      "Added 12 gene feature descriptions to prompt\n"
     ]
    },
    {
     "name": "stderr",
     "output_type": "stream",
     "text": [
      "INFO:cluster_analysis_20250714_125812.log:Anthropic API call successful: model=claude-3-7-sonnet-20250219\n",
      "INFO:cluster_analysis_20250714_125812.log:Success for cluster 105\n",
      "Processing clusters:  22%|██▏       | 106/486 [31:05<1:37:53, 15.46s/it]INFO:cluster_analysis_20250714_125812.log:Using Anthropic Claude API\n"
     ]
    },
    {
     "name": "stdout",
     "output_type": "stream",
     "text": [
      "Using provided template string\n",
      "Appending output format instructions to template\n",
      "Added 12 gene feature descriptions to prompt\n"
     ]
    },
    {
     "name": "stderr",
     "output_type": "stream",
     "text": [
      "INFO:cluster_analysis_20250714_125812.log:Anthropic API call successful: model=claude-3-7-sonnet-20250219\n",
      "INFO:cluster_analysis_20250714_125812.log:Success for cluster 106\n",
      "Processing clusters:  22%|██▏       | 107/486 [31:22<1:41:15, 16.03s/it]INFO:cluster_analysis_20250714_125812.log:Using Anthropic Claude API\n"
     ]
    },
    {
     "name": "stdout",
     "output_type": "stream",
     "text": [
      "Using provided template string\n",
      "Appending output format instructions to template\n",
      "Added 12 gene feature descriptions to prompt\n"
     ]
    },
    {
     "name": "stderr",
     "output_type": "stream",
     "text": [
      "INFO:cluster_analysis_20250714_125812.log:Anthropic API call successful: model=claude-3-7-sonnet-20250219\n",
      "INFO:cluster_analysis_20250714_125812.log:Success for cluster 107\n",
      "Processing clusters:  22%|██▏       | 108/486 [31:37<1:39:19, 15.77s/it]INFO:cluster_analysis_20250714_125812.log:Using Anthropic Claude API\n"
     ]
    },
    {
     "name": "stdout",
     "output_type": "stream",
     "text": [
      "Using provided template string\n",
      "Appending output format instructions to template\n",
      "Added 12 gene feature descriptions to prompt\n"
     ]
    },
    {
     "name": "stderr",
     "output_type": "stream",
     "text": [
      "INFO:cluster_analysis_20250714_125812.log:Anthropic API call successful: model=claude-3-7-sonnet-20250219\n",
      "INFO:cluster_analysis_20250714_125812.log:Success for cluster 108\n",
      "Processing clusters:  22%|██▏       | 109/486 [31:46<1:25:28, 13.60s/it]INFO:cluster_analysis_20250714_125812.log:Using Anthropic Claude API\n"
     ]
    },
    {
     "name": "stdout",
     "output_type": "stream",
     "text": [
      "Using provided template string\n",
      "Appending output format instructions to template\n",
      "Added 12 gene feature descriptions to prompt\n"
     ]
    },
    {
     "name": "stderr",
     "output_type": "stream",
     "text": [
      "INFO:cluster_analysis_20250714_125812.log:Anthropic API call successful: model=claude-3-7-sonnet-20250219\n",
      "INFO:cluster_analysis_20250714_125812.log:Success for cluster 109\n",
      "INFO:cluster_analysis_20250714_125812.log:Saved progress for 110 clusters\n",
      "Processing clusters:  23%|██▎       | 110/486 [32:04<1:34:23, 15.06s/it]INFO:cluster_analysis_20250714_125812.log:Using Anthropic Claude API\n"
     ]
    },
    {
     "name": "stdout",
     "output_type": "stream",
     "text": [
      "Using provided template string\n",
      "Appending output format instructions to template\n",
      "Added 12 gene feature descriptions to prompt\n"
     ]
    },
    {
     "name": "stderr",
     "output_type": "stream",
     "text": [
      "INFO:cluster_analysis_20250714_125812.log:Anthropic API call successful: model=claude-3-7-sonnet-20250219\n",
      "INFO:cluster_analysis_20250714_125812.log:Success for cluster 110\n",
      "Processing clusters:  23%|██▎       | 111/486 [32:18<1:31:51, 14.70s/it]INFO:cluster_analysis_20250714_125812.log:Using Anthropic Claude API\n"
     ]
    },
    {
     "name": "stdout",
     "output_type": "stream",
     "text": [
      "Using provided template string\n",
      "Appending output format instructions to template\n",
      "Added 12 gene feature descriptions to prompt\n"
     ]
    },
    {
     "name": "stderr",
     "output_type": "stream",
     "text": [
      "INFO:cluster_analysis_20250714_125812.log:Anthropic API call successful: model=claude-3-7-sonnet-20250219\n",
      "INFO:cluster_analysis_20250714_125812.log:Success for cluster 111\n",
      "Processing clusters:  23%|██▎       | 112/486 [32:34<1:33:18, 14.97s/it]INFO:cluster_analysis_20250714_125812.log:Using Anthropic Claude API\n"
     ]
    },
    {
     "name": "stdout",
     "output_type": "stream",
     "text": [
      "Using provided template string\n",
      "Appending output format instructions to template\n",
      "Added 12 gene feature descriptions to prompt\n"
     ]
    },
    {
     "name": "stderr",
     "output_type": "stream",
     "text": [
      "INFO:cluster_analysis_20250714_125812.log:Anthropic API call successful: model=claude-3-7-sonnet-20250219\n",
      "INFO:cluster_analysis_20250714_125812.log:Success for cluster 112\n",
      "Processing clusters:  23%|██▎       | 113/486 [32:47<1:28:54, 14.30s/it]INFO:cluster_analysis_20250714_125812.log:Using Anthropic Claude API\n"
     ]
    },
    {
     "name": "stdout",
     "output_type": "stream",
     "text": [
      "Using provided template string\n",
      "Appending output format instructions to template\n",
      "Added 12 gene feature descriptions to prompt\n"
     ]
    },
    {
     "name": "stderr",
     "output_type": "stream",
     "text": [
      "INFO:cluster_analysis_20250714_125812.log:Anthropic API call successful: model=claude-3-7-sonnet-20250219\n",
      "INFO:cluster_analysis_20250714_125812.log:Success for cluster 113\n",
      "Processing clusters:  23%|██▎       | 114/486 [32:58<1:24:14, 13.59s/it]INFO:cluster_analysis_20250714_125812.log:Using Anthropic Claude API\n"
     ]
    },
    {
     "name": "stdout",
     "output_type": "stream",
     "text": [
      "Using provided template string\n",
      "Appending output format instructions to template\n",
      "Added 12 gene feature descriptions to prompt\n"
     ]
    },
    {
     "name": "stderr",
     "output_type": "stream",
     "text": [
      "INFO:cluster_analysis_20250714_125812.log:Anthropic API call successful: model=claude-3-7-sonnet-20250219\n",
      "INFO:cluster_analysis_20250714_125812.log:Success for cluster 114\n",
      "INFO:cluster_analysis_20250714_125812.log:Saved progress for 115 clusters\n",
      "Processing clusters:  24%|██▎       | 115/486 [33:18<1:35:30, 15.45s/it]INFO:cluster_analysis_20250714_125812.log:Using Anthropic Claude API\n"
     ]
    },
    {
     "name": "stdout",
     "output_type": "stream",
     "text": [
      "Using provided template string\n",
      "Appending output format instructions to template\n",
      "Added 12 gene feature descriptions to prompt\n"
     ]
    },
    {
     "name": "stderr",
     "output_type": "stream",
     "text": [
      "INFO:cluster_analysis_20250714_125812.log:Anthropic API call successful: model=claude-3-7-sonnet-20250219\n",
      "INFO:cluster_analysis_20250714_125812.log:Success for cluster 115\n",
      "Processing clusters:  24%|██▍       | 116/486 [33:30<1:29:10, 14.46s/it]INFO:cluster_analysis_20250714_125812.log:Using Anthropic Claude API\n"
     ]
    },
    {
     "name": "stdout",
     "output_type": "stream",
     "text": [
      "Using provided template string\n",
      "Appending output format instructions to template\n",
      "Added 12 gene feature descriptions to prompt\n"
     ]
    },
    {
     "name": "stderr",
     "output_type": "stream",
     "text": [
      "INFO:cluster_analysis_20250714_125812.log:Anthropic API call successful: model=claude-3-7-sonnet-20250219\n",
      "INFO:cluster_analysis_20250714_125812.log:Success for cluster 116\n",
      "Processing clusters:  24%|██▍       | 117/486 [33:48<1:34:24, 15.35s/it]INFO:cluster_analysis_20250714_125812.log:Using Anthropic Claude API\n"
     ]
    },
    {
     "name": "stdout",
     "output_type": "stream",
     "text": [
      "Using provided template string\n",
      "Appending output format instructions to template\n",
      "Added 12 gene feature descriptions to prompt\n"
     ]
    },
    {
     "name": "stderr",
     "output_type": "stream",
     "text": [
      "INFO:cluster_analysis_20250714_125812.log:Anthropic API call successful: model=claude-3-7-sonnet-20250219\n",
      "INFO:cluster_analysis_20250714_125812.log:Success for cluster 117\n",
      "Processing clusters:  24%|██▍       | 118/486 [34:02<1:32:07, 15.02s/it]INFO:cluster_analysis_20250714_125812.log:Using Anthropic Claude API\n"
     ]
    },
    {
     "name": "stdout",
     "output_type": "stream",
     "text": [
      "Using provided template string\n",
      "Appending output format instructions to template\n",
      "Added 12 gene feature descriptions to prompt\n"
     ]
    },
    {
     "name": "stderr",
     "output_type": "stream",
     "text": [
      "INFO:cluster_analysis_20250714_125812.log:Anthropic API call successful: model=claude-3-7-sonnet-20250219\n",
      "INFO:cluster_analysis_20250714_125812.log:Success for cluster 118\n",
      "Processing clusters:  24%|██▍       | 119/486 [34:15<1:27:57, 14.38s/it]INFO:cluster_analysis_20250714_125812.log:Using Anthropic Claude API\n"
     ]
    },
    {
     "name": "stdout",
     "output_type": "stream",
     "text": [
      "Using provided template string\n",
      "Appending output format instructions to template\n",
      "Added 11 gene feature descriptions to prompt\n"
     ]
    },
    {
     "name": "stderr",
     "output_type": "stream",
     "text": [
      "INFO:cluster_analysis_20250714_125812.log:Anthropic API call successful: model=claude-3-7-sonnet-20250219\n",
      "INFO:cluster_analysis_20250714_125812.log:Success for cluster 119\n",
      "INFO:cluster_analysis_20250714_125812.log:Saved progress for 120 clusters\n",
      "Processing clusters:  25%|██▍       | 120/486 [34:29<1:28:01, 14.43s/it]INFO:cluster_analysis_20250714_125812.log:Using Anthropic Claude API\n"
     ]
    },
    {
     "name": "stdout",
     "output_type": "stream",
     "text": [
      "Using provided template string\n",
      "Appending output format instructions to template\n",
      "Added 11 gene feature descriptions to prompt\n"
     ]
    },
    {
     "name": "stderr",
     "output_type": "stream",
     "text": [
      "INFO:cluster_analysis_20250714_125812.log:Anthropic API call successful: model=claude-3-7-sonnet-20250219\n",
      "INFO:cluster_analysis_20250714_125812.log:Success for cluster 120\n",
      "Processing clusters:  25%|██▍       | 121/486 [34:45<1:30:33, 14.89s/it]INFO:cluster_analysis_20250714_125812.log:Using Anthropic Claude API\n"
     ]
    },
    {
     "name": "stdout",
     "output_type": "stream",
     "text": [
      "Using provided template string\n",
      "Appending output format instructions to template\n",
      "Added 11 gene feature descriptions to prompt\n"
     ]
    },
    {
     "name": "stderr",
     "output_type": "stream",
     "text": [
      "INFO:cluster_analysis_20250714_125812.log:Anthropic API call successful: model=claude-3-7-sonnet-20250219\n",
      "INFO:cluster_analysis_20250714_125812.log:Success for cluster 121\n",
      "Processing clusters:  25%|██▌       | 122/486 [34:56<1:22:40, 13.63s/it]INFO:cluster_analysis_20250714_125812.log:Using Anthropic Claude API\n"
     ]
    },
    {
     "name": "stdout",
     "output_type": "stream",
     "text": [
      "Using provided template string\n",
      "Appending output format instructions to template\n",
      "Added 11 gene feature descriptions to prompt\n"
     ]
    },
    {
     "name": "stderr",
     "output_type": "stream",
     "text": [
      "INFO:cluster_analysis_20250714_125812.log:Anthropic API call successful: model=claude-3-7-sonnet-20250219\n",
      "INFO:cluster_analysis_20250714_125812.log:Success for cluster 122\n",
      "Processing clusters:  25%|██▌       | 123/486 [35:16<1:32:50, 15.35s/it]INFO:cluster_analysis_20250714_125812.log:Using Anthropic Claude API\n"
     ]
    },
    {
     "name": "stdout",
     "output_type": "stream",
     "text": [
      "Using provided template string\n",
      "Appending output format instructions to template\n",
      "Added 11 gene feature descriptions to prompt\n"
     ]
    },
    {
     "name": "stderr",
     "output_type": "stream",
     "text": [
      "INFO:cluster_analysis_20250714_125812.log:Anthropic API call successful: model=claude-3-7-sonnet-20250219\n",
      "INFO:cluster_analysis_20250714_125812.log:Success for cluster 123\n",
      "Processing clusters:  26%|██▌       | 124/486 [35:31<1:32:24, 15.32s/it]INFO:cluster_analysis_20250714_125812.log:Using Anthropic Claude API\n"
     ]
    },
    {
     "name": "stdout",
     "output_type": "stream",
     "text": [
      "Using provided template string\n",
      "Appending output format instructions to template\n",
      "Added 11 gene feature descriptions to prompt\n"
     ]
    },
    {
     "name": "stderr",
     "output_type": "stream",
     "text": [
      "INFO:cluster_analysis_20250714_125812.log:Anthropic API call successful: model=claude-3-7-sonnet-20250219\n",
      "INFO:cluster_analysis_20250714_125812.log:Success for cluster 124\n",
      "INFO:cluster_analysis_20250714_125812.log:Saved progress for 125 clusters\n",
      "Processing clusters:  26%|██▌       | 125/486 [35:41<1:22:53, 13.78s/it]INFO:cluster_analysis_20250714_125812.log:Using Anthropic Claude API\n"
     ]
    },
    {
     "name": "stdout",
     "output_type": "stream",
     "text": [
      "Using provided template string\n",
      "Appending output format instructions to template\n",
      "Added 11 gene feature descriptions to prompt\n"
     ]
    },
    {
     "name": "stderr",
     "output_type": "stream",
     "text": [
      "INFO:cluster_analysis_20250714_125812.log:Anthropic API call successful: model=claude-3-7-sonnet-20250219\n",
      "INFO:cluster_analysis_20250714_125812.log:Success for cluster 125\n",
      "Processing clusters:  26%|██▌       | 126/486 [35:55<1:24:01, 14.00s/it]INFO:cluster_analysis_20250714_125812.log:Using Anthropic Claude API\n"
     ]
    },
    {
     "name": "stdout",
     "output_type": "stream",
     "text": [
      "Using provided template string\n",
      "Appending output format instructions to template\n",
      "Added 11 gene feature descriptions to prompt\n"
     ]
    },
    {
     "name": "stderr",
     "output_type": "stream",
     "text": [
      "INFO:cluster_analysis_20250714_125812.log:Anthropic API call successful: model=claude-3-7-sonnet-20250219\n",
      "INFO:cluster_analysis_20250714_125812.log:Success for cluster 126\n",
      "Processing clusters:  26%|██▌       | 127/486 [36:08<1:21:36, 13.64s/it]INFO:cluster_analysis_20250714_125812.log:Using Anthropic Claude API\n"
     ]
    },
    {
     "name": "stdout",
     "output_type": "stream",
     "text": [
      "Using provided template string\n",
      "Appending output format instructions to template\n",
      "Added 11 gene feature descriptions to prompt\n"
     ]
    },
    {
     "name": "stderr",
     "output_type": "stream",
     "text": [
      "INFO:cluster_analysis_20250714_125812.log:Anthropic API call successful: model=claude-3-7-sonnet-20250219\n",
      "INFO:cluster_analysis_20250714_125812.log:Success for cluster 127\n",
      "Processing clusters:  26%|██▋       | 128/486 [36:22<1:21:23, 13.64s/it]INFO:cluster_analysis_20250714_125812.log:Using Anthropic Claude API\n"
     ]
    },
    {
     "name": "stdout",
     "output_type": "stream",
     "text": [
      "Using provided template string\n",
      "Appending output format instructions to template\n",
      "Added 11 gene feature descriptions to prompt\n"
     ]
    },
    {
     "name": "stderr",
     "output_type": "stream",
     "text": [
      "INFO:cluster_analysis_20250714_125812.log:Anthropic API call successful: model=claude-3-7-sonnet-20250219\n",
      "INFO:cluster_analysis_20250714_125812.log:Success for cluster 128\n",
      "Processing clusters:  27%|██▋       | 129/486 [36:35<1:21:04, 13.62s/it]INFO:cluster_analysis_20250714_125812.log:Using Anthropic Claude API\n"
     ]
    },
    {
     "name": "stdout",
     "output_type": "stream",
     "text": [
      "Using provided template string\n",
      "Appending output format instructions to template\n",
      "Added 11 gene feature descriptions to prompt\n"
     ]
    },
    {
     "name": "stderr",
     "output_type": "stream",
     "text": [
      "INFO:cluster_analysis_20250714_125812.log:Anthropic API call successful: model=claude-3-7-sonnet-20250219\n",
      "INFO:cluster_analysis_20250714_125812.log:Success for cluster 129\n",
      "INFO:cluster_analysis_20250714_125812.log:Saved progress for 130 clusters\n",
      "Processing clusters:  27%|██▋       | 130/486 [36:48<1:18:05, 13.16s/it]INFO:cluster_analysis_20250714_125812.log:Using Anthropic Claude API\n"
     ]
    },
    {
     "name": "stdout",
     "output_type": "stream",
     "text": [
      "Using provided template string\n",
      "Appending output format instructions to template\n",
      "Added 11 gene feature descriptions to prompt\n"
     ]
    },
    {
     "name": "stderr",
     "output_type": "stream",
     "text": [
      "INFO:cluster_analysis_20250714_125812.log:Anthropic API call successful: model=claude-3-7-sonnet-20250219\n",
      "INFO:cluster_analysis_20250714_125812.log:Success for cluster 130\n",
      "Processing clusters:  27%|██▋       | 131/486 [37:01<1:17:43, 13.14s/it]INFO:cluster_analysis_20250714_125812.log:Using Anthropic Claude API\n"
     ]
    },
    {
     "name": "stdout",
     "output_type": "stream",
     "text": [
      "Using provided template string\n",
      "Appending output format instructions to template\n",
      "Added 11 gene feature descriptions to prompt\n"
     ]
    },
    {
     "name": "stderr",
     "output_type": "stream",
     "text": [
      "INFO:cluster_analysis_20250714_125812.log:Anthropic API call successful: model=claude-3-7-sonnet-20250219\n",
      "INFO:cluster_analysis_20250714_125812.log:Success for cluster 131\n",
      "Processing clusters:  27%|██▋       | 132/486 [37:14<1:18:16, 13.27s/it]INFO:cluster_analysis_20250714_125812.log:Using Anthropic Claude API\n"
     ]
    },
    {
     "name": "stdout",
     "output_type": "stream",
     "text": [
      "Using provided template string\n",
      "Appending output format instructions to template\n",
      "Added 11 gene feature descriptions to prompt\n"
     ]
    },
    {
     "name": "stderr",
     "output_type": "stream",
     "text": [
      "INFO:cluster_analysis_20250714_125812.log:Anthropic API call successful: model=claude-3-7-sonnet-20250219\n",
      "INFO:cluster_analysis_20250714_125812.log:Success for cluster 132\n",
      "Processing clusters:  27%|██▋       | 133/486 [37:28<1:19:00, 13.43s/it]INFO:cluster_analysis_20250714_125812.log:Using Anthropic Claude API\n"
     ]
    },
    {
     "name": "stdout",
     "output_type": "stream",
     "text": [
      "Using provided template string\n",
      "Appending output format instructions to template\n",
      "Added 11 gene feature descriptions to prompt\n"
     ]
    },
    {
     "name": "stderr",
     "output_type": "stream",
     "text": [
      "INFO:cluster_analysis_20250714_125812.log:Anthropic API call successful: model=claude-3-7-sonnet-20250219\n",
      "INFO:cluster_analysis_20250714_125812.log:Success for cluster 133\n",
      "Processing clusters:  28%|██▊       | 134/486 [37:42<1:19:27, 13.54s/it]INFO:cluster_analysis_20250714_125812.log:Using Anthropic Claude API\n"
     ]
    },
    {
     "name": "stdout",
     "output_type": "stream",
     "text": [
      "Using provided template string\n",
      "Appending output format instructions to template\n",
      "Added 11 gene feature descriptions to prompt\n"
     ]
    },
    {
     "name": "stderr",
     "output_type": "stream",
     "text": [
      "INFO:cluster_analysis_20250714_125812.log:Anthropic API call successful: model=claude-3-7-sonnet-20250219\n",
      "INFO:cluster_analysis_20250714_125812.log:Success for cluster 134\n",
      "INFO:cluster_analysis_20250714_125812.log:Saved progress for 135 clusters\n",
      "Processing clusters:  28%|██▊       | 135/486 [37:58<1:24:41, 14.48s/it]INFO:cluster_analysis_20250714_125812.log:Using Anthropic Claude API\n"
     ]
    },
    {
     "name": "stdout",
     "output_type": "stream",
     "text": [
      "Using provided template string\n",
      "Appending output format instructions to template\n",
      "Added 11 gene feature descriptions to prompt\n"
     ]
    },
    {
     "name": "stderr",
     "output_type": "stream",
     "text": [
      "INFO:cluster_analysis_20250714_125812.log:Anthropic API call successful: model=claude-3-7-sonnet-20250219\n",
      "INFO:cluster_analysis_20250714_125812.log:Success for cluster 135\n",
      "Processing clusters:  28%|██▊       | 136/486 [38:25<1:46:16, 18.22s/it]INFO:cluster_analysis_20250714_125812.log:Using Anthropic Claude API\n"
     ]
    },
    {
     "name": "stdout",
     "output_type": "stream",
     "text": [
      "Using provided template string\n",
      "Appending output format instructions to template\n",
      "Added 11 gene feature descriptions to prompt\n"
     ]
    },
    {
     "name": "stderr",
     "output_type": "stream",
     "text": [
      "ERROR: Attempt 1/3 failed: Error code: 529 - {'type': 'error', 'error': {'type': 'overloaded_error', 'message': 'Overloaded'}}\n",
      "ERROR:cluster_analysis_20250714_125812.log:Attempt 1/3 failed: Error code: 529 - {'type': 'error', 'error': {'type': 'overloaded_error', 'message': 'Overloaded'}}\n",
      "INFO:cluster_analysis_20250714_125812.log:Anthropic API call successful: model=claude-3-7-sonnet-20250219\n",
      "INFO:cluster_analysis_20250714_125812.log:Success for cluster 136\n",
      "Processing clusters:  28%|██▊       | 137/486 [38:46<1:49:45, 18.87s/it]INFO:cluster_analysis_20250714_125812.log:Using Anthropic Claude API\n"
     ]
    },
    {
     "name": "stdout",
     "output_type": "stream",
     "text": [
      "Using provided template string\n",
      "Appending output format instructions to template\n",
      "Added 11 gene feature descriptions to prompt\n"
     ]
    },
    {
     "name": "stderr",
     "output_type": "stream",
     "text": [
      "INFO:cluster_analysis_20250714_125812.log:Anthropic API call successful: model=claude-3-7-sonnet-20250219\n",
      "INFO:cluster_analysis_20250714_125812.log:Success for cluster 137\n",
      "Processing clusters:  28%|██▊       | 138/486 [38:56<1:33:40, 16.15s/it]INFO:cluster_analysis_20250714_125812.log:Using Anthropic Claude API\n"
     ]
    },
    {
     "name": "stdout",
     "output_type": "stream",
     "text": [
      "Using provided template string\n",
      "Appending output format instructions to template\n",
      "Added 11 gene feature descriptions to prompt\n"
     ]
    },
    {
     "name": "stderr",
     "output_type": "stream",
     "text": [
      "INFO:cluster_analysis_20250714_125812.log:Anthropic API call successful: model=claude-3-7-sonnet-20250219\n",
      "INFO:cluster_analysis_20250714_125812.log:Success for cluster 138\n",
      "Processing clusters:  29%|██▊       | 139/486 [39:10<1:29:27, 15.47s/it]INFO:cluster_analysis_20250714_125812.log:Using Anthropic Claude API\n"
     ]
    },
    {
     "name": "stdout",
     "output_type": "stream",
     "text": [
      "Using provided template string\n",
      "Appending output format instructions to template\n",
      "Added 11 gene feature descriptions to prompt\n"
     ]
    },
    {
     "name": "stderr",
     "output_type": "stream",
     "text": [
      "INFO:cluster_analysis_20250714_125812.log:Anthropic API call successful: model=claude-3-7-sonnet-20250219\n",
      "INFO:cluster_analysis_20250714_125812.log:Success for cluster 139\n",
      "INFO:cluster_analysis_20250714_125812.log:Saved progress for 140 clusters\n",
      "Processing clusters:  29%|██▉       | 140/486 [39:24<1:27:07, 15.11s/it]INFO:cluster_analysis_20250714_125812.log:Using Anthropic Claude API\n"
     ]
    },
    {
     "name": "stdout",
     "output_type": "stream",
     "text": [
      "Using provided template string\n",
      "Appending output format instructions to template\n",
      "Added 11 gene feature descriptions to prompt\n"
     ]
    },
    {
     "name": "stderr",
     "output_type": "stream",
     "text": [
      "INFO:cluster_analysis_20250714_125812.log:Anthropic API call successful: model=claude-3-7-sonnet-20250219\n",
      "INFO:cluster_analysis_20250714_125812.log:Success for cluster 140\n",
      "Processing clusters:  29%|██▉       | 141/486 [39:41<1:30:54, 15.81s/it]INFO:cluster_analysis_20250714_125812.log:Using Anthropic Claude API\n"
     ]
    },
    {
     "name": "stdout",
     "output_type": "stream",
     "text": [
      "Using provided template string\n",
      "Appending output format instructions to template\n",
      "Added 11 gene feature descriptions to prompt\n"
     ]
    },
    {
     "name": "stderr",
     "output_type": "stream",
     "text": [
      "INFO:cluster_analysis_20250714_125812.log:Anthropic API call successful: model=claude-3-7-sonnet-20250219\n",
      "INFO:cluster_analysis_20250714_125812.log:Success for cluster 141\n",
      "Processing clusters:  29%|██▉       | 142/486 [39:54<1:25:15, 14.87s/it]INFO:cluster_analysis_20250714_125812.log:Using Anthropic Claude API\n"
     ]
    },
    {
     "name": "stdout",
     "output_type": "stream",
     "text": [
      "Using provided template string\n",
      "Appending output format instructions to template\n",
      "Added 11 gene feature descriptions to prompt\n"
     ]
    },
    {
     "name": "stderr",
     "output_type": "stream",
     "text": [
      "INFO:cluster_analysis_20250714_125812.log:Anthropic API call successful: model=claude-3-7-sonnet-20250219\n",
      "INFO:cluster_analysis_20250714_125812.log:Success for cluster 142\n",
      "Processing clusters:  29%|██▉       | 143/486 [40:13<1:31:43, 16.04s/it]INFO:cluster_analysis_20250714_125812.log:Using Anthropic Claude API\n"
     ]
    },
    {
     "name": "stdout",
     "output_type": "stream",
     "text": [
      "Using provided template string\n",
      "Appending output format instructions to template\n",
      "Added 11 gene feature descriptions to prompt\n"
     ]
    },
    {
     "name": "stderr",
     "output_type": "stream",
     "text": [
      "INFO:cluster_analysis_20250714_125812.log:Anthropic API call successful: model=claude-3-7-sonnet-20250219\n",
      "INFO:cluster_analysis_20250714_125812.log:Success for cluster 143\n",
      "Processing clusters:  30%|██▉       | 144/486 [40:23<1:22:25, 14.46s/it]INFO:cluster_analysis_20250714_125812.log:Using Anthropic Claude API\n"
     ]
    },
    {
     "name": "stdout",
     "output_type": "stream",
     "text": [
      "Using provided template string\n",
      "Appending output format instructions to template\n",
      "Added 11 gene feature descriptions to prompt\n"
     ]
    },
    {
     "name": "stderr",
     "output_type": "stream",
     "text": [
      "INFO:cluster_analysis_20250714_125812.log:Anthropic API call successful: model=claude-3-7-sonnet-20250219\n",
      "INFO:cluster_analysis_20250714_125812.log:Success for cluster 144\n",
      "INFO:cluster_analysis_20250714_125812.log:Saved progress for 145 clusters\n",
      "Processing clusters:  30%|██▉       | 145/486 [40:41<1:26:46, 15.27s/it]INFO:cluster_analysis_20250714_125812.log:Using Anthropic Claude API\n"
     ]
    },
    {
     "name": "stdout",
     "output_type": "stream",
     "text": [
      "Using provided template string\n",
      "Appending output format instructions to template\n",
      "Added 11 gene feature descriptions to prompt\n"
     ]
    },
    {
     "name": "stderr",
     "output_type": "stream",
     "text": [
      "INFO:cluster_analysis_20250714_125812.log:Anthropic API call successful: model=claude-3-7-sonnet-20250219\n",
      "INFO:cluster_analysis_20250714_125812.log:Success for cluster 145\n",
      "Processing clusters:  30%|███       | 146/486 [40:58<1:30:58, 16.05s/it]INFO:cluster_analysis_20250714_125812.log:Using Anthropic Claude API\n"
     ]
    },
    {
     "name": "stdout",
     "output_type": "stream",
     "text": [
      "Using provided template string\n",
      "Appending output format instructions to template\n",
      "Added 11 gene feature descriptions to prompt\n"
     ]
    },
    {
     "name": "stderr",
     "output_type": "stream",
     "text": [
      "INFO:cluster_analysis_20250714_125812.log:Anthropic API call successful: model=claude-3-7-sonnet-20250219\n",
      "INFO:cluster_analysis_20250714_125812.log:Success for cluster 146\n",
      "Processing clusters:  30%|███       | 147/486 [41:11<1:25:11, 15.08s/it]INFO:cluster_analysis_20250714_125812.log:Using Anthropic Claude API\n"
     ]
    },
    {
     "name": "stdout",
     "output_type": "stream",
     "text": [
      "Using provided template string\n",
      "Appending output format instructions to template\n",
      "Added 11 gene feature descriptions to prompt\n"
     ]
    },
    {
     "name": "stderr",
     "output_type": "stream",
     "text": [
      "INFO:cluster_analysis_20250714_125812.log:Anthropic API call successful: model=claude-3-7-sonnet-20250219\n",
      "INFO:cluster_analysis_20250714_125812.log:Success for cluster 147\n",
      "Processing clusters:  30%|███       | 148/486 [41:26<1:23:34, 14.84s/it]INFO:cluster_analysis_20250714_125812.log:Using Anthropic Claude API\n"
     ]
    },
    {
     "name": "stdout",
     "output_type": "stream",
     "text": [
      "Using provided template string\n",
      "Appending output format instructions to template\n",
      "Added 11 gene feature descriptions to prompt\n"
     ]
    },
    {
     "name": "stderr",
     "output_type": "stream",
     "text": [
      "INFO:cluster_analysis_20250714_125812.log:Anthropic API call successful: model=claude-3-7-sonnet-20250219\n",
      "INFO:cluster_analysis_20250714_125812.log:Success for cluster 148\n",
      "Processing clusters:  31%|███       | 149/486 [41:40<1:22:11, 14.63s/it]INFO:cluster_analysis_20250714_125812.log:Using Anthropic Claude API\n"
     ]
    },
    {
     "name": "stdout",
     "output_type": "stream",
     "text": [
      "Using provided template string\n",
      "Appending output format instructions to template\n",
      "Added 11 gene feature descriptions to prompt\n"
     ]
    },
    {
     "name": "stderr",
     "output_type": "stream",
     "text": [
      "INFO:cluster_analysis_20250714_125812.log:Anthropic API call successful: model=claude-3-7-sonnet-20250219\n",
      "INFO:cluster_analysis_20250714_125812.log:Success for cluster 149\n",
      "INFO:cluster_analysis_20250714_125812.log:Saved progress for 150 clusters\n",
      "Processing clusters:  31%|███       | 150/486 [41:54<1:20:52, 14.44s/it]INFO:cluster_analysis_20250714_125812.log:Using Anthropic Claude API\n"
     ]
    },
    {
     "name": "stdout",
     "output_type": "stream",
     "text": [
      "Using provided template string\n",
      "Appending output format instructions to template\n",
      "Added 11 gene feature descriptions to prompt\n"
     ]
    },
    {
     "name": "stderr",
     "output_type": "stream",
     "text": [
      "INFO:cluster_analysis_20250714_125812.log:Anthropic API call successful: model=claude-3-7-sonnet-20250219\n",
      "INFO:cluster_analysis_20250714_125812.log:Success for cluster 150\n",
      "Processing clusters:  31%|███       | 151/486 [42:13<1:28:56, 15.93s/it]INFO:cluster_analysis_20250714_125812.log:Using Anthropic Claude API\n"
     ]
    },
    {
     "name": "stdout",
     "output_type": "stream",
     "text": [
      "Using provided template string\n",
      "Appending output format instructions to template\n",
      "Added 11 gene feature descriptions to prompt\n"
     ]
    },
    {
     "name": "stderr",
     "output_type": "stream",
     "text": [
      "INFO:cluster_analysis_20250714_125812.log:Anthropic API call successful: model=claude-3-7-sonnet-20250219\n",
      "INFO:cluster_analysis_20250714_125812.log:Success for cluster 151\n",
      "Processing clusters:  31%|███▏      | 152/486 [42:33<1:35:36, 17.18s/it]INFO:cluster_analysis_20250714_125812.log:Using Anthropic Claude API\n"
     ]
    },
    {
     "name": "stdout",
     "output_type": "stream",
     "text": [
      "Using provided template string\n",
      "Appending output format instructions to template\n",
      "Added 11 gene feature descriptions to prompt\n"
     ]
    },
    {
     "name": "stderr",
     "output_type": "stream",
     "text": [
      "INFO:cluster_analysis_20250714_125812.log:Anthropic API call successful: model=claude-3-7-sonnet-20250219\n",
      "INFO:cluster_analysis_20250714_125812.log:Success for cluster 152\n",
      "Processing clusters:  31%|███▏      | 153/486 [42:52<1:37:39, 17.60s/it]INFO:cluster_analysis_20250714_125812.log:Using Anthropic Claude API\n"
     ]
    },
    {
     "name": "stdout",
     "output_type": "stream",
     "text": [
      "Using provided template string\n",
      "Appending output format instructions to template\n",
      "Added 11 gene feature descriptions to prompt\n"
     ]
    },
    {
     "name": "stderr",
     "output_type": "stream",
     "text": [
      "INFO:cluster_analysis_20250714_125812.log:Anthropic API call successful: model=claude-3-7-sonnet-20250219\n",
      "INFO:cluster_analysis_20250714_125812.log:Success for cluster 153\n",
      "Processing clusters:  32%|███▏      | 154/486 [43:08<1:34:45, 17.12s/it]INFO:cluster_analysis_20250714_125812.log:Using Anthropic Claude API\n"
     ]
    },
    {
     "name": "stdout",
     "output_type": "stream",
     "text": [
      "Using provided template string\n",
      "Appending output format instructions to template\n",
      "Added 11 gene feature descriptions to prompt\n"
     ]
    },
    {
     "name": "stderr",
     "output_type": "stream",
     "text": [
      "INFO:cluster_analysis_20250714_125812.log:Anthropic API call successful: model=claude-3-7-sonnet-20250219\n",
      "INFO:cluster_analysis_20250714_125812.log:Success for cluster 154\n",
      "INFO:cluster_analysis_20250714_125812.log:Saved progress for 155 clusters\n",
      "Processing clusters:  32%|███▏      | 155/486 [43:27<1:38:25, 17.84s/it]INFO:cluster_analysis_20250714_125812.log:Using Anthropic Claude API\n"
     ]
    },
    {
     "name": "stdout",
     "output_type": "stream",
     "text": [
      "Using provided template string\n",
      "Appending output format instructions to template\n",
      "Added 11 gene feature descriptions to prompt\n"
     ]
    },
    {
     "name": "stderr",
     "output_type": "stream",
     "text": [
      "INFO:cluster_analysis_20250714_125812.log:Anthropic API call successful: model=claude-3-7-sonnet-20250219\n",
      "INFO:cluster_analysis_20250714_125812.log:Success for cluster 155\n",
      "Processing clusters:  32%|███▏      | 156/486 [43:44<1:36:38, 17.57s/it]INFO:cluster_analysis_20250714_125812.log:Using Anthropic Claude API\n"
     ]
    },
    {
     "name": "stdout",
     "output_type": "stream",
     "text": [
      "Using provided template string\n",
      "Appending output format instructions to template\n",
      "Added 11 gene feature descriptions to prompt\n"
     ]
    },
    {
     "name": "stderr",
     "output_type": "stream",
     "text": [
      "INFO:cluster_analysis_20250714_125812.log:Anthropic API call successful: model=claude-3-7-sonnet-20250219\n",
      "INFO:cluster_analysis_20250714_125812.log:Success for cluster 156\n",
      "Processing clusters:  32%|███▏      | 157/486 [43:58<1:30:42, 16.54s/it]INFO:cluster_analysis_20250714_125812.log:Using Anthropic Claude API\n"
     ]
    },
    {
     "name": "stdout",
     "output_type": "stream",
     "text": [
      "Using provided template string\n",
      "Appending output format instructions to template\n",
      "Added 11 gene feature descriptions to prompt\n"
     ]
    },
    {
     "name": "stderr",
     "output_type": "stream",
     "text": [
      "INFO:cluster_analysis_20250714_125812.log:Anthropic API call successful: model=claude-3-7-sonnet-20250219\n",
      "INFO:cluster_analysis_20250714_125812.log:Success for cluster 157\n",
      "Processing clusters:  33%|███▎      | 158/486 [44:15<1:30:40, 16.59s/it]INFO:cluster_analysis_20250714_125812.log:Using Anthropic Claude API\n"
     ]
    },
    {
     "name": "stdout",
     "output_type": "stream",
     "text": [
      "Using provided template string\n",
      "Appending output format instructions to template\n",
      "Added 11 gene feature descriptions to prompt\n"
     ]
    },
    {
     "name": "stderr",
     "output_type": "stream",
     "text": [
      "INFO:cluster_analysis_20250714_125812.log:Anthropic API call successful: model=claude-3-7-sonnet-20250219\n",
      "INFO:cluster_analysis_20250714_125812.log:Success for cluster 158\n",
      "Processing clusters:  33%|███▎      | 159/486 [44:32<1:30:16, 16.56s/it]INFO:cluster_analysis_20250714_125812.log:Using Anthropic Claude API\n"
     ]
    },
    {
     "name": "stdout",
     "output_type": "stream",
     "text": [
      "Using provided template string\n",
      "Appending output format instructions to template\n",
      "Added 11 gene feature descriptions to prompt\n"
     ]
    },
    {
     "name": "stderr",
     "output_type": "stream",
     "text": [
      "INFO:cluster_analysis_20250714_125812.log:Anthropic API call successful: model=claude-3-7-sonnet-20250219\n",
      "INFO:cluster_analysis_20250714_125812.log:Success for cluster 159\n",
      "INFO:cluster_analysis_20250714_125812.log:Saved progress for 160 clusters\n",
      "Processing clusters:  33%|███▎      | 160/486 [44:46<1:26:10, 15.86s/it]INFO:cluster_analysis_20250714_125812.log:Using Anthropic Claude API\n"
     ]
    },
    {
     "name": "stdout",
     "output_type": "stream",
     "text": [
      "Using provided template string\n",
      "Appending output format instructions to template\n",
      "Added 11 gene feature descriptions to prompt\n"
     ]
    },
    {
     "name": "stderr",
     "output_type": "stream",
     "text": [
      "INFO:cluster_analysis_20250714_125812.log:Anthropic API call successful: model=claude-3-7-sonnet-20250219\n",
      "INFO:cluster_analysis_20250714_125812.log:Success for cluster 160\n",
      "Processing clusters:  33%|███▎      | 161/486 [45:03<1:28:12, 16.28s/it]INFO:cluster_analysis_20250714_125812.log:Using Anthropic Claude API\n"
     ]
    },
    {
     "name": "stdout",
     "output_type": "stream",
     "text": [
      "Using provided template string\n",
      "Appending output format instructions to template\n",
      "Added 11 gene feature descriptions to prompt\n"
     ]
    },
    {
     "name": "stderr",
     "output_type": "stream",
     "text": [
      "INFO:cluster_analysis_20250714_125812.log:Anthropic API call successful: model=claude-3-7-sonnet-20250219\n",
      "INFO:cluster_analysis_20250714_125812.log:Success for cluster 161\n",
      "Processing clusters:  33%|███▎      | 162/486 [45:15<1:21:35, 15.11s/it]INFO:cluster_analysis_20250714_125812.log:Using Anthropic Claude API\n"
     ]
    },
    {
     "name": "stdout",
     "output_type": "stream",
     "text": [
      "Using provided template string\n",
      "Appending output format instructions to template\n",
      "Added 11 gene feature descriptions to prompt\n"
     ]
    },
    {
     "name": "stderr",
     "output_type": "stream",
     "text": [
      "INFO:cluster_analysis_20250714_125812.log:Anthropic API call successful: model=claude-3-7-sonnet-20250219\n",
      "INFO:cluster_analysis_20250714_125812.log:Success for cluster 162\n",
      "Processing clusters:  34%|███▎      | 163/486 [45:33<1:24:55, 15.78s/it]INFO:cluster_analysis_20250714_125812.log:Using Anthropic Claude API\n"
     ]
    },
    {
     "name": "stdout",
     "output_type": "stream",
     "text": [
      "Using provided template string\n",
      "Appending output format instructions to template\n",
      "Added 11 gene feature descriptions to prompt\n"
     ]
    },
    {
     "name": "stderr",
     "output_type": "stream",
     "text": [
      "INFO:cluster_analysis_20250714_125812.log:Anthropic API call successful: model=claude-3-7-sonnet-20250219\n",
      "INFO:cluster_analysis_20250714_125812.log:Success for cluster 163\n",
      "Processing clusters:  34%|███▎      | 164/486 [45:45<1:18:08, 14.56s/it]INFO:cluster_analysis_20250714_125812.log:Using Anthropic Claude API\n"
     ]
    },
    {
     "name": "stdout",
     "output_type": "stream",
     "text": [
      "Using provided template string\n",
      "Appending output format instructions to template\n",
      "Added 11 gene feature descriptions to prompt\n"
     ]
    },
    {
     "name": "stderr",
     "output_type": "stream",
     "text": [
      "INFO:cluster_analysis_20250714_125812.log:Anthropic API call successful: model=claude-3-7-sonnet-20250219\n",
      "INFO:cluster_analysis_20250714_125812.log:Success for cluster 164\n",
      "INFO:cluster_analysis_20250714_125812.log:Saved progress for 165 clusters\n",
      "Processing clusters:  34%|███▍      | 165/486 [46:06<1:29:28, 16.72s/it]INFO:cluster_analysis_20250714_125812.log:Using Anthropic Claude API\n"
     ]
    },
    {
     "name": "stdout",
     "output_type": "stream",
     "text": [
      "Using provided template string\n",
      "Appending output format instructions to template\n",
      "Added 11 gene feature descriptions to prompt\n"
     ]
    },
    {
     "name": "stderr",
     "output_type": "stream",
     "text": [
      "INFO:cluster_analysis_20250714_125812.log:Anthropic API call successful: model=claude-3-7-sonnet-20250219\n",
      "INFO:cluster_analysis_20250714_125812.log:Success for cluster 165\n",
      "Processing clusters:  34%|███▍      | 166/486 [46:20<1:24:12, 15.79s/it]INFO:cluster_analysis_20250714_125812.log:Using Anthropic Claude API\n"
     ]
    },
    {
     "name": "stdout",
     "output_type": "stream",
     "text": [
      "Using provided template string\n",
      "Appending output format instructions to template\n",
      "Added 11 gene feature descriptions to prompt\n"
     ]
    },
    {
     "name": "stderr",
     "output_type": "stream",
     "text": [
      "INFO:cluster_analysis_20250714_125812.log:Anthropic API call successful: model=claude-3-7-sonnet-20250219\n",
      "INFO:cluster_analysis_20250714_125812.log:Success for cluster 166\n",
      "Processing clusters:  34%|███▍      | 167/486 [46:40<1:30:34, 17.04s/it]INFO:cluster_analysis_20250714_125812.log:Using Anthropic Claude API\n"
     ]
    },
    {
     "name": "stdout",
     "output_type": "stream",
     "text": [
      "Using provided template string\n",
      "Appending output format instructions to template\n",
      "Added 11 gene feature descriptions to prompt\n"
     ]
    },
    {
     "name": "stderr",
     "output_type": "stream",
     "text": [
      "INFO:cluster_analysis_20250714_125812.log:Anthropic API call successful: model=claude-3-7-sonnet-20250219\n",
      "INFO:cluster_analysis_20250714_125812.log:Success for cluster 167\n",
      "Processing clusters:  35%|███▍      | 168/486 [46:56<1:29:28, 16.88s/it]INFO:cluster_analysis_20250714_125812.log:Using Anthropic Claude API\n"
     ]
    },
    {
     "name": "stdout",
     "output_type": "stream",
     "text": [
      "Using provided template string\n",
      "Appending output format instructions to template\n",
      "Added 11 gene feature descriptions to prompt\n"
     ]
    },
    {
     "name": "stderr",
     "output_type": "stream",
     "text": [
      "INFO:cluster_analysis_20250714_125812.log:Anthropic API call successful: model=claude-3-7-sonnet-20250219\n",
      "INFO:cluster_analysis_20250714_125812.log:Success for cluster 168\n",
      "Processing clusters:  35%|███▍      | 169/486 [47:08<1:21:10, 15.37s/it]INFO:cluster_analysis_20250714_125812.log:Using Anthropic Claude API\n"
     ]
    },
    {
     "name": "stdout",
     "output_type": "stream",
     "text": [
      "Using provided template string\n",
      "Appending output format instructions to template\n",
      "Added 11 gene feature descriptions to prompt\n"
     ]
    },
    {
     "name": "stderr",
     "output_type": "stream",
     "text": [
      "INFO:cluster_analysis_20250714_125812.log:Anthropic API call successful: model=claude-3-7-sonnet-20250219\n",
      "INFO:cluster_analysis_20250714_125812.log:Success for cluster 169\n",
      "INFO:cluster_analysis_20250714_125812.log:Saved progress for 170 clusters\n",
      "Processing clusters:  35%|███▍      | 170/486 [47:25<1:23:21, 15.83s/it]INFO:cluster_analysis_20250714_125812.log:Using Anthropic Claude API\n"
     ]
    },
    {
     "name": "stdout",
     "output_type": "stream",
     "text": [
      "Using provided template string\n",
      "Appending output format instructions to template\n",
      "Added 11 gene feature descriptions to prompt\n"
     ]
    },
    {
     "name": "stderr",
     "output_type": "stream",
     "text": [
      "INFO:cluster_analysis_20250714_125812.log:Anthropic API call successful: model=claude-3-7-sonnet-20250219\n",
      "INFO:cluster_analysis_20250714_125812.log:Success for cluster 170\n",
      "Processing clusters:  35%|███▌      | 171/486 [47:41<1:23:51, 15.97s/it]INFO:cluster_analysis_20250714_125812.log:Using Anthropic Claude API\n"
     ]
    },
    {
     "name": "stdout",
     "output_type": "stream",
     "text": [
      "Using provided template string\n",
      "Appending output format instructions to template\n",
      "Added 11 gene feature descriptions to prompt\n"
     ]
    },
    {
     "name": "stderr",
     "output_type": "stream",
     "text": [
      "INFO:cluster_analysis_20250714_125812.log:Anthropic API call successful: model=claude-3-7-sonnet-20250219\n",
      "INFO:cluster_analysis_20250714_125812.log:Success for cluster 171\n",
      "Processing clusters:  35%|███▌      | 172/486 [47:57<1:23:11, 15.90s/it]INFO:cluster_analysis_20250714_125812.log:Using Anthropic Claude API\n"
     ]
    },
    {
     "name": "stdout",
     "output_type": "stream",
     "text": [
      "Using provided template string\n",
      "Appending output format instructions to template\n",
      "Added 11 gene feature descriptions to prompt\n"
     ]
    },
    {
     "name": "stderr",
     "output_type": "stream",
     "text": [
      "INFO:cluster_analysis_20250714_125812.log:Anthropic API call successful: model=claude-3-7-sonnet-20250219\n",
      "INFO:cluster_analysis_20250714_125812.log:Success for cluster 172\n",
      "Processing clusters:  36%|███▌      | 173/486 [48:09<1:16:50, 14.73s/it]INFO:cluster_analysis_20250714_125812.log:Using Anthropic Claude API\n"
     ]
    },
    {
     "name": "stdout",
     "output_type": "stream",
     "text": [
      "Using provided template string\n",
      "Appending output format instructions to template\n",
      "Added 11 gene feature descriptions to prompt\n"
     ]
    },
    {
     "name": "stderr",
     "output_type": "stream",
     "text": [
      "INFO:cluster_analysis_20250714_125812.log:Anthropic API call successful: model=claude-3-7-sonnet-20250219\n",
      "INFO:cluster_analysis_20250714_125812.log:Success for cluster 173\n",
      "Processing clusters:  36%|███▌      | 174/486 [48:26<1:20:08, 15.41s/it]INFO:cluster_analysis_20250714_125812.log:Using Anthropic Claude API\n"
     ]
    },
    {
     "name": "stdout",
     "output_type": "stream",
     "text": [
      "Using provided template string\n",
      "Appending output format instructions to template\n",
      "Added 11 gene feature descriptions to prompt\n"
     ]
    },
    {
     "name": "stderr",
     "output_type": "stream",
     "text": [
      "INFO:cluster_analysis_20250714_125812.log:Anthropic API call successful: model=claude-3-7-sonnet-20250219\n",
      "INFO:cluster_analysis_20250714_125812.log:Success for cluster 174\n",
      "INFO:cluster_analysis_20250714_125812.log:Saved progress for 175 clusters\n",
      "Processing clusters:  36%|███▌      | 175/486 [48:47<1:27:53, 16.96s/it]INFO:cluster_analysis_20250714_125812.log:Using Anthropic Claude API\n"
     ]
    },
    {
     "name": "stdout",
     "output_type": "stream",
     "text": [
      "Using provided template string\n",
      "Appending output format instructions to template\n",
      "Added 11 gene feature descriptions to prompt\n"
     ]
    },
    {
     "name": "stderr",
     "output_type": "stream",
     "text": [
      "INFO:cluster_analysis_20250714_125812.log:Anthropic API call successful: model=claude-3-7-sonnet-20250219\n",
      "INFO:cluster_analysis_20250714_125812.log:Success for cluster 175\n",
      "Processing clusters:  36%|███▌      | 176/486 [48:59<1:20:25, 15.57s/it]INFO:cluster_analysis_20250714_125812.log:Using Anthropic Claude API\n"
     ]
    },
    {
     "name": "stdout",
     "output_type": "stream",
     "text": [
      "Using provided template string\n",
      "Appending output format instructions to template\n",
      "Added 11 gene feature descriptions to prompt\n"
     ]
    },
    {
     "name": "stderr",
     "output_type": "stream",
     "text": [
      "INFO:cluster_analysis_20250714_125812.log:Anthropic API call successful: model=claude-3-7-sonnet-20250219\n",
      "INFO:cluster_analysis_20250714_125812.log:Success for cluster 176\n",
      "Processing clusters:  36%|███▋      | 177/486 [49:14<1:18:30, 15.25s/it]INFO:cluster_analysis_20250714_125812.log:Using Anthropic Claude API\n"
     ]
    },
    {
     "name": "stdout",
     "output_type": "stream",
     "text": [
      "Using provided template string\n",
      "Appending output format instructions to template\n",
      "Added 11 gene feature descriptions to prompt\n"
     ]
    },
    {
     "name": "stderr",
     "output_type": "stream",
     "text": [
      "INFO:cluster_analysis_20250714_125812.log:Anthropic API call successful: model=claude-3-7-sonnet-20250219\n",
      "INFO:cluster_analysis_20250714_125812.log:Success for cluster 177\n",
      "Processing clusters:  37%|███▋      | 178/486 [49:31<1:22:12, 16.02s/it]INFO:cluster_analysis_20250714_125812.log:Using Anthropic Claude API\n"
     ]
    },
    {
     "name": "stdout",
     "output_type": "stream",
     "text": [
      "Using provided template string\n",
      "Appending output format instructions to template\n",
      "Added 11 gene feature descriptions to prompt\n"
     ]
    },
    {
     "name": "stderr",
     "output_type": "stream",
     "text": [
      "INFO:cluster_analysis_20250714_125812.log:Anthropic API call successful: model=claude-3-7-sonnet-20250219\n",
      "INFO:cluster_analysis_20250714_125812.log:Success for cluster 178\n",
      "Processing clusters:  37%|███▋      | 179/486 [49:39<1:09:17, 13.54s/it]INFO:cluster_analysis_20250714_125812.log:Using Anthropic Claude API\n"
     ]
    },
    {
     "name": "stdout",
     "output_type": "stream",
     "text": [
      "Using provided template string\n",
      "Appending output format instructions to template\n",
      "Added 11 gene feature descriptions to prompt\n"
     ]
    },
    {
     "name": "stderr",
     "output_type": "stream",
     "text": [
      "INFO:cluster_analysis_20250714_125812.log:Anthropic API call successful: model=claude-3-7-sonnet-20250219\n",
      "INFO:cluster_analysis_20250714_125812.log:Success for cluster 179\n",
      "INFO:cluster_analysis_20250714_125812.log:Saved progress for 180 clusters\n",
      "Processing clusters:  37%|███▋      | 180/486 [49:54<1:11:15, 13.97s/it]INFO:cluster_analysis_20250714_125812.log:Using Anthropic Claude API\n"
     ]
    },
    {
     "name": "stdout",
     "output_type": "stream",
     "text": [
      "Using provided template string\n",
      "Appending output format instructions to template\n",
      "Added 10 gene feature descriptions to prompt\n"
     ]
    },
    {
     "name": "stderr",
     "output_type": "stream",
     "text": [
      "INFO:cluster_analysis_20250714_125812.log:Anthropic API call successful: model=claude-3-7-sonnet-20250219\n",
      "INFO:cluster_analysis_20250714_125812.log:Success for cluster 180\n",
      "Processing clusters:  37%|███▋      | 181/486 [50:14<1:20:23, 15.81s/it]INFO:cluster_analysis_20250714_125812.log:Using Anthropic Claude API\n"
     ]
    },
    {
     "name": "stdout",
     "output_type": "stream",
     "text": [
      "Using provided template string\n",
      "Appending output format instructions to template\n",
      "Added 10 gene feature descriptions to prompt\n"
     ]
    },
    {
     "name": "stderr",
     "output_type": "stream",
     "text": [
      "INFO:cluster_analysis_20250714_125812.log:Anthropic API call successful: model=claude-3-7-sonnet-20250219\n",
      "INFO:cluster_analysis_20250714_125812.log:Success for cluster 181\n",
      "Processing clusters:  37%|███▋      | 182/486 [50:30<1:20:37, 15.91s/it]INFO:cluster_analysis_20250714_125812.log:Using Anthropic Claude API\n"
     ]
    },
    {
     "name": "stdout",
     "output_type": "stream",
     "text": [
      "Using provided template string\n",
      "Appending output format instructions to template\n",
      "Added 10 gene feature descriptions to prompt\n"
     ]
    },
    {
     "name": "stderr",
     "output_type": "stream",
     "text": [
      "INFO:cluster_analysis_20250714_125812.log:Anthropic API call successful: model=claude-3-7-sonnet-20250219\n",
      "INFO:cluster_analysis_20250714_125812.log:Success for cluster 182\n",
      "Processing clusters:  38%|███▊      | 183/486 [50:45<1:19:12, 15.69s/it]INFO:cluster_analysis_20250714_125812.log:Using Anthropic Claude API\n"
     ]
    },
    {
     "name": "stdout",
     "output_type": "stream",
     "text": [
      "Using provided template string\n",
      "Appending output format instructions to template\n",
      "Added 10 gene feature descriptions to prompt\n"
     ]
    },
    {
     "name": "stderr",
     "output_type": "stream",
     "text": [
      "INFO:cluster_analysis_20250714_125812.log:Anthropic API call successful: model=claude-3-7-sonnet-20250219\n",
      "INFO:cluster_analysis_20250714_125812.log:Success for cluster 183\n",
      "Processing clusters:  38%|███▊      | 184/486 [51:05<1:25:15, 16.94s/it]INFO:cluster_analysis_20250714_125812.log:Using Anthropic Claude API\n"
     ]
    },
    {
     "name": "stdout",
     "output_type": "stream",
     "text": [
      "Using provided template string\n",
      "Appending output format instructions to template\n",
      "Added 10 gene feature descriptions to prompt\n"
     ]
    },
    {
     "name": "stderr",
     "output_type": "stream",
     "text": [
      "INFO:cluster_analysis_20250714_125812.log:Anthropic API call successful: model=claude-3-7-sonnet-20250219\n",
      "INFO:cluster_analysis_20250714_125812.log:Success for cluster 184\n",
      "INFO:cluster_analysis_20250714_125812.log:Saved progress for 185 clusters\n",
      "Processing clusters:  38%|███▊      | 185/486 [51:22<1:24:59, 16.94s/it]INFO:cluster_analysis_20250714_125812.log:Using Anthropic Claude API\n"
     ]
    },
    {
     "name": "stdout",
     "output_type": "stream",
     "text": [
      "Using provided template string\n",
      "Appending output format instructions to template\n",
      "Added 10 gene feature descriptions to prompt\n"
     ]
    },
    {
     "name": "stderr",
     "output_type": "stream",
     "text": [
      "INFO:cluster_analysis_20250714_125812.log:Anthropic API call successful: model=claude-3-7-sonnet-20250219\n",
      "INFO:cluster_analysis_20250714_125812.log:Success for cluster 185\n",
      "Processing clusters:  38%|███▊      | 186/486 [51:38<1:22:15, 16.45s/it]INFO:cluster_analysis_20250714_125812.log:Using Anthropic Claude API\n"
     ]
    },
    {
     "name": "stdout",
     "output_type": "stream",
     "text": [
      "Using provided template string\n",
      "Appending output format instructions to template\n",
      "Added 10 gene feature descriptions to prompt\n"
     ]
    },
    {
     "name": "stderr",
     "output_type": "stream",
     "text": [
      "INFO:cluster_analysis_20250714_125812.log:Anthropic API call successful: model=claude-3-7-sonnet-20250219\n",
      "INFO:cluster_analysis_20250714_125812.log:Success for cluster 186\n",
      "Processing clusters:  38%|███▊      | 187/486 [51:57<1:25:40, 17.19s/it]INFO:cluster_analysis_20250714_125812.log:Using Anthropic Claude API\n"
     ]
    },
    {
     "name": "stdout",
     "output_type": "stream",
     "text": [
      "Using provided template string\n",
      "Appending output format instructions to template\n",
      "Added 10 gene feature descriptions to prompt\n"
     ]
    },
    {
     "name": "stderr",
     "output_type": "stream",
     "text": [
      "INFO:cluster_analysis_20250714_125812.log:Anthropic API call successful: model=claude-3-7-sonnet-20250219\n",
      "INFO:cluster_analysis_20250714_125812.log:Success for cluster 187\n",
      "Processing clusters:  39%|███▊      | 188/486 [52:12<1:22:13, 16.56s/it]INFO:cluster_analysis_20250714_125812.log:Using Anthropic Claude API\n"
     ]
    },
    {
     "name": "stdout",
     "output_type": "stream",
     "text": [
      "Using provided template string\n",
      "Appending output format instructions to template\n",
      "Added 10 gene feature descriptions to prompt\n"
     ]
    },
    {
     "name": "stderr",
     "output_type": "stream",
     "text": [
      "INFO:cluster_analysis_20250714_125812.log:Anthropic API call successful: model=claude-3-7-sonnet-20250219\n",
      "INFO:cluster_analysis_20250714_125812.log:Success for cluster 188\n",
      "Processing clusters:  39%|███▉      | 189/486 [52:30<1:23:56, 16.96s/it]INFO:cluster_analysis_20250714_125812.log:Using Anthropic Claude API\n"
     ]
    },
    {
     "name": "stdout",
     "output_type": "stream",
     "text": [
      "Using provided template string\n",
      "Appending output format instructions to template\n",
      "Added 10 gene feature descriptions to prompt\n"
     ]
    },
    {
     "name": "stderr",
     "output_type": "stream",
     "text": [
      "INFO:cluster_analysis_20250714_125812.log:Anthropic API call successful: model=claude-3-7-sonnet-20250219\n",
      "INFO:cluster_analysis_20250714_125812.log:Success for cluster 189\n",
      "INFO:cluster_analysis_20250714_125812.log:Saved progress for 190 clusters\n",
      "Processing clusters:  39%|███▉      | 190/486 [52:42<1:17:46, 15.77s/it]INFO:cluster_analysis_20250714_125812.log:Using Anthropic Claude API\n"
     ]
    },
    {
     "name": "stdout",
     "output_type": "stream",
     "text": [
      "Using provided template string\n",
      "Appending output format instructions to template\n",
      "Added 10 gene feature descriptions to prompt\n"
     ]
    },
    {
     "name": "stderr",
     "output_type": "stream",
     "text": [
      "INFO:cluster_analysis_20250714_125812.log:Anthropic API call successful: model=claude-3-7-sonnet-20250219\n",
      "INFO:cluster_analysis_20250714_125812.log:Success for cluster 190\n",
      "Processing clusters:  39%|███▉      | 191/486 [53:00<1:20:48, 16.43s/it]INFO:cluster_analysis_20250714_125812.log:Using Anthropic Claude API\n"
     ]
    },
    {
     "name": "stdout",
     "output_type": "stream",
     "text": [
      "Using provided template string\n",
      "Appending output format instructions to template\n",
      "Added 10 gene feature descriptions to prompt\n"
     ]
    },
    {
     "name": "stderr",
     "output_type": "stream",
     "text": [
      "INFO:cluster_analysis_20250714_125812.log:Anthropic API call successful: model=claude-3-7-sonnet-20250219\n",
      "INFO:cluster_analysis_20250714_125812.log:Success for cluster 191\n",
      "Processing clusters:  40%|███▉      | 192/486 [53:17<1:20:55, 16.52s/it]INFO:cluster_analysis_20250714_125812.log:Using Anthropic Claude API\n"
     ]
    },
    {
     "name": "stdout",
     "output_type": "stream",
     "text": [
      "Using provided template string\n",
      "Appending output format instructions to template\n",
      "Added 10 gene feature descriptions to prompt\n"
     ]
    },
    {
     "name": "stderr",
     "output_type": "stream",
     "text": [
      "INFO:cluster_analysis_20250714_125812.log:Anthropic API call successful: model=claude-3-7-sonnet-20250219\n",
      "INFO:cluster_analysis_20250714_125812.log:Success for cluster 192\n",
      "Processing clusters:  40%|███▉      | 193/486 [53:32<1:18:25, 16.06s/it]INFO:cluster_analysis_20250714_125812.log:Using Anthropic Claude API\n"
     ]
    },
    {
     "name": "stdout",
     "output_type": "stream",
     "text": [
      "Using provided template string\n",
      "Appending output format instructions to template\n",
      "Added 10 gene feature descriptions to prompt\n"
     ]
    },
    {
     "name": "stderr",
     "output_type": "stream",
     "text": [
      "INFO:cluster_analysis_20250714_125812.log:Anthropic API call successful: model=claude-3-7-sonnet-20250219\n",
      "INFO:cluster_analysis_20250714_125812.log:Success for cluster 193\n",
      "Processing clusters:  40%|███▉      | 194/486 [53:47<1:16:00, 15.62s/it]INFO:cluster_analysis_20250714_125812.log:Using Anthropic Claude API\n"
     ]
    },
    {
     "name": "stdout",
     "output_type": "stream",
     "text": [
      "Using provided template string\n",
      "Appending output format instructions to template\n",
      "Added 10 gene feature descriptions to prompt\n"
     ]
    },
    {
     "name": "stderr",
     "output_type": "stream",
     "text": [
      "INFO:cluster_analysis_20250714_125812.log:Anthropic API call successful: model=claude-3-7-sonnet-20250219\n",
      "INFO:cluster_analysis_20250714_125812.log:Success for cluster 194\n",
      "INFO:cluster_analysis_20250714_125812.log:Saved progress for 195 clusters\n",
      "Processing clusters:  40%|████      | 195/486 [54:05<1:20:05, 16.51s/it]INFO:cluster_analysis_20250714_125812.log:Using Anthropic Claude API\n"
     ]
    },
    {
     "name": "stdout",
     "output_type": "stream",
     "text": [
      "Using provided template string\n",
      "Appending output format instructions to template\n",
      "Added 10 gene feature descriptions to prompt\n"
     ]
    },
    {
     "name": "stderr",
     "output_type": "stream",
     "text": [
      "INFO:cluster_analysis_20250714_125812.log:Anthropic API call successful: model=claude-3-7-sonnet-20250219\n",
      "INFO:cluster_analysis_20250714_125812.log:Success for cluster 195\n",
      "Processing clusters:  40%|████      | 196/486 [54:18<1:14:02, 15.32s/it]INFO:cluster_analysis_20250714_125812.log:Using Anthropic Claude API\n"
     ]
    },
    {
     "name": "stdout",
     "output_type": "stream",
     "text": [
      "Using provided template string\n",
      "Appending output format instructions to template\n",
      "Added 10 gene feature descriptions to prompt\n"
     ]
    },
    {
     "name": "stderr",
     "output_type": "stream",
     "text": [
      "INFO:cluster_analysis_20250714_125812.log:Anthropic API call successful: model=claude-3-7-sonnet-20250219\n",
      "INFO:cluster_analysis_20250714_125812.log:Success for cluster 196\n",
      "Processing clusters:  41%|████      | 197/486 [54:33<1:13:28, 15.26s/it]INFO:cluster_analysis_20250714_125812.log:Using Anthropic Claude API\n"
     ]
    },
    {
     "name": "stdout",
     "output_type": "stream",
     "text": [
      "Using provided template string\n",
      "Appending output format instructions to template\n",
      "Added 10 gene feature descriptions to prompt\n"
     ]
    },
    {
     "name": "stderr",
     "output_type": "stream",
     "text": [
      "INFO:cluster_analysis_20250714_125812.log:Anthropic API call successful: model=claude-3-7-sonnet-20250219\n",
      "INFO:cluster_analysis_20250714_125812.log:Success for cluster 197\n",
      "Processing clusters:  41%|████      | 198/486 [54:44<1:06:38, 13.88s/it]INFO:cluster_analysis_20250714_125812.log:Using Anthropic Claude API\n"
     ]
    },
    {
     "name": "stdout",
     "output_type": "stream",
     "text": [
      "Using provided template string\n",
      "Appending output format instructions to template\n",
      "Added 10 gene feature descriptions to prompt\n"
     ]
    },
    {
     "name": "stderr",
     "output_type": "stream",
     "text": [
      "INFO:cluster_analysis_20250714_125812.log:Anthropic API call successful: model=claude-3-7-sonnet-20250219\n",
      "INFO:cluster_analysis_20250714_125812.log:Success for cluster 198\n",
      "Processing clusters:  41%|████      | 199/486 [54:57<1:05:06, 13.61s/it]INFO:cluster_analysis_20250714_125812.log:Using Anthropic Claude API\n"
     ]
    },
    {
     "name": "stdout",
     "output_type": "stream",
     "text": [
      "Using provided template string\n",
      "Appending output format instructions to template\n",
      "Added 10 gene feature descriptions to prompt\n"
     ]
    },
    {
     "name": "stderr",
     "output_type": "stream",
     "text": [
      "INFO:cluster_analysis_20250714_125812.log:Anthropic API call successful: model=claude-3-7-sonnet-20250219\n",
      "INFO:cluster_analysis_20250714_125812.log:Success for cluster 199\n",
      "INFO:cluster_analysis_20250714_125812.log:Saved progress for 200 clusters\n",
      "Processing clusters:  41%|████      | 200/486 [55:09<1:03:01, 13.22s/it]INFO:cluster_analysis_20250714_125812.log:Using Anthropic Claude API\n"
     ]
    },
    {
     "name": "stdout",
     "output_type": "stream",
     "text": [
      "Using provided template string\n",
      "Appending output format instructions to template\n",
      "Added 10 gene feature descriptions to prompt\n"
     ]
    },
    {
     "name": "stderr",
     "output_type": "stream",
     "text": [
      "INFO:cluster_analysis_20250714_125812.log:Anthropic API call successful: model=claude-3-7-sonnet-20250219\n",
      "INFO:cluster_analysis_20250714_125812.log:Success for cluster 200\n",
      "Processing clusters:  41%|████▏     | 201/486 [55:26<1:07:59, 14.31s/it]INFO:cluster_analysis_20250714_125812.log:Using Anthropic Claude API\n"
     ]
    },
    {
     "name": "stdout",
     "output_type": "stream",
     "text": [
      "Using provided template string\n",
      "Appending output format instructions to template\n",
      "Added 10 gene feature descriptions to prompt\n"
     ]
    },
    {
     "name": "stderr",
     "output_type": "stream",
     "text": [
      "INFO:cluster_analysis_20250714_125812.log:Anthropic API call successful: model=claude-3-7-sonnet-20250219\n",
      "INFO:cluster_analysis_20250714_125812.log:Success for cluster 201\n",
      "Processing clusters:  42%|████▏     | 202/486 [55:38<1:04:34, 13.64s/it]INFO:cluster_analysis_20250714_125812.log:Using Anthropic Claude API\n"
     ]
    },
    {
     "name": "stdout",
     "output_type": "stream",
     "text": [
      "Using provided template string\n",
      "Appending output format instructions to template\n",
      "Added 10 gene feature descriptions to prompt\n"
     ]
    },
    {
     "name": "stderr",
     "output_type": "stream",
     "text": [
      "INFO:cluster_analysis_20250714_125812.log:Anthropic API call successful: model=claude-3-7-sonnet-20250219\n",
      "INFO:cluster_analysis_20250714_125812.log:Success for cluster 202\n",
      "Processing clusters:  42%|████▏     | 203/486 [55:57<1:12:08, 15.29s/it]INFO:cluster_analysis_20250714_125812.log:Using Anthropic Claude API\n"
     ]
    },
    {
     "name": "stdout",
     "output_type": "stream",
     "text": [
      "Using provided template string\n",
      "Appending output format instructions to template\n",
      "Added 10 gene feature descriptions to prompt\n"
     ]
    },
    {
     "name": "stderr",
     "output_type": "stream",
     "text": [
      "INFO:cluster_analysis_20250714_125812.log:Anthropic API call successful: model=claude-3-7-sonnet-20250219\n",
      "INFO:cluster_analysis_20250714_125812.log:Success for cluster 203\n",
      "Processing clusters:  42%|████▏     | 204/486 [56:12<1:10:49, 15.07s/it]INFO:cluster_analysis_20250714_125812.log:Using Anthropic Claude API\n"
     ]
    },
    {
     "name": "stdout",
     "output_type": "stream",
     "text": [
      "Using provided template string\n",
      "Appending output format instructions to template\n",
      "Added 10 gene feature descriptions to prompt\n"
     ]
    },
    {
     "name": "stderr",
     "output_type": "stream",
     "text": [
      "INFO:cluster_analysis_20250714_125812.log:Anthropic API call successful: model=claude-3-7-sonnet-20250219\n",
      "INFO:cluster_analysis_20250714_125812.log:Success for cluster 204\n",
      "INFO:cluster_analysis_20250714_125812.log:Saved progress for 205 clusters\n",
      "Processing clusters:  42%|████▏     | 205/486 [56:29<1:13:09, 15.62s/it]INFO:cluster_analysis_20250714_125812.log:Using Anthropic Claude API\n"
     ]
    },
    {
     "name": "stdout",
     "output_type": "stream",
     "text": [
      "Using provided template string\n",
      "Appending output format instructions to template\n",
      "Added 10 gene feature descriptions to prompt\n"
     ]
    },
    {
     "name": "stderr",
     "output_type": "stream",
     "text": [
      "INFO:cluster_analysis_20250714_125812.log:Anthropic API call successful: model=claude-3-7-sonnet-20250219\n",
      "INFO:cluster_analysis_20250714_125812.log:Success for cluster 205\n",
      "Processing clusters:  42%|████▏     | 206/486 [56:45<1:14:07, 15.88s/it]INFO:cluster_analysis_20250714_125812.log:Using Anthropic Claude API\n"
     ]
    },
    {
     "name": "stdout",
     "output_type": "stream",
     "text": [
      "Using provided template string\n",
      "Appending output format instructions to template\n",
      "Added 10 gene feature descriptions to prompt\n"
     ]
    },
    {
     "name": "stderr",
     "output_type": "stream",
     "text": [
      "INFO:cluster_analysis_20250714_125812.log:Anthropic API call successful: model=claude-3-7-sonnet-20250219\n",
      "INFO:cluster_analysis_20250714_125812.log:Success for cluster 206\n",
      "Processing clusters:  43%|████▎     | 207/486 [57:02<1:15:28, 16.23s/it]INFO:cluster_analysis_20250714_125812.log:Using Anthropic Claude API\n"
     ]
    },
    {
     "name": "stdout",
     "output_type": "stream",
     "text": [
      "Using provided template string\n",
      "Appending output format instructions to template\n",
      "Added 10 gene feature descriptions to prompt\n"
     ]
    },
    {
     "name": "stderr",
     "output_type": "stream",
     "text": [
      "INFO:cluster_analysis_20250714_125812.log:Anthropic API call successful: model=claude-3-7-sonnet-20250219\n",
      "INFO:cluster_analysis_20250714_125812.log:Success for cluster 207\n",
      "Processing clusters:  43%|████▎     | 208/486 [57:18<1:14:59, 16.18s/it]INFO:cluster_analysis_20250714_125812.log:Using Anthropic Claude API\n"
     ]
    },
    {
     "name": "stdout",
     "output_type": "stream",
     "text": [
      "Using provided template string\n",
      "Appending output format instructions to template\n",
      "Added 10 gene feature descriptions to prompt\n"
     ]
    },
    {
     "name": "stderr",
     "output_type": "stream",
     "text": [
      "INFO:cluster_analysis_20250714_125812.log:Anthropic API call successful: model=claude-3-7-sonnet-20250219\n",
      "INFO:cluster_analysis_20250714_125812.log:Success for cluster 208\n",
      "Processing clusters:  43%|████▎     | 209/486 [57:33<1:13:23, 15.90s/it]INFO:cluster_analysis_20250714_125812.log:Using Anthropic Claude API\n"
     ]
    },
    {
     "name": "stdout",
     "output_type": "stream",
     "text": [
      "Using provided template string\n",
      "Appending output format instructions to template\n",
      "Added 10 gene feature descriptions to prompt\n"
     ]
    },
    {
     "name": "stderr",
     "output_type": "stream",
     "text": [
      "INFO:cluster_analysis_20250714_125812.log:Anthropic API call successful: model=claude-3-7-sonnet-20250219\n",
      "INFO:cluster_analysis_20250714_125812.log:Success for cluster 209\n",
      "INFO:cluster_analysis_20250714_125812.log:Saved progress for 210 clusters\n",
      "Processing clusters:  43%|████▎     | 210/486 [57:49<1:12:46, 15.82s/it]INFO:cluster_analysis_20250714_125812.log:Using Anthropic Claude API\n"
     ]
    },
    {
     "name": "stdout",
     "output_type": "stream",
     "text": [
      "Using provided template string\n",
      "Appending output format instructions to template\n",
      "Added 10 gene feature descriptions to prompt\n"
     ]
    },
    {
     "name": "stderr",
     "output_type": "stream",
     "text": [
      "INFO:cluster_analysis_20250714_125812.log:Anthropic API call successful: model=claude-3-7-sonnet-20250219\n",
      "INFO:cluster_analysis_20250714_125812.log:Success for cluster 210\n",
      "Processing clusters:  43%|████▎     | 211/486 [58:01<1:07:27, 14.72s/it]INFO:cluster_analysis_20250714_125812.log:Using Anthropic Claude API\n"
     ]
    },
    {
     "name": "stdout",
     "output_type": "stream",
     "text": [
      "Using provided template string\n",
      "Appending output format instructions to template\n",
      "Added 10 gene feature descriptions to prompt\n"
     ]
    },
    {
     "name": "stderr",
     "output_type": "stream",
     "text": [
      "INFO:cluster_analysis_20250714_125812.log:Anthropic API call successful: model=claude-3-7-sonnet-20250219\n",
      "INFO:cluster_analysis_20250714_125812.log:Success for cluster 211\n",
      "Processing clusters:  44%|████▎     | 212/486 [58:19<1:11:50, 15.73s/it]INFO:cluster_analysis_20250714_125812.log:Using Anthropic Claude API\n"
     ]
    },
    {
     "name": "stdout",
     "output_type": "stream",
     "text": [
      "Using provided template string\n",
      "Appending output format instructions to template\n",
      "Added 10 gene feature descriptions to prompt\n"
     ]
    },
    {
     "name": "stderr",
     "output_type": "stream",
     "text": [
      "INFO:cluster_analysis_20250714_125812.log:Anthropic API call successful: model=claude-3-7-sonnet-20250219\n",
      "INFO:cluster_analysis_20250714_125812.log:Success for cluster 212\n",
      "Processing clusters:  44%|████▍     | 213/486 [58:40<1:18:47, 17.32s/it]INFO:cluster_analysis_20250714_125812.log:Using Anthropic Claude API\n"
     ]
    },
    {
     "name": "stdout",
     "output_type": "stream",
     "text": [
      "Using provided template string\n",
      "Appending output format instructions to template\n",
      "Added 10 gene feature descriptions to prompt\n"
     ]
    },
    {
     "name": "stderr",
     "output_type": "stream",
     "text": [
      "INFO:cluster_analysis_20250714_125812.log:Anthropic API call successful: model=claude-3-7-sonnet-20250219\n",
      "INFO:cluster_analysis_20250714_125812.log:Success for cluster 213\n",
      "Processing clusters:  44%|████▍     | 214/486 [58:56<1:16:58, 16.98s/it]INFO:cluster_analysis_20250714_125812.log:Using Anthropic Claude API\n"
     ]
    },
    {
     "name": "stdout",
     "output_type": "stream",
     "text": [
      "Using provided template string\n",
      "Appending output format instructions to template\n",
      "Added 10 gene feature descriptions to prompt\n"
     ]
    },
    {
     "name": "stderr",
     "output_type": "stream",
     "text": [
      "INFO:cluster_analysis_20250714_125812.log:Anthropic API call successful: model=claude-3-7-sonnet-20250219\n",
      "INFO:cluster_analysis_20250714_125812.log:Success for cluster 214\n",
      "INFO:cluster_analysis_20250714_125812.log:Saved progress for 215 clusters\n",
      "Processing clusters:  44%|████▍     | 215/486 [59:12<1:14:29, 16.49s/it]INFO:cluster_analysis_20250714_125812.log:Using Anthropic Claude API\n"
     ]
    },
    {
     "name": "stdout",
     "output_type": "stream",
     "text": [
      "Using provided template string\n",
      "Appending output format instructions to template\n",
      "Added 10 gene feature descriptions to prompt\n"
     ]
    },
    {
     "name": "stderr",
     "output_type": "stream",
     "text": [
      "INFO:cluster_analysis_20250714_125812.log:Anthropic API call successful: model=claude-3-7-sonnet-20250219\n",
      "INFO:cluster_analysis_20250714_125812.log:Success for cluster 215\n",
      "Processing clusters:  44%|████▍     | 216/486 [59:28<1:13:40, 16.37s/it]INFO:cluster_analysis_20250714_125812.log:Using Anthropic Claude API\n"
     ]
    },
    {
     "name": "stdout",
     "output_type": "stream",
     "text": [
      "Using provided template string\n",
      "Appending output format instructions to template\n",
      "Added 10 gene feature descriptions to prompt\n"
     ]
    },
    {
     "name": "stderr",
     "output_type": "stream",
     "text": [
      "INFO:cluster_analysis_20250714_125812.log:Anthropic API call successful: model=claude-3-7-sonnet-20250219\n",
      "INFO:cluster_analysis_20250714_125812.log:Success for cluster 216\n",
      "Processing clusters:  45%|████▍     | 217/486 [59:43<1:11:17, 15.90s/it]INFO:cluster_analysis_20250714_125812.log:Using Anthropic Claude API\n"
     ]
    },
    {
     "name": "stdout",
     "output_type": "stream",
     "text": [
      "Using provided template string\n",
      "Appending output format instructions to template\n",
      "Added 10 gene feature descriptions to prompt\n"
     ]
    },
    {
     "name": "stderr",
     "output_type": "stream",
     "text": [
      "INFO:cluster_analysis_20250714_125812.log:Anthropic API call successful: model=claude-3-7-sonnet-20250219\n",
      "INFO:cluster_analysis_20250714_125812.log:Success for cluster 217\n",
      "Processing clusters:  45%|████▍     | 218/486 [59:56<1:06:57, 14.99s/it]INFO:cluster_analysis_20250714_125812.log:Using Anthropic Claude API\n"
     ]
    },
    {
     "name": "stdout",
     "output_type": "stream",
     "text": [
      "Using provided template string\n",
      "Appending output format instructions to template\n",
      "Added 10 gene feature descriptions to prompt\n"
     ]
    },
    {
     "name": "stderr",
     "output_type": "stream",
     "text": [
      "INFO:cluster_analysis_20250714_125812.log:Anthropic API call successful: model=claude-3-7-sonnet-20250219\n",
      "INFO:cluster_analysis_20250714_125812.log:Success for cluster 218\n",
      "Processing clusters:  45%|████▌     | 219/486 [1:00:11<1:07:20, 15.13s/it]INFO:cluster_analysis_20250714_125812.log:Using Anthropic Claude API\n"
     ]
    },
    {
     "name": "stdout",
     "output_type": "stream",
     "text": [
      "Using provided template string\n",
      "Appending output format instructions to template\n",
      "Added 10 gene feature descriptions to prompt\n"
     ]
    },
    {
     "name": "stderr",
     "output_type": "stream",
     "text": [
      "INFO:cluster_analysis_20250714_125812.log:Anthropic API call successful: model=claude-3-7-sonnet-20250219\n",
      "INFO:cluster_analysis_20250714_125812.log:Success for cluster 219\n",
      "INFO:cluster_analysis_20250714_125812.log:Saved progress for 220 clusters\n",
      "Processing clusters:  45%|████▌     | 220/486 [1:00:22<1:01:15, 13.82s/it]INFO:cluster_analysis_20250714_125812.log:Using Anthropic Claude API\n"
     ]
    },
    {
     "name": "stdout",
     "output_type": "stream",
     "text": [
      "Using provided template string\n",
      "Appending output format instructions to template\n",
      "Added 10 gene feature descriptions to prompt\n"
     ]
    },
    {
     "name": "stderr",
     "output_type": "stream",
     "text": [
      "INFO:cluster_analysis_20250714_125812.log:Anthropic API call successful: model=claude-3-7-sonnet-20250219\n",
      "INFO:cluster_analysis_20250714_125812.log:Success for cluster 220\n",
      "Processing clusters:  45%|████▌     | 221/486 [1:00:33<57:14, 12.96s/it]  INFO:cluster_analysis_20250714_125812.log:Using Anthropic Claude API\n"
     ]
    },
    {
     "name": "stdout",
     "output_type": "stream",
     "text": [
      "Using provided template string\n",
      "Appending output format instructions to template\n",
      "Added 10 gene feature descriptions to prompt\n"
     ]
    },
    {
     "name": "stderr",
     "output_type": "stream",
     "text": [
      "INFO:cluster_analysis_20250714_125812.log:Anthropic API call successful: model=claude-3-7-sonnet-20250219\n",
      "INFO:cluster_analysis_20250714_125812.log:Success for cluster 221\n",
      "Processing clusters:  46%|████▌     | 222/486 [1:00:49<1:01:54, 14.07s/it]INFO:cluster_analysis_20250714_125812.log:Using Anthropic Claude API\n"
     ]
    },
    {
     "name": "stdout",
     "output_type": "stream",
     "text": [
      "Using provided template string\n",
      "Appending output format instructions to template\n",
      "Added 10 gene feature descriptions to prompt\n"
     ]
    },
    {
     "name": "stderr",
     "output_type": "stream",
     "text": [
      "INFO:cluster_analysis_20250714_125812.log:Anthropic API call successful: model=claude-3-7-sonnet-20250219\n",
      "INFO:cluster_analysis_20250714_125812.log:Success for cluster 222\n",
      "Processing clusters:  46%|████▌     | 223/486 [1:01:02<1:00:19, 13.76s/it]INFO:cluster_analysis_20250714_125812.log:Using Anthropic Claude API\n"
     ]
    },
    {
     "name": "stdout",
     "output_type": "stream",
     "text": [
      "Using provided template string\n",
      "Appending output format instructions to template\n",
      "Added 10 gene feature descriptions to prompt\n"
     ]
    },
    {
     "name": "stderr",
     "output_type": "stream",
     "text": [
      "INFO:cluster_analysis_20250714_125812.log:Anthropic API call successful: model=claude-3-7-sonnet-20250219\n",
      "INFO:cluster_analysis_20250714_125812.log:Success for cluster 223\n",
      "Processing clusters:  46%|████▌     | 224/486 [1:01:20<1:05:23, 14.98s/it]INFO:cluster_analysis_20250714_125812.log:Using Anthropic Claude API\n"
     ]
    },
    {
     "name": "stdout",
     "output_type": "stream",
     "text": [
      "Using provided template string\n",
      "Appending output format instructions to template\n",
      "Added 10 gene feature descriptions to prompt\n"
     ]
    },
    {
     "name": "stderr",
     "output_type": "stream",
     "text": [
      "INFO:cluster_analysis_20250714_125812.log:Anthropic API call successful: model=claude-3-7-sonnet-20250219\n",
      "INFO:cluster_analysis_20250714_125812.log:Success for cluster 224\n",
      "INFO:cluster_analysis_20250714_125812.log:Saved progress for 225 clusters\n",
      "Processing clusters:  46%|████▋     | 225/486 [1:01:36<1:05:39, 15.09s/it]INFO:cluster_analysis_20250714_125812.log:Using Anthropic Claude API\n"
     ]
    },
    {
     "name": "stdout",
     "output_type": "stream",
     "text": [
      "Using provided template string\n",
      "Appending output format instructions to template\n",
      "Added 10 gene feature descriptions to prompt\n"
     ]
    },
    {
     "name": "stderr",
     "output_type": "stream",
     "text": [
      "INFO:cluster_analysis_20250714_125812.log:Anthropic API call successful: model=claude-3-7-sonnet-20250219\n",
      "INFO:cluster_analysis_20250714_125812.log:Success for cluster 225\n",
      "Processing clusters:  47%|████▋     | 226/486 [1:01:49<1:02:48, 14.49s/it]INFO:cluster_analysis_20250714_125812.log:Using Anthropic Claude API\n"
     ]
    },
    {
     "name": "stdout",
     "output_type": "stream",
     "text": [
      "Using provided template string\n",
      "Appending output format instructions to template\n",
      "Added 10 gene feature descriptions to prompt\n"
     ]
    },
    {
     "name": "stderr",
     "output_type": "stream",
     "text": [
      "INFO:cluster_analysis_20250714_125812.log:Anthropic API call successful: model=claude-3-7-sonnet-20250219\n",
      "INFO:cluster_analysis_20250714_125812.log:Success for cluster 226\n",
      "Processing clusters:  47%|████▋     | 227/486 [1:02:03<1:02:10, 14.40s/it]INFO:cluster_analysis_20250714_125812.log:Using Anthropic Claude API\n"
     ]
    },
    {
     "name": "stdout",
     "output_type": "stream",
     "text": [
      "Using provided template string\n",
      "Appending output format instructions to template\n",
      "Added 10 gene feature descriptions to prompt\n"
     ]
    },
    {
     "name": "stderr",
     "output_type": "stream",
     "text": [
      "INFO:cluster_analysis_20250714_125812.log:Anthropic API call successful: model=claude-3-7-sonnet-20250219\n",
      "INFO:cluster_analysis_20250714_125812.log:Success for cluster 227\n",
      "Processing clusters:  47%|████▋     | 228/486 [1:02:18<1:02:18, 14.49s/it]INFO:cluster_analysis_20250714_125812.log:Using Anthropic Claude API\n"
     ]
    },
    {
     "name": "stdout",
     "output_type": "stream",
     "text": [
      "Using provided template string\n",
      "Appending output format instructions to template\n",
      "Added 10 gene feature descriptions to prompt\n"
     ]
    },
    {
     "name": "stderr",
     "output_type": "stream",
     "text": [
      "INFO:cluster_analysis_20250714_125812.log:Anthropic API call successful: model=claude-3-7-sonnet-20250219\n",
      "INFO:cluster_analysis_20250714_125812.log:Success for cluster 228\n",
      "Processing clusters:  47%|████▋     | 229/486 [1:02:28<57:11, 13.35s/it]  INFO:cluster_analysis_20250714_125812.log:Using Anthropic Claude API\n"
     ]
    },
    {
     "name": "stdout",
     "output_type": "stream",
     "text": [
      "Using provided template string\n",
      "Appending output format instructions to template\n",
      "Added 10 gene feature descriptions to prompt\n"
     ]
    },
    {
     "name": "stderr",
     "output_type": "stream",
     "text": [
      "INFO:cluster_analysis_20250714_125812.log:Anthropic API call successful: model=claude-3-7-sonnet-20250219\n",
      "INFO:cluster_analysis_20250714_125812.log:Success for cluster 229\n",
      "INFO:cluster_analysis_20250714_125812.log:Saved progress for 230 clusters\n",
      "Processing clusters:  47%|████▋     | 230/486 [1:02:45<1:01:39, 14.45s/it]INFO:cluster_analysis_20250714_125812.log:Using Anthropic Claude API\n"
     ]
    },
    {
     "name": "stdout",
     "output_type": "stream",
     "text": [
      "Using provided template string\n",
      "Appending output format instructions to template\n",
      "Added 10 gene feature descriptions to prompt\n"
     ]
    },
    {
     "name": "stderr",
     "output_type": "stream",
     "text": [
      "INFO:cluster_analysis_20250714_125812.log:Anthropic API call successful: model=claude-3-7-sonnet-20250219\n",
      "INFO:cluster_analysis_20250714_125812.log:Success for cluster 230\n",
      "Processing clusters:  48%|████▊     | 231/486 [1:03:01<1:03:24, 14.92s/it]INFO:cluster_analysis_20250714_125812.log:Using Anthropic Claude API\n"
     ]
    },
    {
     "name": "stdout",
     "output_type": "stream",
     "text": [
      "Using provided template string\n",
      "Appending output format instructions to template\n",
      "Added 10 gene feature descriptions to prompt\n"
     ]
    },
    {
     "name": "stderr",
     "output_type": "stream",
     "text": [
      "INFO:cluster_analysis_20250714_125812.log:Anthropic API call successful: model=claude-3-7-sonnet-20250219\n",
      "INFO:cluster_analysis_20250714_125812.log:Success for cluster 231\n",
      "Processing clusters:  48%|████▊     | 232/486 [1:03:20<1:07:28, 15.94s/it]INFO:cluster_analysis_20250714_125812.log:Using Anthropic Claude API\n"
     ]
    },
    {
     "name": "stdout",
     "output_type": "stream",
     "text": [
      "Using provided template string\n",
      "Appending output format instructions to template\n",
      "Added 10 gene feature descriptions to prompt\n"
     ]
    },
    {
     "name": "stderr",
     "output_type": "stream",
     "text": [
      "INFO:cluster_analysis_20250714_125812.log:Anthropic API call successful: model=claude-3-7-sonnet-20250219\n",
      "INFO:cluster_analysis_20250714_125812.log:Success for cluster 232\n",
      "Processing clusters:  48%|████▊     | 233/486 [1:03:33<1:03:33, 15.07s/it]INFO:cluster_analysis_20250714_125812.log:Using Anthropic Claude API\n"
     ]
    },
    {
     "name": "stdout",
     "output_type": "stream",
     "text": [
      "Using provided template string\n",
      "Appending output format instructions to template\n",
      "Added 10 gene feature descriptions to prompt\n"
     ]
    },
    {
     "name": "stderr",
     "output_type": "stream",
     "text": [
      "INFO:cluster_analysis_20250714_125812.log:Anthropic API call successful: model=claude-3-7-sonnet-20250219\n",
      "INFO:cluster_analysis_20250714_125812.log:Success for cluster 233\n",
      "Processing clusters:  48%|████▊     | 234/486 [1:03:50<1:06:18, 15.79s/it]INFO:cluster_analysis_20250714_125812.log:Using Anthropic Claude API\n"
     ]
    },
    {
     "name": "stdout",
     "output_type": "stream",
     "text": [
      "Using provided template string\n",
      "Appending output format instructions to template\n",
      "Added 10 gene feature descriptions to prompt\n"
     ]
    },
    {
     "name": "stderr",
     "output_type": "stream",
     "text": [
      "INFO:cluster_analysis_20250714_125812.log:Anthropic API call successful: model=claude-3-7-sonnet-20250219\n",
      "INFO:cluster_analysis_20250714_125812.log:Success for cluster 234\n",
      "INFO:cluster_analysis_20250714_125812.log:Saved progress for 235 clusters\n",
      "Processing clusters:  48%|████▊     | 235/486 [1:04:08<1:08:37, 16.40s/it]INFO:cluster_analysis_20250714_125812.log:Using Anthropic Claude API\n"
     ]
    },
    {
     "name": "stdout",
     "output_type": "stream",
     "text": [
      "Using provided template string\n",
      "Appending output format instructions to template\n",
      "Added 10 gene feature descriptions to prompt\n"
     ]
    },
    {
     "name": "stderr",
     "output_type": "stream",
     "text": [
      "INFO:cluster_analysis_20250714_125812.log:Anthropic API call successful: model=claude-3-7-sonnet-20250219\n",
      "INFO:cluster_analysis_20250714_125812.log:Success for cluster 235\n",
      "Processing clusters:  49%|████▊     | 236/486 [1:04:17<59:02, 14.17s/it]  INFO:cluster_analysis_20250714_125812.log:Using Anthropic Claude API\n"
     ]
    },
    {
     "name": "stdout",
     "output_type": "stream",
     "text": [
      "Using provided template string\n",
      "Appending output format instructions to template\n",
      "Added 10 gene feature descriptions to prompt\n"
     ]
    },
    {
     "name": "stderr",
     "output_type": "stream",
     "text": [
      "INFO:cluster_analysis_20250714_125812.log:Anthropic API call successful: model=claude-3-7-sonnet-20250219\n",
      "INFO:cluster_analysis_20250714_125812.log:Success for cluster 236\n",
      "Processing clusters:  49%|████▉     | 237/486 [1:04:34<1:01:47, 14.89s/it]INFO:cluster_analysis_20250714_125812.log:Using Anthropic Claude API\n"
     ]
    },
    {
     "name": "stdout",
     "output_type": "stream",
     "text": [
      "Using provided template string\n",
      "Appending output format instructions to template\n",
      "Added 10 gene feature descriptions to prompt\n"
     ]
    },
    {
     "name": "stderr",
     "output_type": "stream",
     "text": [
      "INFO:cluster_analysis_20250714_125812.log:Anthropic API call successful: model=claude-3-7-sonnet-20250219\n",
      "INFO:cluster_analysis_20250714_125812.log:Success for cluster 237\n",
      "Processing clusters:  49%|████▉     | 238/486 [1:04:46<58:37, 14.19s/it]  INFO:cluster_analysis_20250714_125812.log:Using Anthropic Claude API\n"
     ]
    },
    {
     "name": "stdout",
     "output_type": "stream",
     "text": [
      "Using provided template string\n",
      "Appending output format instructions to template\n",
      "Added 10 gene feature descriptions to prompt\n"
     ]
    },
    {
     "name": "stderr",
     "output_type": "stream",
     "text": [
      "INFO:cluster_analysis_20250714_125812.log:Anthropic API call successful: model=claude-3-7-sonnet-20250219\n",
      "INFO:cluster_analysis_20250714_125812.log:Success for cluster 238\n",
      "Processing clusters:  49%|████▉     | 239/486 [1:04:58<55:30, 13.49s/it]INFO:cluster_analysis_20250714_125812.log:Using Anthropic Claude API\n"
     ]
    },
    {
     "name": "stdout",
     "output_type": "stream",
     "text": [
      "Using provided template string\n",
      "Appending output format instructions to template\n",
      "Added 10 gene feature descriptions to prompt\n"
     ]
    },
    {
     "name": "stderr",
     "output_type": "stream",
     "text": [
      "INFO:cluster_analysis_20250714_125812.log:Anthropic API call successful: model=claude-3-7-sonnet-20250219\n",
      "INFO:cluster_analysis_20250714_125812.log:Success for cluster 239\n",
      "INFO:cluster_analysis_20250714_125812.log:Saved progress for 240 clusters\n",
      "Processing clusters:  49%|████▉     | 240/486 [1:05:16<1:00:24, 14.73s/it]INFO:cluster_analysis_20250714_125812.log:Using Anthropic Claude API\n"
     ]
    },
    {
     "name": "stdout",
     "output_type": "stream",
     "text": [
      "Using provided template string\n",
      "Appending output format instructions to template\n",
      "Added 10 gene feature descriptions to prompt\n"
     ]
    },
    {
     "name": "stderr",
     "output_type": "stream",
     "text": [
      "INFO:cluster_analysis_20250714_125812.log:Anthropic API call successful: model=claude-3-7-sonnet-20250219\n",
      "INFO:cluster_analysis_20250714_125812.log:Success for cluster 240\n",
      "Processing clusters:  50%|████▉     | 241/486 [1:05:30<1:00:19, 14.77s/it]INFO:cluster_analysis_20250714_125812.log:Using Anthropic Claude API\n"
     ]
    },
    {
     "name": "stdout",
     "output_type": "stream",
     "text": [
      "Using provided template string\n",
      "Appending output format instructions to template\n",
      "Added 10 gene feature descriptions to prompt\n"
     ]
    },
    {
     "name": "stderr",
     "output_type": "stream",
     "text": [
      "INFO:cluster_analysis_20250714_125812.log:Anthropic API call successful: model=claude-3-7-sonnet-20250219\n",
      "INFO:cluster_analysis_20250714_125812.log:Success for cluster 241\n",
      "Processing clusters:  50%|████▉     | 242/486 [1:05:45<1:00:24, 14.85s/it]INFO:cluster_analysis_20250714_125812.log:Using Anthropic Claude API\n"
     ]
    },
    {
     "name": "stdout",
     "output_type": "stream",
     "text": [
      "Using provided template string\n",
      "Appending output format instructions to template\n",
      "Added 10 gene feature descriptions to prompt\n"
     ]
    },
    {
     "name": "stderr",
     "output_type": "stream",
     "text": [
      "INFO:cluster_analysis_20250714_125812.log:Anthropic API call successful: model=claude-3-7-sonnet-20250219\n",
      "INFO:cluster_analysis_20250714_125812.log:Success for cluster 242\n",
      "Processing clusters:  50%|█████     | 243/486 [1:05:58<57:28, 14.19s/it]  INFO:cluster_analysis_20250714_125812.log:Using Anthropic Claude API\n"
     ]
    },
    {
     "name": "stdout",
     "output_type": "stream",
     "text": [
      "Using provided template string\n",
      "Appending output format instructions to template\n",
      "Added 10 gene feature descriptions to prompt\n"
     ]
    },
    {
     "name": "stderr",
     "output_type": "stream",
     "text": [
      "INFO:cluster_analysis_20250714_125812.log:Anthropic API call successful: model=claude-3-7-sonnet-20250219\n",
      "INFO:cluster_analysis_20250714_125812.log:Success for cluster 243\n",
      "Processing clusters:  50%|█████     | 244/486 [1:06:10<54:39, 13.55s/it]INFO:cluster_analysis_20250714_125812.log:Using Anthropic Claude API\n"
     ]
    },
    {
     "name": "stdout",
     "output_type": "stream",
     "text": [
      "Using provided template string\n",
      "Appending output format instructions to template\n",
      "Added 10 gene feature descriptions to prompt\n"
     ]
    },
    {
     "name": "stderr",
     "output_type": "stream",
     "text": [
      "INFO:cluster_analysis_20250714_125812.log:Anthropic API call successful: model=claude-3-7-sonnet-20250219\n",
      "INFO:cluster_analysis_20250714_125812.log:Success for cluster 244\n",
      "INFO:cluster_analysis_20250714_125812.log:Saved progress for 245 clusters\n",
      "Processing clusters:  50%|█████     | 245/486 [1:06:27<58:19, 14.52s/it]INFO:cluster_analysis_20250714_125812.log:Using Anthropic Claude API\n"
     ]
    },
    {
     "name": "stdout",
     "output_type": "stream",
     "text": [
      "Using provided template string\n",
      "Appending output format instructions to template\n",
      "Added 10 gene feature descriptions to prompt\n"
     ]
    },
    {
     "name": "stderr",
     "output_type": "stream",
     "text": [
      "INFO:cluster_analysis_20250714_125812.log:Anthropic API call successful: model=claude-3-7-sonnet-20250219\n",
      "INFO:cluster_analysis_20250714_125812.log:Success for cluster 245\n",
      "Processing clusters:  51%|█████     | 246/486 [1:06:39<54:35, 13.65s/it]INFO:cluster_analysis_20250714_125812.log:Using Anthropic Claude API\n"
     ]
    },
    {
     "name": "stdout",
     "output_type": "stream",
     "text": [
      "Using provided template string\n",
      "Appending output format instructions to template\n",
      "Added 10 gene feature descriptions to prompt\n"
     ]
    },
    {
     "name": "stderr",
     "output_type": "stream",
     "text": [
      "INFO:cluster_analysis_20250714_125812.log:Anthropic API call successful: model=claude-3-7-sonnet-20250219\n",
      "INFO:cluster_analysis_20250714_125812.log:Success for cluster 246\n",
      "Processing clusters:  51%|█████     | 247/486 [1:06:51<53:26, 13.42s/it]INFO:cluster_analysis_20250714_125812.log:Using Anthropic Claude API\n"
     ]
    },
    {
     "name": "stdout",
     "output_type": "stream",
     "text": [
      "Using provided template string\n",
      "Appending output format instructions to template\n",
      "Added 10 gene feature descriptions to prompt\n"
     ]
    },
    {
     "name": "stderr",
     "output_type": "stream",
     "text": [
      "INFO:cluster_analysis_20250714_125812.log:Anthropic API call successful: model=claude-3-7-sonnet-20250219\n",
      "INFO:cluster_analysis_20250714_125812.log:Success for cluster 247\n",
      "Processing clusters:  51%|█████     | 248/486 [1:07:03<51:13, 12.91s/it]INFO:cluster_analysis_20250714_125812.log:Using Anthropic Claude API\n"
     ]
    },
    {
     "name": "stdout",
     "output_type": "stream",
     "text": [
      "Using provided template string\n",
      "Appending output format instructions to template\n",
      "Added 10 gene feature descriptions to prompt\n"
     ]
    },
    {
     "name": "stderr",
     "output_type": "stream",
     "text": [
      "INFO:cluster_analysis_20250714_125812.log:Anthropic API call successful: model=claude-3-7-sonnet-20250219\n",
      "INFO:cluster_analysis_20250714_125812.log:Success for cluster 248\n",
      "Processing clusters:  51%|█████     | 249/486 [1:07:16<51:00, 12.91s/it]INFO:cluster_analysis_20250714_125812.log:Using Anthropic Claude API\n"
     ]
    },
    {
     "name": "stdout",
     "output_type": "stream",
     "text": [
      "Using provided template string\n",
      "Appending output format instructions to template\n",
      "Added 10 gene feature descriptions to prompt\n"
     ]
    },
    {
     "name": "stderr",
     "output_type": "stream",
     "text": [
      "INFO:cluster_analysis_20250714_125812.log:Anthropic API call successful: model=claude-3-7-sonnet-20250219\n",
      "INFO:cluster_analysis_20250714_125812.log:Success for cluster 249\n",
      "INFO:cluster_analysis_20250714_125812.log:Saved progress for 250 clusters\n",
      "Processing clusters:  51%|█████▏    | 250/486 [1:07:35<57:31, 14.63s/it]INFO:cluster_analysis_20250714_125812.log:Using Anthropic Claude API\n"
     ]
    },
    {
     "name": "stdout",
     "output_type": "stream",
     "text": [
      "Using provided template string\n",
      "Appending output format instructions to template\n",
      "Added 10 gene feature descriptions to prompt\n"
     ]
    },
    {
     "name": "stderr",
     "output_type": "stream",
     "text": [
      "INFO:cluster_analysis_20250714_125812.log:Anthropic API call successful: model=claude-3-7-sonnet-20250219\n",
      "INFO:cluster_analysis_20250714_125812.log:Success for cluster 250\n",
      "Processing clusters:  52%|█████▏    | 251/486 [1:07:52<59:59, 15.32s/it]INFO:cluster_analysis_20250714_125812.log:Using Anthropic Claude API\n"
     ]
    },
    {
     "name": "stdout",
     "output_type": "stream",
     "text": [
      "Using provided template string\n",
      "Appending output format instructions to template\n",
      "Added 10 gene feature descriptions to prompt\n"
     ]
    },
    {
     "name": "stderr",
     "output_type": "stream",
     "text": [
      "INFO:cluster_analysis_20250714_125812.log:Anthropic API call successful: model=claude-3-7-sonnet-20250219\n",
      "INFO:cluster_analysis_20250714_125812.log:Success for cluster 251\n",
      "Processing clusters:  52%|█████▏    | 252/486 [1:08:07<59:52, 15.35s/it]INFO:cluster_analysis_20250714_125812.log:Using Anthropic Claude API\n"
     ]
    },
    {
     "name": "stdout",
     "output_type": "stream",
     "text": [
      "Using provided template string\n",
      "Appending output format instructions to template\n",
      "Added 10 gene feature descriptions to prompt\n"
     ]
    },
    {
     "name": "stderr",
     "output_type": "stream",
     "text": [
      "INFO:cluster_analysis_20250714_125812.log:Anthropic API call successful: model=claude-3-7-sonnet-20250219\n",
      "INFO:cluster_analysis_20250714_125812.log:Success for cluster 252\n",
      "Processing clusters:  52%|█████▏    | 253/486 [1:08:25<1:02:13, 16.02s/it]INFO:cluster_analysis_20250714_125812.log:Using Anthropic Claude API\n"
     ]
    },
    {
     "name": "stdout",
     "output_type": "stream",
     "text": [
      "Using provided template string\n",
      "Appending output format instructions to template\n",
      "Added 10 gene feature descriptions to prompt\n"
     ]
    },
    {
     "name": "stderr",
     "output_type": "stream",
     "text": [
      "INFO:cluster_analysis_20250714_125812.log:Anthropic API call successful: model=claude-3-7-sonnet-20250219\n",
      "INFO:cluster_analysis_20250714_125812.log:Success for cluster 253\n",
      "Processing clusters:  52%|█████▏    | 254/486 [1:08:41<1:02:29, 16.16s/it]INFO:cluster_analysis_20250714_125812.log:Using Anthropic Claude API\n"
     ]
    },
    {
     "name": "stdout",
     "output_type": "stream",
     "text": [
      "Using provided template string\n",
      "Appending output format instructions to template\n",
      "Added 10 gene feature descriptions to prompt\n"
     ]
    },
    {
     "name": "stderr",
     "output_type": "stream",
     "text": [
      "INFO:cluster_analysis_20250714_125812.log:Anthropic API call successful: model=claude-3-7-sonnet-20250219\n",
      "INFO:cluster_analysis_20250714_125812.log:Success for cluster 254\n",
      "INFO:cluster_analysis_20250714_125812.log:Saved progress for 255 clusters\n",
      "Processing clusters:  52%|█████▏    | 255/486 [1:08:56<1:01:15, 15.91s/it]INFO:cluster_analysis_20250714_125812.log:Using Anthropic Claude API\n"
     ]
    },
    {
     "name": "stdout",
     "output_type": "stream",
     "text": [
      "Using provided template string\n",
      "Appending output format instructions to template\n",
      "Added 10 gene feature descriptions to prompt\n"
     ]
    },
    {
     "name": "stderr",
     "output_type": "stream",
     "text": [
      "INFO:cluster_analysis_20250714_125812.log:Anthropic API call successful: model=claude-3-7-sonnet-20250219\n",
      "INFO:cluster_analysis_20250714_125812.log:Success for cluster 255\n",
      "Processing clusters:  53%|█████▎    | 256/486 [1:09:08<55:51, 14.57s/it]  INFO:cluster_analysis_20250714_125812.log:Using Anthropic Claude API\n"
     ]
    },
    {
     "name": "stdout",
     "output_type": "stream",
     "text": [
      "Using provided template string\n",
      "Appending output format instructions to template\n",
      "Added 10 gene feature descriptions to prompt\n"
     ]
    },
    {
     "name": "stderr",
     "output_type": "stream",
     "text": [
      "INFO:cluster_analysis_20250714_125812.log:Anthropic API call successful: model=claude-3-7-sonnet-20250219\n",
      "INFO:cluster_analysis_20250714_125812.log:Success for cluster 256\n",
      "Processing clusters:  53%|█████▎    | 257/486 [1:09:21<53:31, 14.02s/it]INFO:cluster_analysis_20250714_125812.log:Using Anthropic Claude API\n"
     ]
    },
    {
     "name": "stdout",
     "output_type": "stream",
     "text": [
      "Using provided template string\n",
      "Appending output format instructions to template\n",
      "Added 10 gene feature descriptions to prompt\n"
     ]
    },
    {
     "name": "stderr",
     "output_type": "stream",
     "text": [
      "INFO:cluster_analysis_20250714_125812.log:Anthropic API call successful: model=claude-3-7-sonnet-20250219\n",
      "INFO:cluster_analysis_20250714_125812.log:Success for cluster 257\n",
      "Processing clusters:  53%|█████▎    | 258/486 [1:09:36<55:06, 14.50s/it]INFO:cluster_analysis_20250714_125812.log:Using Anthropic Claude API\n"
     ]
    },
    {
     "name": "stdout",
     "output_type": "stream",
     "text": [
      "Using provided template string\n",
      "Appending output format instructions to template\n",
      "Added 10 gene feature descriptions to prompt\n"
     ]
    },
    {
     "name": "stderr",
     "output_type": "stream",
     "text": [
      "INFO:cluster_analysis_20250714_125812.log:Anthropic API call successful: model=claude-3-7-sonnet-20250219\n",
      "INFO:cluster_analysis_20250714_125812.log:Success for cluster 258\n",
      "Processing clusters:  53%|█████▎    | 259/486 [1:09:54<58:27, 15.45s/it]INFO:cluster_analysis_20250714_125812.log:Using Anthropic Claude API\n"
     ]
    },
    {
     "name": "stdout",
     "output_type": "stream",
     "text": [
      "Using provided template string\n",
      "Appending output format instructions to template\n",
      "Added 10 gene feature descriptions to prompt\n"
     ]
    },
    {
     "name": "stderr",
     "output_type": "stream",
     "text": [
      "INFO:cluster_analysis_20250714_125812.log:Anthropic API call successful: model=claude-3-7-sonnet-20250219\n",
      "INFO:cluster_analysis_20250714_125812.log:Success for cluster 259\n",
      "INFO:cluster_analysis_20250714_125812.log:Saved progress for 260 clusters\n",
      "Processing clusters:  53%|█████▎    | 260/486 [1:10:07<55:03, 14.62s/it]INFO:cluster_analysis_20250714_125812.log:Using Anthropic Claude API\n"
     ]
    },
    {
     "name": "stdout",
     "output_type": "stream",
     "text": [
      "Using provided template string\n",
      "Appending output format instructions to template\n",
      "Added 10 gene feature descriptions to prompt\n"
     ]
    },
    {
     "name": "stderr",
     "output_type": "stream",
     "text": [
      "INFO:cluster_analysis_20250714_125812.log:Anthropic API call successful: model=claude-3-7-sonnet-20250219\n",
      "INFO:cluster_analysis_20250714_125812.log:Success for cluster 260\n",
      "Processing clusters:  54%|█████▎    | 261/486 [1:10:17<50:24, 13.44s/it]INFO:cluster_analysis_20250714_125812.log:Using Anthropic Claude API\n"
     ]
    },
    {
     "name": "stdout",
     "output_type": "stream",
     "text": [
      "Using provided template string\n",
      "Appending output format instructions to template\n",
      "Added 10 gene feature descriptions to prompt\n"
     ]
    },
    {
     "name": "stderr",
     "output_type": "stream",
     "text": [
      "INFO:cluster_analysis_20250714_125812.log:Anthropic API call successful: model=claude-3-7-sonnet-20250219\n",
      "INFO:cluster_analysis_20250714_125812.log:Success for cluster 261\n",
      "Processing clusters:  54%|█████▍    | 262/486 [1:10:36<55:53, 14.97s/it]INFO:cluster_analysis_20250714_125812.log:Using Anthropic Claude API\n"
     ]
    },
    {
     "name": "stdout",
     "output_type": "stream",
     "text": [
      "Using provided template string\n",
      "Appending output format instructions to template\n",
      "Added 10 gene feature descriptions to prompt\n"
     ]
    },
    {
     "name": "stderr",
     "output_type": "stream",
     "text": [
      "INFO:cluster_analysis_20250714_125812.log:Anthropic API call successful: model=claude-3-7-sonnet-20250219\n",
      "INFO:cluster_analysis_20250714_125812.log:Success for cluster 262\n",
      "Processing clusters:  54%|█████▍    | 263/486 [1:10:49<53:54, 14.51s/it]INFO:cluster_analysis_20250714_125812.log:Using Anthropic Claude API\n"
     ]
    },
    {
     "name": "stdout",
     "output_type": "stream",
     "text": [
      "Using provided template string\n",
      "Appending output format instructions to template\n",
      "Added 10 gene feature descriptions to prompt\n"
     ]
    },
    {
     "name": "stderr",
     "output_type": "stream",
     "text": [
      "INFO:cluster_analysis_20250714_125812.log:Anthropic API call successful: model=claude-3-7-sonnet-20250219\n",
      "INFO:cluster_analysis_20250714_125812.log:Success for cluster 263\n",
      "Processing clusters:  54%|█████▍    | 264/486 [1:11:06<56:18, 15.22s/it]INFO:cluster_analysis_20250714_125812.log:Using Anthropic Claude API\n"
     ]
    },
    {
     "name": "stdout",
     "output_type": "stream",
     "text": [
      "Using provided template string\n",
      "Appending output format instructions to template\n",
      "Added 10 gene feature descriptions to prompt\n"
     ]
    },
    {
     "name": "stderr",
     "output_type": "stream",
     "text": [
      "INFO:cluster_analysis_20250714_125812.log:Anthropic API call successful: model=claude-3-7-sonnet-20250219\n",
      "INFO:cluster_analysis_20250714_125812.log:Success for cluster 264\n",
      "INFO:cluster_analysis_20250714_125812.log:Saved progress for 265 clusters\n",
      "Processing clusters:  55%|█████▍    | 265/486 [1:11:22<56:26, 15.32s/it]INFO:cluster_analysis_20250714_125812.log:Using Anthropic Claude API\n"
     ]
    },
    {
     "name": "stdout",
     "output_type": "stream",
     "text": [
      "Using provided template string\n",
      "Appending output format instructions to template\n",
      "Added 10 gene feature descriptions to prompt\n"
     ]
    },
    {
     "name": "stderr",
     "output_type": "stream",
     "text": [
      "INFO:cluster_analysis_20250714_125812.log:Anthropic API call successful: model=claude-3-7-sonnet-20250219\n",
      "INFO:cluster_analysis_20250714_125812.log:Success for cluster 265\n",
      "Processing clusters:  55%|█████▍    | 266/486 [1:11:31<49:06, 13.39s/it]INFO:cluster_analysis_20250714_125812.log:Using Anthropic Claude API\n"
     ]
    },
    {
     "name": "stdout",
     "output_type": "stream",
     "text": [
      "Using provided template string\n",
      "Appending output format instructions to template\n",
      "Added 10 gene feature descriptions to prompt\n"
     ]
    },
    {
     "name": "stderr",
     "output_type": "stream",
     "text": [
      "INFO:cluster_analysis_20250714_125812.log:Anthropic API call successful: model=claude-3-7-sonnet-20250219\n",
      "INFO:cluster_analysis_20250714_125812.log:Success for cluster 266\n",
      "Processing clusters:  55%|█████▍    | 267/486 [1:11:47<52:06, 14.28s/it]INFO:cluster_analysis_20250714_125812.log:Using Anthropic Claude API\n"
     ]
    },
    {
     "name": "stdout",
     "output_type": "stream",
     "text": [
      "Using provided template string\n",
      "Appending output format instructions to template\n",
      "Added 9 gene feature descriptions to prompt\n"
     ]
    },
    {
     "name": "stderr",
     "output_type": "stream",
     "text": [
      "INFO:cluster_analysis_20250714_125812.log:Anthropic API call successful: model=claude-3-7-sonnet-20250219\n",
      "INFO:cluster_analysis_20250714_125812.log:Success for cluster 267\n",
      "Processing clusters:  55%|█████▌    | 268/486 [1:12:00<50:04, 13.78s/it]INFO:cluster_analysis_20250714_125812.log:Using Anthropic Claude API\n"
     ]
    },
    {
     "name": "stdout",
     "output_type": "stream",
     "text": [
      "Using provided template string\n",
      "Appending output format instructions to template\n",
      "Added 9 gene feature descriptions to prompt\n"
     ]
    },
    {
     "name": "stderr",
     "output_type": "stream",
     "text": [
      "INFO:cluster_analysis_20250714_125812.log:Anthropic API call successful: model=claude-3-7-sonnet-20250219\n",
      "INFO:cluster_analysis_20250714_125812.log:Success for cluster 268\n",
      "Processing clusters:  55%|█████▌    | 269/486 [1:12:16<52:24, 14.49s/it]INFO:cluster_analysis_20250714_125812.log:Using Anthropic Claude API\n"
     ]
    },
    {
     "name": "stdout",
     "output_type": "stream",
     "text": [
      "Using provided template string\n",
      "Appending output format instructions to template\n",
      "Added 9 gene feature descriptions to prompt\n"
     ]
    },
    {
     "name": "stderr",
     "output_type": "stream",
     "text": [
      "INFO:cluster_analysis_20250714_125812.log:Anthropic API call successful: model=claude-3-7-sonnet-20250219\n",
      "INFO:cluster_analysis_20250714_125812.log:Success for cluster 269\n",
      "INFO:cluster_analysis_20250714_125812.log:Saved progress for 270 clusters\n",
      "Processing clusters:  56%|█████▌    | 270/486 [1:12:28<49:45, 13.82s/it]INFO:cluster_analysis_20250714_125812.log:Using Anthropic Claude API\n"
     ]
    },
    {
     "name": "stdout",
     "output_type": "stream",
     "text": [
      "Using provided template string\n",
      "Appending output format instructions to template\n",
      "Added 9 gene feature descriptions to prompt\n"
     ]
    },
    {
     "name": "stderr",
     "output_type": "stream",
     "text": [
      "INFO:cluster_analysis_20250714_125812.log:Anthropic API call successful: model=claude-3-7-sonnet-20250219\n",
      "INFO:cluster_analysis_20250714_125812.log:Success for cluster 270\n",
      "Processing clusters:  56%|█████▌    | 271/486 [1:12:39<46:30, 12.98s/it]INFO:cluster_analysis_20250714_125812.log:Using Anthropic Claude API\n"
     ]
    },
    {
     "name": "stdout",
     "output_type": "stream",
     "text": [
      "Using provided template string\n",
      "Appending output format instructions to template\n",
      "Added 9 gene feature descriptions to prompt\n"
     ]
    },
    {
     "name": "stderr",
     "output_type": "stream",
     "text": [
      "INFO:cluster_analysis_20250714_125812.log:Anthropic API call successful: model=claude-3-7-sonnet-20250219\n",
      "INFO:cluster_analysis_20250714_125812.log:Success for cluster 271\n",
      "Processing clusters:  56%|█████▌    | 272/486 [1:12:54<48:52, 13.70s/it]INFO:cluster_analysis_20250714_125812.log:Using Anthropic Claude API\n"
     ]
    },
    {
     "name": "stdout",
     "output_type": "stream",
     "text": [
      "Using provided template string\n",
      "Appending output format instructions to template\n",
      "Added 9 gene feature descriptions to prompt\n"
     ]
    },
    {
     "name": "stderr",
     "output_type": "stream",
     "text": [
      "INFO:cluster_analysis_20250714_125812.log:Anthropic API call successful: model=claude-3-7-sonnet-20250219\n",
      "INFO:cluster_analysis_20250714_125812.log:Success for cluster 272\n",
      "Processing clusters:  56%|█████▌    | 273/486 [1:13:07<47:38, 13.42s/it]INFO:cluster_analysis_20250714_125812.log:Using Anthropic Claude API\n"
     ]
    },
    {
     "name": "stdout",
     "output_type": "stream",
     "text": [
      "Using provided template string\n",
      "Appending output format instructions to template\n",
      "Added 9 gene feature descriptions to prompt\n"
     ]
    },
    {
     "name": "stderr",
     "output_type": "stream",
     "text": [
      "INFO:cluster_analysis_20250714_125812.log:Anthropic API call successful: model=claude-3-7-sonnet-20250219\n",
      "INFO:cluster_analysis_20250714_125812.log:Success for cluster 273\n",
      "Processing clusters:  56%|█████▋    | 274/486 [1:13:28<55:12, 15.62s/it]INFO:cluster_analysis_20250714_125812.log:Using Anthropic Claude API\n"
     ]
    },
    {
     "name": "stdout",
     "output_type": "stream",
     "text": [
      "Using provided template string\n",
      "Appending output format instructions to template\n",
      "Added 9 gene feature descriptions to prompt\n"
     ]
    },
    {
     "name": "stderr",
     "output_type": "stream",
     "text": [
      "INFO:cluster_analysis_20250714_125812.log:Anthropic API call successful: model=claude-3-7-sonnet-20250219\n",
      "INFO:cluster_analysis_20250714_125812.log:Success for cluster 274\n",
      "INFO:cluster_analysis_20250714_125812.log:Saved progress for 275 clusters\n",
      "Processing clusters:  57%|█████▋    | 275/486 [1:13:40<51:19, 14.60s/it]INFO:cluster_analysis_20250714_125812.log:Using Anthropic Claude API\n"
     ]
    },
    {
     "name": "stdout",
     "output_type": "stream",
     "text": [
      "Using provided template string\n",
      "Appending output format instructions to template\n",
      "Added 9 gene feature descriptions to prompt\n"
     ]
    },
    {
     "name": "stderr",
     "output_type": "stream",
     "text": [
      "INFO:cluster_analysis_20250714_125812.log:Anthropic API call successful: model=claude-3-7-sonnet-20250219\n",
      "INFO:cluster_analysis_20250714_125812.log:Success for cluster 275\n",
      "Processing clusters:  57%|█████▋    | 276/486 [1:13:51<47:27, 13.56s/it]INFO:cluster_analysis_20250714_125812.log:Using Anthropic Claude API\n"
     ]
    },
    {
     "name": "stdout",
     "output_type": "stream",
     "text": [
      "Using provided template string\n",
      "Appending output format instructions to template\n",
      "Added 9 gene feature descriptions to prompt\n"
     ]
    },
    {
     "name": "stderr",
     "output_type": "stream",
     "text": [
      "INFO:cluster_analysis_20250714_125812.log:Anthropic API call successful: model=claude-3-7-sonnet-20250219\n",
      "INFO:cluster_analysis_20250714_125812.log:Success for cluster 276\n",
      "Processing clusters:  57%|█████▋    | 277/486 [1:14:06<47:57, 13.77s/it]INFO:cluster_analysis_20250714_125812.log:Using Anthropic Claude API\n"
     ]
    },
    {
     "name": "stdout",
     "output_type": "stream",
     "text": [
      "Using provided template string\n",
      "Appending output format instructions to template\n",
      "Added 9 gene feature descriptions to prompt\n"
     ]
    },
    {
     "name": "stderr",
     "output_type": "stream",
     "text": [
      "INFO:cluster_analysis_20250714_125812.log:Anthropic API call successful: model=claude-3-7-sonnet-20250219\n",
      "INFO:cluster_analysis_20250714_125812.log:Success for cluster 277\n",
      "Processing clusters:  57%|█████▋    | 278/486 [1:14:21<49:17, 14.22s/it]INFO:cluster_analysis_20250714_125812.log:Using Anthropic Claude API\n"
     ]
    },
    {
     "name": "stdout",
     "output_type": "stream",
     "text": [
      "Using provided template string\n",
      "Appending output format instructions to template\n",
      "Added 9 gene feature descriptions to prompt\n"
     ]
    },
    {
     "name": "stderr",
     "output_type": "stream",
     "text": [
      "INFO:cluster_analysis_20250714_125812.log:Anthropic API call successful: model=claude-3-7-sonnet-20250219\n",
      "INFO:cluster_analysis_20250714_125812.log:Success for cluster 278\n",
      "Processing clusters:  57%|█████▋    | 279/486 [1:14:32<45:26, 13.17s/it]INFO:cluster_analysis_20250714_125812.log:Using Anthropic Claude API\n"
     ]
    },
    {
     "name": "stdout",
     "output_type": "stream",
     "text": [
      "Using provided template string\n",
      "Appending output format instructions to template\n",
      "Added 9 gene feature descriptions to prompt\n"
     ]
    },
    {
     "name": "stderr",
     "output_type": "stream",
     "text": [
      "INFO:cluster_analysis_20250714_125812.log:Anthropic API call successful: model=claude-3-7-sonnet-20250219\n",
      "INFO:cluster_analysis_20250714_125812.log:Success for cluster 279\n",
      "INFO:cluster_analysis_20250714_125812.log:Saved progress for 280 clusters\n",
      "Processing clusters:  58%|█████▊    | 280/486 [1:14:47<47:34, 13.86s/it]INFO:cluster_analysis_20250714_125812.log:Using Anthropic Claude API\n"
     ]
    },
    {
     "name": "stdout",
     "output_type": "stream",
     "text": [
      "Using provided template string\n",
      "Appending output format instructions to template\n",
      "Added 9 gene feature descriptions to prompt\n"
     ]
    },
    {
     "name": "stderr",
     "output_type": "stream",
     "text": [
      "INFO:cluster_analysis_20250714_125812.log:Anthropic API call successful: model=claude-3-7-sonnet-20250219\n",
      "INFO:cluster_analysis_20250714_125812.log:Success for cluster 280\n",
      "Processing clusters:  58%|█████▊    | 281/486 [1:14:57<42:58, 12.58s/it]INFO:cluster_analysis_20250714_125812.log:Using Anthropic Claude API\n"
     ]
    },
    {
     "name": "stdout",
     "output_type": "stream",
     "text": [
      "Using provided template string\n",
      "Appending output format instructions to template\n",
      "Added 9 gene feature descriptions to prompt\n"
     ]
    },
    {
     "name": "stderr",
     "output_type": "stream",
     "text": [
      "INFO:cluster_analysis_20250714_125812.log:Anthropic API call successful: model=claude-3-7-sonnet-20250219\n",
      "INFO:cluster_analysis_20250714_125812.log:Success for cluster 281\n",
      "Processing clusters:  58%|█████▊    | 282/486 [1:15:09<42:53, 12.62s/it]INFO:cluster_analysis_20250714_125812.log:Using Anthropic Claude API\n"
     ]
    },
    {
     "name": "stdout",
     "output_type": "stream",
     "text": [
      "Using provided template string\n",
      "Appending output format instructions to template\n",
      "Added 9 gene feature descriptions to prompt\n"
     ]
    },
    {
     "name": "stderr",
     "output_type": "stream",
     "text": [
      "INFO:cluster_analysis_20250714_125812.log:Anthropic API call successful: model=claude-3-7-sonnet-20250219\n",
      "INFO:cluster_analysis_20250714_125812.log:Success for cluster 282\n",
      "Processing clusters:  58%|█████▊    | 283/486 [1:15:19<39:57, 11.81s/it]INFO:cluster_analysis_20250714_125812.log:Using Anthropic Claude API\n"
     ]
    },
    {
     "name": "stdout",
     "output_type": "stream",
     "text": [
      "Using provided template string\n",
      "Appending output format instructions to template\n",
      "Added 9 gene feature descriptions to prompt\n"
     ]
    },
    {
     "name": "stderr",
     "output_type": "stream",
     "text": [
      "INFO:cluster_analysis_20250714_125812.log:Anthropic API call successful: model=claude-3-7-sonnet-20250219\n",
      "INFO:cluster_analysis_20250714_125812.log:Success for cluster 283\n",
      "Processing clusters:  58%|█████▊    | 284/486 [1:15:38<46:35, 13.84s/it]INFO:cluster_analysis_20250714_125812.log:Using Anthropic Claude API\n"
     ]
    },
    {
     "name": "stdout",
     "output_type": "stream",
     "text": [
      "Using provided template string\n",
      "Appending output format instructions to template\n",
      "Added 9 gene feature descriptions to prompt\n"
     ]
    },
    {
     "name": "stderr",
     "output_type": "stream",
     "text": [
      "INFO:cluster_analysis_20250714_125812.log:Anthropic API call successful: model=claude-3-7-sonnet-20250219\n",
      "INFO:cluster_analysis_20250714_125812.log:Success for cluster 284\n",
      "INFO:cluster_analysis_20250714_125812.log:Saved progress for 285 clusters\n",
      "Processing clusters:  59%|█████▊    | 285/486 [1:16:00<54:56, 16.40s/it]INFO:cluster_analysis_20250714_125812.log:Using Anthropic Claude API\n"
     ]
    },
    {
     "name": "stdout",
     "output_type": "stream",
     "text": [
      "Using provided template string\n",
      "Appending output format instructions to template\n",
      "Added 9 gene feature descriptions to prompt\n"
     ]
    },
    {
     "name": "stderr",
     "output_type": "stream",
     "text": [
      "INFO:cluster_analysis_20250714_125812.log:Anthropic API call successful: model=claude-3-7-sonnet-20250219\n",
      "INFO:cluster_analysis_20250714_125812.log:Success for cluster 285\n",
      "Processing clusters:  59%|█████▉    | 286/486 [1:16:14<51:48, 15.54s/it]INFO:cluster_analysis_20250714_125812.log:Using Anthropic Claude API\n"
     ]
    },
    {
     "name": "stdout",
     "output_type": "stream",
     "text": [
      "Using provided template string\n",
      "Appending output format instructions to template\n",
      "Added 9 gene feature descriptions to prompt\n"
     ]
    },
    {
     "name": "stderr",
     "output_type": "stream",
     "text": [
      "INFO:cluster_analysis_20250714_125812.log:Anthropic API call successful: model=claude-3-7-sonnet-20250219\n",
      "INFO:cluster_analysis_20250714_125812.log:Success for cluster 286\n",
      "Processing clusters:  59%|█████▉    | 287/486 [1:16:29<51:43, 15.60s/it]INFO:cluster_analysis_20250714_125812.log:Using Anthropic Claude API\n"
     ]
    },
    {
     "name": "stdout",
     "output_type": "stream",
     "text": [
      "Using provided template string\n",
      "Appending output format instructions to template\n",
      "Added 9 gene feature descriptions to prompt\n"
     ]
    },
    {
     "name": "stderr",
     "output_type": "stream",
     "text": [
      "INFO:cluster_analysis_20250714_125812.log:Anthropic API call successful: model=claude-3-7-sonnet-20250219\n",
      "INFO:cluster_analysis_20250714_125812.log:Success for cluster 287\n",
      "Processing clusters:  59%|█████▉    | 288/486 [1:16:43<49:20, 14.95s/it]INFO:cluster_analysis_20250714_125812.log:Using Anthropic Claude API\n"
     ]
    },
    {
     "name": "stdout",
     "output_type": "stream",
     "text": [
      "Using provided template string\n",
      "Appending output format instructions to template\n",
      "Added 9 gene feature descriptions to prompt\n"
     ]
    },
    {
     "name": "stderr",
     "output_type": "stream",
     "text": [
      "INFO:cluster_analysis_20250714_125812.log:Anthropic API call successful: model=claude-3-7-sonnet-20250219\n",
      "INFO:cluster_analysis_20250714_125812.log:Success for cluster 288\n",
      "Processing clusters:  59%|█████▉    | 289/486 [1:16:58<49:26, 15.06s/it]INFO:cluster_analysis_20250714_125812.log:Using Anthropic Claude API\n"
     ]
    },
    {
     "name": "stdout",
     "output_type": "stream",
     "text": [
      "Using provided template string\n",
      "Appending output format instructions to template\n",
      "Added 9 gene feature descriptions to prompt\n"
     ]
    },
    {
     "name": "stderr",
     "output_type": "stream",
     "text": [
      "INFO:cluster_analysis_20250714_125812.log:Anthropic API call successful: model=claude-3-7-sonnet-20250219\n",
      "INFO:cluster_analysis_20250714_125812.log:Success for cluster 289\n",
      "INFO:cluster_analysis_20250714_125812.log:Saved progress for 290 clusters\n",
      "Processing clusters:  60%|█████▉    | 290/486 [1:17:13<48:35, 14.88s/it]INFO:cluster_analysis_20250714_125812.log:Using Anthropic Claude API\n"
     ]
    },
    {
     "name": "stdout",
     "output_type": "stream",
     "text": [
      "Using provided template string\n",
      "Appending output format instructions to template\n",
      "Added 9 gene feature descriptions to prompt\n"
     ]
    },
    {
     "name": "stderr",
     "output_type": "stream",
     "text": [
      "INFO:cluster_analysis_20250714_125812.log:Anthropic API call successful: model=claude-3-7-sonnet-20250219\n",
      "INFO:cluster_analysis_20250714_125812.log:Success for cluster 290\n",
      "Processing clusters:  60%|█████▉    | 291/486 [1:17:30<51:09, 15.74s/it]INFO:cluster_analysis_20250714_125812.log:Using Anthropic Claude API\n"
     ]
    },
    {
     "name": "stdout",
     "output_type": "stream",
     "text": [
      "Using provided template string\n",
      "Appending output format instructions to template\n",
      "Added 9 gene feature descriptions to prompt\n"
     ]
    },
    {
     "name": "stderr",
     "output_type": "stream",
     "text": [
      "INFO:cluster_analysis_20250714_125812.log:Anthropic API call successful: model=claude-3-7-sonnet-20250219\n",
      "INFO:cluster_analysis_20250714_125812.log:Success for cluster 291\n",
      "Processing clusters:  60%|██████    | 292/486 [1:17:42<46:29, 14.38s/it]INFO:cluster_analysis_20250714_125812.log:Using Anthropic Claude API\n"
     ]
    },
    {
     "name": "stdout",
     "output_type": "stream",
     "text": [
      "Using provided template string\n",
      "Appending output format instructions to template\n",
      "Added 9 gene feature descriptions to prompt\n"
     ]
    },
    {
     "name": "stderr",
     "output_type": "stream",
     "text": [
      "INFO:cluster_analysis_20250714_125812.log:Anthropic API call successful: model=claude-3-7-sonnet-20250219\n",
      "INFO:cluster_analysis_20250714_125812.log:Success for cluster 292\n",
      "Processing clusters:  60%|██████    | 293/486 [1:17:56<46:25, 14.43s/it]INFO:cluster_analysis_20250714_125812.log:Using Anthropic Claude API\n"
     ]
    },
    {
     "name": "stdout",
     "output_type": "stream",
     "text": [
      "Using provided template string\n",
      "Appending output format instructions to template\n",
      "Added 9 gene feature descriptions to prompt\n"
     ]
    },
    {
     "name": "stderr",
     "output_type": "stream",
     "text": [
      "INFO:cluster_analysis_20250714_125812.log:Anthropic API call successful: model=claude-3-7-sonnet-20250219\n",
      "INFO:cluster_analysis_20250714_125812.log:Success for cluster 293\n",
      "Processing clusters:  60%|██████    | 294/486 [1:18:12<47:48, 14.94s/it]INFO:cluster_analysis_20250714_125812.log:Using Anthropic Claude API\n"
     ]
    },
    {
     "name": "stdout",
     "output_type": "stream",
     "text": [
      "Using provided template string\n",
      "Appending output format instructions to template\n",
      "Added 9 gene feature descriptions to prompt\n"
     ]
    },
    {
     "name": "stderr",
     "output_type": "stream",
     "text": [
      "INFO:cluster_analysis_20250714_125812.log:Anthropic API call successful: model=claude-3-7-sonnet-20250219\n",
      "INFO:cluster_analysis_20250714_125812.log:Success for cluster 294\n",
      "INFO:cluster_analysis_20250714_125812.log:Saved progress for 295 clusters\n",
      "Processing clusters:  61%|██████    | 295/486 [1:18:24<44:23, 13.95s/it]INFO:cluster_analysis_20250714_125812.log:Using Anthropic Claude API\n"
     ]
    },
    {
     "name": "stdout",
     "output_type": "stream",
     "text": [
      "Using provided template string\n",
      "Appending output format instructions to template\n",
      "Added 9 gene feature descriptions to prompt\n"
     ]
    },
    {
     "name": "stderr",
     "output_type": "stream",
     "text": [
      "INFO:cluster_analysis_20250714_125812.log:Anthropic API call successful: model=claude-3-7-sonnet-20250219\n",
      "INFO:cluster_analysis_20250714_125812.log:Success for cluster 295\n",
      "Processing clusters:  61%|██████    | 296/486 [1:18:37<42:57, 13.57s/it]INFO:cluster_analysis_20250714_125812.log:Using Anthropic Claude API\n"
     ]
    },
    {
     "name": "stdout",
     "output_type": "stream",
     "text": [
      "Using provided template string\n",
      "Appending output format instructions to template\n",
      "Added 9 gene feature descriptions to prompt\n"
     ]
    },
    {
     "name": "stderr",
     "output_type": "stream",
     "text": [
      "INFO:cluster_analysis_20250714_125812.log:Anthropic API call successful: model=claude-3-7-sonnet-20250219\n",
      "INFO:cluster_analysis_20250714_125812.log:Success for cluster 296\n",
      "Processing clusters:  61%|██████    | 297/486 [1:18:51<43:26, 13.79s/it]INFO:cluster_analysis_20250714_125812.log:Using Anthropic Claude API\n"
     ]
    },
    {
     "name": "stdout",
     "output_type": "stream",
     "text": [
      "Using provided template string\n",
      "Appending output format instructions to template\n",
      "Added 9 gene feature descriptions to prompt\n"
     ]
    },
    {
     "name": "stderr",
     "output_type": "stream",
     "text": [
      "INFO:cluster_analysis_20250714_125812.log:Anthropic API call successful: model=claude-3-7-sonnet-20250219\n",
      "INFO:cluster_analysis_20250714_125812.log:Success for cluster 297\n",
      "Processing clusters:  61%|██████▏   | 298/486 [1:18:58<36:53, 11.78s/it]INFO:cluster_analysis_20250714_125812.log:Using Anthropic Claude API\n"
     ]
    },
    {
     "name": "stdout",
     "output_type": "stream",
     "text": [
      "Using provided template string\n",
      "Appending output format instructions to template\n",
      "Added 9 gene feature descriptions to prompt\n"
     ]
    },
    {
     "name": "stderr",
     "output_type": "stream",
     "text": [
      "INFO:cluster_analysis_20250714_125812.log:Anthropic API call successful: model=claude-3-7-sonnet-20250219\n",
      "INFO:cluster_analysis_20250714_125812.log:Success for cluster 298\n",
      "Processing clusters:  62%|██████▏   | 299/486 [1:19:17<43:09, 13.85s/it]INFO:cluster_analysis_20250714_125812.log:Using Anthropic Claude API\n"
     ]
    },
    {
     "name": "stdout",
     "output_type": "stream",
     "text": [
      "Using provided template string\n",
      "Appending output format instructions to template\n",
      "Added 9 gene feature descriptions to prompt\n"
     ]
    },
    {
     "name": "stderr",
     "output_type": "stream",
     "text": [
      "INFO:cluster_analysis_20250714_125812.log:Anthropic API call successful: model=claude-3-7-sonnet-20250219\n",
      "INFO:cluster_analysis_20250714_125812.log:Success for cluster 299\n",
      "INFO:cluster_analysis_20250714_125812.log:Saved progress for 300 clusters\n",
      "Processing clusters:  62%|██████▏   | 300/486 [1:19:34<46:05, 14.87s/it]INFO:cluster_analysis_20250714_125812.log:Using Anthropic Claude API\n"
     ]
    },
    {
     "name": "stdout",
     "output_type": "stream",
     "text": [
      "Using provided template string\n",
      "Appending output format instructions to template\n",
      "Added 9 gene feature descriptions to prompt\n"
     ]
    },
    {
     "name": "stderr",
     "output_type": "stream",
     "text": [
      "INFO:cluster_analysis_20250714_125812.log:Anthropic API call successful: model=claude-3-7-sonnet-20250219\n",
      "INFO:cluster_analysis_20250714_125812.log:Success for cluster 300\n",
      "Processing clusters:  62%|██████▏   | 301/486 [1:19:49<45:59, 14.91s/it]INFO:cluster_analysis_20250714_125812.log:Using Anthropic Claude API\n"
     ]
    },
    {
     "name": "stdout",
     "output_type": "stream",
     "text": [
      "Using provided template string\n",
      "Appending output format instructions to template\n",
      "Added 9 gene feature descriptions to prompt\n"
     ]
    },
    {
     "name": "stderr",
     "output_type": "stream",
     "text": [
      "INFO:cluster_analysis_20250714_125812.log:Anthropic API call successful: model=claude-3-7-sonnet-20250219\n",
      "INFO:cluster_analysis_20250714_125812.log:Success for cluster 301\n",
      "Processing clusters:  62%|██████▏   | 302/486 [1:20:04<45:53, 14.96s/it]INFO:cluster_analysis_20250714_125812.log:Using Anthropic Claude API\n"
     ]
    },
    {
     "name": "stdout",
     "output_type": "stream",
     "text": [
      "Using provided template string\n",
      "Appending output format instructions to template\n",
      "Added 9 gene feature descriptions to prompt\n"
     ]
    },
    {
     "name": "stderr",
     "output_type": "stream",
     "text": [
      "INFO:cluster_analysis_20250714_125812.log:Anthropic API call successful: model=claude-3-7-sonnet-20250219\n",
      "INFO:cluster_analysis_20250714_125812.log:Success for cluster 302\n",
      "Processing clusters:  62%|██████▏   | 303/486 [1:20:20<46:42, 15.31s/it]INFO:cluster_analysis_20250714_125812.log:Using Anthropic Claude API\n"
     ]
    },
    {
     "name": "stdout",
     "output_type": "stream",
     "text": [
      "Using provided template string\n",
      "Appending output format instructions to template\n",
      "Added 9 gene feature descriptions to prompt\n"
     ]
    },
    {
     "name": "stderr",
     "output_type": "stream",
     "text": [
      "INFO:cluster_analysis_20250714_125812.log:Anthropic API call successful: model=claude-3-7-sonnet-20250219\n",
      "INFO:cluster_analysis_20250714_125812.log:Success for cluster 303\n",
      "Processing clusters:  63%|██████▎   | 304/486 [1:20:37<48:09, 15.88s/it]INFO:cluster_analysis_20250714_125812.log:Using Anthropic Claude API\n"
     ]
    },
    {
     "name": "stdout",
     "output_type": "stream",
     "text": [
      "Using provided template string\n",
      "Appending output format instructions to template\n",
      "Added 9 gene feature descriptions to prompt\n"
     ]
    },
    {
     "name": "stderr",
     "output_type": "stream",
     "text": [
      "INFO:cluster_analysis_20250714_125812.log:Anthropic API call successful: model=claude-3-7-sonnet-20250219\n",
      "INFO:cluster_analysis_20250714_125812.log:Success for cluster 304\n",
      "INFO:cluster_analysis_20250714_125812.log:Saved progress for 305 clusters\n",
      "Processing clusters:  63%|██████▎   | 305/486 [1:20:51<46:09, 15.30s/it]INFO:cluster_analysis_20250714_125812.log:Using Anthropic Claude API\n"
     ]
    },
    {
     "name": "stdout",
     "output_type": "stream",
     "text": [
      "Using provided template string\n",
      "Appending output format instructions to template\n",
      "Added 9 gene feature descriptions to prompt\n"
     ]
    },
    {
     "name": "stderr",
     "output_type": "stream",
     "text": [
      "INFO:cluster_analysis_20250714_125812.log:Anthropic API call successful: model=claude-3-7-sonnet-20250219\n",
      "INFO:cluster_analysis_20250714_125812.log:Success for cluster 305\n",
      "Processing clusters:  63%|██████▎   | 306/486 [1:21:05<44:50, 14.95s/it]INFO:cluster_analysis_20250714_125812.log:Using Anthropic Claude API\n"
     ]
    },
    {
     "name": "stdout",
     "output_type": "stream",
     "text": [
      "Using provided template string\n",
      "Appending output format instructions to template\n",
      "Added 9 gene feature descriptions to prompt\n"
     ]
    },
    {
     "name": "stderr",
     "output_type": "stream",
     "text": [
      "INFO:cluster_analysis_20250714_125812.log:Anthropic API call successful: model=claude-3-7-sonnet-20250219\n",
      "INFO:cluster_analysis_20250714_125812.log:Success for cluster 306\n",
      "Processing clusters:  63%|██████▎   | 307/486 [1:21:16<41:05, 13.77s/it]INFO:cluster_analysis_20250714_125812.log:Using Anthropic Claude API\n"
     ]
    },
    {
     "name": "stdout",
     "output_type": "stream",
     "text": [
      "Using provided template string\n",
      "Appending output format instructions to template\n",
      "Added 9 gene feature descriptions to prompt\n"
     ]
    },
    {
     "name": "stderr",
     "output_type": "stream",
     "text": [
      "INFO:cluster_analysis_20250714_125812.log:Anthropic API call successful: model=claude-3-7-sonnet-20250219\n",
      "INFO:cluster_analysis_20250714_125812.log:Success for cluster 307\n",
      "Processing clusters:  63%|██████▎   | 308/486 [1:21:32<42:13, 14.23s/it]INFO:cluster_analysis_20250714_125812.log:Using Anthropic Claude API\n"
     ]
    },
    {
     "name": "stdout",
     "output_type": "stream",
     "text": [
      "Using provided template string\n",
      "Appending output format instructions to template\n",
      "Added 9 gene feature descriptions to prompt\n"
     ]
    },
    {
     "name": "stderr",
     "output_type": "stream",
     "text": [
      "INFO:cluster_analysis_20250714_125812.log:Anthropic API call successful: model=claude-3-7-sonnet-20250219\n",
      "INFO:cluster_analysis_20250714_125812.log:Success for cluster 308\n",
      "Processing clusters:  64%|██████▎   | 309/486 [1:21:46<42:01, 14.24s/it]INFO:cluster_analysis_20250714_125812.log:Using Anthropic Claude API\n"
     ]
    },
    {
     "name": "stdout",
     "output_type": "stream",
     "text": [
      "Using provided template string\n",
      "Appending output format instructions to template\n",
      "Added 9 gene feature descriptions to prompt\n"
     ]
    },
    {
     "name": "stderr",
     "output_type": "stream",
     "text": [
      "INFO:cluster_analysis_20250714_125812.log:Anthropic API call successful: model=claude-3-7-sonnet-20250219\n",
      "INFO:cluster_analysis_20250714_125812.log:Success for cluster 309\n",
      "INFO:cluster_analysis_20250714_125812.log:Saved progress for 310 clusters\n",
      "Processing clusters:  64%|██████▍   | 310/486 [1:22:03<44:15, 15.09s/it]INFO:cluster_analysis_20250714_125812.log:Using Anthropic Claude API\n"
     ]
    },
    {
     "name": "stdout",
     "output_type": "stream",
     "text": [
      "Using provided template string\n",
      "Appending output format instructions to template\n",
      "Added 9 gene feature descriptions to prompt\n"
     ]
    },
    {
     "name": "stderr",
     "output_type": "stream",
     "text": [
      "INFO:cluster_analysis_20250714_125812.log:Anthropic API call successful: model=claude-3-7-sonnet-20250219\n",
      "INFO:cluster_analysis_20250714_125812.log:Success for cluster 310\n",
      "Processing clusters:  64%|██████▍   | 311/486 [1:22:17<42:55, 14.72s/it]INFO:cluster_analysis_20250714_125812.log:Using Anthropic Claude API\n"
     ]
    },
    {
     "name": "stdout",
     "output_type": "stream",
     "text": [
      "Using provided template string\n",
      "Appending output format instructions to template\n",
      "Added 9 gene feature descriptions to prompt\n"
     ]
    },
    {
     "name": "stderr",
     "output_type": "stream",
     "text": [
      "INFO:cluster_analysis_20250714_125812.log:Anthropic API call successful: model=claude-3-7-sonnet-20250219\n",
      "INFO:cluster_analysis_20250714_125812.log:Success for cluster 311\n",
      "Processing clusters:  64%|██████▍   | 312/486 [1:22:29<40:23, 13.93s/it]INFO:cluster_analysis_20250714_125812.log:Using Anthropic Claude API\n"
     ]
    },
    {
     "name": "stdout",
     "output_type": "stream",
     "text": [
      "Using provided template string\n",
      "Appending output format instructions to template\n",
      "Added 9 gene feature descriptions to prompt\n"
     ]
    },
    {
     "name": "stderr",
     "output_type": "stream",
     "text": [
      "INFO:cluster_analysis_20250714_125812.log:Anthropic API call successful: model=claude-3-7-sonnet-20250219\n",
      "INFO:cluster_analysis_20250714_125812.log:Success for cluster 312\n",
      "Processing clusters:  64%|██████▍   | 313/486 [1:22:35<33:37, 11.66s/it]INFO:cluster_analysis_20250714_125812.log:Using Anthropic Claude API\n"
     ]
    },
    {
     "name": "stdout",
     "output_type": "stream",
     "text": [
      "Using provided template string\n",
      "Appending output format instructions to template\n",
      "Added 9 gene feature descriptions to prompt\n"
     ]
    },
    {
     "name": "stderr",
     "output_type": "stream",
     "text": [
      "INFO:cluster_analysis_20250714_125812.log:Anthropic API call successful: model=claude-3-7-sonnet-20250219\n",
      "INFO:cluster_analysis_20250714_125812.log:Success for cluster 313\n",
      "Processing clusters:  65%|██████▍   | 314/486 [1:22:48<34:02, 11.88s/it]INFO:cluster_analysis_20250714_125812.log:Using Anthropic Claude API\n"
     ]
    },
    {
     "name": "stdout",
     "output_type": "stream",
     "text": [
      "Using provided template string\n",
      "Appending output format instructions to template\n",
      "Added 9 gene feature descriptions to prompt\n"
     ]
    },
    {
     "name": "stderr",
     "output_type": "stream",
     "text": [
      "INFO:cluster_analysis_20250714_125812.log:Anthropic API call successful: model=claude-3-7-sonnet-20250219\n",
      "INFO:cluster_analysis_20250714_125812.log:Success for cluster 314\n",
      "INFO:cluster_analysis_20250714_125812.log:Saved progress for 315 clusters\n",
      "Processing clusters:  65%|██████▍   | 315/486 [1:23:00<34:08, 11.98s/it]INFO:cluster_analysis_20250714_125812.log:Using Anthropic Claude API\n"
     ]
    },
    {
     "name": "stdout",
     "output_type": "stream",
     "text": [
      "Using provided template string\n",
      "Appending output format instructions to template\n",
      "Added 9 gene feature descriptions to prompt\n"
     ]
    },
    {
     "name": "stderr",
     "output_type": "stream",
     "text": [
      "INFO:cluster_analysis_20250714_125812.log:Anthropic API call successful: model=claude-3-7-sonnet-20250219\n",
      "INFO:cluster_analysis_20250714_125812.log:Success for cluster 315\n",
      "Processing clusters:  65%|██████▌   | 316/486 [1:23:16<37:07, 13.10s/it]INFO:cluster_analysis_20250714_125812.log:Using Anthropic Claude API\n"
     ]
    },
    {
     "name": "stdout",
     "output_type": "stream",
     "text": [
      "Using provided template string\n",
      "Appending output format instructions to template\n",
      "Added 9 gene feature descriptions to prompt\n"
     ]
    },
    {
     "name": "stderr",
     "output_type": "stream",
     "text": [
      "INFO:cluster_analysis_20250714_125812.log:Anthropic API call successful: model=claude-3-7-sonnet-20250219\n",
      "INFO:cluster_analysis_20250714_125812.log:Success for cluster 316\n",
      "Processing clusters:  65%|██████▌   | 317/486 [1:23:28<36:25, 12.93s/it]INFO:cluster_analysis_20250714_125812.log:Using Anthropic Claude API\n"
     ]
    },
    {
     "name": "stdout",
     "output_type": "stream",
     "text": [
      "Using provided template string\n",
      "Appending output format instructions to template\n",
      "Added 9 gene feature descriptions to prompt\n"
     ]
    },
    {
     "name": "stderr",
     "output_type": "stream",
     "text": [
      "INFO:cluster_analysis_20250714_125812.log:Anthropic API call successful: model=claude-3-7-sonnet-20250219\n",
      "INFO:cluster_analysis_20250714_125812.log:Success for cluster 317\n",
      "Processing clusters:  65%|██████▌   | 318/486 [1:23:42<36:44, 13.12s/it]INFO:cluster_analysis_20250714_125812.log:Using Anthropic Claude API\n"
     ]
    },
    {
     "name": "stdout",
     "output_type": "stream",
     "text": [
      "Using provided template string\n",
      "Appending output format instructions to template\n",
      "Added 9 gene feature descriptions to prompt\n"
     ]
    },
    {
     "name": "stderr",
     "output_type": "stream",
     "text": [
      "INFO:cluster_analysis_20250714_125812.log:Anthropic API call successful: model=claude-3-7-sonnet-20250219\n",
      "INFO:cluster_analysis_20250714_125812.log:Success for cluster 318\n",
      "Processing clusters:  66%|██████▌   | 319/486 [1:23:58<39:18, 14.12s/it]INFO:cluster_analysis_20250714_125812.log:Using Anthropic Claude API\n"
     ]
    },
    {
     "name": "stdout",
     "output_type": "stream",
     "text": [
      "Using provided template string\n",
      "Appending output format instructions to template\n",
      "Added 9 gene feature descriptions to prompt\n"
     ]
    },
    {
     "name": "stderr",
     "output_type": "stream",
     "text": [
      "INFO:cluster_analysis_20250714_125812.log:Anthropic API call successful: model=claude-3-7-sonnet-20250219\n",
      "INFO:cluster_analysis_20250714_125812.log:Success for cluster 319\n",
      "INFO:cluster_analysis_20250714_125812.log:Saved progress for 320 clusters\n",
      "Processing clusters:  66%|██████▌   | 320/486 [1:24:12<38:22, 13.87s/it]INFO:cluster_analysis_20250714_125812.log:Using Anthropic Claude API\n"
     ]
    },
    {
     "name": "stdout",
     "output_type": "stream",
     "text": [
      "Using provided template string\n",
      "Appending output format instructions to template\n",
      "Added 9 gene feature descriptions to prompt\n"
     ]
    },
    {
     "name": "stderr",
     "output_type": "stream",
     "text": [
      "INFO:cluster_analysis_20250714_125812.log:Anthropic API call successful: model=claude-3-7-sonnet-20250219\n",
      "INFO:cluster_analysis_20250714_125812.log:Success for cluster 320\n",
      "Processing clusters:  66%|██████▌   | 321/486 [1:24:26<38:56, 14.16s/it]INFO:cluster_analysis_20250714_125812.log:Using Anthropic Claude API\n"
     ]
    },
    {
     "name": "stdout",
     "output_type": "stream",
     "text": [
      "Using provided template string\n",
      "Appending output format instructions to template\n",
      "Added 9 gene feature descriptions to prompt\n"
     ]
    },
    {
     "name": "stderr",
     "output_type": "stream",
     "text": [
      "INFO:cluster_analysis_20250714_125812.log:Anthropic API call successful: model=claude-3-7-sonnet-20250219\n",
      "INFO:cluster_analysis_20250714_125812.log:Success for cluster 321\n",
      "Processing clusters:  66%|██████▋   | 322/486 [1:24:38<36:47, 13.46s/it]INFO:cluster_analysis_20250714_125812.log:Using Anthropic Claude API\n"
     ]
    },
    {
     "name": "stdout",
     "output_type": "stream",
     "text": [
      "Using provided template string\n",
      "Appending output format instructions to template\n",
      "Added 9 gene feature descriptions to prompt\n"
     ]
    },
    {
     "name": "stderr",
     "output_type": "stream",
     "text": [
      "INFO:cluster_analysis_20250714_125812.log:Anthropic API call successful: model=claude-3-7-sonnet-20250219\n",
      "INFO:cluster_analysis_20250714_125812.log:Success for cluster 322\n",
      "Processing clusters:  66%|██████▋   | 323/486 [1:24:53<37:21, 13.75s/it]INFO:cluster_analysis_20250714_125812.log:Using Anthropic Claude API\n"
     ]
    },
    {
     "name": "stdout",
     "output_type": "stream",
     "text": [
      "Using provided template string\n",
      "Appending output format instructions to template\n",
      "Added 9 gene feature descriptions to prompt\n"
     ]
    },
    {
     "name": "stderr",
     "output_type": "stream",
     "text": [
      "INFO:cluster_analysis_20250714_125812.log:Anthropic API call successful: model=claude-3-7-sonnet-20250219\n",
      "INFO:cluster_analysis_20250714_125812.log:Success for cluster 323\n",
      "Processing clusters:  67%|██████▋   | 324/486 [1:25:10<39:55, 14.79s/it]INFO:cluster_analysis_20250714_125812.log:Using Anthropic Claude API\n"
     ]
    },
    {
     "name": "stdout",
     "output_type": "stream",
     "text": [
      "Using provided template string\n",
      "Appending output format instructions to template\n",
      "Added 9 gene feature descriptions to prompt\n"
     ]
    },
    {
     "name": "stderr",
     "output_type": "stream",
     "text": [
      "INFO:cluster_analysis_20250714_125812.log:Anthropic API call successful: model=claude-3-7-sonnet-20250219\n",
      "INFO:cluster_analysis_20250714_125812.log:Success for cluster 324\n",
      "INFO:cluster_analysis_20250714_125812.log:Saved progress for 325 clusters\n",
      "Processing clusters:  67%|██████▋   | 325/486 [1:25:26<40:59, 15.28s/it]INFO:cluster_analysis_20250714_125812.log:Using Anthropic Claude API\n"
     ]
    },
    {
     "name": "stdout",
     "output_type": "stream",
     "text": [
      "Using provided template string\n",
      "Appending output format instructions to template\n",
      "Added 9 gene feature descriptions to prompt\n"
     ]
    },
    {
     "name": "stderr",
     "output_type": "stream",
     "text": [
      "INFO:cluster_analysis_20250714_125812.log:Anthropic API call successful: model=claude-3-7-sonnet-20250219\n",
      "INFO:cluster_analysis_20250714_125812.log:Success for cluster 325\n",
      "Processing clusters:  67%|██████▋   | 326/486 [1:25:45<43:15, 16.22s/it]INFO:cluster_analysis_20250714_125812.log:Using Anthropic Claude API\n"
     ]
    },
    {
     "name": "stdout",
     "output_type": "stream",
     "text": [
      "Using provided template string\n",
      "Appending output format instructions to template\n",
      "Added 9 gene feature descriptions to prompt\n"
     ]
    },
    {
     "name": "stderr",
     "output_type": "stream",
     "text": [
      "INFO:cluster_analysis_20250714_125812.log:Anthropic API call successful: model=claude-3-7-sonnet-20250219\n",
      "INFO:cluster_analysis_20250714_125812.log:Success for cluster 326\n",
      "Processing clusters:  67%|██████▋   | 327/486 [1:25:58<40:39, 15.35s/it]INFO:cluster_analysis_20250714_125812.log:Using Anthropic Claude API\n"
     ]
    },
    {
     "name": "stdout",
     "output_type": "stream",
     "text": [
      "Using provided template string\n",
      "Appending output format instructions to template\n",
      "Added 9 gene feature descriptions to prompt\n"
     ]
    },
    {
     "name": "stderr",
     "output_type": "stream",
     "text": [
      "INFO:cluster_analysis_20250714_125812.log:Anthropic API call successful: model=claude-3-7-sonnet-20250219\n",
      "INFO:cluster_analysis_20250714_125812.log:Success for cluster 327\n",
      "Processing clusters:  67%|██████▋   | 328/486 [1:26:11<38:16, 14.54s/it]INFO:cluster_analysis_20250714_125812.log:Using Anthropic Claude API\n"
     ]
    },
    {
     "name": "stdout",
     "output_type": "stream",
     "text": [
      "Using provided template string\n",
      "Appending output format instructions to template\n",
      "Added 9 gene feature descriptions to prompt\n"
     ]
    },
    {
     "name": "stderr",
     "output_type": "stream",
     "text": [
      "INFO:cluster_analysis_20250714_125812.log:Anthropic API call successful: model=claude-3-7-sonnet-20250219\n",
      "INFO:cluster_analysis_20250714_125812.log:Success for cluster 328\n",
      "Processing clusters:  68%|██████▊   | 329/486 [1:26:31<42:52, 16.38s/it]INFO:cluster_analysis_20250714_125812.log:Using Anthropic Claude API\n"
     ]
    },
    {
     "name": "stdout",
     "output_type": "stream",
     "text": [
      "Using provided template string\n",
      "Appending output format instructions to template\n",
      "Added 9 gene feature descriptions to prompt\n"
     ]
    },
    {
     "name": "stderr",
     "output_type": "stream",
     "text": [
      "INFO:cluster_analysis_20250714_125812.log:Anthropic API call successful: model=claude-3-7-sonnet-20250219\n",
      "INFO:cluster_analysis_20250714_125812.log:Success for cluster 329\n",
      "INFO:cluster_analysis_20250714_125812.log:Saved progress for 330 clusters\n",
      "Processing clusters:  68%|██████▊   | 330/486 [1:26:50<44:10, 16.99s/it]INFO:cluster_analysis_20250714_125812.log:Using Anthropic Claude API\n"
     ]
    },
    {
     "name": "stdout",
     "output_type": "stream",
     "text": [
      "Using provided template string\n",
      "Appending output format instructions to template\n",
      "Added 9 gene feature descriptions to prompt\n"
     ]
    },
    {
     "name": "stderr",
     "output_type": "stream",
     "text": [
      "INFO:cluster_analysis_20250714_125812.log:Anthropic API call successful: model=claude-3-7-sonnet-20250219\n",
      "INFO:cluster_analysis_20250714_125812.log:Success for cluster 330\n",
      "Processing clusters:  68%|██████▊   | 331/486 [1:27:07<44:10, 17.10s/it]INFO:cluster_analysis_20250714_125812.log:Using Anthropic Claude API\n"
     ]
    },
    {
     "name": "stdout",
     "output_type": "stream",
     "text": [
      "Using provided template string\n",
      "Appending output format instructions to template\n",
      "Added 9 gene feature descriptions to prompt\n"
     ]
    },
    {
     "name": "stderr",
     "output_type": "stream",
     "text": [
      "INFO:cluster_analysis_20250714_125812.log:Anthropic API call successful: model=claude-3-7-sonnet-20250219\n",
      "INFO:cluster_analysis_20250714_125812.log:Success for cluster 331\n",
      "Processing clusters:  68%|██████▊   | 332/486 [1:27:29<47:43, 18.59s/it]INFO:cluster_analysis_20250714_125812.log:Using Anthropic Claude API\n"
     ]
    },
    {
     "name": "stdout",
     "output_type": "stream",
     "text": [
      "Using provided template string\n",
      "Appending output format instructions to template\n",
      "Added 9 gene feature descriptions to prompt\n"
     ]
    },
    {
     "name": "stderr",
     "output_type": "stream",
     "text": [
      "INFO:cluster_analysis_20250714_125812.log:Anthropic API call successful: model=claude-3-7-sonnet-20250219\n",
      "INFO:cluster_analysis_20250714_125812.log:Success for cluster 332\n",
      "Processing clusters:  69%|██████▊   | 333/486 [1:27:46<46:23, 18.19s/it]INFO:cluster_analysis_20250714_125812.log:Using Anthropic Claude API\n"
     ]
    },
    {
     "name": "stdout",
     "output_type": "stream",
     "text": [
      "Using provided template string\n",
      "Appending output format instructions to template\n",
      "Added 9 gene feature descriptions to prompt\n"
     ]
    },
    {
     "name": "stderr",
     "output_type": "stream",
     "text": [
      "INFO:cluster_analysis_20250714_125812.log:Anthropic API call successful: model=claude-3-7-sonnet-20250219\n",
      "INFO:cluster_analysis_20250714_125812.log:Success for cluster 333\n",
      "Processing clusters:  69%|██████▊   | 334/486 [1:28:00<42:15, 16.68s/it]INFO:cluster_analysis_20250714_125812.log:Using Anthropic Claude API\n"
     ]
    },
    {
     "name": "stdout",
     "output_type": "stream",
     "text": [
      "Using provided template string\n",
      "Appending output format instructions to template\n",
      "Added 9 gene feature descriptions to prompt\n"
     ]
    },
    {
     "name": "stderr",
     "output_type": "stream",
     "text": [
      "INFO:cluster_analysis_20250714_125812.log:Anthropic API call successful: model=claude-3-7-sonnet-20250219\n",
      "INFO:cluster_analysis_20250714_125812.log:Success for cluster 334\n",
      "INFO:cluster_analysis_20250714_125812.log:Saved progress for 335 clusters\n",
      "Processing clusters:  69%|██████▉   | 335/486 [1:28:18<43:18, 17.21s/it]INFO:cluster_analysis_20250714_125812.log:Using Anthropic Claude API\n"
     ]
    },
    {
     "name": "stdout",
     "output_type": "stream",
     "text": [
      "Using provided template string\n",
      "Appending output format instructions to template\n",
      "Added 9 gene feature descriptions to prompt\n"
     ]
    },
    {
     "name": "stderr",
     "output_type": "stream",
     "text": [
      "INFO:cluster_analysis_20250714_125812.log:Anthropic API call successful: model=claude-3-7-sonnet-20250219\n",
      "INFO:cluster_analysis_20250714_125812.log:Success for cluster 335\n",
      "Processing clusters:  69%|██████▉   | 336/486 [1:28:34<41:53, 16.76s/it]INFO:cluster_analysis_20250714_125812.log:Using Anthropic Claude API\n"
     ]
    },
    {
     "name": "stdout",
     "output_type": "stream",
     "text": [
      "Using provided template string\n",
      "Appending output format instructions to template\n",
      "Added 9 gene feature descriptions to prompt\n"
     ]
    },
    {
     "name": "stderr",
     "output_type": "stream",
     "text": [
      "INFO:cluster_analysis_20250714_125812.log:Anthropic API call successful: model=claude-3-7-sonnet-20250219\n",
      "INFO:cluster_analysis_20250714_125812.log:Success for cluster 336\n",
      "Processing clusters:  69%|██████▉   | 337/486 [1:28:51<42:03, 16.93s/it]INFO:cluster_analysis_20250714_125812.log:Using Anthropic Claude API\n"
     ]
    },
    {
     "name": "stdout",
     "output_type": "stream",
     "text": [
      "Using provided template string\n",
      "Appending output format instructions to template\n",
      "Added 9 gene feature descriptions to prompt\n"
     ]
    },
    {
     "name": "stderr",
     "output_type": "stream",
     "text": [
      "INFO:cluster_analysis_20250714_125812.log:Anthropic API call successful: model=claude-3-7-sonnet-20250219\n",
      "INFO:cluster_analysis_20250714_125812.log:Success for cluster 337\n",
      "Processing clusters:  70%|██████▉   | 338/486 [1:29:08<41:27, 16.81s/it]INFO:cluster_analysis_20250714_125812.log:Using Anthropic Claude API\n"
     ]
    },
    {
     "name": "stdout",
     "output_type": "stream",
     "text": [
      "Using provided template string\n",
      "Appending output format instructions to template\n",
      "Added 9 gene feature descriptions to prompt\n"
     ]
    },
    {
     "name": "stderr",
     "output_type": "stream",
     "text": [
      "INFO:cluster_analysis_20250714_125812.log:Anthropic API call successful: model=claude-3-7-sonnet-20250219\n",
      "INFO:cluster_analysis_20250714_125812.log:Success for cluster 338\n",
      "Processing clusters:  70%|██████▉   | 339/486 [1:29:20<38:02, 15.52s/it]INFO:cluster_analysis_20250714_125812.log:Using Anthropic Claude API\n"
     ]
    },
    {
     "name": "stdout",
     "output_type": "stream",
     "text": [
      "Using provided template string\n",
      "Appending output format instructions to template\n",
      "Added 9 gene feature descriptions to prompt\n"
     ]
    },
    {
     "name": "stderr",
     "output_type": "stream",
     "text": [
      "INFO:cluster_analysis_20250714_125812.log:Anthropic API call successful: model=claude-3-7-sonnet-20250219\n",
      "INFO:cluster_analysis_20250714_125812.log:Success for cluster 339\n",
      "INFO:cluster_analysis_20250714_125812.log:Saved progress for 340 clusters\n",
      "Processing clusters:  70%|██████▉   | 340/486 [1:29:33<36:04, 14.82s/it]INFO:cluster_analysis_20250714_125812.log:Using Anthropic Claude API\n"
     ]
    },
    {
     "name": "stdout",
     "output_type": "stream",
     "text": [
      "Using provided template string\n",
      "Appending output format instructions to template\n",
      "Added 9 gene feature descriptions to prompt\n"
     ]
    },
    {
     "name": "stderr",
     "output_type": "stream",
     "text": [
      "INFO:cluster_analysis_20250714_125812.log:Anthropic API call successful: model=claude-3-7-sonnet-20250219\n",
      "INFO:cluster_analysis_20250714_125812.log:Success for cluster 340\n",
      "Processing clusters:  70%|███████   | 341/486 [1:29:52<38:38, 15.99s/it]INFO:cluster_analysis_20250714_125812.log:Using Anthropic Claude API\n"
     ]
    },
    {
     "name": "stdout",
     "output_type": "stream",
     "text": [
      "Using provided template string\n",
      "Appending output format instructions to template\n",
      "Added 9 gene feature descriptions to prompt\n"
     ]
    },
    {
     "name": "stderr",
     "output_type": "stream",
     "text": [
      "INFO:cluster_analysis_20250714_125812.log:Anthropic API call successful: model=claude-3-7-sonnet-20250219\n",
      "INFO:cluster_analysis_20250714_125812.log:Success for cluster 341\n",
      "Processing clusters:  70%|███████   | 342/486 [1:30:11<40:31, 16.88s/it]INFO:cluster_analysis_20250714_125812.log:Using Anthropic Claude API\n"
     ]
    },
    {
     "name": "stdout",
     "output_type": "stream",
     "text": [
      "Using provided template string\n",
      "Appending output format instructions to template\n",
      "Added 9 gene feature descriptions to prompt\n"
     ]
    },
    {
     "name": "stderr",
     "output_type": "stream",
     "text": [
      "INFO:cluster_analysis_20250714_125812.log:Anthropic API call successful: model=claude-3-7-sonnet-20250219\n",
      "INFO:cluster_analysis_20250714_125812.log:Success for cluster 342\n",
      "Processing clusters:  71%|███████   | 343/486 [1:30:24<37:21, 15.67s/it]INFO:cluster_analysis_20250714_125812.log:Using Anthropic Claude API\n"
     ]
    },
    {
     "name": "stdout",
     "output_type": "stream",
     "text": [
      "Using provided template string\n",
      "Appending output format instructions to template\n",
      "Added 9 gene feature descriptions to prompt\n"
     ]
    },
    {
     "name": "stderr",
     "output_type": "stream",
     "text": [
      "INFO:cluster_analysis_20250714_125812.log:Anthropic API call successful: model=claude-3-7-sonnet-20250219\n",
      "INFO:cluster_analysis_20250714_125812.log:Success for cluster 343\n",
      "Processing clusters:  71%|███████   | 344/486 [1:30:41<37:52, 16.00s/it]INFO:cluster_analysis_20250714_125812.log:Using Anthropic Claude API\n"
     ]
    },
    {
     "name": "stdout",
     "output_type": "stream",
     "text": [
      "Using provided template string\n",
      "Appending output format instructions to template\n",
      "Added 9 gene feature descriptions to prompt\n"
     ]
    },
    {
     "name": "stderr",
     "output_type": "stream",
     "text": [
      "INFO:cluster_analysis_20250714_125812.log:Anthropic API call successful: model=claude-3-7-sonnet-20250219\n",
      "INFO:cluster_analysis_20250714_125812.log:Success for cluster 344\n",
      "INFO:cluster_analysis_20250714_125812.log:Saved progress for 345 clusters\n",
      "Processing clusters:  71%|███████   | 345/486 [1:30:50<33:14, 14.14s/it]INFO:cluster_analysis_20250714_125812.log:Using Anthropic Claude API\n"
     ]
    },
    {
     "name": "stdout",
     "output_type": "stream",
     "text": [
      "Using provided template string\n",
      "Appending output format instructions to template\n",
      "Added 9 gene feature descriptions to prompt\n"
     ]
    },
    {
     "name": "stderr",
     "output_type": "stream",
     "text": [
      "INFO:cluster_analysis_20250714_125812.log:Anthropic API call successful: model=claude-3-7-sonnet-20250219\n",
      "INFO:cluster_analysis_20250714_125812.log:Success for cluster 345\n",
      "Processing clusters:  71%|███████   | 346/486 [1:31:02<31:03, 13.31s/it]INFO:cluster_analysis_20250714_125812.log:Using Anthropic Claude API\n"
     ]
    },
    {
     "name": "stdout",
     "output_type": "stream",
     "text": [
      "Using provided template string\n",
      "Appending output format instructions to template\n",
      "Added 9 gene feature descriptions to prompt\n"
     ]
    },
    {
     "name": "stderr",
     "output_type": "stream",
     "text": [
      "INFO:cluster_analysis_20250714_125812.log:Anthropic API call successful: model=claude-3-7-sonnet-20250219\n",
      "INFO:cluster_analysis_20250714_125812.log:Success for cluster 346\n",
      "Processing clusters:  71%|███████▏  | 347/486 [1:31:15<30:50, 13.31s/it]INFO:cluster_analysis_20250714_125812.log:Using Anthropic Claude API\n"
     ]
    },
    {
     "name": "stdout",
     "output_type": "stream",
     "text": [
      "Using provided template string\n",
      "Appending output format instructions to template\n",
      "Added 9 gene feature descriptions to prompt\n"
     ]
    },
    {
     "name": "stderr",
     "output_type": "stream",
     "text": [
      "INFO:cluster_analysis_20250714_125812.log:Anthropic API call successful: model=claude-3-7-sonnet-20250219\n",
      "INFO:cluster_analysis_20250714_125812.log:Success for cluster 347\n",
      "Processing clusters:  72%|███████▏  | 348/486 [1:31:26<29:06, 12.65s/it]INFO:cluster_analysis_20250714_125812.log:Using Anthropic Claude API\n"
     ]
    },
    {
     "name": "stdout",
     "output_type": "stream",
     "text": [
      "Using provided template string\n",
      "Appending output format instructions to template\n",
      "Added 9 gene feature descriptions to prompt\n"
     ]
    },
    {
     "name": "stderr",
     "output_type": "stream",
     "text": [
      "INFO:cluster_analysis_20250714_125812.log:Anthropic API call successful: model=claude-3-7-sonnet-20250219\n",
      "INFO:cluster_analysis_20250714_125812.log:Success for cluster 348\n",
      "Processing clusters:  72%|███████▏  | 349/486 [1:31:43<31:58, 14.00s/it]INFO:cluster_analysis_20250714_125812.log:Using Anthropic Claude API\n"
     ]
    },
    {
     "name": "stdout",
     "output_type": "stream",
     "text": [
      "Using provided template string\n",
      "Appending output format instructions to template\n",
      "Added 8 gene feature descriptions to prompt\n"
     ]
    },
    {
     "name": "stderr",
     "output_type": "stream",
     "text": [
      "INFO:cluster_analysis_20250714_125812.log:Anthropic API call successful: model=claude-3-7-sonnet-20250219\n",
      "INFO:cluster_analysis_20250714_125812.log:Success for cluster 349\n",
      "INFO:cluster_analysis_20250714_125812.log:Saved progress for 350 clusters\n",
      "Processing clusters:  72%|███████▏  | 350/486 [1:31:52<28:26, 12.55s/it]INFO:cluster_analysis_20250714_125812.log:Using Anthropic Claude API\n"
     ]
    },
    {
     "name": "stdout",
     "output_type": "stream",
     "text": [
      "Using provided template string\n",
      "Appending output format instructions to template\n",
      "Added 8 gene feature descriptions to prompt\n"
     ]
    },
    {
     "name": "stderr",
     "output_type": "stream",
     "text": [
      "INFO:cluster_analysis_20250714_125812.log:Anthropic API call successful: model=claude-3-7-sonnet-20250219\n",
      "INFO:cluster_analysis_20250714_125812.log:Success for cluster 350\n",
      "Processing clusters:  72%|███████▏  | 351/486 [1:32:08<29:54, 13.29s/it]INFO:cluster_analysis_20250714_125812.log:Using Anthropic Claude API\n"
     ]
    },
    {
     "name": "stdout",
     "output_type": "stream",
     "text": [
      "Using provided template string\n",
      "Appending output format instructions to template\n",
      "Added 8 gene feature descriptions to prompt\n"
     ]
    },
    {
     "name": "stderr",
     "output_type": "stream",
     "text": [
      "INFO:cluster_analysis_20250714_125812.log:Anthropic API call successful: model=claude-3-7-sonnet-20250219\n",
      "INFO:cluster_analysis_20250714_125812.log:Success for cluster 351\n",
      "Processing clusters:  72%|███████▏  | 352/486 [1:32:22<30:47, 13.79s/it]INFO:cluster_analysis_20250714_125812.log:Using Anthropic Claude API\n"
     ]
    },
    {
     "name": "stdout",
     "output_type": "stream",
     "text": [
      "Using provided template string\n",
      "Appending output format instructions to template\n",
      "Added 8 gene feature descriptions to prompt\n"
     ]
    },
    {
     "name": "stderr",
     "output_type": "stream",
     "text": [
      "INFO:cluster_analysis_20250714_125812.log:Anthropic API call successful: model=claude-3-7-sonnet-20250219\n",
      "INFO:cluster_analysis_20250714_125812.log:Success for cluster 352\n",
      "Processing clusters:  73%|███████▎  | 353/486 [1:32:38<31:25, 14.18s/it]INFO:cluster_analysis_20250714_125812.log:Using Anthropic Claude API\n"
     ]
    },
    {
     "name": "stdout",
     "output_type": "stream",
     "text": [
      "Using provided template string\n",
      "Appending output format instructions to template\n",
      "Added 8 gene feature descriptions to prompt\n"
     ]
    },
    {
     "name": "stderr",
     "output_type": "stream",
     "text": [
      "INFO:cluster_analysis_20250714_125812.log:Anthropic API call successful: model=claude-3-7-sonnet-20250219\n",
      "INFO:cluster_analysis_20250714_125812.log:Success for cluster 353\n",
      "Processing clusters:  73%|███████▎  | 354/486 [1:32:51<30:28, 13.85s/it]INFO:cluster_analysis_20250714_125812.log:Using Anthropic Claude API\n"
     ]
    },
    {
     "name": "stdout",
     "output_type": "stream",
     "text": [
      "Using provided template string\n",
      "Appending output format instructions to template\n",
      "Added 8 gene feature descriptions to prompt\n"
     ]
    },
    {
     "name": "stderr",
     "output_type": "stream",
     "text": [
      "INFO:cluster_analysis_20250714_125812.log:Anthropic API call successful: model=claude-3-7-sonnet-20250219\n",
      "INFO:cluster_analysis_20250714_125812.log:Success for cluster 354\n",
      "INFO:cluster_analysis_20250714_125812.log:Saved progress for 355 clusters\n",
      "Processing clusters:  73%|███████▎  | 355/486 [1:33:06<31:08, 14.26s/it]INFO:cluster_analysis_20250714_125812.log:Using Anthropic Claude API\n"
     ]
    },
    {
     "name": "stdout",
     "output_type": "stream",
     "text": [
      "Using provided template string\n",
      "Appending output format instructions to template\n",
      "Added 8 gene feature descriptions to prompt\n"
     ]
    },
    {
     "name": "stderr",
     "output_type": "stream",
     "text": [
      "INFO:cluster_analysis_20250714_125812.log:Anthropic API call successful: model=claude-3-7-sonnet-20250219\n",
      "INFO:cluster_analysis_20250714_125812.log:Success for cluster 355\n",
      "Processing clusters:  73%|███████▎  | 356/486 [1:33:18<29:41, 13.70s/it]INFO:cluster_analysis_20250714_125812.log:Using Anthropic Claude API\n"
     ]
    },
    {
     "name": "stdout",
     "output_type": "stream",
     "text": [
      "Using provided template string\n",
      "Appending output format instructions to template\n",
      "Added 8 gene feature descriptions to prompt\n"
     ]
    },
    {
     "name": "stderr",
     "output_type": "stream",
     "text": [
      "INFO:cluster_analysis_20250714_125812.log:Anthropic API call successful: model=claude-3-7-sonnet-20250219\n",
      "INFO:cluster_analysis_20250714_125812.log:Success for cluster 356\n",
      "Processing clusters:  73%|███████▎  | 357/486 [1:33:35<31:14, 14.53s/it]INFO:cluster_analysis_20250714_125812.log:Using Anthropic Claude API\n"
     ]
    },
    {
     "name": "stdout",
     "output_type": "stream",
     "text": [
      "Using provided template string\n",
      "Appending output format instructions to template\n",
      "Added 8 gene feature descriptions to prompt\n"
     ]
    },
    {
     "name": "stderr",
     "output_type": "stream",
     "text": [
      "INFO:cluster_analysis_20250714_125812.log:Anthropic API call successful: model=claude-3-7-sonnet-20250219\n",
      "INFO:cluster_analysis_20250714_125812.log:Success for cluster 357\n",
      "Processing clusters:  74%|███████▎  | 358/486 [1:33:47<29:25, 13.80s/it]INFO:cluster_analysis_20250714_125812.log:Using Anthropic Claude API\n"
     ]
    },
    {
     "name": "stdout",
     "output_type": "stream",
     "text": [
      "Using provided template string\n",
      "Appending output format instructions to template\n",
      "Added 8 gene feature descriptions to prompt\n"
     ]
    },
    {
     "name": "stderr",
     "output_type": "stream",
     "text": [
      "INFO:cluster_analysis_20250714_125812.log:Anthropic API call successful: model=claude-3-7-sonnet-20250219\n",
      "INFO:cluster_analysis_20250714_125812.log:Success for cluster 358\n",
      "Processing clusters:  74%|███████▍  | 359/486 [1:34:01<29:44, 14.05s/it]INFO:cluster_analysis_20250714_125812.log:Using Anthropic Claude API\n"
     ]
    },
    {
     "name": "stdout",
     "output_type": "stream",
     "text": [
      "Using provided template string\n",
      "Appending output format instructions to template\n",
      "Added 8 gene feature descriptions to prompt\n"
     ]
    },
    {
     "name": "stderr",
     "output_type": "stream",
     "text": [
      "INFO:cluster_analysis_20250714_125812.log:Anthropic API call successful: model=claude-3-7-sonnet-20250219\n",
      "INFO:cluster_analysis_20250714_125812.log:Success for cluster 359\n",
      "INFO:cluster_analysis_20250714_125812.log:Saved progress for 360 clusters\n",
      "Processing clusters:  74%|███████▍  | 360/486 [1:34:15<28:59, 13.81s/it]INFO:cluster_analysis_20250714_125812.log:Using Anthropic Claude API\n"
     ]
    },
    {
     "name": "stdout",
     "output_type": "stream",
     "text": [
      "Using provided template string\n",
      "Appending output format instructions to template\n",
      "Added 8 gene feature descriptions to prompt\n"
     ]
    },
    {
     "name": "stderr",
     "output_type": "stream",
     "text": [
      "INFO:cluster_analysis_20250714_125812.log:Anthropic API call successful: model=claude-3-7-sonnet-20250219\n",
      "INFO:cluster_analysis_20250714_125812.log:Success for cluster 360\n",
      "Processing clusters:  74%|███████▍  | 361/486 [1:34:25<26:24, 12.67s/it]INFO:cluster_analysis_20250714_125812.log:Using Anthropic Claude API\n"
     ]
    },
    {
     "name": "stdout",
     "output_type": "stream",
     "text": [
      "Using provided template string\n",
      "Appending output format instructions to template\n",
      "Added 8 gene feature descriptions to prompt\n"
     ]
    },
    {
     "name": "stderr",
     "output_type": "stream",
     "text": [
      "INFO:cluster_analysis_20250714_125812.log:Anthropic API call successful: model=claude-3-7-sonnet-20250219\n",
      "INFO:cluster_analysis_20250714_125812.log:Success for cluster 361\n",
      "Processing clusters:  74%|███████▍  | 362/486 [1:34:38<26:44, 12.94s/it]INFO:cluster_analysis_20250714_125812.log:Using Anthropic Claude API\n"
     ]
    },
    {
     "name": "stdout",
     "output_type": "stream",
     "text": [
      "Using provided template string\n",
      "Appending output format instructions to template\n",
      "Added 8 gene feature descriptions to prompt\n"
     ]
    },
    {
     "name": "stderr",
     "output_type": "stream",
     "text": [
      "INFO:cluster_analysis_20250714_125812.log:Anthropic API call successful: model=claude-3-7-sonnet-20250219\n",
      "INFO:cluster_analysis_20250714_125812.log:Success for cluster 362\n",
      "Processing clusters:  75%|███████▍  | 363/486 [1:34:56<29:17, 14.29s/it]INFO:cluster_analysis_20250714_125812.log:Using Anthropic Claude API\n"
     ]
    },
    {
     "name": "stdout",
     "output_type": "stream",
     "text": [
      "Using provided template string\n",
      "Appending output format instructions to template\n",
      "Added 8 gene feature descriptions to prompt\n"
     ]
    },
    {
     "name": "stderr",
     "output_type": "stream",
     "text": [
      "INFO:cluster_analysis_20250714_125812.log:Anthropic API call successful: model=claude-3-7-sonnet-20250219\n",
      "INFO:cluster_analysis_20250714_125812.log:Success for cluster 363\n",
      "Processing clusters:  75%|███████▍  | 364/486 [1:35:10<28:47, 14.16s/it]INFO:cluster_analysis_20250714_125812.log:Using Anthropic Claude API\n"
     ]
    },
    {
     "name": "stdout",
     "output_type": "stream",
     "text": [
      "Using provided template string\n",
      "Appending output format instructions to template\n",
      "Added 8 gene feature descriptions to prompt\n"
     ]
    },
    {
     "name": "stderr",
     "output_type": "stream",
     "text": [
      "INFO:cluster_analysis_20250714_125812.log:Anthropic API call successful: model=claude-3-7-sonnet-20250219\n",
      "INFO:cluster_analysis_20250714_125812.log:Success for cluster 364\n",
      "INFO:cluster_analysis_20250714_125812.log:Saved progress for 365 clusters\n",
      "Processing clusters:  75%|███████▌  | 365/486 [1:35:38<37:09, 18.43s/it]INFO:cluster_analysis_20250714_125812.log:Using Anthropic Claude API\n"
     ]
    },
    {
     "name": "stdout",
     "output_type": "stream",
     "text": [
      "Using provided template string\n",
      "Appending output format instructions to template\n",
      "Added 8 gene feature descriptions to prompt\n"
     ]
    },
    {
     "name": "stderr",
     "output_type": "stream",
     "text": [
      "INFO:cluster_analysis_20250714_125812.log:Anthropic API call successful: model=claude-3-7-sonnet-20250219\n",
      "INFO:cluster_analysis_20250714_125812.log:Success for cluster 365\n",
      "Processing clusters:  75%|███████▌  | 366/486 [1:35:50<33:07, 16.57s/it]INFO:cluster_analysis_20250714_125812.log:Using Anthropic Claude API\n"
     ]
    },
    {
     "name": "stdout",
     "output_type": "stream",
     "text": [
      "Using provided template string\n",
      "Appending output format instructions to template\n",
      "Added 8 gene feature descriptions to prompt\n"
     ]
    },
    {
     "name": "stderr",
     "output_type": "stream",
     "text": [
      "INFO:cluster_analysis_20250714_125812.log:Anthropic API call successful: model=claude-3-7-sonnet-20250219\n",
      "INFO:cluster_analysis_20250714_125812.log:Success for cluster 366\n",
      "Processing clusters:  76%|███████▌  | 367/486 [1:35:57<26:47, 13.51s/it]INFO:cluster_analysis_20250714_125812.log:Using Anthropic Claude API\n"
     ]
    },
    {
     "name": "stdout",
     "output_type": "stream",
     "text": [
      "Using provided template string\n",
      "Appending output format instructions to template\n",
      "Added 8 gene feature descriptions to prompt\n"
     ]
    },
    {
     "name": "stderr",
     "output_type": "stream",
     "text": [
      "INFO:cluster_analysis_20250714_125812.log:Anthropic API call successful: model=claude-3-7-sonnet-20250219\n",
      "INFO:cluster_analysis_20250714_125812.log:Success for cluster 367\n",
      "Processing clusters:  76%|███████▌  | 368/486 [1:36:03<22:17, 11.34s/it]INFO:cluster_analysis_20250714_125812.log:Using Anthropic Claude API\n"
     ]
    },
    {
     "name": "stdout",
     "output_type": "stream",
     "text": [
      "Using provided template string\n",
      "Appending output format instructions to template\n",
      "Added 8 gene feature descriptions to prompt\n"
     ]
    },
    {
     "name": "stderr",
     "output_type": "stream",
     "text": [
      "INFO:cluster_analysis_20250714_125812.log:Anthropic API call successful: model=claude-3-7-sonnet-20250219\n",
      "INFO:cluster_analysis_20250714_125812.log:Success for cluster 368\n",
      "Processing clusters:  76%|███████▌  | 369/486 [1:36:16<23:16, 11.93s/it]INFO:cluster_analysis_20250714_125812.log:Using Anthropic Claude API\n"
     ]
    },
    {
     "name": "stdout",
     "output_type": "stream",
     "text": [
      "Using provided template string\n",
      "Appending output format instructions to template\n",
      "Added 8 gene feature descriptions to prompt\n"
     ]
    },
    {
     "name": "stderr",
     "output_type": "stream",
     "text": [
      "INFO:cluster_analysis_20250714_125812.log:Anthropic API call successful: model=claude-3-7-sonnet-20250219\n",
      "INFO:cluster_analysis_20250714_125812.log:Success for cluster 369\n",
      "INFO:cluster_analysis_20250714_125812.log:Saved progress for 370 clusters\n",
      "Processing clusters:  76%|███████▌  | 370/486 [1:36:31<24:39, 12.75s/it]INFO:cluster_analysis_20250714_125812.log:Using Anthropic Claude API\n"
     ]
    },
    {
     "name": "stdout",
     "output_type": "stream",
     "text": [
      "Using provided template string\n",
      "Appending output format instructions to template\n",
      "Added 8 gene feature descriptions to prompt\n"
     ]
    },
    {
     "name": "stderr",
     "output_type": "stream",
     "text": [
      "INFO:cluster_analysis_20250714_125812.log:Anthropic API call successful: model=claude-3-7-sonnet-20250219\n",
      "INFO:cluster_analysis_20250714_125812.log:Success for cluster 370\n",
      "Processing clusters:  76%|███████▋  | 371/486 [1:36:43<24:15, 12.66s/it]INFO:cluster_analysis_20250714_125812.log:Using Anthropic Claude API\n"
     ]
    },
    {
     "name": "stdout",
     "output_type": "stream",
     "text": [
      "Using provided template string\n",
      "Appending output format instructions to template\n",
      "Added 8 gene feature descriptions to prompt\n"
     ]
    },
    {
     "name": "stderr",
     "output_type": "stream",
     "text": [
      "INFO:cluster_analysis_20250714_125812.log:Anthropic API call successful: model=claude-3-7-sonnet-20250219\n",
      "INFO:cluster_analysis_20250714_125812.log:Success for cluster 371\n",
      "Processing clusters:  77%|███████▋  | 372/486 [1:36:58<25:19, 13.33s/it]INFO:cluster_analysis_20250714_125812.log:Using Anthropic Claude API\n"
     ]
    },
    {
     "name": "stdout",
     "output_type": "stream",
     "text": [
      "Using provided template string\n",
      "Appending output format instructions to template\n",
      "Added 8 gene feature descriptions to prompt\n"
     ]
    },
    {
     "name": "stderr",
     "output_type": "stream",
     "text": [
      "INFO:cluster_analysis_20250714_125812.log:Anthropic API call successful: model=claude-3-7-sonnet-20250219\n",
      "INFO:cluster_analysis_20250714_125812.log:Success for cluster 372\n",
      "Processing clusters:  77%|███████▋  | 373/486 [1:37:12<25:15, 13.41s/it]INFO:cluster_analysis_20250714_125812.log:Using Anthropic Claude API\n"
     ]
    },
    {
     "name": "stdout",
     "output_type": "stream",
     "text": [
      "Using provided template string\n",
      "Appending output format instructions to template\n",
      "Added 8 gene feature descriptions to prompt\n"
     ]
    },
    {
     "name": "stderr",
     "output_type": "stream",
     "text": [
      "INFO:cluster_analysis_20250714_125812.log:Anthropic API call successful: model=claude-3-7-sonnet-20250219\n",
      "INFO:cluster_analysis_20250714_125812.log:Success for cluster 373\n",
      "Processing clusters:  77%|███████▋  | 374/486 [1:37:18<21:16, 11.40s/it]INFO:cluster_analysis_20250714_125812.log:Using Anthropic Claude API\n"
     ]
    },
    {
     "name": "stdout",
     "output_type": "stream",
     "text": [
      "Using provided template string\n",
      "Appending output format instructions to template\n",
      "Added 8 gene feature descriptions to prompt\n"
     ]
    },
    {
     "name": "stderr",
     "output_type": "stream",
     "text": [
      "INFO:cluster_analysis_20250714_125812.log:Anthropic API call successful: model=claude-3-7-sonnet-20250219\n",
      "INFO:cluster_analysis_20250714_125812.log:Success for cluster 374\n",
      "INFO:cluster_analysis_20250714_125812.log:Saved progress for 375 clusters\n",
      "Processing clusters:  77%|███████▋  | 375/486 [1:37:34<23:28, 12.69s/it]INFO:cluster_analysis_20250714_125812.log:Using Anthropic Claude API\n"
     ]
    },
    {
     "name": "stdout",
     "output_type": "stream",
     "text": [
      "Using provided template string\n",
      "Appending output format instructions to template\n",
      "Added 8 gene feature descriptions to prompt\n"
     ]
    },
    {
     "name": "stderr",
     "output_type": "stream",
     "text": [
      "INFO:cluster_analysis_20250714_125812.log:Anthropic API call successful: model=claude-3-7-sonnet-20250219\n",
      "INFO:cluster_analysis_20250714_125812.log:Success for cluster 375\n",
      "Processing clusters:  77%|███████▋  | 376/486 [1:37:48<23:42, 12.93s/it]INFO:cluster_analysis_20250714_125812.log:Using Anthropic Claude API\n"
     ]
    },
    {
     "name": "stdout",
     "output_type": "stream",
     "text": [
      "Using provided template string\n",
      "Appending output format instructions to template\n",
      "Added 8 gene feature descriptions to prompt\n"
     ]
    },
    {
     "name": "stderr",
     "output_type": "stream",
     "text": [
      "INFO:cluster_analysis_20250714_125812.log:Anthropic API call successful: model=claude-3-7-sonnet-20250219\n",
      "INFO:cluster_analysis_20250714_125812.log:Success for cluster 376\n",
      "Processing clusters:  78%|███████▊  | 377/486 [1:38:01<23:55, 13.17s/it]INFO:cluster_analysis_20250714_125812.log:Using Anthropic Claude API\n"
     ]
    },
    {
     "name": "stdout",
     "output_type": "stream",
     "text": [
      "Using provided template string\n",
      "Appending output format instructions to template\n",
      "Added 8 gene feature descriptions to prompt\n"
     ]
    },
    {
     "name": "stderr",
     "output_type": "stream",
     "text": [
      "INFO:cluster_analysis_20250714_125812.log:Anthropic API call successful: model=claude-3-7-sonnet-20250219\n",
      "INFO:cluster_analysis_20250714_125812.log:Success for cluster 377\n",
      "Processing clusters:  78%|███████▊  | 378/486 [1:38:12<22:24, 12.45s/it]INFO:cluster_analysis_20250714_125812.log:Using Anthropic Claude API\n"
     ]
    },
    {
     "name": "stdout",
     "output_type": "stream",
     "text": [
      "Using provided template string\n",
      "Appending output format instructions to template\n",
      "Added 8 gene feature descriptions to prompt\n"
     ]
    },
    {
     "name": "stderr",
     "output_type": "stream",
     "text": [
      "INFO:cluster_analysis_20250714_125812.log:Anthropic API call successful: model=claude-3-7-sonnet-20250219\n",
      "INFO:cluster_analysis_20250714_125812.log:Success for cluster 378\n",
      "Processing clusters:  78%|███████▊  | 379/486 [1:38:30<25:13, 14.15s/it]INFO:cluster_analysis_20250714_125812.log:Using Anthropic Claude API\n"
     ]
    },
    {
     "name": "stdout",
     "output_type": "stream",
     "text": [
      "Using provided template string\n",
      "Appending output format instructions to template\n",
      "Added 8 gene feature descriptions to prompt\n"
     ]
    },
    {
     "name": "stderr",
     "output_type": "stream",
     "text": [
      "INFO:cluster_analysis_20250714_125812.log:Anthropic API call successful: model=claude-3-7-sonnet-20250219\n",
      "INFO:cluster_analysis_20250714_125812.log:Success for cluster 379\n",
      "INFO:cluster_analysis_20250714_125812.log:Saved progress for 380 clusters\n",
      "Processing clusters:  78%|███████▊  | 380/486 [1:38:43<24:09, 13.67s/it]INFO:cluster_analysis_20250714_125812.log:Using Anthropic Claude API\n"
     ]
    },
    {
     "name": "stdout",
     "output_type": "stream",
     "text": [
      "Using provided template string\n",
      "Appending output format instructions to template\n",
      "Added 8 gene feature descriptions to prompt\n"
     ]
    },
    {
     "name": "stderr",
     "output_type": "stream",
     "text": [
      "INFO:cluster_analysis_20250714_125812.log:Anthropic API call successful: model=claude-3-7-sonnet-20250219\n",
      "INFO:cluster_analysis_20250714_125812.log:Success for cluster 380\n",
      "Processing clusters:  78%|███████▊  | 381/486 [1:38:56<23:32, 13.46s/it]INFO:cluster_analysis_20250714_125812.log:Using Anthropic Claude API\n"
     ]
    },
    {
     "name": "stdout",
     "output_type": "stream",
     "text": [
      "Using provided template string\n",
      "Appending output format instructions to template\n",
      "Added 8 gene feature descriptions to prompt\n"
     ]
    },
    {
     "name": "stderr",
     "output_type": "stream",
     "text": [
      "INFO:cluster_analysis_20250714_125812.log:Anthropic API call successful: model=claude-3-7-sonnet-20250219\n",
      "INFO:cluster_analysis_20250714_125812.log:Success for cluster 381\n",
      "Processing clusters:  79%|███████▊  | 382/486 [1:39:13<25:13, 14.55s/it]INFO:cluster_analysis_20250714_125812.log:Using Anthropic Claude API\n"
     ]
    },
    {
     "name": "stdout",
     "output_type": "stream",
     "text": [
      "Using provided template string\n",
      "Appending output format instructions to template\n",
      "Added 8 gene feature descriptions to prompt\n"
     ]
    },
    {
     "name": "stderr",
     "output_type": "stream",
     "text": [
      "INFO:cluster_analysis_20250714_125812.log:Anthropic API call successful: model=claude-3-7-sonnet-20250219\n",
      "INFO:cluster_analysis_20250714_125812.log:Success for cluster 382\n",
      "Processing clusters:  79%|███████▉  | 383/486 [1:39:24<23:04, 13.44s/it]INFO:cluster_analysis_20250714_125812.log:Using Anthropic Claude API\n"
     ]
    },
    {
     "name": "stdout",
     "output_type": "stream",
     "text": [
      "Using provided template string\n",
      "Appending output format instructions to template\n",
      "Added 8 gene feature descriptions to prompt\n"
     ]
    },
    {
     "name": "stderr",
     "output_type": "stream",
     "text": [
      "INFO:cluster_analysis_20250714_125812.log:Anthropic API call successful: model=claude-3-7-sonnet-20250219\n",
      "INFO:cluster_analysis_20250714_125812.log:Success for cluster 383\n",
      "Processing clusters:  79%|███████▉  | 384/486 [1:39:40<24:22, 14.34s/it]INFO:cluster_analysis_20250714_125812.log:Using Anthropic Claude API\n"
     ]
    },
    {
     "name": "stdout",
     "output_type": "stream",
     "text": [
      "Using provided template string\n",
      "Appending output format instructions to template\n",
      "Added 8 gene feature descriptions to prompt\n"
     ]
    },
    {
     "name": "stderr",
     "output_type": "stream",
     "text": [
      "INFO:cluster_analysis_20250714_125812.log:Anthropic API call successful: model=claude-3-7-sonnet-20250219\n",
      "INFO:cluster_analysis_20250714_125812.log:Success for cluster 384\n",
      "INFO:cluster_analysis_20250714_125812.log:Saved progress for 385 clusters\n",
      "Processing clusters:  79%|███████▉  | 385/486 [1:39:49<21:18, 12.66s/it]INFO:cluster_analysis_20250714_125812.log:Using Anthropic Claude API\n"
     ]
    },
    {
     "name": "stdout",
     "output_type": "stream",
     "text": [
      "Using provided template string\n",
      "Appending output format instructions to template\n",
      "Added 8 gene feature descriptions to prompt\n"
     ]
    },
    {
     "name": "stderr",
     "output_type": "stream",
     "text": [
      "INFO:cluster_analysis_20250714_125812.log:Anthropic API call successful: model=claude-3-7-sonnet-20250219\n",
      "INFO:cluster_analysis_20250714_125812.log:Success for cluster 385\n",
      "Processing clusters:  79%|███████▉  | 386/486 [1:40:05<22:46, 13.66s/it]INFO:cluster_analysis_20250714_125812.log:Using Anthropic Claude API\n"
     ]
    },
    {
     "name": "stdout",
     "output_type": "stream",
     "text": [
      "Using provided template string\n",
      "Appending output format instructions to template\n",
      "Added 8 gene feature descriptions to prompt\n"
     ]
    },
    {
     "name": "stderr",
     "output_type": "stream",
     "text": [
      "INFO:cluster_analysis_20250714_125812.log:Anthropic API call successful: model=claude-3-7-sonnet-20250219\n",
      "INFO:cluster_analysis_20250714_125812.log:Success for cluster 386\n",
      "Processing clusters:  80%|███████▉  | 387/486 [1:40:25<25:44, 15.60s/it]INFO:cluster_analysis_20250714_125812.log:Using Anthropic Claude API\n"
     ]
    },
    {
     "name": "stdout",
     "output_type": "stream",
     "text": [
      "Using provided template string\n",
      "Appending output format instructions to template\n",
      "Added 8 gene feature descriptions to prompt\n"
     ]
    },
    {
     "name": "stderr",
     "output_type": "stream",
     "text": [
      "INFO:cluster_analysis_20250714_125812.log:Anthropic API call successful: model=claude-3-7-sonnet-20250219\n",
      "INFO:cluster_analysis_20250714_125812.log:Success for cluster 387\n",
      "Processing clusters:  80%|███████▉  | 388/486 [1:40:37<23:34, 14.44s/it]INFO:cluster_analysis_20250714_125812.log:Using Anthropic Claude API\n"
     ]
    },
    {
     "name": "stdout",
     "output_type": "stream",
     "text": [
      "Using provided template string\n",
      "Appending output format instructions to template\n",
      "Added 8 gene feature descriptions to prompt\n"
     ]
    },
    {
     "name": "stderr",
     "output_type": "stream",
     "text": [
      "INFO:cluster_analysis_20250714_125812.log:Anthropic API call successful: model=claude-3-7-sonnet-20250219\n",
      "INFO:cluster_analysis_20250714_125812.log:Success for cluster 388\n",
      "Processing clusters:  80%|████████  | 389/486 [1:40:50<22:56, 14.19s/it]INFO:cluster_analysis_20250714_125812.log:Using Anthropic Claude API\n"
     ]
    },
    {
     "name": "stdout",
     "output_type": "stream",
     "text": [
      "Using provided template string\n",
      "Appending output format instructions to template\n",
      "Added 8 gene feature descriptions to prompt\n"
     ]
    },
    {
     "name": "stderr",
     "output_type": "stream",
     "text": [
      "INFO:cluster_analysis_20250714_125812.log:Anthropic API call successful: model=claude-3-7-sonnet-20250219\n",
      "INFO:cluster_analysis_20250714_125812.log:Success for cluster 389\n",
      "INFO:cluster_analysis_20250714_125812.log:Saved progress for 390 clusters\n",
      "Processing clusters:  80%|████████  | 390/486 [1:41:05<22:41, 14.18s/it]INFO:cluster_analysis_20250714_125812.log:Using Anthropic Claude API\n"
     ]
    },
    {
     "name": "stdout",
     "output_type": "stream",
     "text": [
      "Using provided template string\n",
      "Appending output format instructions to template\n",
      "Added 8 gene feature descriptions to prompt\n"
     ]
    },
    {
     "name": "stderr",
     "output_type": "stream",
     "text": [
      "INFO:cluster_analysis_20250714_125812.log:Anthropic API call successful: model=claude-3-7-sonnet-20250219\n",
      "INFO:cluster_analysis_20250714_125812.log:Success for cluster 390\n",
      "Processing clusters:  80%|████████  | 391/486 [1:41:14<20:24, 12.89s/it]INFO:cluster_analysis_20250714_125812.log:Using Anthropic Claude API\n"
     ]
    },
    {
     "name": "stdout",
     "output_type": "stream",
     "text": [
      "Using provided template string\n",
      "Appending output format instructions to template\n",
      "Added 8 gene feature descriptions to prompt\n"
     ]
    },
    {
     "name": "stderr",
     "output_type": "stream",
     "text": [
      "INFO:cluster_analysis_20250714_125812.log:Anthropic API call successful: model=claude-3-7-sonnet-20250219\n",
      "INFO:cluster_analysis_20250714_125812.log:Success for cluster 391\n",
      "Processing clusters:  81%|████████  | 392/486 [1:41:29<21:08, 13.50s/it]INFO:cluster_analysis_20250714_125812.log:Using Anthropic Claude API\n"
     ]
    },
    {
     "name": "stdout",
     "output_type": "stream",
     "text": [
      "Using provided template string\n",
      "Appending output format instructions to template\n",
      "Added 8 gene feature descriptions to prompt\n"
     ]
    },
    {
     "name": "stderr",
     "output_type": "stream",
     "text": [
      "INFO:cluster_analysis_20250714_125812.log:Anthropic API call successful: model=claude-3-7-sonnet-20250219\n",
      "INFO:cluster_analysis_20250714_125812.log:Success for cluster 392\n",
      "Processing clusters:  81%|████████  | 393/486 [1:41:40<19:24, 12.52s/it]INFO:cluster_analysis_20250714_125812.log:Using Anthropic Claude API\n"
     ]
    },
    {
     "name": "stdout",
     "output_type": "stream",
     "text": [
      "Using provided template string\n",
      "Appending output format instructions to template\n",
      "Added 8 gene feature descriptions to prompt\n"
     ]
    },
    {
     "name": "stderr",
     "output_type": "stream",
     "text": [
      "INFO:cluster_analysis_20250714_125812.log:Anthropic API call successful: model=claude-3-7-sonnet-20250219\n",
      "INFO:cluster_analysis_20250714_125812.log:Success for cluster 393\n",
      "Processing clusters:  81%|████████  | 394/486 [1:41:53<19:50, 12.95s/it]INFO:cluster_analysis_20250714_125812.log:Using Anthropic Claude API\n"
     ]
    },
    {
     "name": "stdout",
     "output_type": "stream",
     "text": [
      "Using provided template string\n",
      "Appending output format instructions to template\n",
      "Added 8 gene feature descriptions to prompt\n"
     ]
    },
    {
     "name": "stderr",
     "output_type": "stream",
     "text": [
      "INFO:cluster_analysis_20250714_125812.log:Anthropic API call successful: model=claude-3-7-sonnet-20250219\n",
      "INFO:cluster_analysis_20250714_125812.log:Success for cluster 394\n",
      "INFO:cluster_analysis_20250714_125812.log:Saved progress for 395 clusters\n",
      "Processing clusters:  81%|████████▏ | 395/486 [1:42:05<19:10, 12.64s/it]INFO:cluster_analysis_20250714_125812.log:Using Anthropic Claude API\n"
     ]
    },
    {
     "name": "stdout",
     "output_type": "stream",
     "text": [
      "Using provided template string\n",
      "Appending output format instructions to template\n",
      "Added 8 gene feature descriptions to prompt\n"
     ]
    },
    {
     "name": "stderr",
     "output_type": "stream",
     "text": [
      "INFO:cluster_analysis_20250714_125812.log:Anthropic API call successful: model=claude-3-7-sonnet-20250219\n",
      "INFO:cluster_analysis_20250714_125812.log:Success for cluster 395\n",
      "Processing clusters:  81%|████████▏ | 396/486 [1:42:20<19:47, 13.20s/it]INFO:cluster_analysis_20250714_125812.log:Using Anthropic Claude API\n"
     ]
    },
    {
     "name": "stdout",
     "output_type": "stream",
     "text": [
      "Using provided template string\n",
      "Appending output format instructions to template\n",
      "Added 8 gene feature descriptions to prompt\n"
     ]
    },
    {
     "name": "stderr",
     "output_type": "stream",
     "text": [
      "INFO:cluster_analysis_20250714_125812.log:Anthropic API call successful: model=claude-3-7-sonnet-20250219\n",
      "INFO:cluster_analysis_20250714_125812.log:Success for cluster 396\n",
      "Processing clusters:  82%|████████▏ | 397/486 [1:42:31<18:50, 12.70s/it]INFO:cluster_analysis_20250714_125812.log:Using Anthropic Claude API\n"
     ]
    },
    {
     "name": "stdout",
     "output_type": "stream",
     "text": [
      "Using provided template string\n",
      "Appending output format instructions to template\n",
      "Added 8 gene feature descriptions to prompt\n"
     ]
    },
    {
     "name": "stderr",
     "output_type": "stream",
     "text": [
      "INFO:cluster_analysis_20250714_125812.log:Anthropic API call successful: model=claude-3-7-sonnet-20250219\n",
      "INFO:cluster_analysis_20250714_125812.log:Success for cluster 397\n",
      "Processing clusters:  82%|████████▏ | 398/486 [1:42:46<19:19, 13.17s/it]INFO:cluster_analysis_20250714_125812.log:Using Anthropic Claude API\n"
     ]
    },
    {
     "name": "stdout",
     "output_type": "stream",
     "text": [
      "Using provided template string\n",
      "Appending output format instructions to template\n",
      "Added 8 gene feature descriptions to prompt\n"
     ]
    },
    {
     "name": "stderr",
     "output_type": "stream",
     "text": [
      "INFO:cluster_analysis_20250714_125812.log:Anthropic API call successful: model=claude-3-7-sonnet-20250219\n",
      "INFO:cluster_analysis_20250714_125812.log:Success for cluster 398\n",
      "Processing clusters:  82%|████████▏ | 399/486 [1:43:00<19:42, 13.59s/it]INFO:cluster_analysis_20250714_125812.log:Using Anthropic Claude API\n"
     ]
    },
    {
     "name": "stdout",
     "output_type": "stream",
     "text": [
      "Using provided template string\n",
      "Appending output format instructions to template\n",
      "Added 8 gene feature descriptions to prompt\n"
     ]
    },
    {
     "name": "stderr",
     "output_type": "stream",
     "text": [
      "INFO:cluster_analysis_20250714_125812.log:Anthropic API call successful: model=claude-3-7-sonnet-20250219\n",
      "INFO:cluster_analysis_20250714_125812.log:Success for cluster 399\n",
      "INFO:cluster_analysis_20250714_125812.log:Saved progress for 400 clusters\n",
      "Processing clusters:  82%|████████▏ | 400/486 [1:43:14<19:35, 13.66s/it]INFO:cluster_analysis_20250714_125812.log:Using Anthropic Claude API\n"
     ]
    },
    {
     "name": "stdout",
     "output_type": "stream",
     "text": [
      "Using provided template string\n",
      "Appending output format instructions to template\n",
      "Added 8 gene feature descriptions to prompt\n"
     ]
    },
    {
     "name": "stderr",
     "output_type": "stream",
     "text": [
      "INFO:cluster_analysis_20250714_125812.log:Anthropic API call successful: model=claude-3-7-sonnet-20250219\n",
      "INFO:cluster_analysis_20250714_125812.log:Success for cluster 400\n",
      "Processing clusters:  83%|████████▎ | 401/486 [1:43:29<19:45, 13.95s/it]INFO:cluster_analysis_20250714_125812.log:Using Anthropic Claude API\n"
     ]
    },
    {
     "name": "stdout",
     "output_type": "stream",
     "text": [
      "Using provided template string\n",
      "Appending output format instructions to template\n",
      "Added 8 gene feature descriptions to prompt\n"
     ]
    },
    {
     "name": "stderr",
     "output_type": "stream",
     "text": [
      "INFO:cluster_analysis_20250714_125812.log:Anthropic API call successful: model=claude-3-7-sonnet-20250219\n",
      "INFO:cluster_analysis_20250714_125812.log:Success for cluster 401\n",
      "Processing clusters:  83%|████████▎ | 402/486 [1:43:41<18:37, 13.30s/it]INFO:cluster_analysis_20250714_125812.log:Using Anthropic Claude API\n"
     ]
    },
    {
     "name": "stdout",
     "output_type": "stream",
     "text": [
      "Using provided template string\n",
      "Appending output format instructions to template\n",
      "Added 8 gene feature descriptions to prompt\n"
     ]
    },
    {
     "name": "stderr",
     "output_type": "stream",
     "text": [
      "INFO:cluster_analysis_20250714_125812.log:Anthropic API call successful: model=claude-3-7-sonnet-20250219\n",
      "INFO:cluster_analysis_20250714_125812.log:Success for cluster 402\n",
      "Processing clusters:  83%|████████▎ | 403/486 [1:43:52<17:31, 12.67s/it]INFO:cluster_analysis_20250714_125812.log:Using Anthropic Claude API\n"
     ]
    },
    {
     "name": "stdout",
     "output_type": "stream",
     "text": [
      "Using provided template string\n",
      "Appending output format instructions to template\n",
      "Added 8 gene feature descriptions to prompt\n"
     ]
    },
    {
     "name": "stderr",
     "output_type": "stream",
     "text": [
      "INFO:cluster_analysis_20250714_125812.log:Anthropic API call successful: model=claude-3-7-sonnet-20250219\n",
      "INFO:cluster_analysis_20250714_125812.log:Success for cluster 403\n",
      "Processing clusters:  83%|████████▎ | 404/486 [1:44:05<17:28, 12.78s/it]INFO:cluster_analysis_20250714_125812.log:Using Anthropic Claude API\n"
     ]
    },
    {
     "name": "stdout",
     "output_type": "stream",
     "text": [
      "Using provided template string\n",
      "Appending output format instructions to template\n",
      "Added 8 gene feature descriptions to prompt\n"
     ]
    },
    {
     "name": "stderr",
     "output_type": "stream",
     "text": [
      "INFO:cluster_analysis_20250714_125812.log:Anthropic API call successful: model=claude-3-7-sonnet-20250219\n",
      "INFO:cluster_analysis_20250714_125812.log:Success for cluster 404\n",
      "INFO:cluster_analysis_20250714_125812.log:Saved progress for 405 clusters\n",
      "Processing clusters:  83%|████████▎ | 405/486 [1:44:17<16:54, 12.52s/it]INFO:cluster_analysis_20250714_125812.log:Using Anthropic Claude API\n"
     ]
    },
    {
     "name": "stdout",
     "output_type": "stream",
     "text": [
      "Using provided template string\n",
      "Appending output format instructions to template\n",
      "Added 8 gene feature descriptions to prompt\n"
     ]
    },
    {
     "name": "stderr",
     "output_type": "stream",
     "text": [
      "INFO:cluster_analysis_20250714_125812.log:Anthropic API call successful: model=claude-3-7-sonnet-20250219\n",
      "INFO:cluster_analysis_20250714_125812.log:Success for cluster 405\n",
      "Processing clusters:  84%|████████▎ | 406/486 [1:44:33<18:04, 13.56s/it]INFO:cluster_analysis_20250714_125812.log:Using Anthropic Claude API\n"
     ]
    },
    {
     "name": "stdout",
     "output_type": "stream",
     "text": [
      "Using provided template string\n",
      "Appending output format instructions to template\n",
      "Added 8 gene feature descriptions to prompt\n"
     ]
    },
    {
     "name": "stderr",
     "output_type": "stream",
     "text": [
      "INFO:cluster_analysis_20250714_125812.log:Anthropic API call successful: model=claude-3-7-sonnet-20250219\n",
      "INFO:cluster_analysis_20250714_125812.log:Success for cluster 406\n",
      "Processing clusters:  84%|████████▎ | 407/486 [1:44:48<18:28, 14.04s/it]INFO:cluster_analysis_20250714_125812.log:Using Anthropic Claude API\n"
     ]
    },
    {
     "name": "stdout",
     "output_type": "stream",
     "text": [
      "Using provided template string\n",
      "Appending output format instructions to template\n",
      "Added 8 gene feature descriptions to prompt\n"
     ]
    },
    {
     "name": "stderr",
     "output_type": "stream",
     "text": [
      "INFO:cluster_analysis_20250714_125812.log:Anthropic API call successful: model=claude-3-7-sonnet-20250219\n",
      "INFO:cluster_analysis_20250714_125812.log:Success for cluster 407\n",
      "Processing clusters:  84%|████████▍ | 408/486 [1:45:00<17:40, 13.60s/it]INFO:cluster_analysis_20250714_125812.log:Using Anthropic Claude API\n"
     ]
    },
    {
     "name": "stdout",
     "output_type": "stream",
     "text": [
      "Using provided template string\n",
      "Appending output format instructions to template\n",
      "Added 8 gene feature descriptions to prompt\n"
     ]
    },
    {
     "name": "stderr",
     "output_type": "stream",
     "text": [
      "INFO:cluster_analysis_20250714_125812.log:Anthropic API call successful: model=claude-3-7-sonnet-20250219\n",
      "INFO:cluster_analysis_20250714_125812.log:Success for cluster 408\n",
      "Processing clusters:  84%|████████▍ | 409/486 [1:45:11<16:20, 12.74s/it]INFO:cluster_analysis_20250714_125812.log:Using Anthropic Claude API\n"
     ]
    },
    {
     "name": "stdout",
     "output_type": "stream",
     "text": [
      "Using provided template string\n",
      "Appending output format instructions to template\n",
      "Added 8 gene feature descriptions to prompt\n"
     ]
    },
    {
     "name": "stderr",
     "output_type": "stream",
     "text": [
      "INFO:cluster_analysis_20250714_125812.log:Anthropic API call successful: model=claude-3-7-sonnet-20250219\n",
      "INFO:cluster_analysis_20250714_125812.log:Success for cluster 409\n",
      "INFO:cluster_analysis_20250714_125812.log:Saved progress for 410 clusters\n",
      "Processing clusters:  84%|████████▍ | 410/486 [1:45:24<16:09, 12.76s/it]INFO:cluster_analysis_20250714_125812.log:Using Anthropic Claude API\n"
     ]
    },
    {
     "name": "stdout",
     "output_type": "stream",
     "text": [
      "Using provided template string\n",
      "Appending output format instructions to template\n",
      "Added 8 gene feature descriptions to prompt\n"
     ]
    },
    {
     "name": "stderr",
     "output_type": "stream",
     "text": [
      "INFO:cluster_analysis_20250714_125812.log:Anthropic API call successful: model=claude-3-7-sonnet-20250219\n",
      "INFO:cluster_analysis_20250714_125812.log:Success for cluster 410\n",
      "Processing clusters:  85%|████████▍ | 411/486 [1:45:34<14:55, 11.94s/it]INFO:cluster_analysis_20250714_125812.log:Using Anthropic Claude API\n"
     ]
    },
    {
     "name": "stdout",
     "output_type": "stream",
     "text": [
      "Using provided template string\n",
      "Appending output format instructions to template\n",
      "Added 8 gene feature descriptions to prompt\n"
     ]
    },
    {
     "name": "stderr",
     "output_type": "stream",
     "text": [
      "INFO:cluster_analysis_20250714_125812.log:Anthropic API call successful: model=claude-3-7-sonnet-20250219\n",
      "INFO:cluster_analysis_20250714_125812.log:Success for cluster 411\n",
      "Processing clusters:  85%|████████▍ | 412/486 [1:45:48<15:19, 12.42s/it]INFO:cluster_analysis_20250714_125812.log:Using Anthropic Claude API\n"
     ]
    },
    {
     "name": "stdout",
     "output_type": "stream",
     "text": [
      "Using provided template string\n",
      "Appending output format instructions to template\n",
      "Added 8 gene feature descriptions to prompt\n"
     ]
    },
    {
     "name": "stderr",
     "output_type": "stream",
     "text": [
      "INFO:cluster_analysis_20250714_125812.log:Anthropic API call successful: model=claude-3-7-sonnet-20250219\n",
      "INFO:cluster_analysis_20250714_125812.log:Success for cluster 412\n",
      "Processing clusters:  85%|████████▍ | 413/486 [1:46:01<15:25, 12.68s/it]INFO:cluster_analysis_20250714_125812.log:Using Anthropic Claude API\n"
     ]
    },
    {
     "name": "stdout",
     "output_type": "stream",
     "text": [
      "Using provided template string\n",
      "Appending output format instructions to template\n",
      "Added 8 gene feature descriptions to prompt\n"
     ]
    },
    {
     "name": "stderr",
     "output_type": "stream",
     "text": [
      "INFO:cluster_analysis_20250714_125812.log:Anthropic API call successful: model=claude-3-7-sonnet-20250219\n",
      "INFO:cluster_analysis_20250714_125812.log:Success for cluster 413\n",
      "Processing clusters:  85%|████████▌ | 414/486 [1:46:15<15:52, 13.22s/it]INFO:cluster_analysis_20250714_125812.log:Using Anthropic Claude API\n"
     ]
    },
    {
     "name": "stdout",
     "output_type": "stream",
     "text": [
      "Using provided template string\n",
      "Appending output format instructions to template\n",
      "Added 8 gene feature descriptions to prompt\n"
     ]
    },
    {
     "name": "stderr",
     "output_type": "stream",
     "text": [
      "INFO:cluster_analysis_20250714_125812.log:Anthropic API call successful: model=claude-3-7-sonnet-20250219\n",
      "INFO:cluster_analysis_20250714_125812.log:Success for cluster 414\n",
      "INFO:cluster_analysis_20250714_125812.log:Saved progress for 415 clusters\n",
      "Processing clusters:  85%|████████▌ | 415/486 [1:46:30<16:02, 13.55s/it]INFO:cluster_analysis_20250714_125812.log:Using Anthropic Claude API\n"
     ]
    },
    {
     "name": "stdout",
     "output_type": "stream",
     "text": [
      "Using provided template string\n",
      "Appending output format instructions to template\n",
      "Added 8 gene feature descriptions to prompt\n"
     ]
    },
    {
     "name": "stderr",
     "output_type": "stream",
     "text": [
      "INFO:cluster_analysis_20250714_125812.log:Anthropic API call successful: model=claude-3-7-sonnet-20250219\n",
      "INFO:cluster_analysis_20250714_125812.log:Success for cluster 415\n",
      "Processing clusters:  86%|████████▌ | 416/486 [1:46:40<14:47, 12.68s/it]INFO:cluster_analysis_20250714_125812.log:Using Anthropic Claude API\n"
     ]
    },
    {
     "name": "stdout",
     "output_type": "stream",
     "text": [
      "Using provided template string\n",
      "Appending output format instructions to template\n",
      "Added 8 gene feature descriptions to prompt\n"
     ]
    },
    {
     "name": "stderr",
     "output_type": "stream",
     "text": [
      "INFO:cluster_analysis_20250714_125812.log:Anthropic API call successful: model=claude-3-7-sonnet-20250219\n",
      "INFO:cluster_analysis_20250714_125812.log:Success for cluster 416\n",
      "Processing clusters:  86%|████████▌ | 417/486 [1:46:55<15:24, 13.40s/it]INFO:cluster_analysis_20250714_125812.log:Using Anthropic Claude API\n"
     ]
    },
    {
     "name": "stdout",
     "output_type": "stream",
     "text": [
      "Using provided template string\n",
      "Appending output format instructions to template\n",
      "Added 8 gene feature descriptions to prompt\n"
     ]
    },
    {
     "name": "stderr",
     "output_type": "stream",
     "text": [
      "INFO:cluster_analysis_20250714_125812.log:Anthropic API call successful: model=claude-3-7-sonnet-20250219\n",
      "INFO:cluster_analysis_20250714_125812.log:Success for cluster 417\n",
      "Processing clusters:  86%|████████▌ | 418/486 [1:47:11<15:52, 14.01s/it]INFO:cluster_analysis_20250714_125812.log:Using Anthropic Claude API\n"
     ]
    },
    {
     "name": "stdout",
     "output_type": "stream",
     "text": [
      "Using provided template string\n",
      "Appending output format instructions to template\n",
      "Added 8 gene feature descriptions to prompt\n"
     ]
    },
    {
     "name": "stderr",
     "output_type": "stream",
     "text": [
      "INFO:cluster_analysis_20250714_125812.log:Anthropic API call successful: model=claude-3-7-sonnet-20250219\n",
      "INFO:cluster_analysis_20250714_125812.log:Success for cluster 418\n",
      "Processing clusters:  86%|████████▌ | 419/486 [1:47:27<16:14, 14.54s/it]INFO:cluster_analysis_20250714_125812.log:Using Anthropic Claude API\n"
     ]
    },
    {
     "name": "stdout",
     "output_type": "stream",
     "text": [
      "Using provided template string\n",
      "Appending output format instructions to template\n",
      "Added 8 gene feature descriptions to prompt\n"
     ]
    },
    {
     "name": "stderr",
     "output_type": "stream",
     "text": [
      "INFO:cluster_analysis_20250714_125812.log:Anthropic API call successful: model=claude-3-7-sonnet-20250219\n",
      "INFO:cluster_analysis_20250714_125812.log:Success for cluster 419\n",
      "INFO:cluster_analysis_20250714_125812.log:Saved progress for 420 clusters\n",
      "Processing clusters:  86%|████████▋ | 420/486 [1:47:40<15:37, 14.20s/it]INFO:cluster_analysis_20250714_125812.log:Using Anthropic Claude API\n"
     ]
    },
    {
     "name": "stdout",
     "output_type": "stream",
     "text": [
      "Using provided template string\n",
      "Appending output format instructions to template\n",
      "Added 8 gene feature descriptions to prompt\n"
     ]
    },
    {
     "name": "stderr",
     "output_type": "stream",
     "text": [
      "INFO:cluster_analysis_20250714_125812.log:Anthropic API call successful: model=claude-3-7-sonnet-20250219\n",
      "INFO:cluster_analysis_20250714_125812.log:Success for cluster 420\n",
      "Processing clusters:  87%|████████▋ | 421/486 [1:47:53<15:06, 13.95s/it]INFO:cluster_analysis_20250714_125812.log:Using Anthropic Claude API\n"
     ]
    },
    {
     "name": "stdout",
     "output_type": "stream",
     "text": [
      "Using provided template string\n",
      "Appending output format instructions to template\n",
      "Added 8 gene feature descriptions to prompt\n"
     ]
    },
    {
     "name": "stderr",
     "output_type": "stream",
     "text": [
      "INFO:cluster_analysis_20250714_125812.log:Anthropic API call successful: model=claude-3-7-sonnet-20250219\n",
      "INFO:cluster_analysis_20250714_125812.log:Success for cluster 421\n",
      "Processing clusters:  87%|████████▋ | 422/486 [1:48:06<14:36, 13.69s/it]INFO:cluster_analysis_20250714_125812.log:Using Anthropic Claude API\n"
     ]
    },
    {
     "name": "stdout",
     "output_type": "stream",
     "text": [
      "Using provided template string\n",
      "Appending output format instructions to template\n",
      "Added 8 gene feature descriptions to prompt\n"
     ]
    },
    {
     "name": "stderr",
     "output_type": "stream",
     "text": [
      "INFO:cluster_analysis_20250714_125812.log:Anthropic API call successful: model=claude-3-7-sonnet-20250219\n",
      "INFO:cluster_analysis_20250714_125812.log:Success for cluster 422\n",
      "Processing clusters:  87%|████████▋ | 423/486 [1:48:19<14:05, 13.42s/it]INFO:cluster_analysis_20250714_125812.log:Using Anthropic Claude API\n"
     ]
    },
    {
     "name": "stdout",
     "output_type": "stream",
     "text": [
      "Using provided template string\n",
      "Appending output format instructions to template\n",
      "Added 8 gene feature descriptions to prompt\n"
     ]
    },
    {
     "name": "stderr",
     "output_type": "stream",
     "text": [
      "INFO:cluster_analysis_20250714_125812.log:Anthropic API call successful: model=claude-3-7-sonnet-20250219\n",
      "INFO:cluster_analysis_20250714_125812.log:Success for cluster 423\n",
      "Processing clusters:  87%|████████▋ | 424/486 [1:48:31<13:26, 13.01s/it]INFO:cluster_analysis_20250714_125812.log:Using Anthropic Claude API\n"
     ]
    },
    {
     "name": "stdout",
     "output_type": "stream",
     "text": [
      "Using provided template string\n",
      "Appending output format instructions to template\n",
      "Added 8 gene feature descriptions to prompt\n"
     ]
    },
    {
     "name": "stderr",
     "output_type": "stream",
     "text": [
      "INFO:cluster_analysis_20250714_125812.log:Anthropic API call successful: model=claude-3-7-sonnet-20250219\n",
      "INFO:cluster_analysis_20250714_125812.log:Success for cluster 424\n",
      "INFO:cluster_analysis_20250714_125812.log:Saved progress for 425 clusters\n",
      "Processing clusters:  87%|████████▋ | 425/486 [1:48:46<13:51, 13.64s/it]INFO:cluster_analysis_20250714_125812.log:Using Anthropic Claude API\n"
     ]
    },
    {
     "name": "stdout",
     "output_type": "stream",
     "text": [
      "Using provided template string\n",
      "Appending output format instructions to template\n",
      "Added 8 gene feature descriptions to prompt\n"
     ]
    },
    {
     "name": "stderr",
     "output_type": "stream",
     "text": [
      "INFO:cluster_analysis_20250714_125812.log:Anthropic API call successful: model=claude-3-7-sonnet-20250219\n",
      "INFO:cluster_analysis_20250714_125812.log:Success for cluster 425\n",
      "Processing clusters:  88%|████████▊ | 426/486 [1:49:00<13:43, 13.73s/it]INFO:cluster_analysis_20250714_125812.log:Using Anthropic Claude API\n"
     ]
    },
    {
     "name": "stdout",
     "output_type": "stream",
     "text": [
      "Using provided template string\n",
      "Appending output format instructions to template\n",
      "Added 8 gene feature descriptions to prompt\n"
     ]
    },
    {
     "name": "stderr",
     "output_type": "stream",
     "text": [
      "INFO:cluster_analysis_20250714_125812.log:Anthropic API call successful: model=claude-3-7-sonnet-20250219\n",
      "INFO:cluster_analysis_20250714_125812.log:Success for cluster 426\n",
      "Processing clusters:  88%|████████▊ | 427/486 [1:49:15<13:50, 14.08s/it]INFO:cluster_analysis_20250714_125812.log:Using Anthropic Claude API\n"
     ]
    },
    {
     "name": "stdout",
     "output_type": "stream",
     "text": [
      "Using provided template string\n",
      "Appending output format instructions to template\n",
      "Added 7 gene feature descriptions to prompt\n"
     ]
    },
    {
     "name": "stderr",
     "output_type": "stream",
     "text": [
      "INFO:cluster_analysis_20250714_125812.log:Anthropic API call successful: model=claude-3-7-sonnet-20250219\n",
      "INFO:cluster_analysis_20250714_125812.log:Success for cluster 427\n",
      "Processing clusters:  88%|████████▊ | 428/486 [1:49:28<13:22, 13.83s/it]INFO:cluster_analysis_20250714_125812.log:Using Anthropic Claude API\n"
     ]
    },
    {
     "name": "stdout",
     "output_type": "stream",
     "text": [
      "Using provided template string\n",
      "Appending output format instructions to template\n",
      "Added 7 gene feature descriptions to prompt\n"
     ]
    },
    {
     "name": "stderr",
     "output_type": "stream",
     "text": [
      "INFO:cluster_analysis_20250714_125812.log:Anthropic API call successful: model=claude-3-7-sonnet-20250219\n",
      "INFO:cluster_analysis_20250714_125812.log:Success for cluster 428\n",
      "Processing clusters:  88%|████████▊ | 429/486 [1:49:42<13:02, 13.73s/it]INFO:cluster_analysis_20250714_125812.log:Using Anthropic Claude API\n"
     ]
    },
    {
     "name": "stdout",
     "output_type": "stream",
     "text": [
      "Using provided template string\n",
      "Appending output format instructions to template\n",
      "Added 7 gene feature descriptions to prompt\n"
     ]
    },
    {
     "name": "stderr",
     "output_type": "stream",
     "text": [
      "INFO:cluster_analysis_20250714_125812.log:Anthropic API call successful: model=claude-3-7-sonnet-20250219\n",
      "INFO:cluster_analysis_20250714_125812.log:Success for cluster 429\n",
      "INFO:cluster_analysis_20250714_125812.log:Saved progress for 430 clusters\n",
      "Processing clusters:  88%|████████▊ | 430/486 [1:49:53<12:10, 13.04s/it]INFO:cluster_analysis_20250714_125812.log:Using Anthropic Claude API\n"
     ]
    },
    {
     "name": "stdout",
     "output_type": "stream",
     "text": [
      "Using provided template string\n",
      "Appending output format instructions to template\n",
      "Added 7 gene feature descriptions to prompt\n"
     ]
    },
    {
     "name": "stderr",
     "output_type": "stream",
     "text": [
      "INFO:cluster_analysis_20250714_125812.log:Anthropic API call successful: model=claude-3-7-sonnet-20250219\n",
      "INFO:cluster_analysis_20250714_125812.log:Success for cluster 430\n",
      "Processing clusters:  89%|████████▊ | 431/486 [1:50:04<11:20, 12.38s/it]INFO:cluster_analysis_20250714_125812.log:Using Anthropic Claude API\n"
     ]
    },
    {
     "name": "stdout",
     "output_type": "stream",
     "text": [
      "Using provided template string\n",
      "Appending output format instructions to template\n",
      "Added 7 gene feature descriptions to prompt\n"
     ]
    },
    {
     "name": "stderr",
     "output_type": "stream",
     "text": [
      "INFO:cluster_analysis_20250714_125812.log:Anthropic API call successful: model=claude-3-7-sonnet-20250219\n",
      "INFO:cluster_analysis_20250714_125812.log:Success for cluster 431\n",
      "Processing clusters:  89%|████████▉ | 432/486 [1:50:19<11:45, 13.07s/it]INFO:cluster_analysis_20250714_125812.log:Using Anthropic Claude API\n"
     ]
    },
    {
     "name": "stdout",
     "output_type": "stream",
     "text": [
      "Using provided template string\n",
      "Appending output format instructions to template\n",
      "Added 7 gene feature descriptions to prompt\n"
     ]
    },
    {
     "name": "stderr",
     "output_type": "stream",
     "text": [
      "INFO:cluster_analysis_20250714_125812.log:Anthropic API call successful: model=claude-3-7-sonnet-20250219\n",
      "INFO:cluster_analysis_20250714_125812.log:Success for cluster 432\n",
      "Processing clusters:  89%|████████▉ | 433/486 [1:50:30<11:08, 12.61s/it]INFO:cluster_analysis_20250714_125812.log:Using Anthropic Claude API\n"
     ]
    },
    {
     "name": "stdout",
     "output_type": "stream",
     "text": [
      "Using provided template string\n",
      "Appending output format instructions to template\n",
      "Added 7 gene feature descriptions to prompt\n"
     ]
    },
    {
     "name": "stderr",
     "output_type": "stream",
     "text": [
      "INFO:cluster_analysis_20250714_125812.log:Anthropic API call successful: model=claude-3-7-sonnet-20250219\n",
      "INFO:cluster_analysis_20250714_125812.log:Success for cluster 433\n",
      "Processing clusters:  89%|████████▉ | 434/486 [1:50:45<11:29, 13.26s/it]INFO:cluster_analysis_20250714_125812.log:Using Anthropic Claude API\n"
     ]
    },
    {
     "name": "stdout",
     "output_type": "stream",
     "text": [
      "Using provided template string\n",
      "Appending output format instructions to template\n",
      "Added 7 gene feature descriptions to prompt\n"
     ]
    },
    {
     "name": "stderr",
     "output_type": "stream",
     "text": [
      "INFO:cluster_analysis_20250714_125812.log:Anthropic API call successful: model=claude-3-7-sonnet-20250219\n",
      "INFO:cluster_analysis_20250714_125812.log:Success for cluster 434\n",
      "INFO:cluster_analysis_20250714_125812.log:Saved progress for 435 clusters\n",
      "Processing clusters:  90%|████████▉ | 435/486 [1:50:59<11:20, 13.35s/it]INFO:cluster_analysis_20250714_125812.log:Using Anthropic Claude API\n"
     ]
    },
    {
     "name": "stdout",
     "output_type": "stream",
     "text": [
      "Using provided template string\n",
      "Appending output format instructions to template\n",
      "Added 7 gene feature descriptions to prompt\n"
     ]
    },
    {
     "name": "stderr",
     "output_type": "stream",
     "text": [
      "INFO:cluster_analysis_20250714_125812.log:Anthropic API call successful: model=claude-3-7-sonnet-20250219\n",
      "INFO:cluster_analysis_20250714_125812.log:Success for cluster 435\n",
      "Processing clusters:  90%|████████▉ | 436/486 [1:51:11<10:50, 13.00s/it]INFO:cluster_analysis_20250714_125812.log:Using Anthropic Claude API\n"
     ]
    },
    {
     "name": "stdout",
     "output_type": "stream",
     "text": [
      "Using provided template string\n",
      "Appending output format instructions to template\n",
      "Added 7 gene feature descriptions to prompt\n"
     ]
    },
    {
     "name": "stderr",
     "output_type": "stream",
     "text": [
      "INFO:cluster_analysis_20250714_125812.log:Anthropic API call successful: model=claude-3-7-sonnet-20250219\n",
      "INFO:cluster_analysis_20250714_125812.log:Success for cluster 436\n",
      "Processing clusters:  90%|████████▉ | 437/486 [1:51:26<11:01, 13.50s/it]INFO:cluster_analysis_20250714_125812.log:Using Anthropic Claude API\n"
     ]
    },
    {
     "name": "stdout",
     "output_type": "stream",
     "text": [
      "Using provided template string\n",
      "Appending output format instructions to template\n",
      "Added 7 gene feature descriptions to prompt\n"
     ]
    },
    {
     "name": "stderr",
     "output_type": "stream",
     "text": [
      "INFO:cluster_analysis_20250714_125812.log:Anthropic API call successful: model=claude-3-7-sonnet-20250219\n",
      "INFO:cluster_analysis_20250714_125812.log:Success for cluster 437\n",
      "Processing clusters:  90%|█████████ | 438/486 [1:51:41<11:11, 14.00s/it]INFO:cluster_analysis_20250714_125812.log:Using Anthropic Claude API\n"
     ]
    },
    {
     "name": "stdout",
     "output_type": "stream",
     "text": [
      "Using provided template string\n",
      "Appending output format instructions to template\n",
      "Added 7 gene feature descriptions to prompt\n"
     ]
    },
    {
     "name": "stderr",
     "output_type": "stream",
     "text": [
      "INFO:cluster_analysis_20250714_125812.log:Anthropic API call successful: model=claude-3-7-sonnet-20250219\n",
      "INFO:cluster_analysis_20250714_125812.log:Success for cluster 438\n",
      "Processing clusters:  90%|█████████ | 439/486 [1:51:50<09:45, 12.47s/it]INFO:cluster_analysis_20250714_125812.log:Using Anthropic Claude API\n"
     ]
    },
    {
     "name": "stdout",
     "output_type": "stream",
     "text": [
      "Using provided template string\n",
      "Appending output format instructions to template\n",
      "Added 7 gene feature descriptions to prompt\n"
     ]
    },
    {
     "name": "stderr",
     "output_type": "stream",
     "text": [
      "INFO:cluster_analysis_20250714_125812.log:Anthropic API call successful: model=claude-3-7-sonnet-20250219\n",
      "INFO:cluster_analysis_20250714_125812.log:Success for cluster 439\n",
      "INFO:cluster_analysis_20250714_125812.log:Saved progress for 440 clusters\n",
      "Processing clusters:  91%|█████████ | 440/486 [1:52:07<10:45, 14.04s/it]INFO:cluster_analysis_20250714_125812.log:Using Anthropic Claude API\n"
     ]
    },
    {
     "name": "stdout",
     "output_type": "stream",
     "text": [
      "Using provided template string\n",
      "Appending output format instructions to template\n",
      "Added 7 gene feature descriptions to prompt\n"
     ]
    },
    {
     "name": "stderr",
     "output_type": "stream",
     "text": [
      "INFO:cluster_analysis_20250714_125812.log:Anthropic API call successful: model=claude-3-7-sonnet-20250219\n",
      "INFO:cluster_analysis_20250714_125812.log:Success for cluster 440\n",
      "Processing clusters:  91%|█████████ | 441/486 [1:52:17<09:29, 12.66s/it]INFO:cluster_analysis_20250714_125812.log:Using Anthropic Claude API\n"
     ]
    },
    {
     "name": "stdout",
     "output_type": "stream",
     "text": [
      "Using provided template string\n",
      "Appending output format instructions to template\n",
      "Added 7 gene feature descriptions to prompt\n"
     ]
    },
    {
     "name": "stderr",
     "output_type": "stream",
     "text": [
      "INFO:cluster_analysis_20250714_125812.log:Anthropic API call successful: model=claude-3-7-sonnet-20250219\n",
      "INFO:cluster_analysis_20250714_125812.log:Success for cluster 441\n",
      "Processing clusters:  91%|█████████ | 442/486 [1:52:31<09:31, 12.99s/it]INFO:cluster_analysis_20250714_125812.log:Using Anthropic Claude API\n"
     ]
    },
    {
     "name": "stdout",
     "output_type": "stream",
     "text": [
      "Using provided template string\n",
      "Appending output format instructions to template\n",
      "Added 7 gene feature descriptions to prompt\n"
     ]
    },
    {
     "name": "stderr",
     "output_type": "stream",
     "text": [
      "INFO:cluster_analysis_20250714_125812.log:Anthropic API call successful: model=claude-3-7-sonnet-20250219\n",
      "INFO:cluster_analysis_20250714_125812.log:Success for cluster 442\n",
      "Processing clusters:  91%|█████████ | 443/486 [1:52:48<10:20, 14.43s/it]INFO:cluster_analysis_20250714_125812.log:Using Anthropic Claude API\n"
     ]
    },
    {
     "name": "stdout",
     "output_type": "stream",
     "text": [
      "Using provided template string\n",
      "Appending output format instructions to template\n",
      "Added 7 gene feature descriptions to prompt\n"
     ]
    },
    {
     "name": "stderr",
     "output_type": "stream",
     "text": [
      "INFO:cluster_analysis_20250714_125812.log:Anthropic API call successful: model=claude-3-7-sonnet-20250219\n",
      "INFO:cluster_analysis_20250714_125812.log:Success for cluster 443\n",
      "Processing clusters:  91%|█████████▏| 444/486 [1:53:03<10:10, 14.53s/it]INFO:cluster_analysis_20250714_125812.log:Using Anthropic Claude API\n"
     ]
    },
    {
     "name": "stdout",
     "output_type": "stream",
     "text": [
      "Using provided template string\n",
      "Appending output format instructions to template\n",
      "Added 7 gene feature descriptions to prompt\n"
     ]
    },
    {
     "name": "stderr",
     "output_type": "stream",
     "text": [
      "INFO:cluster_analysis_20250714_125812.log:Anthropic API call successful: model=claude-3-7-sonnet-20250219\n",
      "INFO:cluster_analysis_20250714_125812.log:Success for cluster 444\n",
      "INFO:cluster_analysis_20250714_125812.log:Saved progress for 445 clusters\n",
      "Processing clusters:  92%|█████████▏| 445/486 [1:53:17<09:53, 14.49s/it]INFO:cluster_analysis_20250714_125812.log:Using Anthropic Claude API\n"
     ]
    },
    {
     "name": "stdout",
     "output_type": "stream",
     "text": [
      "Using provided template string\n",
      "Appending output format instructions to template\n",
      "Added 7 gene feature descriptions to prompt\n"
     ]
    },
    {
     "name": "stderr",
     "output_type": "stream",
     "text": [
      "INFO:cluster_analysis_20250714_125812.log:Anthropic API call successful: model=claude-3-7-sonnet-20250219\n",
      "INFO:cluster_analysis_20250714_125812.log:Success for cluster 445\n",
      "Processing clusters:  92%|█████████▏| 446/486 [1:53:31<09:24, 14.11s/it]INFO:cluster_analysis_20250714_125812.log:Using Anthropic Claude API\n"
     ]
    },
    {
     "name": "stdout",
     "output_type": "stream",
     "text": [
      "Using provided template string\n",
      "Appending output format instructions to template\n",
      "Added 7 gene feature descriptions to prompt\n"
     ]
    },
    {
     "name": "stderr",
     "output_type": "stream",
     "text": [
      "INFO:cluster_analysis_20250714_125812.log:Anthropic API call successful: model=claude-3-7-sonnet-20250219\n",
      "INFO:cluster_analysis_20250714_125812.log:Success for cluster 446\n",
      "Processing clusters:  92%|█████████▏| 447/486 [1:53:44<08:58, 13.82s/it]INFO:cluster_analysis_20250714_125812.log:Using Anthropic Claude API\n"
     ]
    },
    {
     "name": "stdout",
     "output_type": "stream",
     "text": [
      "Using provided template string\n",
      "Appending output format instructions to template\n",
      "Added 7 gene feature descriptions to prompt\n"
     ]
    },
    {
     "name": "stderr",
     "output_type": "stream",
     "text": [
      "INFO:cluster_analysis_20250714_125812.log:Anthropic API call successful: model=claude-3-7-sonnet-20250219\n",
      "INFO:cluster_analysis_20250714_125812.log:Success for cluster 447\n",
      "Processing clusters:  92%|█████████▏| 448/486 [1:53:56<08:30, 13.42s/it]INFO:cluster_analysis_20250714_125812.log:Using Anthropic Claude API\n"
     ]
    },
    {
     "name": "stdout",
     "output_type": "stream",
     "text": [
      "Using provided template string\n",
      "Appending output format instructions to template\n",
      "Added 7 gene feature descriptions to prompt\n"
     ]
    },
    {
     "name": "stderr",
     "output_type": "stream",
     "text": [
      "INFO:cluster_analysis_20250714_125812.log:Anthropic API call successful: model=claude-3-7-sonnet-20250219\n",
      "INFO:cluster_analysis_20250714_125812.log:Success for cluster 448\n",
      "Processing clusters:  92%|█████████▏| 449/486 [1:54:09<08:03, 13.06s/it]INFO:cluster_analysis_20250714_125812.log:Using Anthropic Claude API\n"
     ]
    },
    {
     "name": "stdout",
     "output_type": "stream",
     "text": [
      "Using provided template string\n",
      "Appending output format instructions to template\n",
      "Added 7 gene feature descriptions to prompt\n"
     ]
    },
    {
     "name": "stderr",
     "output_type": "stream",
     "text": [
      "INFO:cluster_analysis_20250714_125812.log:Anthropic API call successful: model=claude-3-7-sonnet-20250219\n",
      "INFO:cluster_analysis_20250714_125812.log:Success for cluster 449\n",
      "INFO:cluster_analysis_20250714_125812.log:Saved progress for 450 clusters\n",
      "Processing clusters:  93%|█████████▎| 450/486 [1:54:25<08:24, 14.01s/it]INFO:cluster_analysis_20250714_125812.log:Using Anthropic Claude API\n"
     ]
    },
    {
     "name": "stdout",
     "output_type": "stream",
     "text": [
      "Using provided template string\n",
      "Appending output format instructions to template\n",
      "Added 7 gene feature descriptions to prompt\n"
     ]
    },
    {
     "name": "stderr",
     "output_type": "stream",
     "text": [
      "INFO:cluster_analysis_20250714_125812.log:Anthropic API call successful: model=claude-3-7-sonnet-20250219\n",
      "INFO:cluster_analysis_20250714_125812.log:Success for cluster 450\n",
      "Processing clusters:  93%|█████████▎| 451/486 [1:54:36<07:43, 13.25s/it]INFO:cluster_analysis_20250714_125812.log:Using Anthropic Claude API\n"
     ]
    },
    {
     "name": "stdout",
     "output_type": "stream",
     "text": [
      "Using provided template string\n",
      "Appending output format instructions to template\n",
      "Added 7 gene feature descriptions to prompt\n"
     ]
    },
    {
     "name": "stderr",
     "output_type": "stream",
     "text": [
      "INFO:cluster_analysis_20250714_125812.log:Anthropic API call successful: model=claude-3-7-sonnet-20250219\n",
      "INFO:cluster_analysis_20250714_125812.log:Success for cluster 451\n",
      "Processing clusters:  93%|█████████▎| 452/486 [1:54:51<07:47, 13.75s/it]INFO:cluster_analysis_20250714_125812.log:Using Anthropic Claude API\n"
     ]
    },
    {
     "name": "stdout",
     "output_type": "stream",
     "text": [
      "Using provided template string\n",
      "Appending output format instructions to template\n",
      "Added 7 gene feature descriptions to prompt\n"
     ]
    },
    {
     "name": "stderr",
     "output_type": "stream",
     "text": [
      "INFO:cluster_analysis_20250714_125812.log:Anthropic API call successful: model=claude-3-7-sonnet-20250219\n",
      "INFO:cluster_analysis_20250714_125812.log:Success for cluster 452\n",
      "Processing clusters:  93%|█████████▎| 453/486 [1:55:08<08:07, 14.78s/it]INFO:cluster_analysis_20250714_125812.log:Using Anthropic Claude API\n"
     ]
    },
    {
     "name": "stdout",
     "output_type": "stream",
     "text": [
      "Using provided template string\n",
      "Appending output format instructions to template\n",
      "Added 7 gene feature descriptions to prompt\n"
     ]
    },
    {
     "name": "stderr",
     "output_type": "stream",
     "text": [
      "INFO:cluster_analysis_20250714_125812.log:Anthropic API call successful: model=claude-3-7-sonnet-20250219\n",
      "INFO:cluster_analysis_20250714_125812.log:Success for cluster 453\n",
      "Processing clusters:  93%|█████████▎| 454/486 [1:55:22<07:44, 14.52s/it]INFO:cluster_analysis_20250714_125812.log:Using Anthropic Claude API\n"
     ]
    },
    {
     "name": "stdout",
     "output_type": "stream",
     "text": [
      "Using provided template string\n",
      "Appending output format instructions to template\n",
      "Added 7 gene feature descriptions to prompt\n"
     ]
    },
    {
     "name": "stderr",
     "output_type": "stream",
     "text": [
      "INFO:cluster_analysis_20250714_125812.log:Anthropic API call successful: model=claude-3-7-sonnet-20250219\n",
      "INFO:cluster_analysis_20250714_125812.log:Success for cluster 454\n",
      "INFO:cluster_analysis_20250714_125812.log:Saved progress for 455 clusters\n",
      "Processing clusters:  94%|█████████▎| 455/486 [1:55:32<06:40, 12.93s/it]INFO:cluster_analysis_20250714_125812.log:Using Anthropic Claude API\n"
     ]
    },
    {
     "name": "stdout",
     "output_type": "stream",
     "text": [
      "Using provided template string\n",
      "Appending output format instructions to template\n",
      "Added 7 gene feature descriptions to prompt\n"
     ]
    },
    {
     "name": "stderr",
     "output_type": "stream",
     "text": [
      "INFO:cluster_analysis_20250714_125812.log:Anthropic API call successful: model=claude-3-7-sonnet-20250219\n",
      "INFO:cluster_analysis_20250714_125812.log:Success for cluster 455\n",
      "Processing clusters:  94%|█████████▍| 456/486 [1:55:39<05:41, 11.39s/it]INFO:cluster_analysis_20250714_125812.log:Using Anthropic Claude API\n"
     ]
    },
    {
     "name": "stdout",
     "output_type": "stream",
     "text": [
      "Using provided template string\n",
      "Appending output format instructions to template\n",
      "Added 7 gene feature descriptions to prompt\n"
     ]
    },
    {
     "name": "stderr",
     "output_type": "stream",
     "text": [
      "INFO:cluster_analysis_20250714_125812.log:Anthropic API call successful: model=claude-3-7-sonnet-20250219\n",
      "INFO:cluster_analysis_20250714_125812.log:Success for cluster 456\n",
      "Processing clusters:  94%|█████████▍| 457/486 [1:55:54<05:59, 12.39s/it]INFO:cluster_analysis_20250714_125812.log:Using Anthropic Claude API\n"
     ]
    },
    {
     "name": "stdout",
     "output_type": "stream",
     "text": [
      "Using provided template string\n",
      "Appending output format instructions to template\n",
      "Added 7 gene feature descriptions to prompt\n"
     ]
    },
    {
     "name": "stderr",
     "output_type": "stream",
     "text": [
      "INFO:cluster_analysis_20250714_125812.log:Anthropic API call successful: model=claude-3-7-sonnet-20250219\n",
      "INFO:cluster_analysis_20250714_125812.log:Success for cluster 457\n",
      "Processing clusters:  94%|█████████▍| 458/486 [1:56:07<05:52, 12.60s/it]INFO:cluster_analysis_20250714_125812.log:Using Anthropic Claude API\n"
     ]
    },
    {
     "name": "stdout",
     "output_type": "stream",
     "text": [
      "Using provided template string\n",
      "Appending output format instructions to template\n",
      "Added 7 gene feature descriptions to prompt\n"
     ]
    },
    {
     "name": "stderr",
     "output_type": "stream",
     "text": [
      "INFO:cluster_analysis_20250714_125812.log:Anthropic API call successful: model=claude-3-7-sonnet-20250219\n",
      "INFO:cluster_analysis_20250714_125812.log:Success for cluster 458\n",
      "Processing clusters:  94%|█████████▍| 459/486 [1:56:21<05:46, 12.84s/it]INFO:cluster_analysis_20250714_125812.log:Using Anthropic Claude API\n"
     ]
    },
    {
     "name": "stdout",
     "output_type": "stream",
     "text": [
      "Using provided template string\n",
      "Appending output format instructions to template\n",
      "Added 7 gene feature descriptions to prompt\n"
     ]
    },
    {
     "name": "stderr",
     "output_type": "stream",
     "text": [
      "INFO:cluster_analysis_20250714_125812.log:Anthropic API call successful: model=claude-3-7-sonnet-20250219\n",
      "INFO:cluster_analysis_20250714_125812.log:Success for cluster 459\n",
      "INFO:cluster_analysis_20250714_125812.log:Saved progress for 460 clusters\n",
      "Processing clusters:  95%|█████████▍| 460/486 [1:56:33<05:29, 12.67s/it]INFO:cluster_analysis_20250714_125812.log:Using Anthropic Claude API\n"
     ]
    },
    {
     "name": "stdout",
     "output_type": "stream",
     "text": [
      "Using provided template string\n",
      "Appending output format instructions to template\n",
      "Added 7 gene feature descriptions to prompt\n"
     ]
    },
    {
     "name": "stderr",
     "output_type": "stream",
     "text": [
      "INFO:cluster_analysis_20250714_125812.log:Anthropic API call successful: model=claude-3-7-sonnet-20250219\n",
      "INFO:cluster_analysis_20250714_125812.log:Success for cluster 460\n",
      "Processing clusters:  95%|█████████▍| 461/486 [1:56:48<05:32, 13.31s/it]INFO:cluster_analysis_20250714_125812.log:Using Anthropic Claude API\n"
     ]
    },
    {
     "name": "stdout",
     "output_type": "stream",
     "text": [
      "Using provided template string\n",
      "Appending output format instructions to template\n",
      "Added 7 gene feature descriptions to prompt\n"
     ]
    },
    {
     "name": "stderr",
     "output_type": "stream",
     "text": [
      "INFO:cluster_analysis_20250714_125812.log:Anthropic API call successful: model=claude-3-7-sonnet-20250219\n",
      "INFO:cluster_analysis_20250714_125812.log:Success for cluster 461\n",
      "Processing clusters:  95%|█████████▌| 462/486 [1:56:55<04:35, 11.48s/it]INFO:cluster_analysis_20250714_125812.log:Using Anthropic Claude API\n"
     ]
    },
    {
     "name": "stdout",
     "output_type": "stream",
     "text": [
      "Using provided template string\n",
      "Appending output format instructions to template\n",
      "Added 7 gene feature descriptions to prompt\n"
     ]
    },
    {
     "name": "stderr",
     "output_type": "stream",
     "text": [
      "INFO:cluster_analysis_20250714_125812.log:Anthropic API call successful: model=claude-3-7-sonnet-20250219\n",
      "INFO:cluster_analysis_20250714_125812.log:Success for cluster 462\n",
      "Processing clusters:  95%|█████████▌| 463/486 [1:57:08<04:36, 12.00s/it]INFO:cluster_analysis_20250714_125812.log:Using Anthropic Claude API\n"
     ]
    },
    {
     "name": "stdout",
     "output_type": "stream",
     "text": [
      "Using provided template string\n",
      "Appending output format instructions to template\n",
      "Added 7 gene feature descriptions to prompt\n"
     ]
    },
    {
     "name": "stderr",
     "output_type": "stream",
     "text": [
      "INFO:cluster_analysis_20250714_125812.log:Anthropic API call successful: model=claude-3-7-sonnet-20250219\n",
      "INFO:cluster_analysis_20250714_125812.log:Success for cluster 463\n",
      "Processing clusters:  95%|█████████▌| 464/486 [1:57:22<04:37, 12.61s/it]INFO:cluster_analysis_20250714_125812.log:Using Anthropic Claude API\n"
     ]
    },
    {
     "name": "stdout",
     "output_type": "stream",
     "text": [
      "Using provided template string\n",
      "Appending output format instructions to template\n",
      "Added 7 gene feature descriptions to prompt\n"
     ]
    },
    {
     "name": "stderr",
     "output_type": "stream",
     "text": [
      "INFO:cluster_analysis_20250714_125812.log:Anthropic API call successful: model=claude-3-7-sonnet-20250219\n",
      "INFO:cluster_analysis_20250714_125812.log:Success for cluster 464\n",
      "INFO:cluster_analysis_20250714_125812.log:Saved progress for 465 clusters\n",
      "Processing clusters:  96%|█████████▌| 465/486 [1:57:31<04:01, 11.48s/it]INFO:cluster_analysis_20250714_125812.log:Using Anthropic Claude API\n"
     ]
    },
    {
     "name": "stdout",
     "output_type": "stream",
     "text": [
      "Using provided template string\n",
      "Appending output format instructions to template\n",
      "Added 7 gene feature descriptions to prompt\n"
     ]
    },
    {
     "name": "stderr",
     "output_type": "stream",
     "text": [
      "INFO:cluster_analysis_20250714_125812.log:Anthropic API call successful: model=claude-3-7-sonnet-20250219\n",
      "INFO:cluster_analysis_20250714_125812.log:Success for cluster 465\n",
      "Processing clusters:  96%|█████████▌| 466/486 [1:57:42<03:47, 11.37s/it]INFO:cluster_analysis_20250714_125812.log:Using Anthropic Claude API\n"
     ]
    },
    {
     "name": "stdout",
     "output_type": "stream",
     "text": [
      "Using provided template string\n",
      "Appending output format instructions to template\n",
      "Added 7 gene feature descriptions to prompt\n"
     ]
    },
    {
     "name": "stderr",
     "output_type": "stream",
     "text": [
      "INFO:cluster_analysis_20250714_125812.log:Anthropic API call successful: model=claude-3-7-sonnet-20250219\n",
      "INFO:cluster_analysis_20250714_125812.log:Success for cluster 466\n",
      "Processing clusters:  96%|█████████▌| 467/486 [1:57:55<03:44, 11.79s/it]INFO:cluster_analysis_20250714_125812.log:Using Anthropic Claude API\n"
     ]
    },
    {
     "name": "stdout",
     "output_type": "stream",
     "text": [
      "Using provided template string\n",
      "Appending output format instructions to template\n",
      "Added 7 gene feature descriptions to prompt\n"
     ]
    },
    {
     "name": "stderr",
     "output_type": "stream",
     "text": [
      "INFO:cluster_analysis_20250714_125812.log:Anthropic API call successful: model=claude-3-7-sonnet-20250219\n",
      "INFO:cluster_analysis_20250714_125812.log:Success for cluster 467\n",
      "Processing clusters:  96%|█████████▋| 468/486 [1:58:11<03:54, 13.01s/it]INFO:cluster_analysis_20250714_125812.log:Using Anthropic Claude API\n"
     ]
    },
    {
     "name": "stdout",
     "output_type": "stream",
     "text": [
      "Using provided template string\n",
      "Appending output format instructions to template\n",
      "Added 6 gene feature descriptions to prompt\n"
     ]
    },
    {
     "name": "stderr",
     "output_type": "stream",
     "text": [
      "INFO:cluster_analysis_20250714_125812.log:Anthropic API call successful: model=claude-3-7-sonnet-20250219\n",
      "INFO:cluster_analysis_20250714_125812.log:Success for cluster 468\n",
      "Processing clusters:  97%|█████████▋| 469/486 [1:58:23<03:40, 12.96s/it]INFO:cluster_analysis_20250714_125812.log:Using Anthropic Claude API\n"
     ]
    },
    {
     "name": "stdout",
     "output_type": "stream",
     "text": [
      "Using provided template string\n",
      "Appending output format instructions to template\n",
      "Added 6 gene feature descriptions to prompt\n"
     ]
    },
    {
     "name": "stderr",
     "output_type": "stream",
     "text": [
      "INFO:cluster_analysis_20250714_125812.log:Anthropic API call successful: model=claude-3-7-sonnet-20250219\n",
      "INFO:cluster_analysis_20250714_125812.log:Success for cluster 469\n",
      "INFO:cluster_analysis_20250714_125812.log:Saved progress for 470 clusters\n",
      "Processing clusters:  97%|█████████▋| 470/486 [1:58:38<03:33, 13.37s/it]INFO:cluster_analysis_20250714_125812.log:Using Anthropic Claude API\n"
     ]
    },
    {
     "name": "stdout",
     "output_type": "stream",
     "text": [
      "Using provided template string\n",
      "Appending output format instructions to template\n",
      "Added 6 gene feature descriptions to prompt\n"
     ]
    },
    {
     "name": "stderr",
     "output_type": "stream",
     "text": [
      "INFO:cluster_analysis_20250714_125812.log:Anthropic API call successful: model=claude-3-7-sonnet-20250219\n",
      "INFO:cluster_analysis_20250714_125812.log:Success for cluster 470\n",
      "Processing clusters:  97%|█████████▋| 471/486 [1:58:52<03:23, 13.59s/it]INFO:cluster_analysis_20250714_125812.log:Using Anthropic Claude API\n"
     ]
    },
    {
     "name": "stdout",
     "output_type": "stream",
     "text": [
      "Using provided template string\n",
      "Appending output format instructions to template\n",
      "Added 6 gene feature descriptions to prompt\n"
     ]
    },
    {
     "name": "stderr",
     "output_type": "stream",
     "text": [
      "INFO:cluster_analysis_20250714_125812.log:Anthropic API call successful: model=claude-3-7-sonnet-20250219\n",
      "INFO:cluster_analysis_20250714_125812.log:Success for cluster 471\n",
      "Processing clusters:  97%|█████████▋| 472/486 [1:59:04<03:01, 12.99s/it]INFO:cluster_analysis_20250714_125812.log:Using Anthropic Claude API\n"
     ]
    },
    {
     "name": "stdout",
     "output_type": "stream",
     "text": [
      "Using provided template string\n",
      "Appending output format instructions to template\n",
      "Added 6 gene feature descriptions to prompt\n"
     ]
    },
    {
     "name": "stderr",
     "output_type": "stream",
     "text": [
      "INFO:cluster_analysis_20250714_125812.log:Anthropic API call successful: model=claude-3-7-sonnet-20250219\n",
      "INFO:cluster_analysis_20250714_125812.log:Success for cluster 472\n",
      "Processing clusters:  97%|█████████▋| 473/486 [1:59:13<02:34, 11.90s/it]INFO:cluster_analysis_20250714_125812.log:Using Anthropic Claude API\n"
     ]
    },
    {
     "name": "stdout",
     "output_type": "stream",
     "text": [
      "Using provided template string\n",
      "Appending output format instructions to template\n",
      "Added 6 gene feature descriptions to prompt\n"
     ]
    },
    {
     "name": "stderr",
     "output_type": "stream",
     "text": [
      "INFO:cluster_analysis_20250714_125812.log:Anthropic API call successful: model=claude-3-7-sonnet-20250219\n",
      "INFO:cluster_analysis_20250714_125812.log:Success for cluster 473\n",
      "Processing clusters:  98%|█████████▊| 474/486 [1:59:23<02:15, 11.33s/it]INFO:cluster_analysis_20250714_125812.log:Using Anthropic Claude API\n"
     ]
    },
    {
     "name": "stdout",
     "output_type": "stream",
     "text": [
      "Using provided template string\n",
      "Appending output format instructions to template\n",
      "Added 6 gene feature descriptions to prompt\n"
     ]
    },
    {
     "name": "stderr",
     "output_type": "stream",
     "text": [
      "INFO:cluster_analysis_20250714_125812.log:Anthropic API call successful: model=claude-3-7-sonnet-20250219\n",
      "INFO:cluster_analysis_20250714_125812.log:Success for cluster 474\n",
      "INFO:cluster_analysis_20250714_125812.log:Saved progress for 475 clusters\n",
      "Processing clusters:  98%|█████████▊| 475/486 [1:59:34<02:05, 11.42s/it]INFO:cluster_analysis_20250714_125812.log:Using Anthropic Claude API\n"
     ]
    },
    {
     "name": "stdout",
     "output_type": "stream",
     "text": [
      "Using provided template string\n",
      "Appending output format instructions to template\n",
      "Added 6 gene feature descriptions to prompt\n"
     ]
    },
    {
     "name": "stderr",
     "output_type": "stream",
     "text": [
      "INFO:cluster_analysis_20250714_125812.log:Anthropic API call successful: model=claude-3-7-sonnet-20250219\n",
      "INFO:cluster_analysis_20250714_125812.log:Success for cluster 475\n",
      "Processing clusters:  98%|█████████▊| 476/486 [1:59:47<01:58, 11.83s/it]INFO:cluster_analysis_20250714_125812.log:Using Anthropic Claude API\n"
     ]
    },
    {
     "name": "stdout",
     "output_type": "stream",
     "text": [
      "Using provided template string\n",
      "Appending output format instructions to template\n",
      "Added 6 gene feature descriptions to prompt\n"
     ]
    },
    {
     "name": "stderr",
     "output_type": "stream",
     "text": [
      "INFO:cluster_analysis_20250714_125812.log:Anthropic API call successful: model=claude-3-7-sonnet-20250219\n",
      "INFO:cluster_analysis_20250714_125812.log:Success for cluster 476\n",
      "Processing clusters:  98%|█████████▊| 477/486 [2:00:00<01:49, 12.16s/it]INFO:cluster_analysis_20250714_125812.log:Using Anthropic Claude API\n"
     ]
    },
    {
     "name": "stdout",
     "output_type": "stream",
     "text": [
      "Using provided template string\n",
      "Appending output format instructions to template\n",
      "Added 6 gene feature descriptions to prompt\n"
     ]
    },
    {
     "name": "stderr",
     "output_type": "stream",
     "text": [
      "INFO:cluster_analysis_20250714_125812.log:Anthropic API call successful: model=claude-3-7-sonnet-20250219\n",
      "INFO:cluster_analysis_20250714_125812.log:Success for cluster 477\n",
      "Processing clusters:  98%|█████████▊| 478/486 [2:00:12<01:35, 11.92s/it]INFO:cluster_analysis_20250714_125812.log:Using Anthropic Claude API\n"
     ]
    },
    {
     "name": "stdout",
     "output_type": "stream",
     "text": [
      "Using provided template string\n",
      "Appending output format instructions to template\n",
      "Added 6 gene feature descriptions to prompt\n"
     ]
    },
    {
     "name": "stderr",
     "output_type": "stream",
     "text": [
      "INFO:cluster_analysis_20250714_125812.log:Anthropic API call successful: model=claude-3-7-sonnet-20250219\n",
      "INFO:cluster_analysis_20250714_125812.log:Success for cluster 478\n",
      "Processing clusters:  99%|█████████▊| 479/486 [2:00:19<01:14, 10.66s/it]INFO:cluster_analysis_20250714_125812.log:Using Anthropic Claude API\n"
     ]
    },
    {
     "name": "stdout",
     "output_type": "stream",
     "text": [
      "Using provided template string\n",
      "Appending output format instructions to template\n",
      "Added 6 gene feature descriptions to prompt\n"
     ]
    },
    {
     "name": "stderr",
     "output_type": "stream",
     "text": [
      "INFO:cluster_analysis_20250714_125812.log:Anthropic API call successful: model=claude-3-7-sonnet-20250219\n",
      "INFO:cluster_analysis_20250714_125812.log:Success for cluster 479\n",
      "INFO:cluster_analysis_20250714_125812.log:Saved progress for 480 clusters\n",
      "Processing clusters:  99%|█████████▉| 480/486 [2:00:32<01:07, 11.21s/it]INFO:cluster_analysis_20250714_125812.log:Using Anthropic Claude API\n"
     ]
    },
    {
     "name": "stdout",
     "output_type": "stream",
     "text": [
      "Using provided template string\n",
      "Appending output format instructions to template\n",
      "Added 6 gene feature descriptions to prompt\n"
     ]
    },
    {
     "name": "stderr",
     "output_type": "stream",
     "text": [
      "INFO:cluster_analysis_20250714_125812.log:Anthropic API call successful: model=claude-3-7-sonnet-20250219\n",
      "INFO:cluster_analysis_20250714_125812.log:Success for cluster 480\n",
      "Processing clusters:  99%|█████████▉| 481/486 [2:00:41<00:52, 10.55s/it]INFO:cluster_analysis_20250714_125812.log:Using Anthropic Claude API\n"
     ]
    },
    {
     "name": "stdout",
     "output_type": "stream",
     "text": [
      "Using provided template string\n",
      "Appending output format instructions to template\n",
      "Added 6 gene feature descriptions to prompt\n"
     ]
    },
    {
     "name": "stderr",
     "output_type": "stream",
     "text": [
      "INFO:cluster_analysis_20250714_125812.log:Anthropic API call successful: model=claude-3-7-sonnet-20250219\n",
      "INFO:cluster_analysis_20250714_125812.log:Success for cluster 481\n",
      "Processing clusters:  99%|█████████▉| 482/486 [2:00:52<00:42, 10.72s/it]INFO:cluster_analysis_20250714_125812.log:Using Anthropic Claude API\n"
     ]
    },
    {
     "name": "stdout",
     "output_type": "stream",
     "text": [
      "Using provided template string\n",
      "Appending output format instructions to template\n",
      "Added 6 gene feature descriptions to prompt\n"
     ]
    },
    {
     "name": "stderr",
     "output_type": "stream",
     "text": [
      "INFO:cluster_analysis_20250714_125812.log:Anthropic API call successful: model=claude-3-7-sonnet-20250219\n",
      "INFO:cluster_analysis_20250714_125812.log:Success for cluster 482\n",
      "Processing clusters:  99%|█████████▉| 483/486 [2:01:03<00:32, 10.71s/it]INFO:cluster_analysis_20250714_125812.log:Using Anthropic Claude API\n"
     ]
    },
    {
     "name": "stdout",
     "output_type": "stream",
     "text": [
      "Using provided template string\n",
      "Appending output format instructions to template\n",
      "Added 6 gene feature descriptions to prompt\n"
     ]
    },
    {
     "name": "stderr",
     "output_type": "stream",
     "text": [
      "INFO:cluster_analysis_20250714_125812.log:Anthropic API call successful: model=claude-3-7-sonnet-20250219\n",
      "INFO:cluster_analysis_20250714_125812.log:Success for cluster 483\n",
      "Processing clusters: 100%|█████████▉| 484/486 [2:01:16<00:22, 11.38s/it]INFO:cluster_analysis_20250714_125812.log:Using Anthropic Claude API\n"
     ]
    },
    {
     "name": "stdout",
     "output_type": "stream",
     "text": [
      "Using provided template string\n",
      "Appending output format instructions to template\n",
      "Added 6 gene feature descriptions to prompt\n"
     ]
    },
    {
     "name": "stderr",
     "output_type": "stream",
     "text": [
      "INFO:cluster_analysis_20250714_125812.log:Anthropic API call successful: model=claude-3-7-sonnet-20250219\n",
      "INFO:cluster_analysis_20250714_125812.log:Success for cluster 484\n",
      "INFO:cluster_analysis_20250714_125812.log:Saved progress for 485 clusters\n",
      "Processing clusters: 100%|█████████▉| 485/486 [2:01:27<00:11, 11.36s/it]INFO:cluster_analysis_20250714_125812.log:Using Anthropic Claude API\n"
     ]
    },
    {
     "name": "stdout",
     "output_type": "stream",
     "text": [
      "Using provided template string\n",
      "Appending output format instructions to template\n",
      "Added 5 gene feature descriptions to prompt\n"
     ]
    },
    {
     "name": "stderr",
     "output_type": "stream",
     "text": [
      "INFO:cluster_analysis_20250714_125812.log:Anthropic API call successful: model=claude-3-7-sonnet-20250219\n",
      "INFO:cluster_analysis_20250714_125812.log:Success for cluster 485\n",
      "Processing clusters: 100%|██████████| 486/486 [2:01:39<00:00, 15.02s/it]\n",
      "INFO:cluster_analysis_20250714_125812.log:Completed analysis for 486 clusters with data saved to disk\n"
     ]
    }
   ],
   "source": [
    "# Run LLM analysis\n",
    "anthropic_results = analyze_gene_clusters(\n",
    "    # Input data options\n",
    "    input_df=llm_cluster_df,\n",
    "    # Model and configuration\n",
    "    model_name=MODEL_NAME,\n",
    "    config_dict=CONFIG_DICT,\n",
    "    # Analysis context and prompts\n",
    "    screen_context=SCREEN_CONTEXT,\n",
    "    cluster_analysis_prompt=CLUSTER_ANALYSIS_PROMPT,\n",
    "    # Gene annotations\n",
    "    gene_annotations_df=llm_uniprot_df,\n",
    "    # Processing options\n",
    "    batch_size=1,\n",
    "    # Output options\n",
    "    output_file=f\"{RESULTS_DIR}/{MODEL_NAME}\",\n",
    "    save_outputs=True,\n",
    "    outputs_to_generate=[\"json\", \"clusters\", \"flagged_genes\"],\n",
    ")"
   ]
  }
 ],
 "metadata": {
  "kernelspec": {
   "display_name": "brieflow_kilimanjaro",
   "language": "python",
   "name": "python3"
  },
  "language_info": {
   "codemirror_mode": {
    "name": "ipython",
    "version": 3
   },
   "file_extension": ".py",
   "mimetype": "text/x-python",
   "name": "python",
   "nbconvert_exporter": "python",
   "pygments_lexer": "ipython3",
   "version": "3.11.13"
  }
 },
 "nbformat": 4,
 "nbformat_minor": 5
}
